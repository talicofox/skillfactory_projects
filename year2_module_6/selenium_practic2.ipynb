{
 "cells": [
  {
   "cell_type": "markdown",
   "id": "f002db85",
   "metadata": {},
   "source": [
    "## ЗАДАНИЕ 12.2. ПРАКТИКА 2"
   ]
  },
  {
   "cell_type": "markdown",
   "id": "2f9cdfb4",
   "metadata": {},
   "source": [
    "*выполнено Натальей Лисицкой*"
   ]
  },
  {
   "cell_type": "markdown",
   "id": "0e524dbb",
   "metadata": {},
   "source": [
    "**Задание. Добавьте к атрибутам количество комментариев по новости.**"
   ]
  },
  {
   "cell_type": "code",
   "execution_count": 1,
   "id": "910b86c1",
   "metadata": {},
   "outputs": [],
   "source": [
    "import datetime\n",
    "from time import sleep, time\n",
    "\n",
    "from selenium import webdriver\n",
    "from selenium.webdriver.support.ui import WebDriverWait\n",
    "from selenium.webdriver.support import expected_conditions as EC\n",
    "from selenium.webdriver.common.by import By\n",
    "import requests\n",
    "from bs4 import BeautifulSoup\n",
    "import csv\n",
    "from pathlib import Path"
   ]
  },
  {
   "cell_type": "code",
   "execution_count": 9,
   "id": "2353c1e9",
   "metadata": {},
   "outputs": [],
   "source": [
    "filename = \"articles_info.csv\" # имя файла, в который будем сохранять результат\n",
    "driver_path = r'C:\\Program Files (x86)\\Google\\Chrome\\chromedriver.exe' # укажите ваш путь к chromedriver, который вы загрузили ранее\n",
    "base_dir= r\"F:\\SkillFactory\\Y2_U6\" # укажите директорию, в которую будем сохранять файл\n",
    "user_agent = \"Mozilla/5.0 (Windows NT 10.0; Win64; x64) AppleWebKit/537.36 (KHTML, like Gecko) Chrome/97.0.4692.99 Safari/537.36 OPR/83.0.4254.27\" #Ваш user-agent. Узнать можно тут https://юзерагент.рф, смотреть с браузера Chrome\n",
    "start_time = time() # время начала выполнения программы\n",
    "#url = 'https://news.ycombinator.com'"
   ]
  },
  {
   "cell_type": "code",
   "execution_count": 10,
   "id": "57e884b3",
   "metadata": {},
   "outputs": [],
   "source": [
    "def get_load_time(article_url, user_agent):\n",
    "    #будем ждать 3 секунды, иначе выводить exception и присваивать константное значение\n",
    "    try:\n",
    "        # меняем значение заголовка. По умолчанию указано, что это python-код\n",
    "        headers = {\n",
    "            \"User-Agent\": user_agent\n",
    "        }\n",
    "        # делаем запрос по url статьи article_url\n",
    "        response = requests.get(\n",
    "            article_url, headers=headers, stream=True, timeout=3.000\n",
    "        )\n",
    "        # получаем время загрузки страницы\n",
    "        load_time = response.elapsed.total_seconds()\n",
    "    except Exception as e:\n",
    "        print(e)\n",
    "        load_time = \">3\"\n",
    "    return load_time"
   ]
  },
  {
   "cell_type": "code",
   "execution_count": 11,
   "id": "71a4a83a",
   "metadata": {},
   "outputs": [],
   "source": [
    "def write_to_file(output_list, filename, base_dir):\n",
    "    for row in output_list:\n",
    "        with open(Path(base_dir).joinpath(filename), \"a\") as csvfile:\n",
    "            fieldnames = [\"id\", \"load_time\", \"rank\", \"points\", \"title\", \"url\", \"comments\"]\n",
    "            writer = csv.DictWriter(csvfile, fieldnames=fieldnames)\n",
    "            writer.writerow(row)"
   ]
  },
  {
   "cell_type": "code",
   "execution_count": 12,
   "id": "dfc48efa",
   "metadata": {},
   "outputs": [],
   "source": [
    "def connect_to_base(browser, page_number):\n",
    "    base_url = \"https://news.ycombinator.com/news?p={}\".format(page_number)\n",
    "    for connection_attempts in range(1,4): # совершаем 3 попытки подключения\n",
    "        try:\n",
    "            browser.get(base_url)\n",
    "            # ожидаем пока элемент table с id = 'hnmain' будет загружен на страницу\n",
    "            # затем функция вернет True иначе False \n",
    "            WebDriverWait(browser, 5).until(\n",
    "                EC.presence_of_element_located((By.ID, \"hnmain\"))\n",
    "            )\n",
    "            return True\n",
    "        except Exception as e:\n",
    "            print(e)\n",
    "            print(\"Error connecting to {}.\".format(base_url))\n",
    "            print(\"Attempt #{}.\".format(connection_attempts))\n",
    "    return False"
   ]
  },
  {
   "cell_type": "code",
   "execution_count": 13,
   "id": "e8b6f43e",
   "metadata": {},
   "outputs": [],
   "source": [
    "def parse_html(html, user_agent):\n",
    "    soup = BeautifulSoup(html, \"html.parser\")\n",
    "    output_list = []\n",
    "    \n",
    "    # ищем в объекте soup object id, rank, score и title статьи\n",
    "    tr_blocks = soup.find_all(\"tr\", class_=\"athing\")\n",
    "    article = 0\n",
    "    for tr in tr_blocks:\n",
    "        article_id = tr.get(\"id\") # id\n",
    "        article_url = tr.find_all(\"a\")[1][\"href\"]\n",
    "        \n",
    "        '''\n",
    "        Поиск количества комментариев по нововсти:\n",
    "        - переход к следующей стоке, в ней будем искать количество комментариев\n",
    "        - в этой строке ищем все тэги со ссылками (нам нужен последний)\n",
    "        - берем текст от последнего тэга\n",
    "        '''\n",
    "        \n",
    "        tr_next = tr.next_sibling \n",
    "        #print(tr_next)\n",
    "        try:\n",
    "            #comment_link = tr_next.find_element_by_partial_link_text('comment')\n",
    "            comment_link = tr_next.find_all('a')\n",
    "            comments = comment_link[-1].text\n",
    "        except Exception as e:\n",
    "            print('comments', e)\n",
    "            comments = \"0 comments\"\n",
    "\n",
    "        # иногда статья располагается не на внешнем сайте,\n",
    "        #а на ycombinator, тогда article_url у нее не полный, а добавочный, \n",
    "        #с параметрами. Например item?id=200933. Для этих случаев будем добавлять урл до полного\n",
    "        \n",
    "        if \"item?id=\" in article_url or \"from?site=\" in article_url:\n",
    "            article_url = f\"https://news.ycombinator.com/{article_url}\"\n",
    "        load_time = get_load_time(article_url, user_agent)\n",
    "        # иногда рейтинга может не быть, поэтому воспользуемся try\n",
    "\n",
    "        try:\n",
    "            score = soup.find(id=f\"score_{article_id}\").string\n",
    "        except Exception as e:\n",
    "            print('score', e)\n",
    "            score = \"0 points\"\n",
    "        '''\n",
    "        Для rank, title также сделаем обработку ошибок\n",
    "        '''\n",
    "        try:\n",
    "            rank = tr.span.string\n",
    "        except Exception as e:\n",
    "            print('rank', e)\n",
    "            rank = \"\"\n",
    "        \n",
    "        try:\n",
    "            title = tr.find(class_=\"titlelink\").string\n",
    "        except Exception as e:\n",
    "            print('title', e)\n",
    "            title = \"\"\n",
    "            \n",
    "        article_info = {\n",
    "            \"id\": article_id,\n",
    "            \"load_time\": load_time,\n",
    "            \"rank\": rank,\n",
    "            \"points\": score,\n",
    "            \"title\": title,\n",
    "            \"url\": article_url,\n",
    "            \"comments\": comments,\n",
    "        }\n",
    "\n",
    "        # добавляем информацию о статье в список\n",
    "        output_list.append(article_info)\n",
    "        article += 1\n",
    "    return output_list"
   ]
  },
  {
   "cell_type": "markdown",
   "id": "0cec5623",
   "metadata": {},
   "source": [
    "### ОДНОПОТОЧНОСТЬ"
   ]
  },
  {
   "cell_type": "code",
   "execution_count": 15,
   "id": "9c9ed348",
   "metadata": {},
   "outputs": [
    {
     "name": "stdout",
     "output_type": "stream",
     "text": [
      "getting page 0...\n",
      "('Connection aborted.', ConnectionResetError(10054, 'Удаленный хост принудительно разорвал существующее подключение', None, 10054, None))\n",
      "score 'NoneType' object has no attribute 'string'\n",
      "getting page 1...\n",
      "('Connection aborted.', ConnectionResetError(10054, 'Удаленный хост принудительно разорвал существующее подключение', None, 10054, None))\n",
      "score 'NoneType' object has no attribute 'string'\n",
      "getting page 2...\n",
      "getting page 3...\n",
      "HTTPSConnectionPool(host='www.quantamagazine.org', port=443): Read timed out. (read timeout=3.0)\n",
      "getting page 4...\n",
      "getting page 5...\n",
      "('Connection aborted.', ConnectionResetError(10054, 'Удаленный хост принудительно разорвал существующее подключение', None, 10054, None))\n",
      "getting page 6...\n",
      "getting page 7...\n",
      "getting page 8...\n",
      "HTTPSConnectionPool(host='en.wikipedia.org', port=443): Read timed out. (read timeout=3.0)\n",
      "getting page 9...\n",
      "HTTPConnectionPool(host='www.msen.com', port=80): Max retries exceeded with url: /~clif/TclTutor.html (Caused by ConnectTimeoutError(<urllib3.connection.HTTPConnection object at 0x0000020544C82FC8>, 'Connection to www.msen.com timed out. (connect timeout=3.0)'))\n",
      "run time: 636.7014548778534 seconds\n"
     ]
    }
   ],
   "source": [
    "# инициализируем веб драйвер\n",
    "browser = webdriver.Chrome(executable_path=driver_path)\n",
    "\n",
    "# перебираем страницы и собираем нужную информацию\n",
    "for page_number in range(10):\n",
    "    print(\"getting page \" + str(page_number) + \"...\")\n",
    "    if connect_to_base(browser, page_number):\n",
    "        sleep(5)\n",
    "        output_list = parse_html(browser.page_source, user_agent)\n",
    "        write_to_file(output_list, filename, base_dir)\n",
    "\n",
    "    else:\n",
    "        print(\"Error connecting to hacker news\")\n",
    "    \n",
    "# завершаем работу драйвера\n",
    "browser.close()\n",
    "sleep(1)\n",
    "browser.quit()\n",
    "end_time = time()\n",
    "elapsed_time = end_time - start_time\n",
    "print(\"run time: {} seconds\".format(elapsed_time))"
   ]
  },
  {
   "cell_type": "markdown",
   "id": "0e44fada",
   "metadata": {},
   "source": [
    "### МНОГОПОТОЧНОСТЬ"
   ]
  },
  {
   "cell_type": "code",
   "execution_count": 16,
   "id": "635cc284",
   "metadata": {},
   "outputs": [],
   "source": [
    "from concurrent.futures import ThreadPoolExecutor, wait\n",
    "\n",
    "def run_process(page_number, filename):\n",
    "    browser = webdriver.Chrome(executable_path=driver_path)\n",
    "    if connect_to_base(browser, page_number):\n",
    "        sleep(5)\n",
    "        output_list = parse_html(browser.page_source, user_agent)\n",
    "        write_to_file(output_list, filename, base_dir)\n",
    "        \n",
    "        browser.quit()\n",
    "    else:\n",
    "        print(\"Error connecting to hacker news\")\n",
    "        browser.quit()"
   ]
  },
  {
   "cell_type": "code",
   "execution_count": 17,
   "id": "a2ce3499",
   "metadata": {},
   "outputs": [
    {
     "name": "stdout",
     "output_type": "stream",
     "text": [
      "Message: \n",
      "\n",
      "Error connecting to https://news.ycombinator.com/news?p=6.\n",
      "Attempt #1.\n",
      "Message: \n",
      "\n",
      "Error connecting to https://news.ycombinator.com/news?p=7.\n",
      "Attempt #1.\n",
      "Message: \n",
      "\n",
      "Error connecting to https://news.ycombinator.com/news?p=9.\n",
      "Attempt #1.\n",
      "HTTPSConnectionPool(host='m.rbi.org.in', port=443): Read timed out. (read timeout=3.0)\n",
      "HTTPSConnectionPool(host='m.rbi.org.in', port=443): Read timed out. (read timeout=3.0)\n",
      "score 'NoneType' object has no attribute 'string'\n",
      "score 'NoneType' object has no attribute 'string'\n",
      "('Connection aborted.', ConnectionResetError(10054, 'Удаленный хост принудительно разорвал существующее подключение', None, 10054, None))\n",
      "Elapsed run time: 54.77807426452637 seconds\n"
     ]
    }
   ],
   "source": [
    "start_time = time()\n",
    "\n",
    "futures = []\n",
    "\n",
    "with ThreadPoolExecutor() as executor:\n",
    "    for number in range(10):\n",
    "        futures.append(\n",
    "            executor.submit(run_process, number, filename)\n",
    "        )\n",
    "wait(futures)\n",
    "end_time = time()\n",
    "elapsed_time = end_time - start_time\n",
    "print(\"Elapsed run time: {} seconds\".format(elapsed_time))"
   ]
  },
  {
   "cell_type": "code",
   "execution_count": null,
   "id": "f4ea4043",
   "metadata": {},
   "outputs": [],
   "source": []
  },
  {
   "cell_type": "code",
   "execution_count": null,
   "id": "a0da1f8f",
   "metadata": {},
   "outputs": [],
   "source": []
  }
 ],
 "metadata": {
  "kernelspec": {
   "display_name": "Python 3",
   "language": "python",
   "name": "python3"
  },
  "language_info": {
   "codemirror_mode": {
    "name": "ipython",
    "version": 3
   },
   "file_extension": ".py",
   "mimetype": "text/x-python",
   "name": "python",
   "nbconvert_exporter": "python",
   "pygments_lexer": "ipython3",
   "version": "3.7.11"
  }
 },
 "nbformat": 4,
 "nbformat_minor": 5
}
