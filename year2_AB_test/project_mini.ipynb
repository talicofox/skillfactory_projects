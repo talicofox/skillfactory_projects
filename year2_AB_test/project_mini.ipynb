{
 "cells": [
  {
   "cell_type": "markdown",
   "id": "5207b185",
   "metadata": {},
   "source": [
    "#  Мини-проект"
   ]
  },
  {
   "cell_type": "markdown",
   "id": "90d1d695",
   "metadata": {},
   "source": [
    "**ПОСТАНОВКА ЗАДАЧИ**\n",
    "\n",
    "Результаты A/A/B-тестирования от одного известного маркетплейса:\n",
    "\n",
    "sample_a, sample_c — АА-группы, sample_b — отдельная группа. \n",
    "\n",
    "В каждом датасете есть три типа действий пользователей: \n",
    "- 0 — клик, \n",
    "- 1 — просмотр \n",
    "- 2 — покупка \n",
    "пользователь просматривает выдачу товаров, кликает на понравившийся товар и совершает покупку.\n",
    "\n",
    "Маркетплейс ориентируется на следующие метрики:\n",
    "\n",
    "- ctr (отношение кликов к просмотрам товаров);\n",
    "- purchase rate (отношение покупок к просмотрам товаров);\n",
    "- gmv (оборот, сумма произведений количества покупок на стоимость покупки), где считаем 1 сессию за 1 точку (1 сессия на 1 пользователя).\n",
    "\n",
    "Данные уже почищены по сессиям, вы можете использовать их в агрегированном виде. Ваша задача — понять, нет ли проблемы с разъезжанием сплитов и улучшает ли алгоритм B работу маркетплейса.\n",
    "\n",
    "Тест Шапиро-Уилка проведите на alpha=0.01\n",
    "\n",
    "- Что важно как требование к чистоте данных? \n",
    "- Посмотрите внимательно на значения метрик!\n",
    "- «Разъезжаются» ли сплиты? Посмотрите на результаты A/A-теста.\n",
    "- Каков результат А/B-теста? можем ли мы на него положиться?"
   ]
  },
  {
   "cell_type": "markdown",
   "id": "6f1a0b08",
   "metadata": {},
   "source": [
    "**ПЛАН ПРОЕКТА**\n",
    "\n",
    "- Предварительная обработка датасета\n",
    "\n",
    "(Проверка, что нет ситуаций, когда происходит покупка/клик без действия просмотра. Удаление дублей.)\n",
    "\n",
    "- Рассчет метрик по датасетам, общее сравнение метрик.\n",
    "\n",
    "- Тест равенства долей для A и C групп по всем метрикам.\n",
    "\n",
    "- Тест равенства долей для A и B групп по всем метрикам."
   ]
  },
  {
   "cell_type": "markdown",
   "id": "76fc1ee6",
   "metadata": {},
   "source": [
    "**ЧТЕНИЕ ДАННЫХ**"
   ]
  },
  {
   "cell_type": "code",
   "execution_count": 67,
   "id": "560879ae",
   "metadata": {},
   "outputs": [],
   "source": [
    "import pandas as pd\n",
    "import os\n",
    "import numpy as np\n",
    "import seaborn as sns\n",
    "import matplotlib.pyplot as plt\n",
    "from scipy.stats import shapiro\n",
    "from scipy import stats\n",
    "from statsmodels.stats.proportion import proportions_ztest\n",
    "\n",
    "import warnings\n",
    "warnings.filterwarnings('ignore')"
   ]
  },
  {
   "cell_type": "code",
   "execution_count": 2,
   "id": "30a4d57a",
   "metadata": {},
   "outputs": [
    {
     "data": {
      "text/html": [
       "<div>\n",
       "<style scoped>\n",
       "    .dataframe tbody tr th:only-of-type {\n",
       "        vertical-align: middle;\n",
       "    }\n",
       "\n",
       "    .dataframe tbody tr th {\n",
       "        vertical-align: top;\n",
       "    }\n",
       "\n",
       "    .dataframe thead th {\n",
       "        text-align: right;\n",
       "    }\n",
       "</style>\n",
       "<table border=\"1\" class=\"dataframe\">\n",
       "  <thead>\n",
       "    <tr style=\"text-align: right;\">\n",
       "      <th></th>\n",
       "      <th>user_id</th>\n",
       "      <th>item_id</th>\n",
       "      <th>action_id</th>\n",
       "    </tr>\n",
       "  </thead>\n",
       "  <tbody>\n",
       "    <tr>\n",
       "      <th>0</th>\n",
       "      <td>84636</td>\n",
       "      <td>360</td>\n",
       "      <td>1</td>\n",
       "    </tr>\n",
       "    <tr>\n",
       "      <th>1</th>\n",
       "      <td>21217</td>\n",
       "      <td>9635</td>\n",
       "      <td>1</td>\n",
       "    </tr>\n",
       "    <tr>\n",
       "      <th>2</th>\n",
       "      <td>13445</td>\n",
       "      <td>8590</td>\n",
       "      <td>1</td>\n",
       "    </tr>\n",
       "    <tr>\n",
       "      <th>3</th>\n",
       "      <td>38450</td>\n",
       "      <td>5585</td>\n",
       "      <td>1</td>\n",
       "    </tr>\n",
       "    <tr>\n",
       "      <th>4</th>\n",
       "      <td>14160</td>\n",
       "      <td>2383</td>\n",
       "      <td>0</td>\n",
       "    </tr>\n",
       "  </tbody>\n",
       "</table>\n",
       "</div>"
      ],
      "text/plain": [
       "   user_id  item_id  action_id\n",
       "0    84636      360          1\n",
       "1    21217     9635          1\n",
       "2    13445     8590          1\n",
       "3    38450     5585          1\n",
       "4    14160     2383          0"
      ]
     },
     "execution_count": 2,
     "metadata": {},
     "output_type": "execute_result"
    }
   ],
   "source": [
    "path = r'F:\\SkillFactory\\Y2_U25_AB'\n",
    "df_a = pd.read_csv(os.path.join(path,'sample_a.csv'))\n",
    "df_a.head()"
   ]
  },
  {
   "cell_type": "code",
   "execution_count": 3,
   "id": "3f9e2ada",
   "metadata": {},
   "outputs": [
    {
     "data": {
      "text/plain": [
       "array([1, 0, 2], dtype=int64)"
      ]
     },
     "execution_count": 3,
     "metadata": {},
     "output_type": "execute_result"
    }
   ],
   "source": [
    "df_a.action_id.unique()"
   ]
  },
  {
   "cell_type": "code",
   "execution_count": 4,
   "id": "adbb0317",
   "metadata": {},
   "outputs": [
    {
     "data": {
      "text/plain": [
       "<AxesSubplot:>"
      ]
     },
     "execution_count": 4,
     "metadata": {},
     "output_type": "execute_result"
    },
    {
     "data": {
      "image/png": "[encoded data removed]",
      "text/plain": [
       "<Figure size 432x288 with 1 Axes>"
      ]
     },
     "metadata": {
      "needs_background": "light"
     },
     "output_type": "display_data"
    }
   ],
   "source": [
    "df_a.action_id.hist()"
   ]
  },
  {
   "cell_type": "code",
   "execution_count": 5,
   "id": "edba401f",
   "metadata": {},
   "outputs": [
    {
     "name": "stdout",
     "output_type": "stream",
     "text": [
      "<class 'pandas.core.frame.DataFrame'>\n",
      "RangeIndex: 1188912 entries, 0 to 1188911\n",
      "Data columns (total 3 columns):\n",
      " #   Column     Non-Null Count    Dtype\n",
      "---  ------     --------------    -----\n",
      " 0   user_id    1188912 non-null  int64\n",
      " 1   item_id    1188912 non-null  int64\n",
      " 2   action_id  1188912 non-null  int64\n",
      "dtypes: int64(3)\n",
      "memory usage: 27.2 MB\n"
     ]
    }
   ],
   "source": [
    "df_a.info()"
   ]
  },
  {
   "cell_type": "code",
   "execution_count": 6,
   "id": "130be4cc",
   "metadata": {},
   "outputs": [],
   "source": [
    "#df_a.drop_duplicates()"
   ]
  },
  {
   "cell_type": "code",
   "execution_count": 7,
   "id": "69c32cbc",
   "metadata": {},
   "outputs": [
    {
     "data": {
      "text/html": [
       "<div>\n",
       "<style scoped>\n",
       "    .dataframe tbody tr th:only-of-type {\n",
       "        vertical-align: middle;\n",
       "    }\n",
       "\n",
       "    .dataframe tbody tr th {\n",
       "        vertical-align: top;\n",
       "    }\n",
       "\n",
       "    .dataframe thead th {\n",
       "        text-align: right;\n",
       "    }\n",
       "</style>\n",
       "<table border=\"1\" class=\"dataframe\">\n",
       "  <thead>\n",
       "    <tr style=\"text-align: right;\">\n",
       "      <th></th>\n",
       "      <th>user_id</th>\n",
       "      <th>item_id</th>\n",
       "      <th>action_id</th>\n",
       "    </tr>\n",
       "  </thead>\n",
       "  <tbody>\n",
       "    <tr>\n",
       "      <th>0</th>\n",
       "      <td>118375</td>\n",
       "      <td>4105</td>\n",
       "      <td>1</td>\n",
       "    </tr>\n",
       "    <tr>\n",
       "      <th>1</th>\n",
       "      <td>107569</td>\n",
       "      <td>8204</td>\n",
       "      <td>1</td>\n",
       "    </tr>\n",
       "    <tr>\n",
       "      <th>2</th>\n",
       "      <td>175990</td>\n",
       "      <td>880</td>\n",
       "      <td>1</td>\n",
       "    </tr>\n",
       "    <tr>\n",
       "      <th>3</th>\n",
       "      <td>160582</td>\n",
       "      <td>9568</td>\n",
       "      <td>0</td>\n",
       "    </tr>\n",
       "    <tr>\n",
       "      <th>4</th>\n",
       "      <td>123400</td>\n",
       "      <td>4000</td>\n",
       "      <td>1</td>\n",
       "    </tr>\n",
       "  </tbody>\n",
       "</table>\n",
       "</div>"
      ],
      "text/plain": [
       "   user_id  item_id  action_id\n",
       "0   118375     4105          1\n",
       "1   107569     8204          1\n",
       "2   175990      880          1\n",
       "3   160582     9568          0\n",
       "4   123400     4000          1"
      ]
     },
     "execution_count": 7,
     "metadata": {},
     "output_type": "execute_result"
    }
   ],
   "source": [
    "df_b = pd.read_csv(os.path.join(path,'sample_b.csv'))\n",
    "df_b.head()"
   ]
  },
  {
   "cell_type": "code",
   "execution_count": 8,
   "id": "322870fe",
   "metadata": {},
   "outputs": [
    {
     "name": "stdout",
     "output_type": "stream",
     "text": [
      "<class 'pandas.core.frame.DataFrame'>\n",
      "RangeIndex: 1198438 entries, 0 to 1198437\n",
      "Data columns (total 3 columns):\n",
      " #   Column     Non-Null Count    Dtype\n",
      "---  ------     --------------    -----\n",
      " 0   user_id    1198438 non-null  int64\n",
      " 1   item_id    1198438 non-null  int64\n",
      " 2   action_id  1198438 non-null  int64\n",
      "dtypes: int64(3)\n",
      "memory usage: 27.4 MB\n"
     ]
    }
   ],
   "source": [
    "df_b.info()"
   ]
  },
  {
   "cell_type": "code",
   "execution_count": 9,
   "id": "6e2422f7",
   "metadata": {},
   "outputs": [
    {
     "data": {
      "text/plain": [
       "array([1, 0, 2], dtype=int64)"
      ]
     },
     "execution_count": 9,
     "metadata": {},
     "output_type": "execute_result"
    }
   ],
   "source": [
    "df_b.action_id.unique()"
   ]
  },
  {
   "cell_type": "code",
   "execution_count": 10,
   "id": "8c4a012c",
   "metadata": {},
   "outputs": [
    {
     "data": {
      "text/plain": [
       "<AxesSubplot:>"
      ]
     },
     "execution_count": 10,
     "metadata": {},
     "output_type": "execute_result"
    },
    {
     "data": {
      "image/png": "[encoded data removed]",
      "text/plain": [
       "<Figure size 432x288 with 1 Axes>"
      ]
     },
     "metadata": {
      "needs_background": "light"
     },
     "output_type": "display_data"
    }
   ],
   "source": [
    "df_b.action_id.hist()"
   ]
  },
  {
   "cell_type": "code",
   "execution_count": 11,
   "id": "ecb8216b",
   "metadata": {},
   "outputs": [],
   "source": [
    "#df_b.drop_duplicates()"
   ]
  },
  {
   "cell_type": "code",
   "execution_count": 12,
   "id": "d5d5c102",
   "metadata": {},
   "outputs": [
    {
     "data": {
      "text/html": [
       "<div>\n",
       "<style scoped>\n",
       "    .dataframe tbody tr th:only-of-type {\n",
       "        vertical-align: middle;\n",
       "    }\n",
       "\n",
       "    .dataframe tbody tr th {\n",
       "        vertical-align: top;\n",
       "    }\n",
       "\n",
       "    .dataframe thead th {\n",
       "        text-align: right;\n",
       "    }\n",
       "</style>\n",
       "<table border=\"1\" class=\"dataframe\">\n",
       "  <thead>\n",
       "    <tr style=\"text-align: right;\">\n",
       "      <th></th>\n",
       "      <th>user_id</th>\n",
       "      <th>item_id</th>\n",
       "      <th>action_id</th>\n",
       "    </tr>\n",
       "  </thead>\n",
       "  <tbody>\n",
       "    <tr>\n",
       "      <th>0</th>\n",
       "      <td>274623</td>\n",
       "      <td>2863</td>\n",
       "      <td>1</td>\n",
       "    </tr>\n",
       "    <tr>\n",
       "      <th>1</th>\n",
       "      <td>265472</td>\n",
       "      <td>343</td>\n",
       "      <td>1</td>\n",
       "    </tr>\n",
       "    <tr>\n",
       "      <th>2</th>\n",
       "      <td>242779</td>\n",
       "      <td>6009</td>\n",
       "      <td>0</td>\n",
       "    </tr>\n",
       "    <tr>\n",
       "      <th>3</th>\n",
       "      <td>275009</td>\n",
       "      <td>2184</td>\n",
       "      <td>1</td>\n",
       "    </tr>\n",
       "    <tr>\n",
       "      <th>4</th>\n",
       "      <td>268104</td>\n",
       "      <td>3134</td>\n",
       "      <td>2</td>\n",
       "    </tr>\n",
       "  </tbody>\n",
       "</table>\n",
       "</div>"
      ],
      "text/plain": [
       "   user_id  item_id  action_id\n",
       "0   274623     2863          1\n",
       "1   265472      343          1\n",
       "2   242779     6009          0\n",
       "3   275009     2184          1\n",
       "4   268104     3134          2"
      ]
     },
     "execution_count": 12,
     "metadata": {},
     "output_type": "execute_result"
    }
   ],
   "source": [
    "df_c = pd.read_csv(os.path.join(path,'sample_c.csv'))\n",
    "df_c.head()"
   ]
  },
  {
   "cell_type": "code",
   "execution_count": 13,
   "id": "0a1d4d14",
   "metadata": {},
   "outputs": [
    {
     "name": "stdout",
     "output_type": "stream",
     "text": [
      "<class 'pandas.core.frame.DataFrame'>\n",
      "RangeIndex: 1205510 entries, 0 to 1205509\n",
      "Data columns (total 3 columns):\n",
      " #   Column     Non-Null Count    Dtype\n",
      "---  ------     --------------    -----\n",
      " 0   user_id    1205510 non-null  int64\n",
      " 1   item_id    1205510 non-null  int64\n",
      " 2   action_id  1205510 non-null  int64\n",
      "dtypes: int64(3)\n",
      "memory usage: 27.6 MB\n"
     ]
    }
   ],
   "source": [
    "df_c.info()"
   ]
  },
  {
   "cell_type": "code",
   "execution_count": 14,
   "id": "6a109a24",
   "metadata": {},
   "outputs": [
    {
     "data": {
      "text/plain": [
       "array([1, 0, 2], dtype=int64)"
      ]
     },
     "execution_count": 14,
     "metadata": {},
     "output_type": "execute_result"
    }
   ],
   "source": [
    "df_c.action_id.unique()"
   ]
  },
  {
   "cell_type": "code",
   "execution_count": 15,
   "id": "740be0ff",
   "metadata": {},
   "outputs": [
    {
     "data": {
      "text/plain": [
       "<AxesSubplot:>"
      ]
     },
     "execution_count": 15,
     "metadata": {},
     "output_type": "execute_result"
    },
    {
     "data": {
      "image/png": "[encoded data removed]",
      "text/plain": [
       "<Figure size 432x288 with 1 Axes>"
      ]
     },
     "metadata": {
      "needs_background": "light"
     },
     "output_type": "display_data"
    }
   ],
   "source": [
    "df_c.action_id.hist()"
   ]
  },
  {
   "cell_type": "code",
   "execution_count": 16,
   "id": "1546710a",
   "metadata": {},
   "outputs": [
    {
     "data": {
      "text/html": [
       "<div>\n",
       "<style scoped>\n",
       "    .dataframe tbody tr th:only-of-type {\n",
       "        vertical-align: middle;\n",
       "    }\n",
       "\n",
       "    .dataframe tbody tr th {\n",
       "        vertical-align: top;\n",
       "    }\n",
       "\n",
       "    .dataframe thead th {\n",
       "        text-align: right;\n",
       "    }\n",
       "</style>\n",
       "<table border=\"1\" class=\"dataframe\">\n",
       "  <thead>\n",
       "    <tr style=\"text-align: right;\">\n",
       "      <th></th>\n",
       "      <th>item_id</th>\n",
       "      <th>item_price</th>\n",
       "    </tr>\n",
       "  </thead>\n",
       "  <tbody>\n",
       "    <tr>\n",
       "      <th>0</th>\n",
       "      <td>338</td>\n",
       "      <td>1501</td>\n",
       "    </tr>\n",
       "    <tr>\n",
       "      <th>1</th>\n",
       "      <td>74</td>\n",
       "      <td>647</td>\n",
       "    </tr>\n",
       "    <tr>\n",
       "      <th>2</th>\n",
       "      <td>7696</td>\n",
       "      <td>825</td>\n",
       "    </tr>\n",
       "    <tr>\n",
       "      <th>3</th>\n",
       "      <td>866</td>\n",
       "      <td>875</td>\n",
       "    </tr>\n",
       "    <tr>\n",
       "      <th>4</th>\n",
       "      <td>5876</td>\n",
       "      <td>804</td>\n",
       "    </tr>\n",
       "  </tbody>\n",
       "</table>\n",
       "</div>"
      ],
      "text/plain": [
       "   item_id  item_price\n",
       "0      338        1501\n",
       "1       74         647\n",
       "2     7696         825\n",
       "3      866         875\n",
       "4     5876         804"
      ]
     },
     "execution_count": 16,
     "metadata": {},
     "output_type": "execute_result"
    }
   ],
   "source": [
    "df_prices = pd.read_csv(os.path.join(path,'item_prices.csv'))\n",
    "df_prices.head()"
   ]
  },
  {
   "cell_type": "code",
   "execution_count": 17,
   "id": "b468141c",
   "metadata": {},
   "outputs": [
    {
     "name": "stdout",
     "output_type": "stream",
     "text": [
      "<class 'pandas.core.frame.DataFrame'>\n",
      "RangeIndex: 1000 entries, 0 to 999\n",
      "Data columns (total 2 columns):\n",
      " #   Column      Non-Null Count  Dtype\n",
      "---  ------      --------------  -----\n",
      " 0   item_id     1000 non-null   int64\n",
      " 1   item_price  1000 non-null   int64\n",
      "dtypes: int64(2)\n",
      "memory usage: 15.8 KB\n"
     ]
    }
   ],
   "source": [
    "df_prices.info()"
   ]
  },
  {
   "cell_type": "markdown",
   "id": "f190e545",
   "metadata": {},
   "source": [
    "**ПОДГОТОВКА ДАННЫХ**"
   ]
  },
  {
   "cell_type": "code",
   "execution_count": 18,
   "id": "4d4e16b5",
   "metadata": {},
   "outputs": [],
   "source": [
    "def create_dataframe(df, dict_actions):\n",
    "    \n",
    "    '''\n",
    "    Формирует датасет в соответствии со словарем\n",
    "    dict_actions = {0:'click', 1:'view', 2: 'buy'}\n",
    "    по количеству совершенных действий\n",
    "    '''\n",
    "    #click\n",
    "    l_keys = list(dict_actions.keys())\n",
    "    df0 = df[df.action_id==l_keys[0]].groupby(['user_id','item_id']).count()\n",
    "    df0.rename({'action_id':dict_actions[l_keys[0]]}, axis=1,inplace=True)\n",
    "    \n",
    "    for i in range(1,len(l_keys)):\n",
    "        \n",
    "        df0 = df0.merge(df[df.action_id==l_keys[i]].groupby(['user_id','item_id']).count(),\\\n",
    "             left_on=['user_id','item_id'], right_on=['user_id','item_id'],\\\n",
    "             how='outer')\n",
    "        df0.rename({'action_id':dict_actions[l_keys[i]]}, axis=1,inplace=True)\n",
    "    \n",
    "    df0 = df0.reset_index()\n",
    "    df0 = df0.merge(df_prices, left_on='item_id', right_on='item_id',how='outer') \n",
    "            \n",
    "    return df0"
   ]
  },
  {
   "cell_type": "code",
   "execution_count": 19,
   "id": "63a1190f",
   "metadata": {},
   "outputs": [],
   "source": [
    "# Словарь действий\n",
    "dict_actions = {0:'click', 1:'view', 2: 'buy'}"
   ]
  },
  {
   "cell_type": "code",
   "execution_count": 20,
   "id": "0f45826a",
   "metadata": {},
   "outputs": [
    {
     "data": {
      "text/plain": [
       "[0, 1, 2]"
      ]
     },
     "execution_count": 20,
     "metadata": {},
     "output_type": "execute_result"
    }
   ],
   "source": [
    "list(dict_actions.keys())"
   ]
  },
  {
   "cell_type": "code",
   "execution_count": 21,
   "id": "13626800",
   "metadata": {},
   "outputs": [],
   "source": [
    "df_a = create_dataframe(df_a, dict_actions)"
   ]
  },
  {
   "cell_type": "code",
   "execution_count": 22,
   "id": "0a4fd4c0",
   "metadata": {},
   "outputs": [
    {
     "name": "stdout",
     "output_type": "stream",
     "text": [
      "<class 'pandas.core.frame.DataFrame'>\n",
      "Int64Index: 995950 entries, 0 to 995949\n",
      "Data columns (total 6 columns):\n",
      " #   Column      Non-Null Count   Dtype  \n",
      "---  ------      --------------   -----  \n",
      " 0   user_id     995950 non-null  int64  \n",
      " 1   item_id     995950 non-null  int64  \n",
      " 2   click       199253 non-null  float64\n",
      " 3   view        995950 non-null  int64  \n",
      " 4   buy         49748 non-null   float64\n",
      " 5   item_price  995950 non-null  int64  \n",
      "dtypes: float64(2), int64(4)\n",
      "memory usage: 53.2 MB\n"
     ]
    }
   ],
   "source": [
    "df_a.info()"
   ]
  },
  {
   "cell_type": "code",
   "execution_count": 23,
   "id": "11492e42",
   "metadata": {},
   "outputs": [
    {
     "data": {
      "text/plain": [
       "user_id            0\n",
       "item_id            0\n",
       "click         796697\n",
       "view               0\n",
       "buy           946202\n",
       "item_price         0\n",
       "dtype: int64"
      ]
     },
     "execution_count": 23,
     "metadata": {},
     "output_type": "execute_result"
    }
   ],
   "source": [
    "df_a.isnull().sum()"
   ]
  },
  {
   "cell_type": "code",
   "execution_count": 24,
   "id": "2c7e4fe1",
   "metadata": {},
   "outputs": [],
   "source": [
    "df_a = df_a.fillna(0)"
   ]
  },
  {
   "cell_type": "code",
   "execution_count": 25,
   "id": "2b0bb5a6",
   "metadata": {},
   "outputs": [
    {
     "data": {
      "text/html": [
       "<div>\n",
       "<style scoped>\n",
       "    .dataframe tbody tr th:only-of-type {\n",
       "        vertical-align: middle;\n",
       "    }\n",
       "\n",
       "    .dataframe tbody tr th {\n",
       "        vertical-align: top;\n",
       "    }\n",
       "\n",
       "    .dataframe thead th {\n",
       "        text-align: right;\n",
       "    }\n",
       "</style>\n",
       "<table border=\"1\" class=\"dataframe\">\n",
       "  <thead>\n",
       "    <tr style=\"text-align: right;\">\n",
       "      <th></th>\n",
       "      <th>user_id</th>\n",
       "      <th>item_id</th>\n",
       "      <th>click</th>\n",
       "      <th>view</th>\n",
       "      <th>buy</th>\n",
       "      <th>item_price</th>\n",
       "    </tr>\n",
       "  </thead>\n",
       "  <tbody>\n",
       "    <tr>\n",
       "      <th>202416</th>\n",
       "      <td>5880</td>\n",
       "      <td>1081</td>\n",
       "      <td>0.0</td>\n",
       "      <td>1</td>\n",
       "      <td>0.0</td>\n",
       "      <td>1578</td>\n",
       "    </tr>\n",
       "    <tr>\n",
       "      <th>206324</th>\n",
       "      <td>88708</td>\n",
       "      <td>1304</td>\n",
       "      <td>1.0</td>\n",
       "      <td>1</td>\n",
       "      <td>0.0</td>\n",
       "      <td>1460</td>\n",
       "    </tr>\n",
       "    <tr>\n",
       "      <th>390106</th>\n",
       "      <td>21356</td>\n",
       "      <td>3387</td>\n",
       "      <td>0.0</td>\n",
       "      <td>1</td>\n",
       "      <td>0.0</td>\n",
       "      <td>206</td>\n",
       "    </tr>\n",
       "    <tr>\n",
       "      <th>454079</th>\n",
       "      <td>91715</td>\n",
       "      <td>8067</td>\n",
       "      <td>0.0</td>\n",
       "      <td>1</td>\n",
       "      <td>0.0</td>\n",
       "      <td>1942</td>\n",
       "    </tr>\n",
       "    <tr>\n",
       "      <th>39597</th>\n",
       "      <td>71214</td>\n",
       "      <td>2401</td>\n",
       "      <td>0.0</td>\n",
       "      <td>1</td>\n",
       "      <td>0.0</td>\n",
       "      <td>1670</td>\n",
       "    </tr>\n",
       "    <tr>\n",
       "      <th>134595</th>\n",
       "      <td>67337</td>\n",
       "      <td>7254</td>\n",
       "      <td>1.0</td>\n",
       "      <td>1</td>\n",
       "      <td>0.0</td>\n",
       "      <td>1440</td>\n",
       "    </tr>\n",
       "    <tr>\n",
       "      <th>153128</th>\n",
       "      <td>69637</td>\n",
       "      <td>8054</td>\n",
       "      <td>0.0</td>\n",
       "      <td>1</td>\n",
       "      <td>0.0</td>\n",
       "      <td>130</td>\n",
       "    </tr>\n",
       "    <tr>\n",
       "      <th>597777</th>\n",
       "      <td>1939</td>\n",
       "      <td>2300</td>\n",
       "      <td>0.0</td>\n",
       "      <td>1</td>\n",
       "      <td>0.0</td>\n",
       "      <td>1073</td>\n",
       "    </tr>\n",
       "    <tr>\n",
       "      <th>253889</th>\n",
       "      <td>95415</td>\n",
       "      <td>3890</td>\n",
       "      <td>0.0</td>\n",
       "      <td>1</td>\n",
       "      <td>0.0</td>\n",
       "      <td>497</td>\n",
       "    </tr>\n",
       "    <tr>\n",
       "      <th>427910</th>\n",
       "      <td>55584</td>\n",
       "      <td>6186</td>\n",
       "      <td>0.0</td>\n",
       "      <td>1</td>\n",
       "      <td>0.0</td>\n",
       "      <td>1976</td>\n",
       "    </tr>\n",
       "  </tbody>\n",
       "</table>\n",
       "</div>"
      ],
      "text/plain": [
       "        user_id  item_id  click  view  buy  item_price\n",
       "202416     5880     1081    0.0     1  0.0        1578\n",
       "206324    88708     1304    1.0     1  0.0        1460\n",
       "390106    21356     3387    0.0     1  0.0         206\n",
       "454079    91715     8067    0.0     1  0.0        1942\n",
       "39597     71214     2401    0.0     1  0.0        1670\n",
       "134595    67337     7254    1.0     1  0.0        1440\n",
       "153128    69637     8054    0.0     1  0.0         130\n",
       "597777     1939     2300    0.0     1  0.0        1073\n",
       "253889    95415     3890    0.0     1  0.0         497\n",
       "427910    55584     6186    0.0     1  0.0        1976"
      ]
     },
     "execution_count": 25,
     "metadata": {},
     "output_type": "execute_result"
    }
   ],
   "source": [
    "df_a.sample(10)"
   ]
  },
  {
   "cell_type": "code",
   "execution_count": 26,
   "id": "05ef56c0",
   "metadata": {},
   "outputs": [
    {
     "data": {
      "text/html": [
       "<div>\n",
       "<style scoped>\n",
       "    .dataframe tbody tr th:only-of-type {\n",
       "        vertical-align: middle;\n",
       "    }\n",
       "\n",
       "    .dataframe tbody tr th {\n",
       "        vertical-align: top;\n",
       "    }\n",
       "\n",
       "    .dataframe thead th {\n",
       "        text-align: right;\n",
       "    }\n",
       "</style>\n",
       "<table border=\"1\" class=\"dataframe\">\n",
       "  <thead>\n",
       "    <tr style=\"text-align: right;\">\n",
       "      <th></th>\n",
       "      <th>user_id</th>\n",
       "      <th>item_id</th>\n",
       "      <th>click</th>\n",
       "      <th>view</th>\n",
       "      <th>buy</th>\n",
       "      <th>item_price</th>\n",
       "    </tr>\n",
       "  </thead>\n",
       "  <tbody>\n",
       "    <tr>\n",
       "      <th>count</th>\n",
       "      <td>995950.000000</td>\n",
       "      <td>995950.000000</td>\n",
       "      <td>995950.000000</td>\n",
       "      <td>995950.0</td>\n",
       "      <td>995950.000000</td>\n",
       "      <td>995950.000000</td>\n",
       "    </tr>\n",
       "    <tr>\n",
       "      <th>mean</th>\n",
       "      <td>49583.513347</td>\n",
       "      <td>4977.483219</td>\n",
       "      <td>0.200063</td>\n",
       "      <td>1.0</td>\n",
       "      <td>0.049950</td>\n",
       "      <td>1065.755003</td>\n",
       "    </tr>\n",
       "    <tr>\n",
       "      <th>std</th>\n",
       "      <td>29209.221992</td>\n",
       "      <td>2866.995602</td>\n",
       "      <td>0.400048</td>\n",
       "      <td>0.0</td>\n",
       "      <td>0.217842</td>\n",
       "      <td>556.826342</td>\n",
       "    </tr>\n",
       "    <tr>\n",
       "      <th>min</th>\n",
       "      <td>241.000000</td>\n",
       "      <td>21.000000</td>\n",
       "      <td>0.000000</td>\n",
       "      <td>1.0</td>\n",
       "      <td>0.000000</td>\n",
       "      <td>102.000000</td>\n",
       "    </tr>\n",
       "    <tr>\n",
       "      <th>25%</th>\n",
       "      <td>25141.000000</td>\n",
       "      <td>2568.000000</td>\n",
       "      <td>0.000000</td>\n",
       "      <td>1.0</td>\n",
       "      <td>0.000000</td>\n",
       "      <td>591.750000</td>\n",
       "    </tr>\n",
       "    <tr>\n",
       "      <th>50%</th>\n",
       "      <td>48358.000000</td>\n",
       "      <td>4869.000000</td>\n",
       "      <td>0.000000</td>\n",
       "      <td>1.0</td>\n",
       "      <td>0.000000</td>\n",
       "      <td>1062.000000</td>\n",
       "    </tr>\n",
       "    <tr>\n",
       "      <th>75%</th>\n",
       "      <td>75580.000000</td>\n",
       "      <td>7580.000000</td>\n",
       "      <td>0.000000</td>\n",
       "      <td>1.0</td>\n",
       "      <td>0.000000</td>\n",
       "      <td>1568.000000</td>\n",
       "    </tr>\n",
       "    <tr>\n",
       "      <th>max</th>\n",
       "      <td>99880.000000</td>\n",
       "      <td>9994.000000</td>\n",
       "      <td>1.000000</td>\n",
       "      <td>1.0</td>\n",
       "      <td>1.000000</td>\n",
       "      <td>1998.000000</td>\n",
       "    </tr>\n",
       "  </tbody>\n",
       "</table>\n",
       "</div>"
      ],
      "text/plain": [
       "             user_id        item_id          click      view            buy  \\\n",
       "count  995950.000000  995950.000000  995950.000000  995950.0  995950.000000   \n",
       "mean    49583.513347    4977.483219       0.200063       1.0       0.049950   \n",
       "std     29209.221992    2866.995602       0.400048       0.0       0.217842   \n",
       "min       241.000000      21.000000       0.000000       1.0       0.000000   \n",
       "25%     25141.000000    2568.000000       0.000000       1.0       0.000000   \n",
       "50%     48358.000000    4869.000000       0.000000       1.0       0.000000   \n",
       "75%     75580.000000    7580.000000       0.000000       1.0       0.000000   \n",
       "max     99880.000000    9994.000000       1.000000       1.0       1.000000   \n",
       "\n",
       "          item_price  \n",
       "count  995950.000000  \n",
       "mean     1065.755003  \n",
       "std       556.826342  \n",
       "min       102.000000  \n",
       "25%       591.750000  \n",
       "50%      1062.000000  \n",
       "75%      1568.000000  \n",
       "max      1998.000000  "
      ]
     },
     "execution_count": 26,
     "metadata": {},
     "output_type": "execute_result"
    }
   ],
   "source": [
    "df_a.describe()"
   ]
  },
  {
   "cell_type": "code",
   "execution_count": 27,
   "id": "144a1967",
   "metadata": {},
   "outputs": [],
   "source": [
    "df_b = create_dataframe(df_b, dict_actions)"
   ]
  },
  {
   "cell_type": "code",
   "execution_count": 28,
   "id": "50f9d379",
   "metadata": {},
   "outputs": [
    {
     "name": "stdout",
     "output_type": "stream",
     "text": [
      "<class 'pandas.core.frame.DataFrame'>\n",
      "Int64Index: 995961 entries, 0 to 995960\n",
      "Data columns (total 6 columns):\n",
      " #   Column      Non-Null Count   Dtype  \n",
      "---  ------      --------------   -----  \n",
      " 0   user_id     995961 non-null  int64  \n",
      " 1   item_id     995961 non-null  int64  \n",
      " 2   click       159294 non-null  float64\n",
      " 3   view        995961 non-null  int64  \n",
      " 4   buy         99472 non-null   float64\n",
      " 5   item_price  995961 non-null  int64  \n",
      "dtypes: float64(2), int64(4)\n",
      "memory usage: 53.2 MB\n"
     ]
    }
   ],
   "source": [
    "df_b.info()"
   ]
  },
  {
   "cell_type": "code",
   "execution_count": 29,
   "id": "d5f2772d",
   "metadata": {},
   "outputs": [
    {
     "data": {
      "text/plain": [
       "user_id            0\n",
       "item_id            0\n",
       "click         836667\n",
       "view               0\n",
       "buy           896489\n",
       "item_price         0\n",
       "dtype: int64"
      ]
     },
     "execution_count": 29,
     "metadata": {},
     "output_type": "execute_result"
    }
   ],
   "source": [
    "df_b.isnull().sum()"
   ]
  },
  {
   "cell_type": "code",
   "execution_count": 30,
   "id": "95f4c8af",
   "metadata": {},
   "outputs": [],
   "source": [
    "df_b = df_b.fillna(0)"
   ]
  },
  {
   "cell_type": "code",
   "execution_count": 31,
   "id": "eda2aa14",
   "metadata": {},
   "outputs": [
    {
     "data": {
      "text/html": [
       "<div>\n",
       "<style scoped>\n",
       "    .dataframe tbody tr th:only-of-type {\n",
       "        vertical-align: middle;\n",
       "    }\n",
       "\n",
       "    .dataframe tbody tr th {\n",
       "        vertical-align: top;\n",
       "    }\n",
       "\n",
       "    .dataframe thead th {\n",
       "        text-align: right;\n",
       "    }\n",
       "</style>\n",
       "<table border=\"1\" class=\"dataframe\">\n",
       "  <thead>\n",
       "    <tr style=\"text-align: right;\">\n",
       "      <th></th>\n",
       "      <th>user_id</th>\n",
       "      <th>item_id</th>\n",
       "      <th>click</th>\n",
       "      <th>view</th>\n",
       "      <th>buy</th>\n",
       "      <th>item_price</th>\n",
       "    </tr>\n",
       "  </thead>\n",
       "  <tbody>\n",
       "    <tr>\n",
       "      <th>418281</th>\n",
       "      <td>196642</td>\n",
       "      <td>190</td>\n",
       "      <td>0.0</td>\n",
       "      <td>1</td>\n",
       "      <td>0.0</td>\n",
       "      <td>1695</td>\n",
       "    </tr>\n",
       "    <tr>\n",
       "      <th>568168</th>\n",
       "      <td>138067</td>\n",
       "      <td>4884</td>\n",
       "      <td>0.0</td>\n",
       "      <td>1</td>\n",
       "      <td>0.0</td>\n",
       "      <td>1898</td>\n",
       "    </tr>\n",
       "    <tr>\n",
       "      <th>641942</th>\n",
       "      <td>146765</td>\n",
       "      <td>7162</td>\n",
       "      <td>0.0</td>\n",
       "      <td>1</td>\n",
       "      <td>0.0</td>\n",
       "      <td>579</td>\n",
       "    </tr>\n",
       "    <tr>\n",
       "      <th>907840</th>\n",
       "      <td>171331</td>\n",
       "      <td>5121</td>\n",
       "      <td>0.0</td>\n",
       "      <td>1</td>\n",
       "      <td>0.0</td>\n",
       "      <td>1340</td>\n",
       "    </tr>\n",
       "    <tr>\n",
       "      <th>688786</th>\n",
       "      <td>149051</td>\n",
       "      <td>6043</td>\n",
       "      <td>0.0</td>\n",
       "      <td>1</td>\n",
       "      <td>0.0</td>\n",
       "      <td>154</td>\n",
       "    </tr>\n",
       "    <tr>\n",
       "      <th>300256</th>\n",
       "      <td>137533</td>\n",
       "      <td>9426</td>\n",
       "      <td>0.0</td>\n",
       "      <td>1</td>\n",
       "      <td>0.0</td>\n",
       "      <td>861</td>\n",
       "    </tr>\n",
       "    <tr>\n",
       "      <th>579435</th>\n",
       "      <td>173416</td>\n",
       "      <td>6302</td>\n",
       "      <td>0.0</td>\n",
       "      <td>1</td>\n",
       "      <td>0.0</td>\n",
       "      <td>286</td>\n",
       "    </tr>\n",
       "    <tr>\n",
       "      <th>621649</th>\n",
       "      <td>100949</td>\n",
       "      <td>4196</td>\n",
       "      <td>0.0</td>\n",
       "      <td>1</td>\n",
       "      <td>0.0</td>\n",
       "      <td>947</td>\n",
       "    </tr>\n",
       "    <tr>\n",
       "      <th>679287</th>\n",
       "      <td>124702</td>\n",
       "      <td>4873</td>\n",
       "      <td>1.0</td>\n",
       "      <td>1</td>\n",
       "      <td>1.0</td>\n",
       "      <td>607</td>\n",
       "    </tr>\n",
       "    <tr>\n",
       "      <th>199006</th>\n",
       "      <td>187876</td>\n",
       "      <td>1915</td>\n",
       "      <td>0.0</td>\n",
       "      <td>1</td>\n",
       "      <td>0.0</td>\n",
       "      <td>1538</td>\n",
       "    </tr>\n",
       "  </tbody>\n",
       "</table>\n",
       "</div>"
      ],
      "text/plain": [
       "        user_id  item_id  click  view  buy  item_price\n",
       "418281   196642      190    0.0     1  0.0        1695\n",
       "568168   138067     4884    0.0     1  0.0        1898\n",
       "641942   146765     7162    0.0     1  0.0         579\n",
       "907840   171331     5121    0.0     1  0.0        1340\n",
       "688786   149051     6043    0.0     1  0.0         154\n",
       "300256   137533     9426    0.0     1  0.0         861\n",
       "579435   173416     6302    0.0     1  0.0         286\n",
       "621649   100949     4196    0.0     1  0.0         947\n",
       "679287   124702     4873    1.0     1  1.0         607\n",
       "199006   187876     1915    0.0     1  0.0        1538"
      ]
     },
     "execution_count": 31,
     "metadata": {},
     "output_type": "execute_result"
    }
   ],
   "source": [
    "df_b.sample(10)"
   ]
  },
  {
   "cell_type": "code",
   "execution_count": 32,
   "id": "ec3c483d",
   "metadata": {},
   "outputs": [
    {
     "data": {
      "text/html": [
       "<div>\n",
       "<style scoped>\n",
       "    .dataframe tbody tr th:only-of-type {\n",
       "        vertical-align: middle;\n",
       "    }\n",
       "\n",
       "    .dataframe tbody tr th {\n",
       "        vertical-align: top;\n",
       "    }\n",
       "\n",
       "    .dataframe thead th {\n",
       "        text-align: right;\n",
       "    }\n",
       "</style>\n",
       "<table border=\"1\" class=\"dataframe\">\n",
       "  <thead>\n",
       "    <tr style=\"text-align: right;\">\n",
       "      <th></th>\n",
       "      <th>user_id</th>\n",
       "      <th>item_id</th>\n",
       "      <th>click</th>\n",
       "      <th>view</th>\n",
       "      <th>buy</th>\n",
       "      <th>item_price</th>\n",
       "    </tr>\n",
       "  </thead>\n",
       "  <tbody>\n",
       "    <tr>\n",
       "      <th>count</th>\n",
       "      <td>995961.000000</td>\n",
       "      <td>995961.000000</td>\n",
       "      <td>995961.000000</td>\n",
       "      <td>995961.0</td>\n",
       "      <td>995961.000000</td>\n",
       "      <td>995961.000000</td>\n",
       "    </tr>\n",
       "    <tr>\n",
       "      <th>mean</th>\n",
       "      <td>149708.467707</td>\n",
       "      <td>4977.461039</td>\n",
       "      <td>0.159940</td>\n",
       "      <td>1.0</td>\n",
       "      <td>0.099875</td>\n",
       "      <td>1065.752183</td>\n",
       "    </tr>\n",
       "    <tr>\n",
       "      <th>std</th>\n",
       "      <td>28669.576226</td>\n",
       "      <td>2867.000867</td>\n",
       "      <td>0.366551</td>\n",
       "      <td>0.0</td>\n",
       "      <td>0.299834</td>\n",
       "      <td>556.829088</td>\n",
       "    </tr>\n",
       "    <tr>\n",
       "      <th>min</th>\n",
       "      <td>100038.000000</td>\n",
       "      <td>21.000000</td>\n",
       "      <td>0.000000</td>\n",
       "      <td>1.0</td>\n",
       "      <td>0.000000</td>\n",
       "      <td>102.000000</td>\n",
       "    </tr>\n",
       "    <tr>\n",
       "      <th>25%</th>\n",
       "      <td>123400.000000</td>\n",
       "      <td>2568.000000</td>\n",
       "      <td>0.000000</td>\n",
       "      <td>1.0</td>\n",
       "      <td>0.000000</td>\n",
       "      <td>591.000000</td>\n",
       "    </tr>\n",
       "    <tr>\n",
       "      <th>50%</th>\n",
       "      <td>149944.000000</td>\n",
       "      <td>4865.000000</td>\n",
       "      <td>0.000000</td>\n",
       "      <td>1.0</td>\n",
       "      <td>0.000000</td>\n",
       "      <td>1062.000000</td>\n",
       "    </tr>\n",
       "    <tr>\n",
       "      <th>75%</th>\n",
       "      <td>174059.000000</td>\n",
       "      <td>7580.000000</td>\n",
       "      <td>0.000000</td>\n",
       "      <td>1.0</td>\n",
       "      <td>0.000000</td>\n",
       "      <td>1568.000000</td>\n",
       "    </tr>\n",
       "    <tr>\n",
       "      <th>max</th>\n",
       "      <td>199966.000000</td>\n",
       "      <td>9994.000000</td>\n",
       "      <td>1.000000</td>\n",
       "      <td>1.0</td>\n",
       "      <td>1.000000</td>\n",
       "      <td>1998.000000</td>\n",
       "    </tr>\n",
       "  </tbody>\n",
       "</table>\n",
       "</div>"
      ],
      "text/plain": [
       "             user_id        item_id          click      view            buy  \\\n",
       "count  995961.000000  995961.000000  995961.000000  995961.0  995961.000000   \n",
       "mean   149708.467707    4977.461039       0.159940       1.0       0.099875   \n",
       "std     28669.576226    2867.000867       0.366551       0.0       0.299834   \n",
       "min    100038.000000      21.000000       0.000000       1.0       0.000000   \n",
       "25%    123400.000000    2568.000000       0.000000       1.0       0.000000   \n",
       "50%    149944.000000    4865.000000       0.000000       1.0       0.000000   \n",
       "75%    174059.000000    7580.000000       0.000000       1.0       0.000000   \n",
       "max    199966.000000    9994.000000       1.000000       1.0       1.000000   \n",
       "\n",
       "          item_price  \n",
       "count  995961.000000  \n",
       "mean     1065.752183  \n",
       "std       556.829088  \n",
       "min       102.000000  \n",
       "25%       591.000000  \n",
       "50%      1062.000000  \n",
       "75%      1568.000000  \n",
       "max      1998.000000  "
      ]
     },
     "execution_count": 32,
     "metadata": {},
     "output_type": "execute_result"
    }
   ],
   "source": [
    "df_b.describe()"
   ]
  },
  {
   "cell_type": "code",
   "execution_count": 33,
   "id": "de62f0ff",
   "metadata": {},
   "outputs": [],
   "source": [
    "df_c = create_dataframe(df_c, dict_actions)"
   ]
  },
  {
   "cell_type": "code",
   "execution_count": 34,
   "id": "431d940d",
   "metadata": {},
   "outputs": [
    {
     "name": "stdout",
     "output_type": "stream",
     "text": [
      "<class 'pandas.core.frame.DataFrame'>\n",
      "Int64Index: 993951 entries, 0 to 993950\n",
      "Data columns (total 6 columns):\n",
      " #   Column      Non-Null Count   Dtype  \n",
      "---  ------      --------------   -----  \n",
      " 0   user_id     993951 non-null  int64  \n",
      " 1   item_id     993951 non-null  int64  \n",
      " 2   click       208682 non-null  float64\n",
      " 3   view        993951 non-null  int64  \n",
      " 4   buy         59689 non-null   float64\n",
      " 5   item_price  993951 non-null  int64  \n",
      "dtypes: float64(2), int64(4)\n",
      "memory usage: 53.1 MB\n"
     ]
    }
   ],
   "source": [
    "df_c.info()"
   ]
  },
  {
   "cell_type": "code",
   "execution_count": 35,
   "id": "4e852b2e",
   "metadata": {},
   "outputs": [
    {
     "data": {
      "text/plain": [
       "user_id            0\n",
       "item_id            0\n",
       "click         785269\n",
       "view               0\n",
       "buy           934262\n",
       "item_price         0\n",
       "dtype: int64"
      ]
     },
     "execution_count": 35,
     "metadata": {},
     "output_type": "execute_result"
    }
   ],
   "source": [
    "df_c.isnull().sum()"
   ]
  },
  {
   "cell_type": "code",
   "execution_count": 36,
   "id": "6c4ddacf",
   "metadata": {},
   "outputs": [],
   "source": [
    "df_c = df_c.fillna(0)"
   ]
  },
  {
   "cell_type": "code",
   "execution_count": 37,
   "id": "e34f6d0f",
   "metadata": {},
   "outputs": [
    {
     "data": {
      "text/html": [
       "<div>\n",
       "<style scoped>\n",
       "    .dataframe tbody tr th:only-of-type {\n",
       "        vertical-align: middle;\n",
       "    }\n",
       "\n",
       "    .dataframe tbody tr th {\n",
       "        vertical-align: top;\n",
       "    }\n",
       "\n",
       "    .dataframe thead th {\n",
       "        text-align: right;\n",
       "    }\n",
       "</style>\n",
       "<table border=\"1\" class=\"dataframe\">\n",
       "  <thead>\n",
       "    <tr style=\"text-align: right;\">\n",
       "      <th></th>\n",
       "      <th>user_id</th>\n",
       "      <th>item_id</th>\n",
       "      <th>click</th>\n",
       "      <th>view</th>\n",
       "      <th>buy</th>\n",
       "      <th>item_price</th>\n",
       "    </tr>\n",
       "  </thead>\n",
       "  <tbody>\n",
       "    <tr>\n",
       "      <th>152181</th>\n",
       "      <td>254539</td>\n",
       "      <td>7264</td>\n",
       "      <td>1.0</td>\n",
       "      <td>1</td>\n",
       "      <td>0.0</td>\n",
       "      <td>1272</td>\n",
       "    </tr>\n",
       "    <tr>\n",
       "      <th>978276</th>\n",
       "      <td>200790</td>\n",
       "      <td>9433</td>\n",
       "      <td>0.0</td>\n",
       "      <td>1</td>\n",
       "      <td>0.0</td>\n",
       "      <td>1921</td>\n",
       "    </tr>\n",
       "    <tr>\n",
       "      <th>96260</th>\n",
       "      <td>281232</td>\n",
       "      <td>3997</td>\n",
       "      <td>0.0</td>\n",
       "      <td>1</td>\n",
       "      <td>0.0</td>\n",
       "      <td>1452</td>\n",
       "    </tr>\n",
       "    <tr>\n",
       "      <th>865916</th>\n",
       "      <td>281756</td>\n",
       "      <td>9508</td>\n",
       "      <td>1.0</td>\n",
       "      <td>1</td>\n",
       "      <td>0.0</td>\n",
       "      <td>1817</td>\n",
       "    </tr>\n",
       "    <tr>\n",
       "      <th>494268</th>\n",
       "      <td>215516</td>\n",
       "      <td>9679</td>\n",
       "      <td>0.0</td>\n",
       "      <td>1</td>\n",
       "      <td>0.0</td>\n",
       "      <td>500</td>\n",
       "    </tr>\n",
       "    <tr>\n",
       "      <th>195826</th>\n",
       "      <td>209843</td>\n",
       "      <td>9195</td>\n",
       "      <td>1.0</td>\n",
       "      <td>1</td>\n",
       "      <td>0.0</td>\n",
       "      <td>1754</td>\n",
       "    </tr>\n",
       "    <tr>\n",
       "      <th>19678</th>\n",
       "      <td>275444</td>\n",
       "      <td>810</td>\n",
       "      <td>0.0</td>\n",
       "      <td>1</td>\n",
       "      <td>1.0</td>\n",
       "      <td>1343</td>\n",
       "    </tr>\n",
       "    <tr>\n",
       "      <th>884000</th>\n",
       "      <td>225947</td>\n",
       "      <td>6888</td>\n",
       "      <td>0.0</td>\n",
       "      <td>1</td>\n",
       "      <td>0.0</td>\n",
       "      <td>435</td>\n",
       "    </tr>\n",
       "    <tr>\n",
       "      <th>840566</th>\n",
       "      <td>261639</td>\n",
       "      <td>880</td>\n",
       "      <td>0.0</td>\n",
       "      <td>1</td>\n",
       "      <td>0.0</td>\n",
       "      <td>846</td>\n",
       "    </tr>\n",
       "    <tr>\n",
       "      <th>590323</th>\n",
       "      <td>288628</td>\n",
       "      <td>9958</td>\n",
       "      <td>0.0</td>\n",
       "      <td>1</td>\n",
       "      <td>0.0</td>\n",
       "      <td>265</td>\n",
       "    </tr>\n",
       "  </tbody>\n",
       "</table>\n",
       "</div>"
      ],
      "text/plain": [
       "        user_id  item_id  click  view  buy  item_price\n",
       "152181   254539     7264    1.0     1  0.0        1272\n",
       "978276   200790     9433    0.0     1  0.0        1921\n",
       "96260    281232     3997    0.0     1  0.0        1452\n",
       "865916   281756     9508    1.0     1  0.0        1817\n",
       "494268   215516     9679    0.0     1  0.0         500\n",
       "195826   209843     9195    1.0     1  0.0        1754\n",
       "19678    275444      810    0.0     1  1.0        1343\n",
       "884000   225947     6888    0.0     1  0.0         435\n",
       "840566   261639      880    0.0     1  0.0         846\n",
       "590323   288628     9958    0.0     1  0.0         265"
      ]
     },
     "execution_count": 37,
     "metadata": {},
     "output_type": "execute_result"
    }
   ],
   "source": [
    "df_c.sample(10)"
   ]
  },
  {
   "cell_type": "code",
   "execution_count": 38,
   "id": "697ae1a3",
   "metadata": {},
   "outputs": [
    {
     "data": {
      "text/html": [
       "<div>\n",
       "<style scoped>\n",
       "    .dataframe tbody tr th:only-of-type {\n",
       "        vertical-align: middle;\n",
       "    }\n",
       "\n",
       "    .dataframe tbody tr th {\n",
       "        vertical-align: top;\n",
       "    }\n",
       "\n",
       "    .dataframe thead th {\n",
       "        text-align: right;\n",
       "    }\n",
       "</style>\n",
       "<table border=\"1\" class=\"dataframe\">\n",
       "  <thead>\n",
       "    <tr style=\"text-align: right;\">\n",
       "      <th></th>\n",
       "      <th>user_id</th>\n",
       "      <th>item_id</th>\n",
       "      <th>click</th>\n",
       "      <th>view</th>\n",
       "      <th>buy</th>\n",
       "      <th>item_price</th>\n",
       "    </tr>\n",
       "  </thead>\n",
       "  <tbody>\n",
       "    <tr>\n",
       "      <th>count</th>\n",
       "      <td>993951.000000</td>\n",
       "      <td>993951.000000</td>\n",
       "      <td>993951.000000</td>\n",
       "      <td>993951.0</td>\n",
       "      <td>993951.000000</td>\n",
       "      <td>993951.000000</td>\n",
       "    </tr>\n",
       "    <tr>\n",
       "      <th>mean</th>\n",
       "      <td>251008.676147</td>\n",
       "      <td>4977.479591</td>\n",
       "      <td>0.209952</td>\n",
       "      <td>1.0</td>\n",
       "      <td>0.060052</td>\n",
       "      <td>1065.759685</td>\n",
       "    </tr>\n",
       "    <tr>\n",
       "      <th>std</th>\n",
       "      <td>28199.468854</td>\n",
       "      <td>2867.003237</td>\n",
       "      <td>0.407274</td>\n",
       "      <td>0.0</td>\n",
       "      <td>0.237584</td>\n",
       "      <td>556.828666</td>\n",
       "    </tr>\n",
       "    <tr>\n",
       "      <th>min</th>\n",
       "      <td>200225.000000</td>\n",
       "      <td>21.000000</td>\n",
       "      <td>0.000000</td>\n",
       "      <td>1.0</td>\n",
       "      <td>0.000000</td>\n",
       "      <td>102.000000</td>\n",
       "    </tr>\n",
       "    <tr>\n",
       "      <th>25%</th>\n",
       "      <td>227764.000000</td>\n",
       "      <td>2568.000000</td>\n",
       "      <td>0.000000</td>\n",
       "      <td>1.0</td>\n",
       "      <td>0.000000</td>\n",
       "      <td>591.000000</td>\n",
       "    </tr>\n",
       "    <tr>\n",
       "      <th>50%</th>\n",
       "      <td>251519.000000</td>\n",
       "      <td>4865.000000</td>\n",
       "      <td>0.000000</td>\n",
       "      <td>1.0</td>\n",
       "      <td>0.000000</td>\n",
       "      <td>1062.000000</td>\n",
       "    </tr>\n",
       "    <tr>\n",
       "      <th>75%</th>\n",
       "      <td>275512.000000</td>\n",
       "      <td>7580.000000</td>\n",
       "      <td>0.000000</td>\n",
       "      <td>1.0</td>\n",
       "      <td>0.000000</td>\n",
       "      <td>1569.000000</td>\n",
       "    </tr>\n",
       "    <tr>\n",
       "      <th>max</th>\n",
       "      <td>299828.000000</td>\n",
       "      <td>9994.000000</td>\n",
       "      <td>1.000000</td>\n",
       "      <td>1.0</td>\n",
       "      <td>1.000000</td>\n",
       "      <td>1998.000000</td>\n",
       "    </tr>\n",
       "  </tbody>\n",
       "</table>\n",
       "</div>"
      ],
      "text/plain": [
       "             user_id        item_id          click      view            buy  \\\n",
       "count  993951.000000  993951.000000  993951.000000  993951.0  993951.000000   \n",
       "mean   251008.676147    4977.479591       0.209952       1.0       0.060052   \n",
       "std     28199.468854    2867.003237       0.407274       0.0       0.237584   \n",
       "min    200225.000000      21.000000       0.000000       1.0       0.000000   \n",
       "25%    227764.000000    2568.000000       0.000000       1.0       0.000000   \n",
       "50%    251519.000000    4865.000000       0.000000       1.0       0.000000   \n",
       "75%    275512.000000    7580.000000       0.000000       1.0       0.000000   \n",
       "max    299828.000000    9994.000000       1.000000       1.0       1.000000   \n",
       "\n",
       "          item_price  \n",
       "count  993951.000000  \n",
       "mean     1065.759685  \n",
       "std       556.828666  \n",
       "min       102.000000  \n",
       "25%       591.000000  \n",
       "50%      1062.000000  \n",
       "75%      1569.000000  \n",
       "max      1998.000000  "
      ]
     },
     "execution_count": 38,
     "metadata": {},
     "output_type": "execute_result"
    }
   ],
   "source": [
    "df_c.describe()"
   ]
  },
  {
   "cell_type": "markdown",
   "id": "182b7ab0",
   "metadata": {},
   "source": [
    "**Вывод**: из описаний статистик датасетов видно, что \n",
    "1. все записи признака 'view' во всех датасетах =1\n",
    "2. признак 'item_price' имеет совпадающие статистики во всех трех датасетах\n",
    "\n",
    "Для наглядности постоим гистограммы распределения цен в датасетах: "
   ]
  },
  {
   "cell_type": "code",
   "execution_count": 39,
   "id": "ad098272",
   "metadata": {},
   "outputs": [
    {
     "data": {
      "text/plain": [
       "array([[<AxesSubplot:title={'center':'item_price'}>]], dtype=object)"
      ]
     },
     "execution_count": 39,
     "metadata": {},
     "output_type": "execute_result"
    },
    {
     "data": {
      "image/png": "[encoded data removed]",
      "text/plain": [
       "<Figure size 432x288 with 1 Axes>"
      ]
     },
     "metadata": {
      "needs_background": "light"
     },
     "output_type": "display_data"
    }
   ],
   "source": [
    "df_a[['item_price']].hist(bins=100)"
   ]
  },
  {
   "cell_type": "code",
   "execution_count": 40,
   "id": "d3d85b69",
   "metadata": {},
   "outputs": [
    {
     "data": {
      "text/plain": [
       "<matplotlib.legend.Legend at 0x2ba58a5e748>"
      ]
     },
     "execution_count": 40,
     "metadata": {},
     "output_type": "execute_result"
    },
    {
     "data": {
      "image/png": "[encoded data removed]",
      "text/plain": [
       "<Figure size 432x288 with 1 Axes>"
      ]
     },
     "metadata": {
      "needs_background": "light"
     },
     "output_type": "display_data"
    }
   ],
   "source": [
    "sns.distplot(df_a['item_price'], hist=False, label='Price A')\n",
    "sns.distplot(df_b['item_price'], hist=False, label='Price B')\n",
    "sns.distplot(df_c['item_price'], hist=False, label='Price C')\n",
    "plt.legend(title='item_price', loc='upper right')    "
   ]
  },
  {
   "cell_type": "code",
   "execution_count": 41,
   "id": "96e04e56",
   "metadata": {},
   "outputs": [
    {
     "data": {
      "text/plain": [
       "array([[<AxesSubplot:title={'center':'click'}>,\n",
       "        <AxesSubplot:title={'center':'buy'}>]], dtype=object)"
      ]
     },
     "execution_count": 41,
     "metadata": {},
     "output_type": "execute_result"
    },
    {
     "data": {
      "image/png": "[encoded data removed]",
      "text/plain": [
       "<Figure size 432x288 with 2 Axes>"
      ]
     },
     "metadata": {
      "needs_background": "light"
     },
     "output_type": "display_data"
    }
   ],
   "source": [
    "df_a[['click','buy']].hist(bins=50)"
   ]
  },
  {
   "cell_type": "code",
   "execution_count": 42,
   "id": "9bc7cd5d",
   "metadata": {},
   "outputs": [
    {
     "data": {
      "text/plain": [
       "<AxesSubplot:>"
      ]
     },
     "execution_count": 42,
     "metadata": {},
     "output_type": "execute_result"
    },
    {
     "data": {
      "image/png": "[encoded data removed]",
      "text/plain": [
       "<Figure size 432x288 with 1 Axes>"
      ]
     },
     "metadata": {
      "needs_background": "light"
     },
     "output_type": "display_data"
    }
   ],
   "source": [
    "df_b.item_price.hist(bins=100)"
   ]
  },
  {
   "cell_type": "code",
   "execution_count": 43,
   "id": "d1227176",
   "metadata": {},
   "outputs": [
    {
     "data": {
      "text/plain": [
       "array([[<AxesSubplot:title={'center':'click'}>,\n",
       "        <AxesSubplot:title={'center':'buy'}>]], dtype=object)"
      ]
     },
     "execution_count": 43,
     "metadata": {},
     "output_type": "execute_result"
    },
    {
     "data": {
      "image/png": "[encoded data removed]",
      "text/plain": [
       "<Figure size 432x288 with 2 Axes>"
      ]
     },
     "metadata": {
      "needs_background": "light"
     },
     "output_type": "display_data"
    }
   ],
   "source": [
    "df_b[['click','buy']].hist(bins=50)"
   ]
  },
  {
   "cell_type": "code",
   "execution_count": 44,
   "id": "931ad395",
   "metadata": {},
   "outputs": [
    {
     "data": {
      "text/plain": [
       "<AxesSubplot:>"
      ]
     },
     "execution_count": 44,
     "metadata": {},
     "output_type": "execute_result"
    },
    {
     "data": {
      "image/png": "[encoded data removed]",
      "text/plain": [
       "<Figure size 432x288 with 1 Axes>"
      ]
     },
     "metadata": {
      "needs_background": "light"
     },
     "output_type": "display_data"
    }
   ],
   "source": [
    "df_c.item_price.hist(bins=100)"
   ]
  },
  {
   "cell_type": "code",
   "execution_count": 45,
   "id": "7e227d88",
   "metadata": {},
   "outputs": [
    {
     "data": {
      "text/plain": [
       "array([[<AxesSubplot:title={'center':'click'}>,\n",
       "        <AxesSubplot:title={'center':'buy'}>]], dtype=object)"
      ]
     },
     "execution_count": 45,
     "metadata": {},
     "output_type": "execute_result"
    },
    {
     "data": {
      "image/png": "[encoded data removed]",
      "text/plain": [
       "<Figure size 432x288 with 2 Axes>"
      ]
     },
     "metadata": {
      "needs_background": "light"
     },
     "output_type": "display_data"
    }
   ],
   "source": [
    "df_c[['click','buy']].hist(bins=50)"
   ]
  },
  {
   "cell_type": "markdown",
   "id": "d8f960dc",
   "metadata": {},
   "source": [
    "Из гистограмм распределения цен элементов видно, что наши группы не имеют визуального расхождения, поэтому можно продолжить преобразования датасетов и построить метрики "
   ]
  },
  {
   "cell_type": "markdown",
   "id": "defdbe4b",
   "metadata": {},
   "source": [
    "**ПОСТРОЕНИЕ МЕТРИК**"
   ]
  },
  {
   "cell_type": "markdown",
   "id": "8d7ae123",
   "metadata": {},
   "source": [
    "Маркетплейс ориентируется на следующие метрики:\n",
    "\n",
    "ctr (отношение кликов к просмотрам товаров);\n",
    "purchase rate (отношение покупок к просмотрам товаров);\n",
    "gmv (оборот, сумма произведений количества покупок на стоимость покупки), где считаем 1 сессию за 1 точку (1 сессия на 1 пользователя)."
   ]
  },
  {
   "cell_type": "code",
   "execution_count": 46,
   "id": "f07dcf5d",
   "metadata": {},
   "outputs": [],
   "source": [
    "def summary(x):\n",
    "    result = {\n",
    "        'click': x['click'].sum(),\n",
    "        'view': x['view'].sum(),\n",
    "        'buy': x['buy'].sum(),\n",
    "        'gmv': x['sum_buy'].sum(),\n",
    "    }\n",
    "    return pd.Series(result).round(0)"
   ]
  },
  {
   "cell_type": "code",
   "execution_count": 47,
   "id": "ff1dad9d",
   "metadata": {},
   "outputs": [],
   "source": [
    "def create_metrics(df):\n",
    "    '''\n",
    "    Создает метрики\n",
    "    '''\n",
    "    df['sum_buy'] = df['buy'] * df['item_price']\n",
    "    df1 = df.groupby('user_id').apply(summary)\n",
    "    \n",
    "    df1['ctr'] = df1['click']/df1['view']\n",
    "    df1['purchase_rate'] = df1['buy']/df1['view']\n",
    "    \n",
    "    return df1"
   ]
  },
  {
   "cell_type": "code",
   "execution_count": 48,
   "id": "85a946c3",
   "metadata": {},
   "outputs": [],
   "source": [
    "def test_shapiro(sample, alpha, text):\n",
    "    '''\n",
    "    Тест Шапиро-Уилка\n",
    "    sample - выборка\n",
    "    alpha - \n",
    "    '''\n",
    "    stat, p = shapiro(sample)\n",
    "    print('Статистика=%.3f, p=%.3f' % (stat, p))\n",
    "    # interpret\n",
    "    \n",
    "    if p > alpha:\n",
    "        print(f'Выборка {text} выглядит гауссовой (не удается отклонить H0)')\n",
    "    else:\n",
    "        print(f'Выборка {text} не выглядит Гауссовой (отклонить H0)')"
   ]
  },
  {
   "cell_type": "code",
   "execution_count": 77,
   "id": "fc2e8bf1",
   "metadata": {},
   "outputs": [],
   "source": [
    "def _kde(feature):\n",
    "    '''\n",
    "    Сравнение признаков по группам\n",
    "    '''\n",
    "    sns.kdeplot(x=feature, data=dfa, common_norm=False, label='A');\n",
    "    sns.kdeplot(x=feature, data=dfb, common_norm=False, label='B');\n",
    "    sns.kdeplot(x=feature, data=dfc, common_norm=False, label='C');\n",
    "    plt.legend(title=feature, loc='upper right')    \n",
    "    plt.title(\"Kernel Density Function\");"
   ]
  },
  {
   "cell_type": "markdown",
   "id": "52b7c081",
   "metadata": {},
   "source": [
    "**A**"
   ]
  },
  {
   "cell_type": "code",
   "execution_count": 49,
   "id": "be5c253c",
   "metadata": {},
   "outputs": [
    {
     "data": {
      "text/html": [
       "<div>\n",
       "<style scoped>\n",
       "    .dataframe tbody tr th:only-of-type {\n",
       "        vertical-align: middle;\n",
       "    }\n",
       "\n",
       "    .dataframe tbody tr th {\n",
       "        vertical-align: top;\n",
       "    }\n",
       "\n",
       "    .dataframe thead th {\n",
       "        text-align: right;\n",
       "    }\n",
       "</style>\n",
       "<table border=\"1\" class=\"dataframe\">\n",
       "  <thead>\n",
       "    <tr style=\"text-align: right;\">\n",
       "      <th></th>\n",
       "      <th>click</th>\n",
       "      <th>view</th>\n",
       "      <th>buy</th>\n",
       "      <th>gmv</th>\n",
       "      <th>ctr</th>\n",
       "      <th>purchase_rate</th>\n",
       "    </tr>\n",
       "    <tr>\n",
       "      <th>user_id</th>\n",
       "      <th></th>\n",
       "      <th></th>\n",
       "      <th></th>\n",
       "      <th></th>\n",
       "      <th></th>\n",
       "      <th></th>\n",
       "    </tr>\n",
       "  </thead>\n",
       "  <tbody>\n",
       "    <tr>\n",
       "      <th>241</th>\n",
       "      <td>186.0</td>\n",
       "      <td>1000.0</td>\n",
       "      <td>48.0</td>\n",
       "      <td>48232.0</td>\n",
       "      <td>0.186</td>\n",
       "      <td>0.048</td>\n",
       "    </tr>\n",
       "    <tr>\n",
       "      <th>253</th>\n",
       "      <td>201.0</td>\n",
       "      <td>1000.0</td>\n",
       "      <td>37.0</td>\n",
       "      <td>38676.0</td>\n",
       "      <td>0.201</td>\n",
       "      <td>0.037</td>\n",
       "    </tr>\n",
       "    <tr>\n",
       "      <th>362</th>\n",
       "      <td>186.0</td>\n",
       "      <td>1000.0</td>\n",
       "      <td>52.0</td>\n",
       "      <td>61392.0</td>\n",
       "      <td>0.186</td>\n",
       "      <td>0.052</td>\n",
       "    </tr>\n",
       "    <tr>\n",
       "      <th>378</th>\n",
       "      <td>206.0</td>\n",
       "      <td>1000.0</td>\n",
       "      <td>53.0</td>\n",
       "      <td>60223.0</td>\n",
       "      <td>0.206</td>\n",
       "      <td>0.053</td>\n",
       "    </tr>\n",
       "    <tr>\n",
       "      <th>475</th>\n",
       "      <td>209.0</td>\n",
       "      <td>1000.0</td>\n",
       "      <td>54.0</td>\n",
       "      <td>53476.0</td>\n",
       "      <td>0.209</td>\n",
       "      <td>0.054</td>\n",
       "    </tr>\n",
       "    <tr>\n",
       "      <th>478</th>\n",
       "      <td>199.0</td>\n",
       "      <td>1000.0</td>\n",
       "      <td>52.0</td>\n",
       "      <td>53779.0</td>\n",
       "      <td>0.199</td>\n",
       "      <td>0.052</td>\n",
       "    </tr>\n",
       "    <tr>\n",
       "      <th>486</th>\n",
       "      <td>212.0</td>\n",
       "      <td>1000.0</td>\n",
       "      <td>47.0</td>\n",
       "      <td>40677.0</td>\n",
       "      <td>0.212</td>\n",
       "      <td>0.047</td>\n",
       "    </tr>\n",
       "    <tr>\n",
       "      <th>963</th>\n",
       "      <td>181.0</td>\n",
       "      <td>1000.0</td>\n",
       "      <td>53.0</td>\n",
       "      <td>57460.0</td>\n",
       "      <td>0.181</td>\n",
       "      <td>0.053</td>\n",
       "    </tr>\n",
       "    <tr>\n",
       "      <th>964</th>\n",
       "      <td>184.0</td>\n",
       "      <td>1000.0</td>\n",
       "      <td>46.0</td>\n",
       "      <td>44086.0</td>\n",
       "      <td>0.184</td>\n",
       "      <td>0.046</td>\n",
       "    </tr>\n",
       "    <tr>\n",
       "      <th>986</th>\n",
       "      <td>175.0</td>\n",
       "      <td>1000.0</td>\n",
       "      <td>51.0</td>\n",
       "      <td>57035.0</td>\n",
       "      <td>0.175</td>\n",
       "      <td>0.051</td>\n",
       "    </tr>\n",
       "  </tbody>\n",
       "</table>\n",
       "</div>"
      ],
      "text/plain": [
       "         click    view   buy      gmv    ctr  purchase_rate\n",
       "user_id                                                    \n",
       "241      186.0  1000.0  48.0  48232.0  0.186          0.048\n",
       "253      201.0  1000.0  37.0  38676.0  0.201          0.037\n",
       "362      186.0  1000.0  52.0  61392.0  0.186          0.052\n",
       "378      206.0  1000.0  53.0  60223.0  0.206          0.053\n",
       "475      209.0  1000.0  54.0  53476.0  0.209          0.054\n",
       "478      199.0  1000.0  52.0  53779.0  0.199          0.052\n",
       "486      212.0  1000.0  47.0  40677.0  0.212          0.047\n",
       "963      181.0  1000.0  53.0  57460.0  0.181          0.053\n",
       "964      184.0  1000.0  46.0  44086.0  0.184          0.046\n",
       "986      175.0  1000.0  51.0  57035.0  0.175          0.051"
      ]
     },
     "execution_count": 49,
     "metadata": {},
     "output_type": "execute_result"
    }
   ],
   "source": [
    "dfa = create_metrics(df_a)\n",
    "dfa.head(10)"
   ]
  },
  {
   "cell_type": "code",
   "execution_count": 50,
   "id": "c5087bfd",
   "metadata": {},
   "outputs": [
    {
     "data": {
      "text/html": [
       "<div>\n",
       "<style scoped>\n",
       "    .dataframe tbody tr th:only-of-type {\n",
       "        vertical-align: middle;\n",
       "    }\n",
       "\n",
       "    .dataframe tbody tr th {\n",
       "        vertical-align: top;\n",
       "    }\n",
       "\n",
       "    .dataframe thead th {\n",
       "        text-align: right;\n",
       "    }\n",
       "</style>\n",
       "<table border=\"1\" class=\"dataframe\">\n",
       "  <thead>\n",
       "    <tr style=\"text-align: right;\">\n",
       "      <th></th>\n",
       "      <th>click</th>\n",
       "      <th>view</th>\n",
       "      <th>buy</th>\n",
       "      <th>gmv</th>\n",
       "      <th>ctr</th>\n",
       "      <th>purchase_rate</th>\n",
       "    </tr>\n",
       "  </thead>\n",
       "  <tbody>\n",
       "    <tr>\n",
       "      <th>count</th>\n",
       "      <td>996.000000</td>\n",
       "      <td>996.000000</td>\n",
       "      <td>996.000000</td>\n",
       "      <td>996.000000</td>\n",
       "      <td>996.000000</td>\n",
       "      <td>996.000000</td>\n",
       "    </tr>\n",
       "    <tr>\n",
       "      <th>mean</th>\n",
       "      <td>200.053213</td>\n",
       "      <td>999.949799</td>\n",
       "      <td>49.947791</td>\n",
       "      <td>53273.270080</td>\n",
       "      <td>0.200063</td>\n",
       "      <td>0.049950</td>\n",
       "    </tr>\n",
       "    <tr>\n",
       "      <th>std</th>\n",
       "      <td>13.435653</td>\n",
       "      <td>0.227483</td>\n",
       "      <td>7.226785</td>\n",
       "      <td>8573.875661</td>\n",
       "      <td>0.013438</td>\n",
       "      <td>0.007228</td>\n",
       "    </tr>\n",
       "    <tr>\n",
       "      <th>min</th>\n",
       "      <td>164.000000</td>\n",
       "      <td>998.000000</td>\n",
       "      <td>27.000000</td>\n",
       "      <td>28890.000000</td>\n",
       "      <td>0.164000</td>\n",
       "      <td>0.027000</td>\n",
       "    </tr>\n",
       "    <tr>\n",
       "      <th>25%</th>\n",
       "      <td>191.000000</td>\n",
       "      <td>1000.000000</td>\n",
       "      <td>45.000000</td>\n",
       "      <td>47413.500000</td>\n",
       "      <td>0.191000</td>\n",
       "      <td>0.045000</td>\n",
       "    </tr>\n",
       "    <tr>\n",
       "      <th>50%</th>\n",
       "      <td>199.000000</td>\n",
       "      <td>1000.000000</td>\n",
       "      <td>50.000000</td>\n",
       "      <td>52892.000000</td>\n",
       "      <td>0.199100</td>\n",
       "      <td>0.050000</td>\n",
       "    </tr>\n",
       "    <tr>\n",
       "      <th>75%</th>\n",
       "      <td>208.250000</td>\n",
       "      <td>1000.000000</td>\n",
       "      <td>54.000000</td>\n",
       "      <td>59091.500000</td>\n",
       "      <td>0.208406</td>\n",
       "      <td>0.054014</td>\n",
       "    </tr>\n",
       "    <tr>\n",
       "      <th>max</th>\n",
       "      <td>241.000000</td>\n",
       "      <td>1000.000000</td>\n",
       "      <td>74.000000</td>\n",
       "      <td>79722.000000</td>\n",
       "      <td>0.241000</td>\n",
       "      <td>0.074000</td>\n",
       "    </tr>\n",
       "  </tbody>\n",
       "</table>\n",
       "</div>"
      ],
      "text/plain": [
       "            click         view         buy           gmv         ctr  \\\n",
       "count  996.000000   996.000000  996.000000    996.000000  996.000000   \n",
       "mean   200.053213   999.949799   49.947791  53273.270080    0.200063   \n",
       "std     13.435653     0.227483    7.226785   8573.875661    0.013438   \n",
       "min    164.000000   998.000000   27.000000  28890.000000    0.164000   \n",
       "25%    191.000000  1000.000000   45.000000  47413.500000    0.191000   \n",
       "50%    199.000000  1000.000000   50.000000  52892.000000    0.199100   \n",
       "75%    208.250000  1000.000000   54.000000  59091.500000    0.208406   \n",
       "max    241.000000  1000.000000   74.000000  79722.000000    0.241000   \n",
       "\n",
       "       purchase_rate  \n",
       "count     996.000000  \n",
       "mean        0.049950  \n",
       "std         0.007228  \n",
       "min         0.027000  \n",
       "25%         0.045000  \n",
       "50%         0.050000  \n",
       "75%         0.054014  \n",
       "max         0.074000  "
      ]
     },
     "execution_count": 50,
     "metadata": {},
     "output_type": "execute_result"
    }
   ],
   "source": [
    "dfa.describe()"
   ]
  },
  {
   "cell_type": "code",
   "execution_count": 51,
   "id": "3deff91b",
   "metadata": {},
   "outputs": [
    {
     "data": {
      "image/png": "[encoded data removed]",
      "text/plain": [
       "<Figure size 432x288 with 4 Axes>"
      ]
     },
     "metadata": {
      "needs_background": "light"
     },
     "output_type": "display_data"
    }
   ],
   "source": [
    "dfa[['ctr','purchase_rate','gmv']].hist(bins=50);"
   ]
  },
  {
   "cell_type": "code",
   "execution_count": 52,
   "id": "c8eecf5e",
   "metadata": {},
   "outputs": [
    {
     "name": "stdout",
     "output_type": "stream",
     "text": [
      "Статистика=0.995, p=0.004\n",
      "Выборка A ctr не выглядит Гауссовой (отклонить H0)\n"
     ]
    }
   ],
   "source": [
    "test_shapiro(dfa['ctr'], 0.01, 'A ctr')"
   ]
  },
  {
   "cell_type": "code",
   "execution_count": 108,
   "id": "de6b9d45",
   "metadata": {},
   "outputs": [
    {
     "name": "stdout",
     "output_type": "stream",
     "text": [
      "Статистика=0.995, p=0.004\n",
      "Выборка A ctr не выглядит Гауссовой (отклонить H0)\n"
     ]
    }
   ],
   "source": [
    "test_shapiro(dfa['ctr'], 0.05, 'A ctr')"
   ]
  },
  {
   "cell_type": "code",
   "execution_count": 109,
   "id": "cc5ffa99",
   "metadata": {},
   "outputs": [
    {
     "name": "stdout",
     "output_type": "stream",
     "text": [
      "Статистика=0.996, p=0.011\n",
      "Выборка A purchase_rate выглядит гауссовой (не удается отклонить H0)\n"
     ]
    }
   ],
   "source": [
    "test_shapiro(dfa['purchase_rate'], 0.01, 'A purchase_rate')"
   ]
  },
  {
   "cell_type": "code",
   "execution_count": 110,
   "id": "87a1f427",
   "metadata": {},
   "outputs": [
    {
     "name": "stdout",
     "output_type": "stream",
     "text": [
      "Статистика=0.997, p=0.125\n",
      "Выборка A gmv выглядит гауссовой (не удается отклонить H0)\n"
     ]
    }
   ],
   "source": [
    "test_shapiro(dfa['gmv'], 0.01, 'A gmv')"
   ]
  },
  {
   "cell_type": "markdown",
   "id": "a4ec7710",
   "metadata": {},
   "source": [
    "**B**"
   ]
  },
  {
   "cell_type": "code",
   "execution_count": 55,
   "id": "861d40d7",
   "metadata": {},
   "outputs": [
    {
     "data": {
      "text/html": [
       "<div>\n",
       "<style scoped>\n",
       "    .dataframe tbody tr th:only-of-type {\n",
       "        vertical-align: middle;\n",
       "    }\n",
       "\n",
       "    .dataframe tbody tr th {\n",
       "        vertical-align: top;\n",
       "    }\n",
       "\n",
       "    .dataframe thead th {\n",
       "        text-align: right;\n",
       "    }\n",
       "</style>\n",
       "<table border=\"1\" class=\"dataframe\">\n",
       "  <thead>\n",
       "    <tr style=\"text-align: right;\">\n",
       "      <th></th>\n",
       "      <th>click</th>\n",
       "      <th>view</th>\n",
       "      <th>buy</th>\n",
       "      <th>gmv</th>\n",
       "      <th>ctr</th>\n",
       "      <th>purchase_rate</th>\n",
       "    </tr>\n",
       "    <tr>\n",
       "      <th>user_id</th>\n",
       "      <th></th>\n",
       "      <th></th>\n",
       "      <th></th>\n",
       "      <th></th>\n",
       "      <th></th>\n",
       "      <th></th>\n",
       "    </tr>\n",
       "  </thead>\n",
       "  <tbody>\n",
       "    <tr>\n",
       "      <th>100038</th>\n",
       "      <td>176.0</td>\n",
       "      <td>1000.0</td>\n",
       "      <td>104.0</td>\n",
       "      <td>106996.0</td>\n",
       "      <td>0.176</td>\n",
       "      <td>0.104</td>\n",
       "    </tr>\n",
       "    <tr>\n",
       "      <th>100099</th>\n",
       "      <td>169.0</td>\n",
       "      <td>1000.0</td>\n",
       "      <td>123.0</td>\n",
       "      <td>133374.0</td>\n",
       "      <td>0.169</td>\n",
       "      <td>0.123</td>\n",
       "    </tr>\n",
       "    <tr>\n",
       "      <th>100164</th>\n",
       "      <td>153.0</td>\n",
       "      <td>1000.0</td>\n",
       "      <td>101.0</td>\n",
       "      <td>103207.0</td>\n",
       "      <td>0.153</td>\n",
       "      <td>0.101</td>\n",
       "    </tr>\n",
       "    <tr>\n",
       "      <th>100321</th>\n",
       "      <td>187.0</td>\n",
       "      <td>1000.0</td>\n",
       "      <td>99.0</td>\n",
       "      <td>103841.0</td>\n",
       "      <td>0.187</td>\n",
       "      <td>0.099</td>\n",
       "    </tr>\n",
       "    <tr>\n",
       "      <th>100397</th>\n",
       "      <td>159.0</td>\n",
       "      <td>1000.0</td>\n",
       "      <td>86.0</td>\n",
       "      <td>95020.0</td>\n",
       "      <td>0.159</td>\n",
       "      <td>0.086</td>\n",
       "    </tr>\n",
       "    <tr>\n",
       "      <th>100696</th>\n",
       "      <td>150.0</td>\n",
       "      <td>1000.0</td>\n",
       "      <td>93.0</td>\n",
       "      <td>107065.0</td>\n",
       "      <td>0.150</td>\n",
       "      <td>0.093</td>\n",
       "    </tr>\n",
       "    <tr>\n",
       "      <th>100949</th>\n",
       "      <td>177.0</td>\n",
       "      <td>1000.0</td>\n",
       "      <td>94.0</td>\n",
       "      <td>100167.0</td>\n",
       "      <td>0.177</td>\n",
       "      <td>0.094</td>\n",
       "    </tr>\n",
       "    <tr>\n",
       "      <th>101079</th>\n",
       "      <td>170.0</td>\n",
       "      <td>1000.0</td>\n",
       "      <td>125.0</td>\n",
       "      <td>135714.0</td>\n",
       "      <td>0.170</td>\n",
       "      <td>0.125</td>\n",
       "    </tr>\n",
       "    <tr>\n",
       "      <th>101121</th>\n",
       "      <td>174.0</td>\n",
       "      <td>1000.0</td>\n",
       "      <td>84.0</td>\n",
       "      <td>91532.0</td>\n",
       "      <td>0.174</td>\n",
       "      <td>0.084</td>\n",
       "    </tr>\n",
       "    <tr>\n",
       "      <th>101292</th>\n",
       "      <td>158.0</td>\n",
       "      <td>1000.0</td>\n",
       "      <td>83.0</td>\n",
       "      <td>89741.0</td>\n",
       "      <td>0.158</td>\n",
       "      <td>0.083</td>\n",
       "    </tr>\n",
       "  </tbody>\n",
       "</table>\n",
       "</div>"
      ],
      "text/plain": [
       "         click    view    buy       gmv    ctr  purchase_rate\n",
       "user_id                                                      \n",
       "100038   176.0  1000.0  104.0  106996.0  0.176          0.104\n",
       "100099   169.0  1000.0  123.0  133374.0  0.169          0.123\n",
       "100164   153.0  1000.0  101.0  103207.0  0.153          0.101\n",
       "100321   187.0  1000.0   99.0  103841.0  0.187          0.099\n",
       "100397   159.0  1000.0   86.0   95020.0  0.159          0.086\n",
       "100696   150.0  1000.0   93.0  107065.0  0.150          0.093\n",
       "100949   177.0  1000.0   94.0  100167.0  0.177          0.094\n",
       "101079   170.0  1000.0  125.0  135714.0  0.170          0.125\n",
       "101121   174.0  1000.0   84.0   91532.0  0.174          0.084\n",
       "101292   158.0  1000.0   83.0   89741.0  0.158          0.083"
      ]
     },
     "execution_count": 55,
     "metadata": {},
     "output_type": "execute_result"
    }
   ],
   "source": [
    "dfb = create_metrics(df_b)\n",
    "dfb.head(10)"
   ]
  },
  {
   "cell_type": "code",
   "execution_count": 56,
   "id": "9a9547ac",
   "metadata": {},
   "outputs": [
    {
     "data": {
      "text/html": [
       "<div>\n",
       "<style scoped>\n",
       "    .dataframe tbody tr th:only-of-type {\n",
       "        vertical-align: middle;\n",
       "    }\n",
       "\n",
       "    .dataframe tbody tr th {\n",
       "        vertical-align: top;\n",
       "    }\n",
       "\n",
       "    .dataframe thead th {\n",
       "        text-align: right;\n",
       "    }\n",
       "</style>\n",
       "<table border=\"1\" class=\"dataframe\">\n",
       "  <thead>\n",
       "    <tr style=\"text-align: right;\">\n",
       "      <th></th>\n",
       "      <th>click</th>\n",
       "      <th>view</th>\n",
       "      <th>buy</th>\n",
       "      <th>gmv</th>\n",
       "      <th>ctr</th>\n",
       "      <th>purchase_rate</th>\n",
       "    </tr>\n",
       "  </thead>\n",
       "  <tbody>\n",
       "    <tr>\n",
       "      <th>count</th>\n",
       "      <td>996.000000</td>\n",
       "      <td>996.000000</td>\n",
       "      <td>996.000000</td>\n",
       "      <td>996.000000</td>\n",
       "      <td>996.000000</td>\n",
       "      <td>996.000000</td>\n",
       "    </tr>\n",
       "    <tr>\n",
       "      <th>mean</th>\n",
       "      <td>159.933735</td>\n",
       "      <td>999.960843</td>\n",
       "      <td>99.871486</td>\n",
       "      <td>106473.271084</td>\n",
       "      <td>0.159940</td>\n",
       "      <td>0.099875</td>\n",
       "    </tr>\n",
       "    <tr>\n",
       "      <th>std</th>\n",
       "      <td>12.484428</td>\n",
       "      <td>0.199176</td>\n",
       "      <td>9.996158</td>\n",
       "      <td>11838.455338</td>\n",
       "      <td>0.012485</td>\n",
       "      <td>0.009996</td>\n",
       "    </tr>\n",
       "    <tr>\n",
       "      <th>min</th>\n",
       "      <td>115.000000</td>\n",
       "      <td>998.000000</td>\n",
       "      <td>68.000000</td>\n",
       "      <td>71245.000000</td>\n",
       "      <td>0.115000</td>\n",
       "      <td>0.068000</td>\n",
       "    </tr>\n",
       "    <tr>\n",
       "      <th>25%</th>\n",
       "      <td>151.000000</td>\n",
       "      <td>1000.000000</td>\n",
       "      <td>93.000000</td>\n",
       "      <td>98393.750000</td>\n",
       "      <td>0.151151</td>\n",
       "      <td>0.093000</td>\n",
       "    </tr>\n",
       "    <tr>\n",
       "      <th>50%</th>\n",
       "      <td>160.000000</td>\n",
       "      <td>1000.000000</td>\n",
       "      <td>100.000000</td>\n",
       "      <td>106192.000000</td>\n",
       "      <td>0.160000</td>\n",
       "      <td>0.100000</td>\n",
       "    </tr>\n",
       "    <tr>\n",
       "      <th>75%</th>\n",
       "      <td>168.000000</td>\n",
       "      <td>1000.000000</td>\n",
       "      <td>107.000000</td>\n",
       "      <td>114606.500000</td>\n",
       "      <td>0.168000</td>\n",
       "      <td>0.107000</td>\n",
       "    </tr>\n",
       "    <tr>\n",
       "      <th>max</th>\n",
       "      <td>198.000000</td>\n",
       "      <td>1000.000000</td>\n",
       "      <td>130.000000</td>\n",
       "      <td>144133.000000</td>\n",
       "      <td>0.198000</td>\n",
       "      <td>0.130000</td>\n",
       "    </tr>\n",
       "  </tbody>\n",
       "</table>\n",
       "</div>"
      ],
      "text/plain": [
       "            click         view         buy            gmv         ctr  \\\n",
       "count  996.000000   996.000000  996.000000     996.000000  996.000000   \n",
       "mean   159.933735   999.960843   99.871486  106473.271084    0.159940   \n",
       "std     12.484428     0.199176    9.996158   11838.455338    0.012485   \n",
       "min    115.000000   998.000000   68.000000   71245.000000    0.115000   \n",
       "25%    151.000000  1000.000000   93.000000   98393.750000    0.151151   \n",
       "50%    160.000000  1000.000000  100.000000  106192.000000    0.160000   \n",
       "75%    168.000000  1000.000000  107.000000  114606.500000    0.168000   \n",
       "max    198.000000  1000.000000  130.000000  144133.000000    0.198000   \n",
       "\n",
       "       purchase_rate  \n",
       "count     996.000000  \n",
       "mean        0.099875  \n",
       "std         0.009996  \n",
       "min         0.068000  \n",
       "25%         0.093000  \n",
       "50%         0.100000  \n",
       "75%         0.107000  \n",
       "max         0.130000  "
      ]
     },
     "execution_count": 56,
     "metadata": {},
     "output_type": "execute_result"
    }
   ],
   "source": [
    "dfb.describe()"
   ]
  },
  {
   "cell_type": "code",
   "execution_count": 57,
   "id": "ee050254",
   "metadata": {},
   "outputs": [
    {
     "data": {
      "image/png": "[encoded data removed]",
      "text/plain": [
       "<Figure size 432x288 with 4 Axes>"
      ]
     },
     "metadata": {
      "needs_background": "light"
     },
     "output_type": "display_data"
    }
   ],
   "source": [
    "dfb[['ctr','purchase_rate','gmv']].hist(bins=50);"
   ]
  },
  {
   "cell_type": "code",
   "execution_count": 58,
   "id": "157ed0f0",
   "metadata": {},
   "outputs": [
    {
     "name": "stdout",
     "output_type": "stream",
     "text": [
      "Статистика=0.999, p=0.710\n",
      "Выборка B ctr выглядит гауссовой (не удается отклонить H0)\n"
     ]
    }
   ],
   "source": [
    "test_shapiro(dfb['ctr'], 0.01, 'B ctr')"
   ]
  },
  {
   "cell_type": "code",
   "execution_count": 59,
   "id": "0f093adb",
   "metadata": {},
   "outputs": [
    {
     "name": "stdout",
     "output_type": "stream",
     "text": [
      "Статистика=0.998, p=0.277\n",
      "Выборка B purchase_rate выглядит гауссовой (не удается отклонить H0)\n"
     ]
    }
   ],
   "source": [
    "test_shapiro(dfb['purchase_rate'], 0.01, 'B purchase_rate')"
   ]
  },
  {
   "cell_type": "code",
   "execution_count": 60,
   "id": "e17ea247",
   "metadata": {},
   "outputs": [
    {
     "name": "stdout",
     "output_type": "stream",
     "text": [
      "Статистика=0.999, p=0.846\n",
      "Выборка B gmv выглядит гауссовой (не удается отклонить H0)\n"
     ]
    }
   ],
   "source": [
    "test_shapiro(dfb['gmv'], 0.01, 'B gmv')"
   ]
  },
  {
   "cell_type": "markdown",
   "id": "822508ab",
   "metadata": {},
   "source": [
    "**C**"
   ]
  },
  {
   "cell_type": "code",
   "execution_count": 61,
   "id": "00dc3eb0",
   "metadata": {},
   "outputs": [
    {
     "data": {
      "text/html": [
       "<div>\n",
       "<style scoped>\n",
       "    .dataframe tbody tr th:only-of-type {\n",
       "        vertical-align: middle;\n",
       "    }\n",
       "\n",
       "    .dataframe tbody tr th {\n",
       "        vertical-align: top;\n",
       "    }\n",
       "\n",
       "    .dataframe thead th {\n",
       "        text-align: right;\n",
       "    }\n",
       "</style>\n",
       "<table border=\"1\" class=\"dataframe\">\n",
       "  <thead>\n",
       "    <tr style=\"text-align: right;\">\n",
       "      <th></th>\n",
       "      <th>click</th>\n",
       "      <th>view</th>\n",
       "      <th>buy</th>\n",
       "      <th>gmv</th>\n",
       "      <th>ctr</th>\n",
       "      <th>purchase_rate</th>\n",
       "    </tr>\n",
       "    <tr>\n",
       "      <th>user_id</th>\n",
       "      <th></th>\n",
       "      <th></th>\n",
       "      <th></th>\n",
       "      <th></th>\n",
       "      <th></th>\n",
       "      <th></th>\n",
       "    </tr>\n",
       "  </thead>\n",
       "  <tbody>\n",
       "    <tr>\n",
       "      <th>200225</th>\n",
       "      <td>206.0</td>\n",
       "      <td>1000.0</td>\n",
       "      <td>50.0</td>\n",
       "      <td>51077.0</td>\n",
       "      <td>0.206000</td>\n",
       "      <td>0.050000</td>\n",
       "    </tr>\n",
       "    <tr>\n",
       "      <th>200278</th>\n",
       "      <td>213.0</td>\n",
       "      <td>1000.0</td>\n",
       "      <td>60.0</td>\n",
       "      <td>58453.0</td>\n",
       "      <td>0.213000</td>\n",
       "      <td>0.060000</td>\n",
       "    </tr>\n",
       "    <tr>\n",
       "      <th>200282</th>\n",
       "      <td>218.0</td>\n",
       "      <td>1000.0</td>\n",
       "      <td>73.0</td>\n",
       "      <td>86997.0</td>\n",
       "      <td>0.218000</td>\n",
       "      <td>0.073000</td>\n",
       "    </tr>\n",
       "    <tr>\n",
       "      <th>200325</th>\n",
       "      <td>194.0</td>\n",
       "      <td>1000.0</td>\n",
       "      <td>47.0</td>\n",
       "      <td>51910.0</td>\n",
       "      <td>0.194000</td>\n",
       "      <td>0.047000</td>\n",
       "    </tr>\n",
       "    <tr>\n",
       "      <th>200441</th>\n",
       "      <td>212.0</td>\n",
       "      <td>999.0</td>\n",
       "      <td>51.0</td>\n",
       "      <td>53939.0</td>\n",
       "      <td>0.212212</td>\n",
       "      <td>0.051051</td>\n",
       "    </tr>\n",
       "    <tr>\n",
       "      <th>200476</th>\n",
       "      <td>193.0</td>\n",
       "      <td>1000.0</td>\n",
       "      <td>63.0</td>\n",
       "      <td>56285.0</td>\n",
       "      <td>0.193000</td>\n",
       "      <td>0.063000</td>\n",
       "    </tr>\n",
       "    <tr>\n",
       "      <th>200581</th>\n",
       "      <td>213.0</td>\n",
       "      <td>1000.0</td>\n",
       "      <td>59.0</td>\n",
       "      <td>59732.0</td>\n",
       "      <td>0.213000</td>\n",
       "      <td>0.059000</td>\n",
       "    </tr>\n",
       "    <tr>\n",
       "      <th>200582</th>\n",
       "      <td>204.0</td>\n",
       "      <td>1000.0</td>\n",
       "      <td>63.0</td>\n",
       "      <td>64593.0</td>\n",
       "      <td>0.204000</td>\n",
       "      <td>0.063000</td>\n",
       "    </tr>\n",
       "    <tr>\n",
       "      <th>200672</th>\n",
       "      <td>205.0</td>\n",
       "      <td>1000.0</td>\n",
       "      <td>54.0</td>\n",
       "      <td>60105.0</td>\n",
       "      <td>0.205000</td>\n",
       "      <td>0.054000</td>\n",
       "    </tr>\n",
       "    <tr>\n",
       "      <th>200692</th>\n",
       "      <td>194.0</td>\n",
       "      <td>999.0</td>\n",
       "      <td>54.0</td>\n",
       "      <td>55073.0</td>\n",
       "      <td>0.194194</td>\n",
       "      <td>0.054054</td>\n",
       "    </tr>\n",
       "  </tbody>\n",
       "</table>\n",
       "</div>"
      ],
      "text/plain": [
       "         click    view   buy      gmv       ctr  purchase_rate\n",
       "user_id                                                       \n",
       "200225   206.0  1000.0  50.0  51077.0  0.206000       0.050000\n",
       "200278   213.0  1000.0  60.0  58453.0  0.213000       0.060000\n",
       "200282   218.0  1000.0  73.0  86997.0  0.218000       0.073000\n",
       "200325   194.0  1000.0  47.0  51910.0  0.194000       0.047000\n",
       "200441   212.0   999.0  51.0  53939.0  0.212212       0.051051\n",
       "200476   193.0  1000.0  63.0  56285.0  0.193000       0.063000\n",
       "200581   213.0  1000.0  59.0  59732.0  0.213000       0.059000\n",
       "200582   204.0  1000.0  63.0  64593.0  0.204000       0.063000\n",
       "200672   205.0  1000.0  54.0  60105.0  0.205000       0.054000\n",
       "200692   194.0   999.0  54.0  55073.0  0.194194       0.054054"
      ]
     },
     "execution_count": 61,
     "metadata": {},
     "output_type": "execute_result"
    }
   ],
   "source": [
    "dfc = create_metrics(df_c)\n",
    "dfc.head(10)"
   ]
  },
  {
   "cell_type": "code",
   "execution_count": 62,
   "id": "e7653f61",
   "metadata": {},
   "outputs": [
    {
     "data": {
      "text/html": [
       "<div>\n",
       "<style scoped>\n",
       "    .dataframe tbody tr th:only-of-type {\n",
       "        vertical-align: middle;\n",
       "    }\n",
       "\n",
       "    .dataframe tbody tr th {\n",
       "        vertical-align: top;\n",
       "    }\n",
       "\n",
       "    .dataframe thead th {\n",
       "        text-align: right;\n",
       "    }\n",
       "</style>\n",
       "<table border=\"1\" class=\"dataframe\">\n",
       "  <thead>\n",
       "    <tr style=\"text-align: right;\">\n",
       "      <th></th>\n",
       "      <th>click</th>\n",
       "      <th>view</th>\n",
       "      <th>buy</th>\n",
       "      <th>gmv</th>\n",
       "      <th>ctr</th>\n",
       "      <th>purchase_rate</th>\n",
       "    </tr>\n",
       "  </thead>\n",
       "  <tbody>\n",
       "    <tr>\n",
       "      <th>count</th>\n",
       "      <td>994.00000</td>\n",
       "      <td>994.000000</td>\n",
       "      <td>994.000000</td>\n",
       "      <td>994.000000</td>\n",
       "      <td>994.000000</td>\n",
       "      <td>994.000000</td>\n",
       "    </tr>\n",
       "    <tr>\n",
       "      <th>mean</th>\n",
       "      <td>209.94165</td>\n",
       "      <td>999.950704</td>\n",
       "      <td>60.049296</td>\n",
       "      <td>63998.903421</td>\n",
       "      <td>0.209952</td>\n",
       "      <td>0.060052</td>\n",
       "    </tr>\n",
       "    <tr>\n",
       "      <th>std</th>\n",
       "      <td>12.65216</td>\n",
       "      <td>0.242894</td>\n",
       "      <td>7.991976</td>\n",
       "      <td>9562.844625</td>\n",
       "      <td>0.012651</td>\n",
       "      <td>0.007992</td>\n",
       "    </tr>\n",
       "    <tr>\n",
       "      <th>min</th>\n",
       "      <td>174.00000</td>\n",
       "      <td>997.000000</td>\n",
       "      <td>35.000000</td>\n",
       "      <td>36694.000000</td>\n",
       "      <td>0.174000</td>\n",
       "      <td>0.035000</td>\n",
       "    </tr>\n",
       "    <tr>\n",
       "      <th>25%</th>\n",
       "      <td>201.00000</td>\n",
       "      <td>1000.000000</td>\n",
       "      <td>55.000000</td>\n",
       "      <td>57542.250000</td>\n",
       "      <td>0.201000</td>\n",
       "      <td>0.055000</td>\n",
       "    </tr>\n",
       "    <tr>\n",
       "      <th>50%</th>\n",
       "      <td>211.00000</td>\n",
       "      <td>1000.000000</td>\n",
       "      <td>60.000000</td>\n",
       "      <td>63816.000000</td>\n",
       "      <td>0.211000</td>\n",
       "      <td>0.060000</td>\n",
       "    </tr>\n",
       "    <tr>\n",
       "      <th>75%</th>\n",
       "      <td>218.00000</td>\n",
       "      <td>1000.000000</td>\n",
       "      <td>65.000000</td>\n",
       "      <td>69937.500000</td>\n",
       "      <td>0.218000</td>\n",
       "      <td>0.065000</td>\n",
       "    </tr>\n",
       "    <tr>\n",
       "      <th>max</th>\n",
       "      <td>250.00000</td>\n",
       "      <td>1000.000000</td>\n",
       "      <td>92.000000</td>\n",
       "      <td>107534.000000</td>\n",
       "      <td>0.250000</td>\n",
       "      <td>0.092000</td>\n",
       "    </tr>\n",
       "  </tbody>\n",
       "</table>\n",
       "</div>"
      ],
      "text/plain": [
       "           click         view         buy            gmv         ctr  \\\n",
       "count  994.00000   994.000000  994.000000     994.000000  994.000000   \n",
       "mean   209.94165   999.950704   60.049296   63998.903421    0.209952   \n",
       "std     12.65216     0.242894    7.991976    9562.844625    0.012651   \n",
       "min    174.00000   997.000000   35.000000   36694.000000    0.174000   \n",
       "25%    201.00000  1000.000000   55.000000   57542.250000    0.201000   \n",
       "50%    211.00000  1000.000000   60.000000   63816.000000    0.211000   \n",
       "75%    218.00000  1000.000000   65.000000   69937.500000    0.218000   \n",
       "max    250.00000  1000.000000   92.000000  107534.000000    0.250000   \n",
       "\n",
       "       purchase_rate  \n",
       "count     994.000000  \n",
       "mean        0.060052  \n",
       "std         0.007992  \n",
       "min         0.035000  \n",
       "25%         0.055000  \n",
       "50%         0.060000  \n",
       "75%         0.065000  \n",
       "max         0.092000  "
      ]
     },
     "execution_count": 62,
     "metadata": {},
     "output_type": "execute_result"
    }
   ],
   "source": [
    "dfc.describe()"
   ]
  },
  {
   "cell_type": "code",
   "execution_count": 63,
   "id": "d3767f1a",
   "metadata": {},
   "outputs": [
    {
     "data": {
      "image/png": "[encoded data removed]",
      "text/plain": [
       "<Figure size 432x288 with 4 Axes>"
      ]
     },
     "metadata": {
      "needs_background": "light"
     },
     "output_type": "display_data"
    }
   ],
   "source": [
    "dfc[['ctr','purchase_rate','gmv']].hist(bins=50);"
   ]
  },
  {
   "cell_type": "code",
   "execution_count": 64,
   "id": "f12c7371",
   "metadata": {},
   "outputs": [
    {
     "name": "stdout",
     "output_type": "stream",
     "text": [
      "Статистика=0.997, p=0.130\n",
      "Выборка C ctr выглядит гауссовой (не удается отклонить H0)\n"
     ]
    }
   ],
   "source": [
    "test_shapiro(dfc['ctr'], 0.01, 'C ctr')"
   ]
  },
  {
   "cell_type": "code",
   "execution_count": 65,
   "id": "52c0e5c0",
   "metadata": {},
   "outputs": [
    {
     "name": "stdout",
     "output_type": "stream",
     "text": [
      "Статистика=0.997, p=0.087\n",
      "Выборка C purchase_rate выглядит гауссовой (не удается отклонить H0)\n"
     ]
    }
   ],
   "source": [
    "test_shapiro(dfc['purchase_rate'], 0.01, 'C purchase_rate')"
   ]
  },
  {
   "cell_type": "code",
   "execution_count": 66,
   "id": "fd685e25",
   "metadata": {},
   "outputs": [
    {
     "name": "stdout",
     "output_type": "stream",
     "text": [
      "Статистика=0.996, p=0.020\n",
      "Выборка C gmv выглядит гауссовой (не удается отклонить H0)\n"
     ]
    }
   ],
   "source": [
    "test_shapiro(dfc['gmv'], 0.01, 'C gmv')"
   ]
  },
  {
   "cell_type": "markdown",
   "id": "5d624f0e",
   "metadata": {},
   "source": [
    "**Выводы:**\n",
    "\n",
    "Построенные метрики на всех трех датасетах, как показывают гистограммы распределений и тесты Шапиро Уилка имеют нормальные распределения с достоверностью 99%.\n",
    "Исключение составляет метрика **ctr** на датасете **А** : тест Шапиро - Уилка отклоняет нулевую гипотезу о нормальности распределения p=0.004 < 0.01"
   ]
  },
  {
   "cell_type": "markdown",
   "id": "f198fdc7",
   "metadata": {},
   "source": [
    "Посмотрим на функции плотности ядра полученных распределений для каждого датасета:"
   ]
  },
  {
   "cell_type": "code",
   "execution_count": 111,
   "id": "669241e1",
   "metadata": {},
   "outputs": [
    {
     "data": {
      "image/png": "[encoded data removed]",
      "text/plain": [
       "<Figure size 432x288 with 1 Axes>"
      ]
     },
     "metadata": {
      "needs_background": "light"
     },
     "output_type": "display_data"
    }
   ],
   "source": [
    "_kde('ctr')"
   ]
  },
  {
   "cell_type": "code",
   "execution_count": 112,
   "id": "5acde922",
   "metadata": {},
   "outputs": [
    {
     "data": {
      "image/png": "[encoded data removed]",
      "text/plain": [
       "<Figure size 432x288 with 1 Axes>"
      ]
     },
     "metadata": {
      "needs_background": "light"
     },
     "output_type": "display_data"
    }
   ],
   "source": [
    "_kde('purchase_rate')"
   ]
  },
  {
   "cell_type": "code",
   "execution_count": 113,
   "id": "1da747d1",
   "metadata": {},
   "outputs": [
    {
     "data": {
      "image/png": "[encoded data removed]",
      "text/plain": [
       "<Figure size 432x288 with 1 Axes>"
      ]
     },
     "metadata": {
      "needs_background": "light"
     },
     "output_type": "display_data"
    }
   ],
   "source": [
    "_kde('gmv')"
   ]
  },
  {
   "cell_type": "markdown",
   "id": "8c81f5ab",
   "metadata": {},
   "source": [
    "Визуально можно отметить сходное поведение метрик на наборах А и С, при этом на датасете С количество кликов, покупок и в целом оборот по покупкам несколько больше, чем на датасете А, хотя от датасетов А и С мы ожидали очень близкого поведения. Это должно навести на мысль об условиях проведения тестов. Поэтому значительные повышения метрик по покупкам и обороту на тесте В могут вызвать вопросы. Если датасеты А и С обладают почти одинаковой дисперсией, то датасет В имеет гораздо больший разброс значений."
   ]
  },
  {
   "cell_type": "code",
   "execution_count": 85,
   "id": "5a77e2d8",
   "metadata": {},
   "outputs": [
    {
     "data": {
      "text/plain": [
       "(199253.0, 208682.0)"
      ]
     },
     "execution_count": 85,
     "metadata": {},
     "output_type": "execute_result"
    }
   ],
   "source": [
    "df_a['click'].sum(),df_c['click'].sum()"
   ]
  },
  {
   "cell_type": "code",
   "execution_count": 89,
   "id": "bd20a745",
   "metadata": {},
   "outputs": [
    {
     "data": {
      "text/plain": [
       "(995950, 993951, 995950, 993951, 995950, 993951)"
      ]
     },
     "execution_count": 89,
     "metadata": {},
     "output_type": "execute_result"
    }
   ],
   "source": [
    "df_a['view'].sum(),df_c['view'].sum(),df_a['view'].count(),df_c['view'].count(),len(df_a['view']),len(df_c['view'])"
   ]
  },
  {
   "cell_type": "markdown",
   "id": "d10467cd",
   "metadata": {},
   "source": [
    "**Тест равенства долей для A и C групп**"
   ]
  },
  {
   "cell_type": "markdown",
   "id": "76b27854",
   "metadata": {},
   "source": [
    "Для тестирования равенства долей используем Z-тест. Нулевая гипотеза о равенстве долей в группах"
   ]
  },
  {
   "cell_type": "code",
   "execution_count": 150,
   "id": "f97ed64a",
   "metadata": {},
   "outputs": [],
   "source": [
    "def report_test(stat, p_value, significance):\n",
    "    \n",
    "    # report\n",
    "    print('z_stat: %0.3f, p_value: %0.10f' % (stat, p_value))\n",
    "\n",
    "    if p_value > significance:\n",
    "       print (\"Не удалось отвергнуть нулевую гипотезу\")\n",
    "    else:\n",
    "       print (\"Отклонить нулевую гипотезу - предположить, что группы различаются\")"
   ]
  },
  {
   "cell_type": "markdown",
   "id": "9e7d686f",
   "metadata": {},
   "source": [
    "Для отношения кликов к просмотрам"
   ]
  },
  {
   "cell_type": "code",
   "execution_count": 151,
   "id": "35ed9763",
   "metadata": {},
   "outputs": [
    {
     "name": "stdout",
     "output_type": "stream",
     "text": [
      "z_stat: -17.277, p_value: 0.0000000000\n",
      "Отклонить нулевую гипотезу - предположить, что группы различаются\n"
     ]
    }
   ],
   "source": [
    "# can we assume anything from our sample\n",
    "significance = 0.01\n",
    "\n",
    "# check our sample against Ho for Ha > Ho\n",
    "# for Ha < Ho use alternative='smaller'\n",
    "# for Ha != Ho use alternative='two-sided'\n",
    "stat, p_value = proportions_ztest(count=[df_a['click'].sum(), df_c['click'].sum()],\\\n",
    "                                  nobs=[df_a['view'].sum(), df_c['view'].sum()])\n",
    "#                                 value=null_hypothesis,alternative='larger')\n",
    "\n",
    "report_test(stat, p_value, significance)"
   ]
  },
  {
   "cell_type": "markdown",
   "id": "d5b846e9",
   "metadata": {},
   "source": [
    "Для отношения покупок к просмотрам"
   ]
  },
  {
   "cell_type": "code",
   "execution_count": 152,
   "id": "f128e391",
   "metadata": {},
   "outputs": [
    {
     "name": "stdout",
     "output_type": "stream",
     "text": [
      "z_stat: -31.254, p_value: 0.0000000000\n",
      "Отклонить нулевую гипотезу - предположить, что группы различаются\n"
     ]
    }
   ],
   "source": [
    "# can we assume anything from our sample\n",
    "significance = 0.01\n",
    "\n",
    "# check our sample against Ho for Ha > Ho\n",
    "# for Ha < Ho use alternative='smaller'\n",
    "# for Ha != Ho use alternative='two-sided'\n",
    "stat, p_value = proportions_ztest(count=[df_a['buy'].sum(), df_c['buy'].sum()],\\\n",
    "                                  nobs=[df_a['view'].sum(), df_c['view'].sum()])\n",
    "#                                 value=null_hypothesis,alternative='larger')\n",
    "\n",
    "report_test(stat, p_value, significance)"
   ]
  },
  {
   "cell_type": "markdown",
   "id": "c7bf9bd7",
   "metadata": {},
   "source": [
    "Посмотрим двухвыборочный тест по всем метрикам:"
   ]
  },
  {
   "cell_type": "code",
   "execution_count": 153,
   "id": "79a9282c",
   "metadata": {},
   "outputs": [
    {
     "name": "stdout",
     "output_type": "stream",
     "text": [
      "z_stat: -16.900, p_value: 0.0000000000\n",
      "Отклонить нулевую гипотезу - предположить, что группы различаются\n"
     ]
    }
   ],
   "source": [
    "stat, p_value = stats.ttest_ind(dfa['ctr'], dfc['ctr'])\n",
    "report_test(stat, p_value, significance)"
   ]
  },
  {
   "cell_type": "code",
   "execution_count": 154,
   "id": "5ef2fb25",
   "metadata": {},
   "outputs": [
    {
     "name": "stdout",
     "output_type": "stream",
     "text": [
      "z_stat: -29.573, p_value: 0.0000000000\n",
      "Отклонить нулевую гипотезу - предположить, что группы различаются\n"
     ]
    }
   ],
   "source": [
    "stat, p_value = stats.ttest_ind(dfa['purchase_rate'], dfc['purchase_rate'])\n",
    "report_test(stat, p_value, significance)"
   ]
  },
  {
   "cell_type": "code",
   "execution_count": 155,
   "id": "c1c21e8d",
   "metadata": {},
   "outputs": [
    {
     "name": "stdout",
     "output_type": "stream",
     "text": [
      "z_stat: -26.343, p_value: 0.0000000000\n",
      "Отклонить нулевую гипотезу - предположить, что группы различаются\n"
     ]
    }
   ],
   "source": [
    "stat, p_value = stats.ttest_ind(dfa['gmv'], dfc['gmv'])\n",
    "report_test(stat, p_value, significance)"
   ]
  },
  {
   "cell_type": "markdown",
   "id": "f705a1c9",
   "metadata": {},
   "source": [
    "**Гипотезы отвергаются во всех случаях: pvalue<0.01**"
   ]
  },
  {
   "cell_type": "markdown",
   "id": "fa9b1720",
   "metadata": {},
   "source": [
    "**Тест равенства долей для A и B групп**"
   ]
  },
  {
   "cell_type": "markdown",
   "id": "1b2b5a22",
   "metadata": {},
   "source": [
    "Для отношения кликов к просмотрам"
   ]
  },
  {
   "cell_type": "code",
   "execution_count": 156,
   "id": "fdbed9a3",
   "metadata": {},
   "outputs": [
    {
     "name": "stdout",
     "output_type": "stream",
     "text": [
      "z_stat: 73.698, p_value: 0.0000000000\n",
      "Отклонить нулевую гипотезу - предположить, что группы различаются\n"
     ]
    }
   ],
   "source": [
    "# can we assume anything from our sample\n",
    "significance = 0.01\n",
    "\n",
    "# check our sample against Ho for Ha > Ho\n",
    "# for Ha < Ho use alternative='smaller'\n",
    "# for Ha != Ho use alternative='two-sided'\n",
    "stat, p_value = proportions_ztest(count=[df_a['click'].sum(), df_b['click'].sum()],\\\n",
    "                                  nobs=[df_a['view'].sum(), df_b['view'].sum()])\n",
    "#                                 value=null_hypothesis,alternative='larger')\n",
    "\n",
    "report_test(stat, p_value, significance)"
   ]
  },
  {
   "cell_type": "markdown",
   "id": "15d2e92a",
   "metadata": {},
   "source": [
    "Для отношения покупок к просмотрам"
   ]
  },
  {
   "cell_type": "code",
   "execution_count": 157,
   "id": "84dfa641",
   "metadata": {},
   "outputs": [
    {
     "name": "stdout",
     "output_type": "stream",
     "text": [
      "z_stat: -133.830, p_value: 0.0000000000\n",
      "Отклонить нулевую гипотезу - предположить, что группы различаются\n"
     ]
    }
   ],
   "source": [
    "# can we assume anything from our sample\n",
    "significance = 0.01\n",
    "\n",
    "# check our sample against Ho for Ha > Ho\n",
    "# for Ha < Ho use alternative='smaller'\n",
    "# for Ha != Ho use alternative='two-sided'\n",
    "stat, p_value = proportions_ztest(count=[df_a['buy'].sum(), df_b['buy'].sum()],\\\n",
    "                                  nobs=[df_a['view'].sum(), df_b['view'].sum()])\n",
    "#                                 value=null_hypothesis,alternative='larger')\n",
    "\n",
    "report_test(stat, p_value, significance)"
   ]
  },
  {
   "cell_type": "markdown",
   "id": "31ef97ee",
   "metadata": {},
   "source": [
    "Посмотрим двухвыборочный тест по всем метрикам:"
   ]
  },
  {
   "cell_type": "code",
   "execution_count": 158,
   "id": "904dd1ef",
   "metadata": {},
   "outputs": [
    {
     "name": "stdout",
     "output_type": "stream",
     "text": [
      "z_stat: 69.035, p_value: 0.0000000000\n",
      "Отклонить нулевую гипотезу - предположить, что группы различаются\n"
     ]
    }
   ],
   "source": [
    "stat, p_value = stats.ttest_ind(dfa['ctr'], dfb['ctr'])\n",
    "report_test(stat, p_value, significance)"
   ]
  },
  {
   "cell_type": "code",
   "execution_count": 159,
   "id": "5ad8085a",
   "metadata": {},
   "outputs": [
    {
     "name": "stdout",
     "output_type": "stream",
     "text": [
      "z_stat: -127.732, p_value: 0.0000000000\n",
      "Отклонить нулевую гипотезу - предположить, что группы различаются\n"
     ]
    }
   ],
   "source": [
    "stat, p_value = stats.ttest_ind(dfa['purchase_rate'], dfb['purchase_rate'])\n",
    "report_test(stat, p_value, significance)"
   ]
  },
  {
   "cell_type": "code",
   "execution_count": 160,
   "id": "cab6fc00",
   "metadata": {},
   "outputs": [
    {
     "name": "stdout",
     "output_type": "stream",
     "text": [
      "z_stat: -114.863, p_value: 0.0000000000\n",
      "Отклонить нулевую гипотезу - предположить, что группы различаются\n"
     ]
    }
   ],
   "source": [
    "stat, p_value = stats.ttest_ind(dfa['gmv'], dfb['gmv'])\n",
    "report_test(stat, p_value, significance)"
   ]
  },
  {
   "cell_type": "markdown",
   "id": "26b95199",
   "metadata": {},
   "source": [
    "**Гипотезы отвергаются во всех случаях: pvalue<0.01**"
   ]
  },
  {
   "cell_type": "markdown",
   "id": "33ee5e2a",
   "metadata": {},
   "source": [
    "**Несмотря на впечатляющие результаты A/B теста положиться на него нельзя, при A/A - тестировании уже заметно существенное различие** "
   ]
  },
  {
   "cell_type": "code",
   "execution_count": null,
   "id": "28b17ed2",
   "metadata": {},
   "outputs": [],
   "source": []
  }
 ],
 "metadata": {
  "kernelspec": {
   "display_name": "Python 3 (ipykernel)",
   "language": "python",
   "name": "python3"
  },
  "language_info": {
   "codemirror_mode": {
    "name": "ipython",
    "version": 3
   },
   "file_extension": ".py",
   "mimetype": "text/x-python",
   "name": "python",
   "nbconvert_exporter": "python",
   "pygments_lexer": "ipython3",
   "version": "3.7.13"
  }
 },
 "nbformat": 4,
 "nbformat_minor": 5
}
