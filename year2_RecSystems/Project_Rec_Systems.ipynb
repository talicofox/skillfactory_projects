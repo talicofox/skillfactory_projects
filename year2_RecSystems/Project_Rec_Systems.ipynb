{
 "cells": [
  {
   "cell_type": "markdown",
   "id": "5ae1058f",
   "metadata": {},
   "source": [
    "# Проект модуля «Рекомендательные системы»"
   ]
  },
  {
   "cell_type": "markdown",
   "id": "6f3678b4",
   "metadata": {},
   "source": [
    "### Постановка задачи:\n",
    "\n",
    "разработать рекомендательную систему для аптек. Представьте, что вы приходите на кассу, а у кассира во время формирования чека всплывает подсказка, что можно вам ещё порекомендовать."
   ]
  },
  {
   "cell_type": "markdown",
   "id": "b4209908",
   "metadata": {},
   "source": [
    "### Библиотеки"
   ]
  },
  {
   "cell_type": "code",
   "execution_count": 104,
   "id": "ea1b938f",
   "metadata": {},
   "outputs": [],
   "source": [
    "#! pip install implicit\n",
    "#! pip install lightfm\n",
    "#! pip install annoy\n",
    "#! pip install pymorphy2\n",
    "#! pip install stop_words"
   ]
  },
  {
   "cell_type": "code",
   "execution_count": 1,
   "id": "997172fd",
   "metadata": {},
   "outputs": [],
   "source": [
    "import string\n",
    "# Библиотека построения индекса приближенного поиска ближайших соседей\n",
    "import annoy\n",
    "import numpy as np\n",
    "import pandas as pd\n",
    "import os\n",
    "\n",
    "from pymorphy2 import MorphAnalyzer\n",
    "from stop_words import get_stop_words\n",
    "from gensim.models import FastText\n",
    "from tqdm import tqdm_notebook\n",
    "from sklearn.model_selection import train_test_split"
   ]
  },
  {
   "cell_type": "markdown",
   "id": "4f75e9b8",
   "metadata": {},
   "source": [
    "### Функции"
   ]
  },
  {
   "cell_type": "code",
   "execution_count": 2,
   "id": "9c6e1d62",
   "metadata": {},
   "outputs": [],
   "source": [
    "# Для фильтрации пунктуации\n",
    "exclude = set(string.punctuation)\n",
    "# Для приведения слов в начальной форме\n",
    "morpher = MorphAnalyzer()\n",
    "\n",
    "# Для фильтрации стоп-слов\n",
    "sw = get_stop_words(\"ru\")\n",
    "\n",
    "def preprocess_txt(line):\n",
    "    spls = \"\".join(i for i in line.strip() if i not in exclude).split()\n",
    "    spls = [morpher.parse(i.lower())[0].normal_form for i in spls]\n",
    "    spls = [i for i in spls if i not in sw and i != \"\"]\n",
    "    return spls[1:]\n"
   ]
  },
  {
   "cell_type": "markdown",
   "id": "a6bc111d",
   "metadata": {},
   "source": [
    "### Предобработка данных"
   ]
  },
  {
   "cell_type": "code",
   "execution_count": 3,
   "id": "3b2d9a03",
   "metadata": {},
   "outputs": [],
   "source": [
    "path = r'F:\\SkillFactory\\Y2_U18'"
   ]
  },
  {
   "cell_type": "code",
   "execution_count": 4,
   "id": "3cf89473",
   "metadata": {},
   "outputs": [
    {
     "name": "stderr",
     "output_type": "stream",
     "text": [
      "C:\\Users\\Nata\\Anaconda3\\envs\\meteo\\lib\\site-packages\\IPython\\core\\interactiveshell.py:3186: DtypeWarning: Columns (1) have mixed types.Specify dtype option on import or set low_memory=False.\n",
      "  interactivity=interactivity, compiler=compiler, result=result)\n"
     ]
    }
   ],
   "source": [
    "check_data = pd.read_csv(os.path.join(path,\"чековые данные.csv\"), sep=\",\", header=0)"
   ]
  },
  {
   "cell_type": "code",
   "execution_count": 6,
   "id": "16f5e61f",
   "metadata": {},
   "outputs": [
    {
     "name": "stdout",
     "output_type": "stream",
     "text": [
      "<class 'pandas.core.frame.DataFrame'>\n",
      "RangeIndex: 20000003 entries, 0 to 20000002\n",
      "Data columns (total 9 columns):\n",
      " #   Column                   Dtype  \n",
      "---  ------                   -----  \n",
      " 0   sale_date_date           object \n",
      " 1   contact_id               object \n",
      " 2   shop_id                  float64\n",
      " 3   product_id               float64\n",
      " 4   name                     object \n",
      " 5   product_sub_category_id  float64\n",
      " 6   product_category_id      float64\n",
      " 7   brand_id                 float64\n",
      " 8   quantity                 object \n",
      "dtypes: float64(5), object(4)\n",
      "memory usage: 1.3+ GB\n"
     ]
    }
   ],
   "source": [
    "check_data.info()"
   ]
  },
  {
   "cell_type": "markdown",
   "id": "b96a8af4",
   "metadata": {},
   "source": [
    "*Поскольку датасет достаточно большой сразу убираем пропуски и дубликаты:*"
   ]
  },
  {
   "cell_type": "code",
   "execution_count": 25,
   "id": "5c5c7b6a",
   "metadata": {},
   "outputs": [],
   "source": [
    "check_data = check_data.dropna()\n",
    "check_data.drop_duplicates(inplace=True)"
   ]
  },
  {
   "cell_type": "code",
   "execution_count": 26,
   "id": "6df99a59",
   "metadata": {},
   "outputs": [
    {
     "data": {
      "text/html": [
       "<div>\n",
       "<style scoped>\n",
       "    .dataframe tbody tr th:only-of-type {\n",
       "        vertical-align: middle;\n",
       "    }\n",
       "\n",
       "    .dataframe tbody tr th {\n",
       "        vertical-align: top;\n",
       "    }\n",
       "\n",
       "    .dataframe thead th {\n",
       "        text-align: right;\n",
       "    }\n",
       "</style>\n",
       "<table border=\"1\" class=\"dataframe\">\n",
       "  <thead>\n",
       "    <tr style=\"text-align: right;\">\n",
       "      <th></th>\n",
       "      <th>sale_date_date</th>\n",
       "      <th>contact_id</th>\n",
       "      <th>shop_id</th>\n",
       "      <th>product_id</th>\n",
       "      <th>name</th>\n",
       "      <th>product_sub_category_id</th>\n",
       "      <th>product_category_id</th>\n",
       "      <th>brand_id</th>\n",
       "      <th>quantity</th>\n",
       "    </tr>\n",
       "  </thead>\n",
       "  <tbody>\n",
       "    <tr>\n",
       "      <th>0</th>\n",
       "      <td>2018-12-07</td>\n",
       "      <td>1260627</td>\n",
       "      <td>1455.0</td>\n",
       "      <td>168308.0</td>\n",
       "      <td>(197312) Пакет-майка 25см х 45см</td>\n",
       "      <td>906.0</td>\n",
       "      <td>205.0</td>\n",
       "      <td>-1.0</td>\n",
       "      <td>1,00</td>\n",
       "    </tr>\n",
       "    <tr>\n",
       "      <th>1</th>\n",
       "      <td>2018-12-07</td>\n",
       "      <td>198287</td>\n",
       "      <td>279.0</td>\n",
       "      <td>134832.0</td>\n",
       "      <td>(62448) Перекись водорода р-р наружн. 3% фл.по...</td>\n",
       "      <td>404.0</td>\n",
       "      <td>93.0</td>\n",
       "      <td>-1.0</td>\n",
       "      <td>1,00</td>\n",
       "    </tr>\n",
       "    <tr>\n",
       "      <th>2</th>\n",
       "      <td>2018-12-07</td>\n",
       "      <td>2418385</td>\n",
       "      <td>848.0</td>\n",
       "      <td>101384.0</td>\n",
       "      <td>(72183) Салициловая кислота р-р спирт 2% фл 40...</td>\n",
       "      <td>404.0</td>\n",
       "      <td>93.0</td>\n",
       "      <td>-1.0</td>\n",
       "      <td>1,00</td>\n",
       "    </tr>\n",
       "  </tbody>\n",
       "</table>\n",
       "</div>"
      ],
      "text/plain": [
       "  sale_date_date contact_id  shop_id  product_id  \\\n",
       "0     2018-12-07    1260627   1455.0    168308.0   \n",
       "1     2018-12-07     198287    279.0    134832.0   \n",
       "2     2018-12-07    2418385    848.0    101384.0   \n",
       "\n",
       "                                                name  product_sub_category_id  \\\n",
       "0                   (197312) Пакет-майка 25см х 45см                    906.0   \n",
       "1  (62448) Перекись водорода р-р наружн. 3% фл.по...                    404.0   \n",
       "2  (72183) Салициловая кислота р-р спирт 2% фл 40...                    404.0   \n",
       "\n",
       "   product_category_id  brand_id quantity  \n",
       "0                205.0      -1.0     1,00  \n",
       "1                 93.0      -1.0     1,00  \n",
       "2                 93.0      -1.0     1,00  "
      ]
     },
     "execution_count": 26,
     "metadata": {},
     "output_type": "execute_result"
    }
   ],
   "source": [
    "check_data.head(3)"
   ]
  },
  {
   "cell_type": "markdown",
   "id": "0e66655d",
   "metadata": {},
   "source": [
    "*Для анализа по временных характеристикам введем дополнительные свойства, производные от времени:*"
   ]
  },
  {
   "cell_type": "code",
   "execution_count": 27,
   "id": "081b4c75",
   "metadata": {},
   "outputs": [],
   "source": [
    "check_data['sale_date_date'] = pd.to_datetime(check_data['sale_date_date'])\n",
    "check_data['year'] = check_data.sale_date_date.dt.year.astype('int16')\n",
    "check_data['month'] = check_data.sale_date_date.dt.month.astype('int8')\n",
    "check_data['doy'] = check_data.sale_date_date.dt.day_of_year.astype('int16')\n",
    "check_data['dow'] = check_data.sale_date_date.dt.day_of_week.astype('int8')\n",
    "#check_data.drop(columns=['sale_date_date'], inplace=True)"
   ]
  },
  {
   "cell_type": "markdown",
   "id": "545366eb",
   "metadata": {},
   "source": [
    "*Для экономии ресурсов при расчетах сразу сделаем преобразование типов данных:*"
   ]
  },
  {
   "cell_type": "code",
   "execution_count": 28,
   "id": "543b400a",
   "metadata": {},
   "outputs": [],
   "source": [
    "check_data['contact_id'] = check_data['contact_id'].astype('int32')\n",
    "check_data['brand_id'] = check_data['brand_id'].astype('int32')\n",
    "check_data['shop_id'] = check_data['shop_id'].astype('int32')\n",
    "check_data['product_id'] = check_data['product_id'].astype('int32')\n",
    "check_data['product_category_id'] = check_data['product_category_id'].astype('int32')\n",
    "check_data['product_sub_category_id'] = check_data['product_sub_category_id'].astype('int32')\n",
    "check_data['quantity'] = check_data['quantity'].apply(lambda x: x.replace(',','.')).astype('float64')"
   ]
  },
  {
   "cell_type": "code",
   "execution_count": 31,
   "id": "a238318f",
   "metadata": {},
   "outputs": [],
   "source": [
    "check_data.drop(columns=['sale_date_date'], inplace=True)"
   ]
  },
  {
   "cell_type": "code",
   "execution_count": 32,
   "id": "ce9ec417",
   "metadata": {},
   "outputs": [
    {
     "name": "stdout",
     "output_type": "stream",
     "text": [
      "<class 'pandas.core.frame.DataFrame'>\n",
      "Int64Index: 19703850 entries, 0 to 19999999\n",
      "Data columns (total 12 columns):\n",
      " #   Column                   Dtype  \n",
      "---  ------                   -----  \n",
      " 0   contact_id               int32  \n",
      " 1   shop_id                  int32  \n",
      " 2   product_id               int32  \n",
      " 3   name                     object \n",
      " 4   product_sub_category_id  int32  \n",
      " 5   product_category_id      int32  \n",
      " 6   brand_id                 int32  \n",
      " 7   quantity                 float64\n",
      " 8   year                     int16  \n",
      " 9   month                    int8   \n",
      " 10  doy                      int16  \n",
      " 11  dow                      int8   \n",
      "dtypes: float64(1), int16(2), int32(6), int8(2), object(1)\n",
      "memory usage: 1014.7+ MB\n"
     ]
    }
   ],
   "source": [
    "check_data.info()"
   ]
  },
  {
   "cell_type": "code",
   "execution_count": 35,
   "id": "38d54abe",
   "metadata": {},
   "outputs": [
    {
     "data": {
      "text/html": [
       "<div>\n",
       "<style scoped>\n",
       "    .dataframe tbody tr th:only-of-type {\n",
       "        vertical-align: middle;\n",
       "    }\n",
       "\n",
       "    .dataframe tbody tr th {\n",
       "        vertical-align: top;\n",
       "    }\n",
       "\n",
       "    .dataframe thead th {\n",
       "        text-align: right;\n",
       "    }\n",
       "</style>\n",
       "<table border=\"1\" class=\"dataframe\">\n",
       "  <thead>\n",
       "    <tr style=\"text-align: right;\">\n",
       "      <th></th>\n",
       "      <th>contact_id</th>\n",
       "      <th>shop_id</th>\n",
       "      <th>product_id</th>\n",
       "      <th>name</th>\n",
       "      <th>product_sub_category_id</th>\n",
       "      <th>product_category_id</th>\n",
       "      <th>brand_id</th>\n",
       "      <th>quantity</th>\n",
       "      <th>year</th>\n",
       "      <th>month</th>\n",
       "      <th>doy</th>\n",
       "      <th>dow</th>\n",
       "    </tr>\n",
       "  </thead>\n",
       "  <tbody>\n",
       "    <tr>\n",
       "      <th>0</th>\n",
       "      <td>1260627</td>\n",
       "      <td>1455</td>\n",
       "      <td>168308</td>\n",
       "      <td>(197312) Пакет-майка 25см х 45см</td>\n",
       "      <td>906</td>\n",
       "      <td>205</td>\n",
       "      <td>-1</td>\n",
       "      <td>1.0</td>\n",
       "      <td>2018</td>\n",
       "      <td>12</td>\n",
       "      <td>341</td>\n",
       "      <td>4</td>\n",
       "    </tr>\n",
       "    <tr>\n",
       "      <th>1</th>\n",
       "      <td>198287</td>\n",
       "      <td>279</td>\n",
       "      <td>134832</td>\n",
       "      <td>(62448) Перекись водорода р-р наружн. 3% фл.по...</td>\n",
       "      <td>404</td>\n",
       "      <td>93</td>\n",
       "      <td>-1</td>\n",
       "      <td>1.0</td>\n",
       "      <td>2018</td>\n",
       "      <td>12</td>\n",
       "      <td>341</td>\n",
       "      <td>4</td>\n",
       "    </tr>\n",
       "    <tr>\n",
       "      <th>2</th>\n",
       "      <td>2418385</td>\n",
       "      <td>848</td>\n",
       "      <td>101384</td>\n",
       "      <td>(72183) Салициловая кислота р-р спирт 2% фл 40...</td>\n",
       "      <td>404</td>\n",
       "      <td>93</td>\n",
       "      <td>-1</td>\n",
       "      <td>1.0</td>\n",
       "      <td>2018</td>\n",
       "      <td>12</td>\n",
       "      <td>341</td>\n",
       "      <td>4</td>\n",
       "    </tr>\n",
       "  </tbody>\n",
       "</table>\n",
       "</div>"
      ],
      "text/plain": [
       "   contact_id  shop_id  product_id  \\\n",
       "0     1260627     1455      168308   \n",
       "1      198287      279      134832   \n",
       "2     2418385      848      101384   \n",
       "\n",
       "                                                name  product_sub_category_id  \\\n",
       "0                   (197312) Пакет-майка 25см х 45см                      906   \n",
       "1  (62448) Перекись водорода р-р наружн. 3% фл.по...                      404   \n",
       "2  (72183) Салициловая кислота р-р спирт 2% фл 40...                      404   \n",
       "\n",
       "   product_category_id  brand_id  quantity  year  month  doy  dow  \n",
       "0                  205        -1       1.0  2018     12  341    4  \n",
       "1                   93        -1       1.0  2018     12  341    4  \n",
       "2                   93        -1       1.0  2018     12  341    4  "
      ]
     },
     "execution_count": 35,
     "metadata": {},
     "output_type": "execute_result"
    }
   ],
   "source": [
    "check_data.head(3)"
   ]
  },
  {
   "cell_type": "markdown",
   "id": "00e6433b",
   "metadata": {},
   "source": [
    "### EDA"
   ]
  },
  {
   "cell_type": "markdown",
   "id": "47c9eefb",
   "metadata": {},
   "source": [
    "*В данном проекте анализ будет производиться поверхностно, \n",
    "лишь в целях проверки обоснования использования валидации датасета с учётом времени.\n",
    "Однако в ходе исследования выяснилось в датасете наличие подкатегории продуктов product_sub_category_id = -1.\n",
    "Видно, что большую часть этих данных составляет служебная информация об НДС, неустановленные названия и пакеты. По этой причине и в силу того, что датасет у нас довольно большого размера исключим из рассмотрения данную подкатегорию*"
   ]
  },
  {
   "cell_type": "code",
   "execution_count": 40,
   "id": "1248bc4b",
   "metadata": {},
   "outputs": [
    {
     "data": {
      "text/plain": [
       "(48791) Свободная сумма НДС18% (служебный)                                   147580\n",
       "(110048492) название                                                          46543\n",
       "(110047795) название                                                          32578\n",
       "(66684) Пакет майка \"Благодарим за покупку\" (28+14) х 43см №1                 19094\n",
       "(46045) Долгит крем 5% туба 100г N1                                           10413\n",
       "                                                                              ...  \n",
       "(0000122878 ) Роза Принц Жардинье                                                 1\n",
       "(3479) МД Соска латексная ортодонтическая медленный поток 0+  2шт (12116)         1\n",
       "(110047123) название                                                              1\n",
       "(110050453) название                                                              1\n",
       "(13.11.A1.900) ДНК пиогенного стрептококка (Streptococcus pyogenes)               1\n",
       "Name: name, Length: 6920, dtype: int64"
      ]
     },
     "execution_count": 40,
     "metadata": {},
     "output_type": "execute_result"
    }
   ],
   "source": [
    "check_data[check_data['product_sub_category_id']==-1].name.value_counts()"
   ]
  },
  {
   "cell_type": "code",
   "execution_count": 41,
   "id": "adf95ecd",
   "metadata": {},
   "outputs": [],
   "source": [
    "# Удаляем -1-ую подкатегорию\n",
    "check_data = check_data[~((check_data['product_sub_category_id']==-1))]"
   ]
  },
  {
   "cell_type": "code",
   "execution_count": 42,
   "id": "02827b2d",
   "metadata": {},
   "outputs": [
    {
     "name": "stdout",
     "output_type": "stream",
     "text": [
      "<class 'pandas.core.frame.DataFrame'>\n",
      "Int64Index: 19092002 entries, 0 to 19999999\n",
      "Data columns (total 12 columns):\n",
      " #   Column                   Dtype  \n",
      "---  ------                   -----  \n",
      " 0   contact_id               int32  \n",
      " 1   shop_id                  int32  \n",
      " 2   product_id               int32  \n",
      " 3   name                     object \n",
      " 4   product_sub_category_id  int32  \n",
      " 5   product_category_id      int32  \n",
      " 6   brand_id                 int32  \n",
      " 7   quantity                 float64\n",
      " 8   year                     int16  \n",
      " 9   month                    int8   \n",
      " 10  doy                      int16  \n",
      " 11  dow                      int8   \n",
      "dtypes: float64(1), int16(2), int32(6), int8(2), object(1)\n",
      "memory usage: 983.2+ MB\n"
     ]
    }
   ],
   "source": [
    "check_data.info()"
   ]
  },
  {
   "cell_type": "markdown",
   "id": "9502389e",
   "metadata": {},
   "source": [
    "*Возможно, что заслуживают удаления подкатегории товаров 855 и 906 (91 тыс 252 тыс записей), \n",
    "но это уже должно определяться условиями бизнес-задачи. Здесь речь  идет о том, а нужно ли\n",
    "учитывать при рекомендации карту клиента и упаковочные пакеты. Использования хладоэлемента многократного применения также требует отдельного анализа. На данном этапе оставляем так*"
   ]
  },
  {
   "cell_type": "code",
   "execution_count": 49,
   "id": "ff49ad8d",
   "metadata": {},
   "outputs": [
    {
     "data": {
      "text/html": [
       "<div>\n",
       "<style scoped>\n",
       "    .dataframe tbody tr th:only-of-type {\n",
       "        vertical-align: middle;\n",
       "    }\n",
       "\n",
       "    .dataframe tbody tr th {\n",
       "        vertical-align: top;\n",
       "    }\n",
       "\n",
       "    .dataframe thead th {\n",
       "        text-align: right;\n",
       "    }\n",
       "</style>\n",
       "<table border=\"1\" class=\"dataframe\">\n",
       "  <thead>\n",
       "    <tr style=\"text-align: right;\">\n",
       "      <th></th>\n",
       "      <th>contact_id</th>\n",
       "      <th>shop_id</th>\n",
       "      <th>product_id</th>\n",
       "      <th>name</th>\n",
       "      <th>product_sub_category_id</th>\n",
       "      <th>product_category_id</th>\n",
       "      <th>brand_id</th>\n",
       "      <th>quantity</th>\n",
       "      <th>year</th>\n",
       "      <th>month</th>\n",
       "      <th>doy</th>\n",
       "      <th>dow</th>\n",
       "    </tr>\n",
       "  </thead>\n",
       "  <tbody>\n",
       "    <tr>\n",
       "      <th>12</th>\n",
       "      <td>785614</td>\n",
       "      <td>859</td>\n",
       "      <td>158662</td>\n",
       "      <td>(181542) Карта Забота о Здоровье</td>\n",
       "      <td>855</td>\n",
       "      <td>194</td>\n",
       "      <td>-1</td>\n",
       "      <td>1.0</td>\n",
       "      <td>2018</td>\n",
       "      <td>12</td>\n",
       "      <td>341</td>\n",
       "      <td>4</td>\n",
       "    </tr>\n",
       "    <tr>\n",
       "      <th>9923</th>\n",
       "      <td>2741182</td>\n",
       "      <td>1489</td>\n",
       "      <td>168586</td>\n",
       "      <td>(197235) Хладоэлемент многократного применения...</td>\n",
       "      <td>855</td>\n",
       "      <td>194</td>\n",
       "      <td>-1</td>\n",
       "      <td>2.0</td>\n",
       "      <td>2018</td>\n",
       "      <td>12</td>\n",
       "      <td>341</td>\n",
       "      <td>4</td>\n",
       "    </tr>\n",
       "    <tr>\n",
       "      <th>25167</th>\n",
       "      <td>2742486</td>\n",
       "      <td>1500</td>\n",
       "      <td>168586</td>\n",
       "      <td>(197235) Хладоэлемент многократного применения...</td>\n",
       "      <td>855</td>\n",
       "      <td>194</td>\n",
       "      <td>-1</td>\n",
       "      <td>2.0</td>\n",
       "      <td>2018</td>\n",
       "      <td>12</td>\n",
       "      <td>342</td>\n",
       "      <td>5</td>\n",
       "    </tr>\n",
       "    <tr>\n",
       "      <th>37369</th>\n",
       "      <td>1396182</td>\n",
       "      <td>1522</td>\n",
       "      <td>168586</td>\n",
       "      <td>(197235) Хладоэлемент многократного применения...</td>\n",
       "      <td>855</td>\n",
       "      <td>194</td>\n",
       "      <td>-1</td>\n",
       "      <td>1.0</td>\n",
       "      <td>2018</td>\n",
       "      <td>12</td>\n",
       "      <td>341</td>\n",
       "      <td>4</td>\n",
       "    </tr>\n",
       "    <tr>\n",
       "      <th>37393</th>\n",
       "      <td>1890069</td>\n",
       "      <td>1453</td>\n",
       "      <td>168586</td>\n",
       "      <td>(197235) Хладоэлемент многократного применения...</td>\n",
       "      <td>855</td>\n",
       "      <td>194</td>\n",
       "      <td>-1</td>\n",
       "      <td>1.0</td>\n",
       "      <td>2018</td>\n",
       "      <td>12</td>\n",
       "      <td>341</td>\n",
       "      <td>4</td>\n",
       "    </tr>\n",
       "    <tr>\n",
       "      <th>...</th>\n",
       "      <td>...</td>\n",
       "      <td>...</td>\n",
       "      <td>...</td>\n",
       "      <td>...</td>\n",
       "      <td>...</td>\n",
       "      <td>...</td>\n",
       "      <td>...</td>\n",
       "      <td>...</td>\n",
       "      <td>...</td>\n",
       "      <td>...</td>\n",
       "      <td>...</td>\n",
       "      <td>...</td>\n",
       "    </tr>\n",
       "    <tr>\n",
       "      <th>19848541</th>\n",
       "      <td>1381651</td>\n",
       "      <td>1457</td>\n",
       "      <td>168586</td>\n",
       "      <td>(197235) Хладоэлемент многократного применения...</td>\n",
       "      <td>855</td>\n",
       "      <td>194</td>\n",
       "      <td>-1</td>\n",
       "      <td>1.0</td>\n",
       "      <td>2018</td>\n",
       "      <td>6</td>\n",
       "      <td>181</td>\n",
       "      <td>5</td>\n",
       "    </tr>\n",
       "    <tr>\n",
       "      <th>19939225</th>\n",
       "      <td>1962295</td>\n",
       "      <td>1473</td>\n",
       "      <td>168586</td>\n",
       "      <td>(197235) Хладоэлемент многократного применения...</td>\n",
       "      <td>855</td>\n",
       "      <td>194</td>\n",
       "      <td>-1</td>\n",
       "      <td>1.0</td>\n",
       "      <td>2018</td>\n",
       "      <td>6</td>\n",
       "      <td>163</td>\n",
       "      <td>1</td>\n",
       "    </tr>\n",
       "    <tr>\n",
       "      <th>19969797</th>\n",
       "      <td>888385</td>\n",
       "      <td>856</td>\n",
       "      <td>158662</td>\n",
       "      <td>(181542) Карта Забота о Здоровье</td>\n",
       "      <td>855</td>\n",
       "      <td>194</td>\n",
       "      <td>-1</td>\n",
       "      <td>1.0</td>\n",
       "      <td>2018</td>\n",
       "      <td>6</td>\n",
       "      <td>163</td>\n",
       "      <td>1</td>\n",
       "    </tr>\n",
       "    <tr>\n",
       "      <th>19969805</th>\n",
       "      <td>891946</td>\n",
       "      <td>856</td>\n",
       "      <td>158662</td>\n",
       "      <td>(181542) Карта Забота о Здоровье</td>\n",
       "      <td>855</td>\n",
       "      <td>194</td>\n",
       "      <td>-1</td>\n",
       "      <td>1.0</td>\n",
       "      <td>2018</td>\n",
       "      <td>6</td>\n",
       "      <td>164</td>\n",
       "      <td>2</td>\n",
       "    </tr>\n",
       "    <tr>\n",
       "      <th>19969807</th>\n",
       "      <td>897682</td>\n",
       "      <td>856</td>\n",
       "      <td>158662</td>\n",
       "      <td>(181542) Карта Забота о Здоровье</td>\n",
       "      <td>855</td>\n",
       "      <td>194</td>\n",
       "      <td>-1</td>\n",
       "      <td>1.0</td>\n",
       "      <td>2018</td>\n",
       "      <td>6</td>\n",
       "      <td>164</td>\n",
       "      <td>2</td>\n",
       "    </tr>\n",
       "  </tbody>\n",
       "</table>\n",
       "<p>91672 rows × 12 columns</p>\n",
       "</div>"
      ],
      "text/plain": [
       "          contact_id  shop_id  product_id  \\\n",
       "12            785614      859      158662   \n",
       "9923         2741182     1489      168586   \n",
       "25167        2742486     1500      168586   \n",
       "37369        1396182     1522      168586   \n",
       "37393        1890069     1453      168586   \n",
       "...              ...      ...         ...   \n",
       "19848541     1381651     1457      168586   \n",
       "19939225     1962295     1473      168586   \n",
       "19969797      888385      856      158662   \n",
       "19969805      891946      856      158662   \n",
       "19969807      897682      856      158662   \n",
       "\n",
       "                                                       name  \\\n",
       "12                         (181542) Карта Забота о Здоровье   \n",
       "9923      (197235) Хладоэлемент многократного применения...   \n",
       "25167     (197235) Хладоэлемент многократного применения...   \n",
       "37369     (197235) Хладоэлемент многократного применения...   \n",
       "37393     (197235) Хладоэлемент многократного применения...   \n",
       "...                                                     ...   \n",
       "19848541  (197235) Хладоэлемент многократного применения...   \n",
       "19939225  (197235) Хладоэлемент многократного применения...   \n",
       "19969797                   (181542) Карта Забота о Здоровье   \n",
       "19969805                   (181542) Карта Забота о Здоровье   \n",
       "19969807                   (181542) Карта Забота о Здоровье   \n",
       "\n",
       "          product_sub_category_id  product_category_id  brand_id  quantity  \\\n",
       "12                            855                  194        -1       1.0   \n",
       "9923                          855                  194        -1       2.0   \n",
       "25167                         855                  194        -1       2.0   \n",
       "37369                         855                  194        -1       1.0   \n",
       "37393                         855                  194        -1       1.0   \n",
       "...                           ...                  ...       ...       ...   \n",
       "19848541                      855                  194        -1       1.0   \n",
       "19939225                      855                  194        -1       1.0   \n",
       "19969797                      855                  194        -1       1.0   \n",
       "19969805                      855                  194        -1       1.0   \n",
       "19969807                      855                  194        -1       1.0   \n",
       "\n",
       "          year  month  doy  dow  \n",
       "12        2018     12  341    4  \n",
       "9923      2018     12  341    4  \n",
       "25167     2018     12  342    5  \n",
       "37369     2018     12  341    4  \n",
       "37393     2018     12  341    4  \n",
       "...        ...    ...  ...  ...  \n",
       "19848541  2018      6  181    5  \n",
       "19939225  2018      6  163    1  \n",
       "19969797  2018      6  163    1  \n",
       "19969805  2018      6  164    2  \n",
       "19969807  2018      6  164    2  \n",
       "\n",
       "[91672 rows x 12 columns]"
      ]
     },
     "execution_count": 49,
     "metadata": {},
     "output_type": "execute_result"
    }
   ],
   "source": [
    "check_data[check_data['product_sub_category_id']==855] #906,855,-1"
   ]
  },
  {
   "cell_type": "markdown",
   "id": "c5a19e3c",
   "metadata": {},
   "source": [
    "*Исследуем временные характеристики датасета. Он содержит данные только за 2018 год*"
   ]
  },
  {
   "cell_type": "code",
   "execution_count": 58,
   "id": "0edbf84a",
   "metadata": {},
   "outputs": [
    {
     "data": {
      "text/plain": [
       "2018    19092002\n",
       "Name: year, dtype: int64"
      ]
     },
     "execution_count": 58,
     "metadata": {},
     "output_type": "execute_result"
    }
   ],
   "source": [
    "check_data['year'].value_counts()"
   ]
  },
  {
   "cell_type": "markdown",
   "id": "401df749",
   "metadata": {},
   "source": [
    "*Распределение данным по месяцам, говорит об их отсутвии с начала июля по октябрь включительно:*"
   ]
  },
  {
   "cell_type": "code",
   "execution_count": 55,
   "id": "2353082f",
   "metadata": {},
   "outputs": [
    {
     "data": {
      "text/plain": [
       "<AxesSubplot:>"
      ]
     },
     "execution_count": 55,
     "metadata": {},
     "output_type": "execute_result"
    },
    {
     "data": {
      "image/png": "[encoded data removed]",
      "text/plain": [
       "<Figure size 432x288 with 1 Axes>"
      ]
     },
     "metadata": {
      "needs_background": "light"
     },
     "output_type": "display_data"
    }
   ],
   "source": [
    "check_data['month'].hist(bins=24)"
   ]
  },
  {
   "cell_type": "markdown",
   "id": "a42467c8",
   "metadata": {},
   "source": [
    "*Это также хорошо видно на распределении по порядковому номеру дня в году. На гистограмме хорошо заметен временной тренд на возрастание продаж по количеству позиций:*"
   ]
  },
  {
   "cell_type": "code",
   "execution_count": 56,
   "id": "734c732b",
   "metadata": {},
   "outputs": [
    {
     "data": {
      "text/plain": [
       "214"
      ]
     },
     "execution_count": 56,
     "metadata": {},
     "output_type": "execute_result"
    },
    {
     "data": {
      "image/png": "[encoded data removed]",
      "text/plain": [
       "<Figure size 432x288 with 1 Axes>"
      ]
     },
     "metadata": {
      "needs_background": "light"
     },
     "output_type": "display_data"
    }
   ],
   "source": [
    "check_data['doy'].hist(bins=365)\n",
    "check_data['doy'].nunique()"
   ]
  },
  {
   "cell_type": "markdown",
   "id": "0062e2a3",
   "metadata": {},
   "source": [
    "*Последнее наблюдение требует дальнейших исследований: связано ли это с увеличением количества магазинов, с появлением новых товаров, брендов или было обусловлено ростом заболеваемости в данном регионе. Последнее выходит за рамки данного исследования*"
   ]
  },
  {
   "cell_type": "markdown",
   "id": "b63e66fb",
   "metadata": {},
   "source": [
    "*Распределение данных по дням недели (хорошо заметно некоторое увеличение продаж в четверг и пятницу, а затем спад в субботу и воскресенье, минимальное количество продаж именно в воскресенье):*"
   ]
  },
  {
   "cell_type": "code",
   "execution_count": 60,
   "id": "45e9cbf7",
   "metadata": {},
   "outputs": [
    {
     "data": {
      "text/plain": [
       "7"
      ]
     },
     "execution_count": 60,
     "metadata": {},
     "output_type": "execute_result"
    },
    {
     "data": {
      "image/png": "[encoded data removed]",
      "text/plain": [
       "<Figure size 432x288 with 1 Axes>"
      ]
     },
     "metadata": {
      "needs_background": "light"
     },
     "output_type": "display_data"
    }
   ],
   "source": [
    "check_data['dow'].hist(bins = 13)\n",
    "check_data['dow'].nunique()"
   ]
  },
  {
   "cell_type": "markdown",
   "id": "90011196",
   "metadata": {},
   "source": [
    "#### Выводы о временных характеристиках датасета"
   ]
  },
  {
   "cell_type": "markdown",
   "id": "5bef198b",
   "metadata": {},
   "source": [
    "*Выполненный анализ показал, что из-за отсутствия данных в датасете в течение продолжительного времени временные характеристики при делении данного датасета на валидационные части оказывать существенного значения не будут, поэтому подобное деление для данного датасета можно будет осуществлять случайным образом*"
   ]
  },
  {
   "cell_type": "markdown",
   "id": "4caf94ea",
   "metadata": {},
   "source": [
    "### Подготовка словаря для эмбеддингов"
   ]
  },
  {
   "cell_type": "markdown",
   "id": "0af99f2a",
   "metadata": {},
   "source": [
    "*Поскольку словарь, предложенный в задании содержит не все данные, необходимые нам, сформируем новый словарь самостоятельно*"
   ]
  },
  {
   "cell_type": "markdown",
   "id": "3c9889b6",
   "metadata": {},
   "source": [
    "*Предварительно посмотрим еще раз на распределение данных уже по наименованиям товара:*"
   ]
  },
  {
   "cell_type": "code",
   "execution_count": 62,
   "id": "228e6aad",
   "metadata": {},
   "outputs": [
    {
     "data": {
      "text/plain": [
       "(197312) Пакет-майка 25см х 45см                                                 117367\n",
       "(181542) Карта Забота о Здоровье                                                  88411\n",
       "(57733) Корвалол капли д/приема внутрь 25мл                                       85714\n",
       "(117825) Панангин таб.п.п.о.№50                                                   76555\n",
       "(81509) PL Хлоргексидин биглюконат р-р 0.05% фл.100мл №1 (НДС 18%)                72925\n",
       "                                                                                  ...  \n",
       "(208161) Оправа Tempo 7546 C03                                                        1\n",
       "(204858) Эфиколор Крем-краска Платиновый блондин №10 40мл                             1\n",
       "(63368) Салфетки Влажные Seni Сare для ухода с вит. Е №10                             1\n",
       "(112902) Натура Камчатка Гель для душа увлажняющий Цветущая Тундра 250мл туба         1\n",
       "(202060) Фруктис Шампунь сос Восстановление 400мл                                     1\n",
       "Name: name, Length: 29192, dtype: int64"
      ]
     },
     "execution_count": 62,
     "metadata": {},
     "output_type": "execute_result"
    }
   ],
   "source": [
    "check_data['name'].value_counts()"
   ]
  },
  {
   "cell_type": "markdown",
   "id": "09714f86",
   "metadata": {},
   "source": [
    "*Поскольку 2 первые строчки занимают пакеты и карта клиента уберем эти группы товара из датасета:*"
   ]
  },
  {
   "cell_type": "code",
   "execution_count": 63,
   "id": "d570d0d4",
   "metadata": {},
   "outputs": [],
   "source": [
    "# Удаляем 855, 906-ую подкатегорию\n",
    "check_data = check_data[~((check_data['product_sub_category_id']==855) |\\\n",
    "                         (check_data['product_sub_category_id']==906))]"
   ]
  },
  {
   "cell_type": "code",
   "execution_count": 64,
   "id": "d6f5a63c",
   "metadata": {},
   "outputs": [
    {
     "name": "stdout",
     "output_type": "stream",
     "text": [
      "<class 'pandas.core.frame.DataFrame'>\n",
      "Int64Index: 18747783 entries, 1 to 19999999\n",
      "Data columns (total 12 columns):\n",
      " #   Column                   Dtype  \n",
      "---  ------                   -----  \n",
      " 0   contact_id               int32  \n",
      " 1   shop_id                  int32  \n",
      " 2   product_id               int32  \n",
      " 3   name                     object \n",
      " 4   product_sub_category_id  int32  \n",
      " 5   product_category_id      int32  \n",
      " 6   brand_id                 int32  \n",
      " 7   quantity                 float64\n",
      " 8   year                     int16  \n",
      " 9   month                    int8   \n",
      " 10  doy                      int16  \n",
      " 11  dow                      int8   \n",
      "dtypes: float64(1), int16(2), int32(6), int8(2), object(1)\n",
      "memory usage: 965.5+ MB\n"
     ]
    }
   ],
   "source": [
    "check_data.info()"
   ]
  },
  {
   "cell_type": "markdown",
   "id": "4890bce4",
   "metadata": {},
   "source": [
    "*Теперь видим, что на первом месте стоит корвалол и панангин, а также уберем разовые закупки товара, попробуем избавиться от товаров, покупаемых < 10 раз на датасет*"
   ]
  },
  {
   "cell_type": "code",
   "execution_count": 65,
   "id": "1e11048b",
   "metadata": {},
   "outputs": [
    {
     "data": {
      "text/plain": [
       "(57733) Корвалол капли д/приема внутрь 25мл                           85714\n",
       "(117825) Панангин таб.п.п.о.№50                                       76555\n",
       "(81509) PL Хлоргексидин биглюконат р-р 0.05% фл.100мл №1 (НДС 18%)    72925\n",
       "(20116) Тауфон капли глазн 4% фл 10 мл. пласт. флак.-кап.             68046\n",
       "(70458) Пенталгин таб.п.п.о.№24 (без кодеина)                         67709\n",
       "                                                                      ...  \n",
       "(108008) Москилл молочко от комаров д/детей Ромашка 100мл                 1\n",
       "(115292) Оправа Dacchi 35141                                              1\n",
       "(203763) Лабби Тарелка Русские мотивы 6+ с присоской(13652/96/12)         1\n",
       "(89722) ЛОкситан Крем для тела ультрапитательный 200мл                    1\n",
       "(182948) Салфетка д/очков с микрофиброй №4                                1\n",
       "Name: name, Length: 29091, dtype: int64"
      ]
     },
     "execution_count": 65,
     "metadata": {},
     "output_type": "execute_result"
    }
   ],
   "source": [
    "check_data['name'].value_counts()"
   ]
  },
  {
   "cell_type": "code",
   "execution_count": 74,
   "id": "c362a069",
   "metadata": {},
   "outputs": [],
   "source": [
    "a = check_data.groupby('product_id').filter(lambda g: len(g)>10).groupby('product_id').size().sort_values(ascending=False)"
   ]
  },
  {
   "cell_type": "markdown",
   "id": "fa1ad18d",
   "metadata": {},
   "source": [
    "*Посмотрим на распределение продаж товаров по наименованиям:*"
   ]
  },
  {
   "cell_type": "code",
   "execution_count": 79,
   "id": "c33a477c",
   "metadata": {},
   "outputs": [
    {
     "data": {
      "text/plain": [
       "product_id\n",
       "110629    85714\n",
       "137539    76555\n",
       "41096     72925\n",
       "135427    68046\n",
       "142296    67709\n",
       "          ...  \n",
       "195644       11\n",
       "194028       11\n",
       "154916       11\n",
       "78664        11\n",
       "161380       11\n",
       "Length: 16840, dtype: int64"
      ]
     },
     "execution_count": 79,
     "metadata": {},
     "output_type": "execute_result"
    }
   ],
   "source": [
    "a"
   ]
  },
  {
   "cell_type": "code",
   "execution_count": 80,
   "id": "2cded996",
   "metadata": {},
   "outputs": [
    {
     "data": {
      "text/plain": [
       "<AxesSubplot:>"
      ]
     },
     "execution_count": 80,
     "metadata": {},
     "output_type": "execute_result"
    },
    {
     "data": {
      "image/png": "[encoded data removed]",
      "text/plain": [
       "<Figure size 432x288 with 1 Axes>"
      ]
     },
     "metadata": {
      "needs_background": "light"
     },
     "output_type": "display_data"
    }
   ],
   "source": [
    "a.hist(bins=100)"
   ]
  },
  {
   "cell_type": "markdown",
   "id": "4ac0700c",
   "metadata": {},
   "source": [
    "*Оставляем в датасете только товары, участвовавшие в продажах > 10 раз*"
   ]
  },
  {
   "cell_type": "code",
   "execution_count": 81,
   "id": "1f897c8f",
   "metadata": {},
   "outputs": [],
   "source": [
    "check_data = check_data[check_data.product_id.isin(a.index)]"
   ]
  },
  {
   "cell_type": "code",
   "execution_count": 83,
   "id": "31c82452",
   "metadata": {},
   "outputs": [
    {
     "data": {
      "text/plain": [
       "(57733) Корвалол капли д/приема внутрь 25мл                                      85714\n",
       "(117825) Панангин таб.п.п.о.№50                                                  76555\n",
       "(81509) PL Хлоргексидин биглюконат р-р 0.05% фл.100мл №1 (НДС 18%)               72925\n",
       "(20116) Тауфон капли глазн 4% фл 10 мл. пласт. флак.-кап.                        68046\n",
       "(70458) Пенталгин таб.п.п.о.№24 (без кодеина)                                    67709\n",
       "                                                                                 ...  \n",
       "(184359) Армед Костыль опорный с УПС (FS937L) разм.М фиолетовый                     11\n",
       "(116136) Мавала Скин Виталити крем дневной стимулирующий для сияния кожи 45мл       11\n",
       "(120644) Сейзар таб.200мг №30                                                       11\n",
       "(57409) Андрокур тб 50мг  N50                                                       11\n",
       "(35347) СТИКС АльпинДерм мыло Козье молоко 100г                                     11\n",
       "Name: name, Length: 16840, dtype: int64"
      ]
     },
     "execution_count": 83,
     "metadata": {},
     "output_type": "execute_result"
    }
   ],
   "source": [
    "check_data['name'].value_counts()"
   ]
  },
  {
   "cell_type": "markdown",
   "id": "d18be256",
   "metadata": {},
   "source": [
    "*Формируем словарь из наименований:*"
   ]
  },
  {
   "cell_type": "code",
   "execution_count": 84,
   "id": "97ca51cd",
   "metadata": {},
   "outputs": [],
   "source": [
    "product = dict(zip(check_data.product_id,check_data.name))"
   ]
  },
  {
   "cell_type": "code",
   "execution_count": null,
   "id": "6c541607",
   "metadata": {},
   "outputs": [],
   "source": [
    "for key in product.keys():\n",
    "    product[key] = preprocess_txt(product[key])"
   ]
  },
  {
   "cell_type": "code",
   "execution_count": 29,
   "id": "0330dd49",
   "metadata": {},
   "outputs": [],
   "source": [
    "#Словарь Product: каждому id_продукта в соответствие поставлен предобработанный набор слов\n",
    "#product"
   ]
  },
  {
   "cell_type": "markdown",
   "id": "d36f8f56",
   "metadata": {},
   "source": [
    "### Контекстные рекомендации по названиям товаров в корзине"
   ]
  },
  {
   "cell_type": "markdown",
   "id": "2ac355e1",
   "metadata": {},
   "source": [
    "*Сформируем корзины с товарами. Корзиной будем считать каждый отдельный чек: товар группируется по дню года, номеру магазина и контакту. Соберем корзины*"
   ]
  },
  {
   "cell_type": "code",
   "execution_count": 92,
   "id": "294c8ffe",
   "metadata": {},
   "outputs": [],
   "source": [
    "df = check_data.groupby(['doy','shop_id','contact_id'])['product_id'].agg([set]).reset_index()"
   ]
  },
  {
   "cell_type": "code",
   "execution_count": 93,
   "id": "6f974acf",
   "metadata": {},
   "outputs": [
    {
     "data": {
      "text/html": [
       "<div>\n",
       "<style scoped>\n",
       "    .dataframe tbody tr th:only-of-type {\n",
       "        vertical-align: middle;\n",
       "    }\n",
       "\n",
       "    .dataframe tbody tr th {\n",
       "        vertical-align: top;\n",
       "    }\n",
       "\n",
       "    .dataframe thead th {\n",
       "        text-align: right;\n",
       "    }\n",
       "</style>\n",
       "<table border=\"1\" class=\"dataframe\">\n",
       "  <thead>\n",
       "    <tr style=\"text-align: right;\">\n",
       "      <th></th>\n",
       "      <th>doy</th>\n",
       "      <th>shop_id</th>\n",
       "      <th>contact_id</th>\n",
       "      <th>set</th>\n",
       "    </tr>\n",
       "  </thead>\n",
       "  <tbody>\n",
       "    <tr>\n",
       "      <th>0</th>\n",
       "      <td>1</td>\n",
       "      <td>43</td>\n",
       "      <td>17453</td>\n",
       "      <td>{30656, 148022}</td>\n",
       "    </tr>\n",
       "    <tr>\n",
       "      <th>1</th>\n",
       "      <td>1</td>\n",
       "      <td>43</td>\n",
       "      <td>28331</td>\n",
       "      <td>{54592}</td>\n",
       "    </tr>\n",
       "    <tr>\n",
       "      <th>2</th>\n",
       "      <td>1</td>\n",
       "      <td>43</td>\n",
       "      <td>46184</td>\n",
       "      <td>{113585, 66818, 59862, 146135}</td>\n",
       "    </tr>\n",
       "    <tr>\n",
       "      <th>3</th>\n",
       "      <td>1</td>\n",
       "      <td>43</td>\n",
       "      <td>51940</td>\n",
       "      <td>{76308, 82045}</td>\n",
       "    </tr>\n",
       "    <tr>\n",
       "      <th>4</th>\n",
       "      <td>1</td>\n",
       "      <td>43</td>\n",
       "      <td>78417</td>\n",
       "      <td>{40243, 132911, 146135}</td>\n",
       "    </tr>\n",
       "    <tr>\n",
       "      <th>...</th>\n",
       "      <td>...</td>\n",
       "      <td>...</td>\n",
       "      <td>...</td>\n",
       "      <td>...</td>\n",
       "    </tr>\n",
       "    <tr>\n",
       "      <th>6073295</th>\n",
       "      <td>343</td>\n",
       "      <td>1495</td>\n",
       "      <td>1793409</td>\n",
       "      <td>{64744}</td>\n",
       "    </tr>\n",
       "    <tr>\n",
       "      <th>6073296</th>\n",
       "      <td>343</td>\n",
       "      <td>1511</td>\n",
       "      <td>2567928</td>\n",
       "      <td>{109489, 116291, 120163}</td>\n",
       "    </tr>\n",
       "    <tr>\n",
       "      <th>6073297</th>\n",
       "      <td>343</td>\n",
       "      <td>1566</td>\n",
       "      <td>2383382</td>\n",
       "      <td>{80777, 65805, 164014, 142296, 102814}</td>\n",
       "    </tr>\n",
       "    <tr>\n",
       "      <th>6073298</th>\n",
       "      <td>343</td>\n",
       "      <td>1739</td>\n",
       "      <td>2247828</td>\n",
       "      <td>{116387, 158645}</td>\n",
       "    </tr>\n",
       "    <tr>\n",
       "      <th>6073299</th>\n",
       "      <td>343</td>\n",
       "      <td>1739</td>\n",
       "      <td>2419062</td>\n",
       "      <td>{151054}</td>\n",
       "    </tr>\n",
       "  </tbody>\n",
       "</table>\n",
       "<p>6073300 rows × 4 columns</p>\n",
       "</div>"
      ],
      "text/plain": [
       "         doy  shop_id  contact_id                                     set\n",
       "0          1       43       17453                         {30656, 148022}\n",
       "1          1       43       28331                                 {54592}\n",
       "2          1       43       46184          {113585, 66818, 59862, 146135}\n",
       "3          1       43       51940                          {76308, 82045}\n",
       "4          1       43       78417                 {40243, 132911, 146135}\n",
       "...      ...      ...         ...                                     ...\n",
       "6073295  343     1495     1793409                                 {64744}\n",
       "6073296  343     1511     2567928                {109489, 116291, 120163}\n",
       "6073297  343     1566     2383382  {80777, 65805, 164014, 142296, 102814}\n",
       "6073298  343     1739     2247828                        {116387, 158645}\n",
       "6073299  343     1739     2419062                                {151054}\n",
       "\n",
       "[6073300 rows x 4 columns]"
      ]
     },
     "execution_count": 93,
     "metadata": {},
     "output_type": "execute_result"
    }
   ],
   "source": [
    "#f.columns = ['_'.join(col).rstrip('_') for col in df.columns.values]\n",
    "df"
   ]
  },
  {
   "cell_type": "code",
   "execution_count": 94,
   "id": "fd514598",
   "metadata": {},
   "outputs": [],
   "source": [
    "df['goods'] = df['set'].apply(lambda x: [product[i] for i in x])"
   ]
  },
  {
   "cell_type": "code",
   "execution_count": 96,
   "id": "e9b72af9",
   "metadata": {},
   "outputs": [],
   "source": [
    "df['goods'] =  df['goods'].apply(lambda x: [element for sub_list in x for element in sub_list])"
   ]
  },
  {
   "cell_type": "code",
   "execution_count": 28,
   "id": "a6aa2549",
   "metadata": {},
   "outputs": [],
   "source": [
    "#df.head(3)"
   ]
  },
  {
   "cell_type": "code",
   "execution_count": 99,
   "id": "6f2adf6a",
   "metadata": {},
   "outputs": [],
   "source": [
    "# Обучим модель fasttext на текстах\n",
    "sentences = [i for i in df['goods'] if len(i) > 2]"
   ]
  },
  {
   "cell_type": "code",
   "execution_count": 100,
   "id": "1ed1d55b",
   "metadata": {},
   "outputs": [],
   "source": [
    "modelFT = FastText(sentences=sentences, vector_size=20, min_count=1, window=5)"
   ]
  },
  {
   "cell_type": "code",
   "execution_count": 26,
   "id": "a0975888",
   "metadata": {},
   "outputs": [],
   "source": [
    "#modelFT.wv.key_to_index"
   ]
  },
  {
   "cell_type": "code",
   "execution_count": 102,
   "id": "daff91fe",
   "metadata": {},
   "outputs": [
    {
     "name": "stderr",
     "output_type": "stream",
     "text": [
      "C:\\Users\\Nata\\Anaconda3\\envs\\meteo\\lib\\site-packages\\ipykernel_launcher.py:8: TqdmDeprecationWarning: This function will be removed in tqdm==5.0.0\n",
      "Please use `tqdm.notebook.tqdm` instead of `tqdm.tqdm_notebook`\n",
      "  \n"
     ]
    },
    {
     "data": {
      "application/vnd.jupyter.widget-view+json": {
       "model_id": "19bc5719429041baa391d16cd30536d0",
       "version_major": 2,
       "version_minor": 0
      },
      "text/plain": [
       "  0%|          | 0/6073300 [00:00<?, ?it/s]"
      ]
     },
     "metadata": {},
     "output_type": "display_data"
    },
    {
     "data": {
      "text/plain": [
       "True"
      ]
     },
     "execution_count": 102,
     "metadata": {},
     "output_type": "execute_result"
    }
   ],
   "source": [
    "# Для того, чтобы быстро находить айтемы положим эмбединги их тайтлов в ANN индекс\n",
    "# Создадим объект индекса\n",
    "ft_index_shop = annoy.AnnoyIndex(20 ,'angular')\n",
    "\n",
    "index_map_shop = {}\n",
    "counter = 0\n",
    "\n",
    "for i in tqdm_notebook(range(len(df))):\n",
    "    n_ft = 0\n",
    "    index_map_shop[counter] = (df.loc[i, \"goods\"], df.loc[i, \"set\"])\n",
    "    vector_ft = np.zeros(20)\n",
    "    # Каждое слово обернем в эмбеддинг\n",
    "    for word in df.loc[i, \"goods\"]:\n",
    "        if word in modelFT.wv.key_to_index:\n",
    "            vector_ft += modelFT.wv[word]\n",
    "            n_ft += 1\n",
    "    if n_ft > 0:\n",
    "        vector_ft = vector_ft / n_ft\n",
    "    ft_index_shop.add_item(counter, vector_ft)\n",
    "    counter += 1\n",
    "\n",
    "# \n",
    "ft_index_shop.build(10)"
   ]
  },
  {
   "cell_type": "markdown",
   "id": "d038a2a3",
   "metadata": {},
   "source": [
    "### Варианты рекомендательных систем"
   ]
  },
  {
   "cell_type": "code",
   "execution_count": 5,
   "id": "ca2c37ed",
   "metadata": {},
   "outputs": [],
   "source": [
    "check_data = check_data.dropna()\n",
    "check_data.drop_duplicates(inplace=True)\n",
    "check_data['sale_date_date'] = pd.to_datetime(check_data['sale_date_date'])\n",
    "#check_data['year'] = check_data.sale_date_date.dt.year.astype('int16')\n",
    "#check_data['month'] = check_data.sale_date_date.dt.month.astype('int8')\n",
    "check_data['doy'] = check_data.sale_date_date.dt.day_of_year.astype('int16')\n",
    "#check_data['dow'] = check_data.sale_date_date.dt.day_of_week.astype('int8')\n",
    "#check_data.drop(columns=['sale_date_date'], inplace=True)\n",
    "check_data['contact_id'] = check_data['contact_id'].astype('int32')\n",
    "check_data['brand_id'] = check_data['brand_id'].astype('int32')\n",
    "check_data['shop_id'] = check_data['shop_id'].astype('int32')\n",
    "check_data['product_id'] = check_data['product_id'].apply(int).apply(str)\n",
    "check_data['product_category_id'] = check_data['product_category_id'].astype('int32')\n",
    "check_data['product_sub_category_id'] = check_data['product_sub_category_id'].astype('int32')\n",
    "check_data['quantity'] = check_data['quantity'].apply(lambda x: x.replace(',','.')).astype('float64')\n"
   ]
  },
  {
   "cell_type": "code",
   "execution_count": 6,
   "id": "d22c130f",
   "metadata": {},
   "outputs": [],
   "source": [
    "check_data.drop(columns=['sale_date_date'], inplace=True)\n",
    "# Удаляем -1-ую подкатегорию\n",
    "check_data = check_data[~((check_data['product_sub_category_id']==-1))]\n",
    "# Удаляем 855, 906-ую подкатегорию\n",
    "check_data = check_data[~((check_data['product_sub_category_id']==855) | (check_data['product_sub_category_id']==906))]\n",
    "a = check_data.groupby('product_id').filter(lambda g: len(g)>10).groupby('product_id').size().sort_values(ascending=False)\n",
    "check_data = check_data[check_data.product_id.isin(a.index)]\n",
    "product = dict(zip(check_data.product_id,check_data.name))"
   ]
  },
  {
   "cell_type": "code",
   "execution_count": 8,
   "id": "19f9934c",
   "metadata": {},
   "outputs": [],
   "source": [
    "check_data.reset_index(inplace=True, drop=True)\n",
    "check_data['order_id'] = check_data['doy'] + check_data['shop_id'] + check_data['contact_id']\n",
    "check_data.sort_values('order_id', inplace=True)"
   ]
  },
  {
   "cell_type": "code",
   "execution_count": 9,
   "id": "8e434ec2",
   "metadata": {},
   "outputs": [],
   "source": [
    "def preprocess_(line):\n",
    "    spls = \"\".join(i for i in str(line).strip() if i not in exclude).split()\n",
    "    spls = [morpher.parse(i.lower())[0].normal_form for i in spls]\n",
    "    spls = [i for i in spls if i not in sw and i != \"\"]\n",
    "    return spls"
   ]
  },
  {
   "cell_type": "code",
   "execution_count": 10,
   "id": "2a617c67",
   "metadata": {},
   "outputs": [],
   "source": [
    "sentences = [preprocess_(k) for k in product.keys()]"
   ]
  },
  {
   "cell_type": "code",
   "execution_count": 25,
   "id": "b5464873",
   "metadata": {},
   "outputs": [],
   "source": [
    "#sentences"
   ]
  },
  {
   "cell_type": "code",
   "execution_count": 12,
   "id": "b3cb2940",
   "metadata": {},
   "outputs": [
    {
     "name": "stderr",
     "output_type": "stream",
     "text": [
      "C:\\Users\\Nata\\Anaconda3\\envs\\meteo\\lib\\site-packages\\ipykernel_launcher.py:10: TqdmDeprecationWarning: This function will be removed in tqdm==5.0.0\n",
      "Please use `tqdm.notebook.tqdm` instead of `tqdm.tqdm_notebook`\n",
      "  # Remove the CWD from sys.path while we load stuff.\n"
     ]
    },
    {
     "data": {
      "application/vnd.jupyter.widget-view+json": {
       "model_id": "fd3b382ec3fa45b9b10b06e3c18a8e54",
       "version_major": 2,
       "version_minor": 0
      },
      "text/plain": [
       "  0%|          | 0/16840 [00:00<?, ?it/s]"
      ]
     },
     "metadata": {},
     "output_type": "display_data"
    },
    {
     "data": {
      "text/plain": [
       "True"
      ]
     },
     "execution_count": 12,
     "metadata": {},
     "output_type": "execute_result"
    }
   ],
   "source": [
    "modelFT = FastText(sentences=sentences, vector_size=20, min_count=1, window=5)\n",
    "# Для того, чтобы быстро находить айтемы положим эмбединги их тайтлов в ANN индекс\n",
    "# Создадим объект индекса\n",
    "ft_index_names = annoy.AnnoyIndex(20 ,'angular')\n",
    "\n",
    "# Будем хранить соответствия не только id-> фильм, но и фильм-> id, чтобы быстрее находить эмбеддинги айтемов\n",
    "reverse_index_map = {}\n",
    "counter = 0\n",
    "\n",
    "for name in tqdm_notebook(product.keys()):\n",
    "    n_ft = 0\n",
    "    reverse_index_map[counter] = name\n",
    "    vector_ft = np.zeros(20)\n",
    "    # Каждое слово обернем в эмбеддинг\n",
    "    for word in preprocess_(name):\n",
    "        if word in modelFT.wv.key_to_index:\n",
    "            vector_ft += modelFT.wv[word]\n",
    "            n_ft += 1\n",
    "    if n_ft > 0:\n",
    "        vector_ft = vector_ft / n_ft\n",
    "    ft_index_names.add_item(counter, vector_ft)\n",
    "    counter += 1\n",
    "\n",
    "# \n",
    "ft_index_names.build(10)"
   ]
  },
  {
   "cell_type": "code",
   "execution_count": 13,
   "id": "c0390bb2",
   "metadata": {},
   "outputs": [],
   "source": [
    "reverse_item_mapping = {v: k for k, v in product.items()}\n",
    "\n",
    "def recommend(items_list):\n",
    "    current_vector = np.zeros(20)\n",
    "    c = len(items_list)\n",
    "    for iid in items_list:\n",
    "        iname = product[iid]\n",
    "        if iname not in reverse_index_map:\n",
    "            c -= 1\n",
    "            continue\n",
    "        current_vector += np.array(ft_index_names.get_item_vector[reverse_index_map[iname]])\n",
    "    return [product[reverse_index_map[i]] for i in ft_index_names.get_nns_by_vector(current_vector / c, 10)]"
   ]
  },
  {
   "cell_type": "code",
   "execution_count": 14,
   "id": "3c5f74e5",
   "metadata": {},
   "outputs": [
    {
     "name": "stderr",
     "output_type": "stream",
     "text": [
      "C:\\Users\\Nata\\Anaconda3\\envs\\meteo\\lib\\site-packages\\ipykernel_launcher.py:12: RuntimeWarning: invalid value encountered in true_divide\n",
      "  if sys.path[0] == '':\n"
     ]
    },
    {
     "data": {
      "text/plain": [
       "['(76115) Кетонал термо пластырь разогревающий №10',\n",
       " '(24025) Сенна [листья фильтр-пакеты 1.5г] N20 КЛС',\n",
       " '(16840) Нутризон смесь сухая д/энтерального питания банка 322г',\n",
       " '(114325) Эскейп таб.п.п.о.120мг №112',\n",
       " '(22032) Повязка Cosmopor E на рану самоклеящаяся стерильная 10 х 25см (900877/901023)',\n",
       " '(99791) PL Рыбий жир с экстрактом валерьяны и пустырника капс. №100',\n",
       " '(53576) Амлодипин таб.5мг №30',\n",
       " '(38953) Ферретаб комп. капс бл N30',\n",
       " '(24393) Эскузан капли оралн фл 20мл N1',\n",
       " '(44520) Бензонал тб 0.1г N50']"
      ]
     },
     "execution_count": 14,
     "metadata": {},
     "output_type": "execute_result"
    }
   ],
   "source": [
    "recommend(['95641', '125460'])"
   ]
  },
  {
   "cell_type": "code",
   "execution_count": 15,
   "id": "bf3687ac",
   "metadata": {},
   "outputs": [],
   "source": [
    "train, test = train_test_split(check_data, test_size=0.3)"
   ]
  },
  {
   "cell_type": "code",
   "execution_count": 16,
   "id": "08e8173d",
   "metadata": {},
   "outputs": [
    {
     "name": "stderr",
     "output_type": "stream",
     "text": [
      "C:\\Users\\Nata\\Anaconda3\\envs\\meteo\\lib\\site-packages\\ipykernel_launcher.py:4: SettingWithCopyWarning: \n",
      "A value is trying to be set on a copy of a slice from a DataFrame.\n",
      "Try using .loc[row_indexer,col_indexer] = value instead\n",
      "\n",
      "See the caveats in the documentation: https://pandas.pydata.org/pandas-docs/stable/user_guide/indexing.html#returning-a-view-versus-a-copy\n",
      "  after removing the cwd from sys.path.\n"
     ]
    }
   ],
   "source": [
    "# Обучение эмбеддингов по последовательности\n",
    "from gensim.models import Word2Vec\n",
    "\n",
    "train['product_id'] = train['product_id'].apply(int).apply(str)\n",
    "\n",
    "grouped = train.groupby('order_id')\n",
    "sentences = []"
   ]
  },
  {
   "cell_type": "code",
   "execution_count": 17,
   "id": "dfca6634",
   "metadata": {},
   "outputs": [
    {
     "name": "stderr",
     "output_type": "stream",
     "text": [
      "C:\\Users\\Nata\\Anaconda3\\envs\\meteo\\lib\\site-packages\\ipykernel_launcher.py:5: TqdmDeprecationWarning: This function will be removed in tqdm==5.0.0\n",
      "Please use `tqdm.notebook.tqdm` instead of `tqdm.tqdm_notebook`\n",
      "  \"\"\"\n"
     ]
    },
    {
     "data": {
      "application/vnd.jupyter.widget-view+json": {
       "model_id": "fb086cca548c4128a64a3d63d643a9e0",
       "version_major": 2,
       "version_minor": 0
      },
      "text/plain": [
       "  0%|          | 0/2161149 [00:00<?, ?it/s]"
      ]
     },
     "metadata": {},
     "output_type": "display_data"
    }
   ],
   "source": [
    "# Сформируем последовательности\n",
    "from tqdm import tqdm_notebook\n",
    "#from tqdm import tqdm \n",
    "sentences = []\n",
    "for group in tqdm_notebook(grouped.groups):\n",
    "    products = grouped.get_group(group)['product_id'].values\n",
    "    if len(products) < 3:\n",
    "        continue\n",
    "    sentences.append(list(products))"
   ]
  },
  {
   "cell_type": "code",
   "execution_count": 18,
   "id": "befbaf27",
   "metadata": {},
   "outputs": [],
   "source": [
    "modelW2V = Word2Vec(sentences, vector_size=20)"
   ]
  },
  {
   "cell_type": "code",
   "execution_count": 19,
   "id": "943714ed",
   "metadata": {},
   "outputs": [
    {
     "data": {
      "text/plain": [
       "['63026', '100792', '121499']"
      ]
     },
     "execution_count": 19,
     "metadata": {},
     "output_type": "execute_result"
    }
   ],
   "source": [
    "sentences[0]"
   ]
  },
  {
   "cell_type": "code",
   "execution_count": 20,
   "id": "3dcc6739",
   "metadata": {},
   "outputs": [
    {
     "data": {
      "text/plain": [
       "[('88183', 0.9614986181259155),\n",
       " ('132768', 0.953240156173706),\n",
       " ('85223', 0.9379034638404846),\n",
       " ('104429', 0.9205759763717651),\n",
       " ('111341', 0.9193353056907654),\n",
       " ('145313', 0.907103955745697),\n",
       " ('105497', 0.9061673879623413),\n",
       " ('45259', 0.9036638736724854),\n",
       " ('26925', 0.9003517031669617),\n",
       " ('75759', 0.8970151543617249)]"
      ]
     },
     "execution_count": 20,
     "metadata": {},
     "output_type": "execute_result"
    }
   ],
   "source": [
    "modelW2V.wv.similar_by_vector([1,20])"
   ]
  },
  {
   "cell_type": "code",
   "execution_count": 21,
   "id": "40e98f94",
   "metadata": {},
   "outputs": [],
   "source": [
    "def recommend_w2v(items_list):\n",
    "    current_vector = np.zeros(20)\n",
    "    c = len(items_list)\n",
    "    for iid in items_list:\n",
    "        iname = product[iid]\n",
    "        \n",
    "        if iname not in modelW2V.wv.key_to_index:\n",
    "            c -= 1\n",
    "            continue\n",
    "        current_vector += np.array(modelW2V.wv[reverse_index_map[iname]])\n",
    "    return [product[i[0]] for i in modelW2V.wv.similar_by_vector(current_vector / c, 20)]"
   ]
  },
  {
   "cell_type": "code",
   "execution_count": 24,
   "id": "53f7516c",
   "metadata": {},
   "outputs": [],
   "source": [
    "#modelW2V.wv.key_to_index"
   ]
  },
  {
   "cell_type": "code",
   "execution_count": 23,
   "id": "c9f8ac20",
   "metadata": {},
   "outputs": [
    {
     "name": "stderr",
     "output_type": "stream",
     "text": [
      "C:\\Users\\Nata\\Anaconda3\\envs\\meteo\\lib\\site-packages\\ipykernel_launcher.py:11: RuntimeWarning: invalid value encountered in true_divide\n",
      "  # This is added back by InteractiveShellApp.init_path()\n"
     ]
    },
    {
     "data": {
      "text/plain": [
       "['(112064) Биомед Прополис Зубная паста 100мл',\n",
       " '(7874) Фитосольба Фитоцитрус Шампунь д/окрашенных волос Стойкий Цвет 200мл',\n",
       " '(73059) Салфетки Хаггис Элит Софт детские влажные №128',\n",
       " '(120895) Бионик Слива сушеная пакет 80г',\n",
       " '(100477) Подгузники Либеро Ньюборн према (до 2,5кг) №24',\n",
       " '(9859) Пластырь \"Omnifilm\" пористый (прозрачный) 5см х 5м арт.900522\\\\1',\n",
       " '(119068) Виши Идеалия Лосьон-пилинг ночной фл.100мл',\n",
       " '(123506) Линза контактная Acuvue 1-DAY Moist BC=8,5 -1,25 №30',\n",
       " '(114435) Натрия хлорид р-р д/и 0.9% 5мл N10',\n",
       " '(195508) Лион Дентал Система Зубная щетка двойной эффект очищения №1',\n",
       " '(65270) Аспера Эфирное масло Мандарин 10мл',\n",
       " '(66880) Зубная щетка \"Аквафреш Кидс\" Мои молочные зубки для детей 3-5 лет мягкая',\n",
       " '(52312) Амитриптилин тб 25мг N50',\n",
       " '(75134) Подгузники-трусики \"Merries\" XL 12-22 кг №36/38',\n",
       " '(60912) КЛЕРАСИЛ Гель для умывания 150мл',\n",
       " '(107752) Дэта Бэби Комплект Инсекто (Прибор +жид. от комаров 45 ночей)',\n",
       " '(44334) Рибоксин р-р д/и 2% амп 10мл N10',\n",
       " '(88052) Асманекс Твистхейлер пор.д/инг.дозированный 400мкг/доза 60доз пакет №1',\n",
       " '(112411) Лостерин шампунь нафталановый 150мл',\n",
       " '(87887) СпермСтронг капс.500мг №30']"
      ]
     },
     "execution_count": 23,
     "metadata": {},
     "output_type": "execute_result"
    }
   ],
   "source": [
    "recommend_w2v(['99821', '138583', '45321', '134475'])"
   ]
  },
  {
   "cell_type": "code",
   "execution_count": null,
   "id": "3e7e1e4a",
   "metadata": {},
   "outputs": [],
   "source": []
  }
 ],
 "metadata": {
  "kernelspec": {
   "display_name": "Python 3 (ipykernel)",
   "language": "python",
   "name": "python3"
  },
  "language_info": {
   "codemirror_mode": {
    "name": "ipython",
    "version": 3
   },
   "file_extension": ".py",
   "mimetype": "text/x-python",
   "name": "python",
   "nbconvert_exporter": "python",
   "pygments_lexer": "ipython3",
   "version": "3.7.13"
  }
 },
 "nbformat": 4,
 "nbformat_minor": 5
}
