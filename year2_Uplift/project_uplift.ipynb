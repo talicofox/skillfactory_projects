{
 "cells": [
  {
   "cell_type": "markdown",
   "id": "d44ff6ba",
   "metadata": {},
   "source": [
    "# Мини-проект. Практика"
   ]
  },
  {
   "cell_type": "markdown",
   "id": "96e08680",
   "metadata": {},
   "source": [
    "**ПОСТАНОВКА ЗАДАЧИ**\n",
    "\n",
    "Подобрать оптимальный алгоритм для оценки аплифт-эффекта от рекламных предложений. Наш клиент — французское рекламное агентство criteo. Оно предоставило нам данные о показах рекламы и отклике пользователей на рекламные предложения. Нужно подобрать модель для показа рекламных предложений пользователям. "
   ]
  },
  {
   "cell_type": "markdown",
   "id": "98f3fb8f",
   "metadata": {},
   "source": [
    "**ДАННЫЕ**"
   ]
  },
  {
   "cell_type": "markdown",
   "id": "2c3508d0",
   "metadata": {},
   "source": [
    "f0, f1, f2, f3, f4, f5, f6, f7, f8, f9, f10, f11: feature values (dense, float)\n",
    "\n",
    "treatment: treatment group (1 = treated, 0 = control)\n",
    "\n",
    "conversion: whether a conversion occured for this user (binary, label)\n",
    "\n",
    "visit: whether a visit occured for this user (binary, label)\n",
    "\n",
    "exposure: treatment effect, whether the user has been effectively exposed (binary)"
   ]
  },
  {
   "cell_type": "markdown",
   "id": "d8cf0f44",
   "metadata": {},
   "source": [
    "<a id='0'></a> \n",
    "### ПЛАН ПРОЕКТА\n",
    "<a href='#10'> **Подготовка датасета**  \n",
    "<a href='#11'> **EDA**      \n",
    "<a href='#1'> **Валидационный датасет**    \n",
    "<a href='#12'> **Class Transformation Model**       \n",
    "<a href='#2'> **S-learner и оценка качества**   \n",
    "<a href='#3'> **T-learner и оценка качества**      \n",
    "<a href='#4'> **X-learner и оценка качества**  \n",
    "<a href='#5'> **R-learner и оценка качества**  \n",
    "<a href='#6'> **UpliftRandomForest и оценка качества**  \n",
    "<a href='#7'> **Выводы о лучших моделях**"
   ]
  },
  {
   "cell_type": "code",
   "execution_count": 1,
   "id": "58e64974",
   "metadata": {},
   "outputs": [],
   "source": [
    "import numpy as np, matplotlib as mpl, matplotlib.pyplot as plt, pandas as pd\n",
    "import scipy\n",
    "import sklift\n",
    "from scipy import stats\n",
    "from sklearn.model_selection import train_test_split\n",
    "#from sklearn.model_selection import StratifiedKFold\n",
    "from sklearn.model_selection import cross_val_score\n",
    "from sklearn.base import clone\n",
    "import seaborn as sns, math, os, warnings \n",
    "warnings.filterwarnings('ignore')\n",
    "\n",
    "%matplotlib inline\n",
    "\n",
    "RND = 42\n",
    "TST = 0.3\n",
    "THREADc = 2"
   ]
  },
  {
   "cell_type": "code",
   "execution_count": 2,
   "id": "f24bc162",
   "metadata": {},
   "outputs": [],
   "source": [
    "from sklift.metrics import uplift_at_k, uplift_by_percentile, weighted_average_uplift, \\\n",
    "        qini_auc_score, uplift_auc_score\n",
    "from sklift.models import ClassTransformation, SoloModel, TwoModels\n",
    "from sklift.viz import plot_uplift_by_percentile, plot_uplift_preds, plot_qini_curve, \\\n",
    "        plot_uplift_curve\n",
    "\n",
    "from catboost import CatBoostClassifier"
   ]
  },
  {
   "cell_type": "markdown",
   "id": "348aeab5",
   "metadata": {},
   "source": [
    "**ФУНКЦИИ**"
   ]
  },
  {
   "cell_type": "code",
   "execution_count": 3,
   "id": "f6fc2b4a",
   "metadata": {},
   "outputs": [],
   "source": [
    "def show_distination(_list, target):\n",
    "    '''\n",
    "    Изображает распределение признаков и боксплоты с выбросами по значениям целевой функции\n",
    "    '''\n",
    "    len_list = len(_list)\n",
    "    length = 16\n",
    "    if len_list<4:\n",
    "        length = 4*len_list\n",
    "    fig, axs = plt.subplots(2,len_list, constrained_layout=True, figsize=(length, 5))\n",
    "    \n",
    "    for i in range(len_list):\n",
    "        \n",
    "        df[_list[i]].hist(ax=axs[0,i])\n",
    "        df.boxplot(column=[_list[i]], by=target, ax=axs[1,i])"
   ]
  },
  {
   "cell_type": "code",
   "execution_count": 4,
   "id": "cb803bad",
   "metadata": {},
   "outputs": [],
   "source": [
    "def iqr_cut(df, y):\n",
    "    \n",
    "    iqr = scipy.stats.iqr(df[y])\n",
    "    #print(iqr)\n",
    "\n",
    "    del_index = df[df[y]<np.percentile(df[y],25) - 1.5*iqr].index\n",
    "    df = df.loc[list(set(df.index)-set(del_index.tolist()))]\n",
    "\n",
    "    del_index = df[df[y]>np.percentile(df[y],75) + 1.5*iqr].index\n",
    "    df = df.loc[list(set(df.index)-set(del_index.tolist()))]"
   ]
  },
  {
   "cell_type": "code",
   "execution_count": 5,
   "id": "08527c53",
   "metadata": {},
   "outputs": [],
   "source": [
    "# Calculate correlation coefficient\n",
    "def corrfunc(x, y, **kws):\n",
    "    r, _ = stats.pearsonr(x, y)\n",
    "    ax = plt.gca()\n",
    "    ax.annotate(\"r = {:.2f}\".format(r),\n",
    "                xy=(.1, .6), xycoords=ax.transAxes,\n",
    "               size = 24)\n",
    "\n",
    "def show_corr(df): \n",
    "    '''\n",
    "    Рисует Матрицу корреляции признаков\n",
    "    '''\n",
    "    cmap = sns.cubehelix_palette(light=1, dark = 0.1,\n",
    "                                 hue = 0.5, as_cmap=True)\n",
    "\n",
    "    sns.set_context(font_scale=2)\n",
    "\n",
    "    # Pair grid set up\n",
    "    g = sns.PairGrid(df)\n",
    "\n",
    "    # Scatter plot on the upper triangle\n",
    "    g.map_upper(plt.scatter, s=10, color = 'red')\n",
    "\n",
    "    # Distribution on the diagonal\n",
    "    g.map_diag(sns.distplot, kde=False, color = 'red')\n",
    "\n",
    "    # Density Plot and Correlation coefficients on the lower triangle\n",
    "    g.map_lower(sns.kdeplot, cmap = cmap)\n",
    "    g.map_lower(corrfunc);"
   ]
  },
  {
   "cell_type": "code",
   "execution_count": 7,
   "id": "053a478f",
   "metadata": {},
   "outputs": [],
   "source": [
    "def print_qini(y_test, pred_uplift_ct, treat_test, text_print, perfect=False):\n",
    "    '''\n",
    "    Печать qini-кривой с помощью библиотеки sklift\n",
    "    '''\n",
    "    print(text_print)\n",
    "\n",
    "    # AUQC = area under Qini curve = Qini coefficient\n",
    "    auqc = qini_auc_score(y_test, pred_uplift_ct, treat_test) \n",
    "    print(f\"Qini coefficient: {auqc:.3f}\")\n",
    "\n",
    "    auuc = uplift_auc_score(y_test, pred_uplift_ct, treat_test) \n",
    "    print(f\"Uplift auc score: {auuc:.3f}\")\n",
    "\n",
    "    # qini curve\n",
    "    plot_qini_curve(y_test, pred_uplift_ct, treat_test, perfect=False);\n",
    "    fig = plt.gcf()\n",
    "    fig.set_size_inches(12, 8)"
   ]
  },
  {
   "cell_type": "code",
   "execution_count": 43,
   "id": "882f4720",
   "metadata": {},
   "outputs": [],
   "source": [
    "def qini_df(df):\n",
    "    '''\n",
    "    Реализузация подсчета qini скора\n",
    "    '''\n",
    "    # 1. Отранжируем выборку по значению uplift в убывающем порядке\n",
    "    ranked = df.sort_values(\"uplift_score\", ascending=False)\n",
    "    \n",
    "    N_c = sum(ranked['target_class'] <= 1)\n",
    "    N_t = sum(ranked['target_class'] >= 2)\n",
    "    \n",
    "    # Посчитаем в отсортированном датафрейме основные показатели, которые используются при расчете qini\n",
    "    ranked['n_c1'] = 0\n",
    "    ranked['n_t1'] = 0\n",
    "    ranked.loc[ranked.target_class == 1,'n_c1'] = 1\n",
    "    ranked.loc[ranked.target_class == 3,'n_t1'] = 1\n",
    "    ranked['n_c1/nc'] = ranked.n_c1.cumsum() / N_c\n",
    "    ranked['n_t1/nt'] = ranked.n_t1.cumsum() / N_t\n",
    "    \n",
    "    # Посчитаем qini curve и рандомную прямую под ней\n",
    "    ranked['uplift'] = round(ranked['n_t1/nt'] - ranked['n_c1/nc'],5)\n",
    "    # Добавим случайную кривую\n",
    "    ranked['random_uplift'] = round(ranked[\"uplift_score\"].rank(pct=True, ascending=False) * ranked['uplift'].iloc[-1],5)\n",
    "    \n",
    "    ranked[\"n\"] = ranked[\"uplift_score\"].rank(pct=True, ascending=False)\n",
    "    # Немного кода для визуализации\n",
    "    plt.plot(ranked['n'], ranked['uplift'], color='r')\n",
    "    plt.plot(ranked['n'], ranked['random_uplift'], color='b')\n",
    "    plt.show()\n",
    "    print('ord=', ranked['random_uplift'])\n",
    "    return (ranked['uplift'] - ranked['random_uplift']).sum()"
   ]
  },
  {
   "cell_type": "markdown",
   "id": "af07b5b3",
   "metadata": {},
   "source": [
    "<a id='10'></a> \n",
    "### Подготовка датасета\n",
    "\n",
    "<a href='#0'> *Вернуться к плану проекта*"
   ]
  },
  {
   "cell_type": "code",
   "execution_count": 9,
   "id": "cf5693d7",
   "metadata": {},
   "outputs": [
    {
     "data": {
      "text/html": [
       "<div>\n",
       "<style scoped>\n",
       "    .dataframe tbody tr th:only-of-type {\n",
       "        vertical-align: middle;\n",
       "    }\n",
       "\n",
       "    .dataframe tbody tr th {\n",
       "        vertical-align: top;\n",
       "    }\n",
       "\n",
       "    .dataframe thead th {\n",
       "        text-align: right;\n",
       "    }\n",
       "</style>\n",
       "<table border=\"1\" class=\"dataframe\">\n",
       "  <thead>\n",
       "    <tr style=\"text-align: right;\">\n",
       "      <th></th>\n",
       "      <th>f0</th>\n",
       "      <th>f1</th>\n",
       "      <th>f2</th>\n",
       "      <th>f3</th>\n",
       "      <th>f4</th>\n",
       "      <th>f5</th>\n",
       "      <th>f6</th>\n",
       "      <th>f7</th>\n",
       "      <th>f8</th>\n",
       "      <th>f9</th>\n",
       "      <th>f10</th>\n",
       "      <th>f11</th>\n",
       "      <th>treatment</th>\n",
       "      <th>conversion</th>\n",
       "      <th>visit</th>\n",
       "      <th>exposure</th>\n",
       "    </tr>\n",
       "  </thead>\n",
       "  <tbody>\n",
       "    <tr>\n",
       "      <th>0</th>\n",
       "      <td>12.616365</td>\n",
       "      <td>10.059654</td>\n",
       "      <td>8.976429</td>\n",
       "      <td>4.679882</td>\n",
       "      <td>10.280525</td>\n",
       "      <td>4.115453</td>\n",
       "      <td>0.294443</td>\n",
       "      <td>4.833815</td>\n",
       "      <td>3.955396</td>\n",
       "      <td>13.190056</td>\n",
       "      <td>5.300375</td>\n",
       "      <td>-0.168679</td>\n",
       "      <td>1</td>\n",
       "      <td>0</td>\n",
       "      <td>0</td>\n",
       "      <td>0</td>\n",
       "    </tr>\n",
       "    <tr>\n",
       "      <th>1</th>\n",
       "      <td>12.616365</td>\n",
       "      <td>10.059654</td>\n",
       "      <td>9.002689</td>\n",
       "      <td>4.679882</td>\n",
       "      <td>10.280525</td>\n",
       "      <td>4.115453</td>\n",
       "      <td>0.294443</td>\n",
       "      <td>4.833815</td>\n",
       "      <td>3.955396</td>\n",
       "      <td>13.190056</td>\n",
       "      <td>5.300375</td>\n",
       "      <td>-0.168679</td>\n",
       "      <td>1</td>\n",
       "      <td>0</td>\n",
       "      <td>0</td>\n",
       "      <td>0</td>\n",
       "    </tr>\n",
       "    <tr>\n",
       "      <th>2</th>\n",
       "      <td>12.616365</td>\n",
       "      <td>10.059654</td>\n",
       "      <td>8.964775</td>\n",
       "      <td>4.679882</td>\n",
       "      <td>10.280525</td>\n",
       "      <td>4.115453</td>\n",
       "      <td>0.294443</td>\n",
       "      <td>4.833815</td>\n",
       "      <td>3.955396</td>\n",
       "      <td>13.190056</td>\n",
       "      <td>5.300375</td>\n",
       "      <td>-0.168679</td>\n",
       "      <td>1</td>\n",
       "      <td>0</td>\n",
       "      <td>0</td>\n",
       "      <td>0</td>\n",
       "    </tr>\n",
       "    <tr>\n",
       "      <th>3</th>\n",
       "      <td>12.616365</td>\n",
       "      <td>10.059654</td>\n",
       "      <td>9.002801</td>\n",
       "      <td>4.679882</td>\n",
       "      <td>10.280525</td>\n",
       "      <td>4.115453</td>\n",
       "      <td>0.294443</td>\n",
       "      <td>4.833815</td>\n",
       "      <td>3.955396</td>\n",
       "      <td>13.190056</td>\n",
       "      <td>5.300375</td>\n",
       "      <td>-0.168679</td>\n",
       "      <td>1</td>\n",
       "      <td>0</td>\n",
       "      <td>0</td>\n",
       "      <td>0</td>\n",
       "    </tr>\n",
       "    <tr>\n",
       "      <th>4</th>\n",
       "      <td>12.616365</td>\n",
       "      <td>10.059654</td>\n",
       "      <td>9.037999</td>\n",
       "      <td>4.679882</td>\n",
       "      <td>10.280525</td>\n",
       "      <td>4.115453</td>\n",
       "      <td>0.294443</td>\n",
       "      <td>4.833815</td>\n",
       "      <td>3.955396</td>\n",
       "      <td>13.190056</td>\n",
       "      <td>5.300375</td>\n",
       "      <td>-0.168679</td>\n",
       "      <td>1</td>\n",
       "      <td>0</td>\n",
       "      <td>0</td>\n",
       "      <td>0</td>\n",
       "    </tr>\n",
       "  </tbody>\n",
       "</table>\n",
       "</div>"
      ],
      "text/plain": [
       "          f0         f1        f2        f3         f4        f5        f6  \\\n",
       "0  12.616365  10.059654  8.976429  4.679882  10.280525  4.115453  0.294443   \n",
       "1  12.616365  10.059654  9.002689  4.679882  10.280525  4.115453  0.294443   \n",
       "2  12.616365  10.059654  8.964775  4.679882  10.280525  4.115453  0.294443   \n",
       "3  12.616365  10.059654  9.002801  4.679882  10.280525  4.115453  0.294443   \n",
       "4  12.616365  10.059654  9.037999  4.679882  10.280525  4.115453  0.294443   \n",
       "\n",
       "         f7        f8         f9       f10       f11  treatment  conversion  \\\n",
       "0  4.833815  3.955396  13.190056  5.300375 -0.168679          1           0   \n",
       "1  4.833815  3.955396  13.190056  5.300375 -0.168679          1           0   \n",
       "2  4.833815  3.955396  13.190056  5.300375 -0.168679          1           0   \n",
       "3  4.833815  3.955396  13.190056  5.300375 -0.168679          1           0   \n",
       "4  4.833815  3.955396  13.190056  5.300375 -0.168679          1           0   \n",
       "\n",
       "   visit  exposure  \n",
       "0      0         0  \n",
       "1      0         0  \n",
       "2      0         0  \n",
       "3      0         0  \n",
       "4      0         0  "
      ]
     },
     "execution_count": 9,
     "metadata": {},
     "output_type": "execute_result"
    }
   ],
   "source": [
    "path = r'F:\\SkillFactory\\Y2_U22_Uplift\\criteo-uplift-v2.1'\n",
    "\n",
    "df = pd.read_csv(os.path.join(path,\"criteo-uplift-v2.1.csv\"), sep=\",\")\n",
    "df.head()"
   ]
  },
  {
   "cell_type": "code",
   "execution_count": 10,
   "id": "94f763d2",
   "metadata": {},
   "outputs": [
    {
     "name": "stdout",
     "output_type": "stream",
     "text": [
      "<class 'pandas.core.frame.DataFrame'>\n",
      "RangeIndex: 13979592 entries, 0 to 13979591\n",
      "Data columns (total 16 columns):\n",
      " #   Column      Dtype  \n",
      "---  ------      -----  \n",
      " 0   f0          float64\n",
      " 1   f1          float64\n",
      " 2   f2          float64\n",
      " 3   f3          float64\n",
      " 4   f4          float64\n",
      " 5   f5          float64\n",
      " 6   f6          float64\n",
      " 7   f7          float64\n",
      " 8   f8          float64\n",
      " 9   f9          float64\n",
      " 10  f10         float64\n",
      " 11  f11         float64\n",
      " 12  treatment   int64  \n",
      " 13  conversion  int64  \n",
      " 14  visit       int64  \n",
      " 15  exposure    int64  \n",
      "dtypes: float64(12), int64(4)\n",
      "memory usage: 1.7 GB\n"
     ]
    }
   ],
   "source": [
    "df.info()"
   ]
  },
  {
   "cell_type": "code",
   "execution_count": 11,
   "id": "b4b0dd73",
   "metadata": {},
   "outputs": [],
   "source": [
    "# Уменьшим размеры используемой памяти\n",
    "for col in ['treatment', 'conversion', 'visit', 'exposure']:\n",
    "    df[col] = df[col].astype('int8')\n",
    "for i in range(12):\n",
    "    col = 'f'+str(i)\n",
    "    df[col] = df[col].astype('float16')"
   ]
  },
  {
   "cell_type": "code",
   "execution_count": 12,
   "id": "0e36bcf5",
   "metadata": {},
   "outputs": [
    {
     "name": "stdout",
     "output_type": "stream",
     "text": [
      "<class 'pandas.core.frame.DataFrame'>\n",
      "RangeIndex: 13979592 entries, 0 to 13979591\n",
      "Data columns (total 16 columns):\n",
      " #   Column      Dtype  \n",
      "---  ------      -----  \n",
      " 0   f0          float16\n",
      " 1   f1          float16\n",
      " 2   f2          float16\n",
      " 3   f3          float16\n",
      " 4   f4          float16\n",
      " 5   f5          float16\n",
      " 6   f6          float16\n",
      " 7   f7          float16\n",
      " 8   f8          float16\n",
      " 9   f9          float16\n",
      " 10  f10         float16\n",
      " 11  f11         float16\n",
      " 12  treatment   int8   \n",
      " 13  conversion  int8   \n",
      " 14  visit       int8   \n",
      " 15  exposure    int8   \n",
      "dtypes: float16(12), int8(4)\n",
      "memory usage: 373.3 MB\n"
     ]
    }
   ],
   "source": [
    "df.info()"
   ]
  },
  {
   "cell_type": "code",
   "execution_count": 200,
   "id": "2ae14a2e",
   "metadata": {},
   "outputs": [
    {
     "data": {
      "text/html": [
       "<div>\n",
       "<style scoped>\n",
       "    .dataframe tbody tr th:only-of-type {\n",
       "        vertical-align: middle;\n",
       "    }\n",
       "\n",
       "    .dataframe tbody tr th {\n",
       "        vertical-align: top;\n",
       "    }\n",
       "\n",
       "    .dataframe thead th {\n",
       "        text-align: right;\n",
       "    }\n",
       "</style>\n",
       "<table border=\"1\" class=\"dataframe\">\n",
       "  <thead>\n",
       "    <tr style=\"text-align: right;\">\n",
       "      <th></th>\n",
       "      <th>f0</th>\n",
       "      <th>f1</th>\n",
       "      <th>f2</th>\n",
       "      <th>f3</th>\n",
       "      <th>f4</th>\n",
       "      <th>f5</th>\n",
       "      <th>f6</th>\n",
       "      <th>f7</th>\n",
       "      <th>f8</th>\n",
       "      <th>f9</th>\n",
       "      <th>f10</th>\n",
       "      <th>f11</th>\n",
       "      <th>treatment</th>\n",
       "      <th>conversion</th>\n",
       "      <th>visit</th>\n",
       "      <th>exposure</th>\n",
       "    </tr>\n",
       "  </thead>\n",
       "  <tbody>\n",
       "    <tr>\n",
       "      <th>0</th>\n",
       "      <td>12.617</td>\n",
       "      <td>10.062</td>\n",
       "      <td>8.977</td>\n",
       "      <td>4.680</td>\n",
       "      <td>10.281</td>\n",
       "      <td>4.117</td>\n",
       "      <td>0.294</td>\n",
       "      <td>4.832</td>\n",
       "      <td>3.955</td>\n",
       "      <td>13.188</td>\n",
       "      <td>5.301</td>\n",
       "      <td>-0.169</td>\n",
       "      <td>1</td>\n",
       "      <td>0</td>\n",
       "      <td>0</td>\n",
       "      <td>0</td>\n",
       "    </tr>\n",
       "    <tr>\n",
       "      <th>1</th>\n",
       "      <td>12.617</td>\n",
       "      <td>10.062</td>\n",
       "      <td>9.000</td>\n",
       "      <td>4.680</td>\n",
       "      <td>10.281</td>\n",
       "      <td>4.117</td>\n",
       "      <td>0.294</td>\n",
       "      <td>4.832</td>\n",
       "      <td>3.955</td>\n",
       "      <td>13.188</td>\n",
       "      <td>5.301</td>\n",
       "      <td>-0.169</td>\n",
       "      <td>1</td>\n",
       "      <td>0</td>\n",
       "      <td>0</td>\n",
       "      <td>0</td>\n",
       "    </tr>\n",
       "    <tr>\n",
       "      <th>2</th>\n",
       "      <td>12.617</td>\n",
       "      <td>10.062</td>\n",
       "      <td>8.961</td>\n",
       "      <td>4.680</td>\n",
       "      <td>10.281</td>\n",
       "      <td>4.117</td>\n",
       "      <td>0.294</td>\n",
       "      <td>4.832</td>\n",
       "      <td>3.955</td>\n",
       "      <td>13.188</td>\n",
       "      <td>5.301</td>\n",
       "      <td>-0.169</td>\n",
       "      <td>1</td>\n",
       "      <td>0</td>\n",
       "      <td>0</td>\n",
       "      <td>0</td>\n",
       "    </tr>\n",
       "    <tr>\n",
       "      <th>3</th>\n",
       "      <td>12.617</td>\n",
       "      <td>10.062</td>\n",
       "      <td>9.000</td>\n",
       "      <td>4.680</td>\n",
       "      <td>10.281</td>\n",
       "      <td>4.117</td>\n",
       "      <td>0.294</td>\n",
       "      <td>4.832</td>\n",
       "      <td>3.955</td>\n",
       "      <td>13.188</td>\n",
       "      <td>5.301</td>\n",
       "      <td>-0.169</td>\n",
       "      <td>1</td>\n",
       "      <td>0</td>\n",
       "      <td>0</td>\n",
       "      <td>0</td>\n",
       "    </tr>\n",
       "    <tr>\n",
       "      <th>4</th>\n",
       "      <td>12.617</td>\n",
       "      <td>10.062</td>\n",
       "      <td>9.039</td>\n",
       "      <td>4.680</td>\n",
       "      <td>10.281</td>\n",
       "      <td>4.117</td>\n",
       "      <td>0.294</td>\n",
       "      <td>4.832</td>\n",
       "      <td>3.955</td>\n",
       "      <td>13.188</td>\n",
       "      <td>5.301</td>\n",
       "      <td>-0.169</td>\n",
       "      <td>1</td>\n",
       "      <td>0</td>\n",
       "      <td>0</td>\n",
       "      <td>0</td>\n",
       "    </tr>\n",
       "  </tbody>\n",
       "</table>\n",
       "</div>"
      ],
      "text/plain": [
       "      f0     f1    f2    f3     f4    f5    f6    f7    f8     f9   f10  \\\n",
       "0 12.617 10.062 8.977 4.680 10.281 4.117 0.294 4.832 3.955 13.188 5.301   \n",
       "1 12.617 10.062 9.000 4.680 10.281 4.117 0.294 4.832 3.955 13.188 5.301   \n",
       "2 12.617 10.062 8.961 4.680 10.281 4.117 0.294 4.832 3.955 13.188 5.301   \n",
       "3 12.617 10.062 9.000 4.680 10.281 4.117 0.294 4.832 3.955 13.188 5.301   \n",
       "4 12.617 10.062 9.039 4.680 10.281 4.117 0.294 4.832 3.955 13.188 5.301   \n",
       "\n",
       "     f11  treatment  conversion  visit  exposure  \n",
       "0 -0.169          1           0      0         0  \n",
       "1 -0.169          1           0      0         0  \n",
       "2 -0.169          1           0      0         0  \n",
       "3 -0.169          1           0      0         0  \n",
       "4 -0.169          1           0      0         0  "
      ]
     },
     "execution_count": 200,
     "metadata": {},
     "output_type": "execute_result"
    }
   ],
   "source": [
    "df.head()"
   ]
  },
  {
   "cell_type": "markdown",
   "id": "654ba367",
   "metadata": {},
   "source": [
    "<a id='11'></a> \n",
    "### EDA\n",
    "\n",
    "<a href='#0'> *Вернуться к плану проекта*"
   ]
  },
  {
   "cell_type": "markdown",
   "id": "380d1800",
   "metadata": {},
   "source": [
    "Посмотрим на полный датасет, прежде всего на распределеление бинарных признаков воздействия рекламой и признаки ответа на эту обработку, отметим резкий дисбаланс классов:"
   ]
  },
  {
   "cell_type": "code",
   "execution_count": 171,
   "id": "7c84e66f",
   "metadata": {},
   "outputs": [
    {
     "data": {
      "image/png": "[encoded data removed]",
      "text/plain": [
       "<Figure size 432x288 with 4 Axes>"
      ]
     },
     "metadata": {},
     "output_type": "display_data"
    }
   ],
   "source": [
    "df[['treatment','conversion','visit','exposure']].hist();"
   ]
  },
  {
   "cell_type": "code",
   "execution_count": 10,
   "id": "51a5bc03",
   "metadata": {},
   "outputs": [
    {
     "data": {
      "text/plain": [
       "1    11882655\n",
       "0     2096937\n",
       "Name: treatment, dtype: int64"
      ]
     },
     "execution_count": 10,
     "metadata": {},
     "output_type": "execute_result"
    }
   ],
   "source": [
    "df.treatment.value_counts()"
   ]
  },
  {
   "cell_type": "code",
   "execution_count": 11,
   "id": "85e742dc",
   "metadata": {},
   "outputs": [
    {
     "data": {
      "text/plain": [
       "0    13322663\n",
       "1      656929\n",
       "Name: visit, dtype: int64"
      ]
     },
     "execution_count": 11,
     "metadata": {},
     "output_type": "execute_result"
    }
   ],
   "source": [
    "df.visit.value_counts()"
   ]
  },
  {
   "cell_type": "markdown",
   "id": "9c7fb745",
   "metadata": {},
   "source": [
    "Поскольку признаков \"ответа на воздействие\" несколько, то для удобства анализа попробуем их представить в виде нескольких классов:**"
   ]
  },
  {
   "cell_type": "code",
   "execution_count": 206,
   "id": "8655d8e0",
   "metadata": {},
   "outputs": [],
   "source": [
    "df['class'] = (df['conversion']+(df['visit']*10)+(df['exposure']*100)+(df['treatment']*1000)).astype('int16')\n",
    "df['class2'] = (df['conversion']+(df['visit']*2)+(df['exposure']*4)+(df['treatment']*8)).astype('int16')\n",
    "#df['y0'] = (df['conversion']+df['visit']+df['exposure']).astype('int8')\n",
    "#df['y0'] = np.where(df['y0']>0, 1, 0)"
   ]
  },
  {
   "cell_type": "code",
   "execution_count": 155,
   "id": "39d9670b",
   "metadata": {},
   "outputs": [
    {
     "data": {
      "text/plain": [
       "1000    11055129\n",
       "0        2016832\n",
       "1010      385634\n",
       "1100      250702\n",
       "1110      154479\n",
       "10         76042\n",
       "1111       23031\n",
       "1011       13680\n",
       "11          4063\n",
       "Name: class, dtype: int64"
      ]
     },
     "execution_count": 155,
     "metadata": {},
     "output_type": "execute_result"
    }
   ],
   "source": [
    "df['class'].value_counts()"
   ]
  },
  {
   "cell_type": "code",
   "execution_count": 174,
   "id": "85d55102",
   "metadata": {},
   "outputs": [
    {
     "data": {
      "text/plain": [
       "<AxesSubplot:>"
      ]
     },
     "execution_count": 174,
     "metadata": {},
     "output_type": "execute_result"
    },
    {
     "data": {
      "image/png": "[encoded data removed]",
      "text/plain": [
       "<Figure size 432x288 with 1 Axes>"
      ]
     },
     "metadata": {},
     "output_type": "display_data"
    }
   ],
   "source": [
    "df['class2'].hist(bins=30)"
   ]
  },
  {
   "cell_type": "code",
   "execution_count": 159,
   "id": "22022018",
   "metadata": {},
   "outputs": [
    {
     "data": {
      "text/plain": [
       "0"
      ]
     },
     "execution_count": 159,
     "metadata": {},
     "output_type": "execute_result"
    }
   ],
   "source": [
    "df[(df.treatment == 1) & (df.visit == 0)& (df.conversion == 1)]['class'].count()"
   ]
  },
  {
   "cell_type": "markdown",
   "id": "67e2394f",
   "metadata": {},
   "source": [
    "**Из данного представления можно сделать следующие наблюдения:**\n",
    "\n",
    "Датасет делится на 2 группы: 11.883 тыс(treatment) - подвергшиеся воздействию(наблюдаемая группа: treatment=1) и 2.097 млн (non treatment, treatment=0) не подвергшиеся воздействию, или контрольная группа.\n",
    "\n",
    "Если подвергшиеся воздействию объекты позволяют определить, \n",
    "\n",
    "сколько из них имеют эффект от воздействия: 0.428 млн против 11.454 млн;\n",
    "\n",
    "был ли визит: 0.577 млн против 11.306 млн;\n",
    "\n",
    "был ли последующий заказ: 0.037 млн против 11.846 млн\n",
    "\n",
    "то для контрольной группы:\n",
    "\n",
    "был ли визит: 0.080 млн против 2.017 млн;\n",
    "\n",
    "был ли заказ: 0.004 млн против 2.093 млн\n",
    "\n",
    "Заказов без визита не было."
   ]
  },
  {
   "cell_type": "markdown",
   "id": "da9c1cac",
   "metadata": {},
   "source": [
    "Поскольку заказов без визита не было, но нас будет интересовать именно воздействие рекламы на совершение покупки. Поэтому выбираем только записи с совершенным визитом:"
   ]
  },
  {
   "cell_type": "code",
   "execution_count": 13,
   "id": "7c1db7a0",
   "metadata": {},
   "outputs": [],
   "source": [
    "df = df[df['visit']==1].copy()"
   ]
  },
  {
   "cell_type": "code",
   "execution_count": 14,
   "id": "6b1214c6",
   "metadata": {},
   "outputs": [
    {
     "name": "stdout",
     "output_type": "stream",
     "text": [
      "<class 'pandas.core.frame.DataFrame'>\n",
      "Int64Index: 656929 entries, 715 to 13979589\n",
      "Data columns (total 16 columns):\n",
      " #   Column      Non-Null Count   Dtype  \n",
      "---  ------      --------------   -----  \n",
      " 0   f0          656929 non-null  float16\n",
      " 1   f1          656929 non-null  float16\n",
      " 2   f2          656929 non-null  float16\n",
      " 3   f3          656929 non-null  float16\n",
      " 4   f4          656929 non-null  float16\n",
      " 5   f5          656929 non-null  float16\n",
      " 6   f6          656929 non-null  float16\n",
      " 7   f7          656929 non-null  float16\n",
      " 8   f8          656929 non-null  float16\n",
      " 9   f9          656929 non-null  float16\n",
      " 10  f10         656929 non-null  float16\n",
      " 11  f11         656929 non-null  float16\n",
      " 12  treatment   656929 non-null  int8   \n",
      " 13  conversion  656929 non-null  int8   \n",
      " 14  visit       656929 non-null  int8   \n",
      " 15  exposure    656929 non-null  int8   \n",
      "dtypes: float16(12), int8(4)\n",
      "memory usage: 22.6 MB\n"
     ]
    }
   ],
   "source": [
    "df.info()"
   ]
  },
  {
   "cell_type": "markdown",
   "id": "2c1c3ab6",
   "metadata": {},
   "source": [
    "Распределение признаков на оставшемся датасете:"
   ]
  },
  {
   "cell_type": "code",
   "execution_count": 15,
   "id": "a9d8ef44",
   "metadata": {},
   "outputs": [
    {
     "data": {
      "image/png": "[encoded data removed]",
      "text/plain": [
       "<Figure size 432x288 with 4 Axes>"
      ]
     },
     "metadata": {
      "needs_background": "light"
     },
     "output_type": "display_data"
    }
   ],
   "source": [
    "df[['treatment','conversion','exposure']].hist();"
   ]
  },
  {
   "cell_type": "code",
   "execution_count": 16,
   "id": "860e85d3",
   "metadata": {},
   "outputs": [
    {
     "data": {
      "text/plain": [
       "1    576824\n",
       "0     80105\n",
       "Name: treatment, dtype: int64"
      ]
     },
     "execution_count": 16,
     "metadata": {},
     "output_type": "execute_result"
    }
   ],
   "source": [
    "df.treatment.value_counts()"
   ]
  },
  {
   "cell_type": "code",
   "execution_count": 17,
   "id": "ac4ea7ca",
   "metadata": {},
   "outputs": [
    {
     "data": {
      "text/plain": [
       "0    616155\n",
       "1     40774\n",
       "Name: conversion, dtype: int64"
      ]
     },
     "execution_count": 17,
     "metadata": {},
     "output_type": "execute_result"
    }
   ],
   "source": [
    "df.conversion.value_counts()"
   ]
  },
  {
   "cell_type": "code",
   "execution_count": 18,
   "id": "3b422183",
   "metadata": {},
   "outputs": [
    {
     "data": {
      "text/plain": [
       "0    479419\n",
       "1    177510\n",
       "Name: exposure, dtype: int64"
      ]
     },
     "execution_count": 18,
     "metadata": {},
     "output_type": "execute_result"
    }
   ],
   "source": [
    "df.exposure.value_counts()"
   ]
  },
  {
   "cell_type": "markdown",
   "id": "034659f3",
   "metadata": {},
   "source": [
    "При этом признак exposure есть только у наблюдаемой группы:"
   ]
  },
  {
   "cell_type": "code",
   "execution_count": 166,
   "id": "0eb720b4",
   "metadata": {},
   "outputs": [
    {
     "data": {
      "text/plain": [
       "0"
      ]
     },
     "execution_count": 166,
     "metadata": {},
     "output_type": "execute_result"
    }
   ],
   "source": [
    "df[(df.exposure==1)&(df.treatment==0)]['class'].count()"
   ]
  },
  {
   "cell_type": "markdown",
   "id": "d80953b8",
   "metadata": {},
   "source": [
    "Введем target_class:\n",
    "\n",
    "0 - Контрольная выборка, не купили товар (y=0, c в наших терминах)\n",
    "\n",
    "1 - Контрольная выборка, купили товар (y=1, c)\n",
    "\n",
    "2 - Выборка с воздействием (скидка), не купили товар (y=0, t)\n",
    "\n",
    "3 - Выборка с воздействием (скидка), купили товар (y=1, t)"
   ]
  },
  {
   "cell_type": "code",
   "execution_count": 19,
   "id": "b8f2f6aa",
   "metadata": {},
   "outputs": [],
   "source": [
    "df['target_class'] = np.where((df['treatment']==0)&(df['conversion']==1),1,0)\n",
    "df['target_class'] = np.where((df['treatment']==1)&(df['conversion']==0),2,df['target_class'])\n",
    "df['target_class'] = np.where((df['treatment']==1)&(df['conversion']==1),3,df['target_class'])"
   ]
  },
  {
   "cell_type": "code",
   "execution_count": 20,
   "id": "3b3795f2",
   "metadata": {},
   "outputs": [
    {
     "data": {
      "image/png": "[encoded data removed]",
      "text/plain": [
       "<Figure size 432x288 with 4 Axes>"
      ]
     },
     "metadata": {
      "needs_background": "light"
     },
     "output_type": "display_data"
    }
   ],
   "source": [
    "df[['treatment', 'target_class', 'conversion','exposure']].hist();"
   ]
  },
  {
   "cell_type": "code",
   "execution_count": 286,
   "id": "b8e78c86",
   "metadata": {},
   "outputs": [
    {
     "data": {
      "text/plain": [
       "1    576824\n",
       "0     80105\n",
       "Name: treatment, dtype: int64"
      ]
     },
     "execution_count": 286,
     "metadata": {},
     "output_type": "execute_result"
    }
   ],
   "source": [
    "df.treatment.value_counts()"
   ]
  },
  {
   "cell_type": "code",
   "execution_count": 21,
   "id": "d8a6f5e7",
   "metadata": {},
   "outputs": [
    {
     "data": {
      "text/plain": [
       "2    540113\n",
       "0     76042\n",
       "3     36711\n",
       "1      4063\n",
       "Name: target_class, dtype: int64"
      ]
     },
     "execution_count": 21,
     "metadata": {},
     "output_type": "execute_result"
    }
   ],
   "source": [
    "df.target_class.value_counts()"
   ]
  },
  {
   "cell_type": "code",
   "execution_count": 288,
   "id": "cf2efab2",
   "metadata": {},
   "outputs": [
    {
     "data": {
      "text/plain": [
       "0    479419\n",
       "1    177510\n",
       "Name: exposure, dtype: int64"
      ]
     },
     "execution_count": 288,
     "metadata": {},
     "output_type": "execute_result"
    }
   ],
   "source": [
    "df.exposure.value_counts()"
   ]
  },
  {
   "cell_type": "code",
   "execution_count": 22,
   "id": "606e590a",
   "metadata": {},
   "outputs": [
    {
     "data": {
      "image/png": "[encoded data removed]",
      "text/plain": [
       "<Figure size 1152x360 with 8 Axes>"
      ]
     },
     "metadata": {
      "needs_background": "light"
     },
     "output_type": "display_data"
    }
   ],
   "source": [
    "show_distination(['f0', 'f1', 'f2', 'f3'], 'target_class')"
   ]
  },
  {
   "cell_type": "code",
   "execution_count": 23,
   "id": "aac2fc37",
   "metadata": {},
   "outputs": [
    {
     "data": {
      "image/png": "[encoded data removed]",
      "text/plain": [
       "<Figure size 1152x360 with 8 Axes>"
      ]
     },
     "metadata": {
      "needs_background": "light"
     },
     "output_type": "display_data"
    }
   ],
   "source": [
    "show_distination(['f4', 'f5', 'f6', 'f7'], 'target_class')"
   ]
  },
  {
   "cell_type": "code",
   "execution_count": 24,
   "id": "7e25f985",
   "metadata": {},
   "outputs": [
    {
     "data": {
      "image/png": "[encoded data removed]",
      "text/plain": [
       "<Figure size 1152x360 with 8 Axes>"
      ]
     },
     "metadata": {
      "needs_background": "light"
     },
     "output_type": "display_data"
    }
   ],
   "source": [
    "show_distination(['f8', 'f9', 'f10', 'f11'], 'target_class')"
   ]
  },
  {
   "cell_type": "code",
   "execution_count": 24,
   "id": "c115bf5c",
   "metadata": {},
   "outputs": [
    {
     "data": {
      "text/plain": [
       "<AxesSubplot:>"
      ]
     },
     "execution_count": 24,
     "metadata": {},
     "output_type": "execute_result"
    },
    {
     "data": {
      "image/png": "[encoded data removed]",
      "text/plain": [
       "<Figure size 432x288 with 1 Axes>"
      ]
     },
     "metadata": {
      "needs_background": "light"
     },
     "output_type": "display_data"
    }
   ],
   "source": [
    "df.boxplot(column=['f0','f1','f2','f3','f4','f5','f6','f7','f8','f9','f10','f11'])"
   ]
  },
  {
   "cell_type": "code",
   "execution_count": 289,
   "id": "61a071f7",
   "metadata": {},
   "outputs": [
    {
     "name": "stdout",
     "output_type": "stream",
     "text": [
      "7.0703125\n",
      "0.234375\n",
      "3.24609375\n",
      "0.75\n",
      "0.080078125\n",
      "17.734375\n",
      "0.22265625\n"
     ]
    }
   ],
   "source": [
    "# Убираем выбросы на основе статистик:\n",
    "\n",
    "#cols = ['f'+str(i) for i in range(12)]\n",
    "cols = ['f0','f2','f3','f4','f8','f9','f10']\n",
    "for col in cols:\n",
    "    y=col\n",
    "    #print(df[y].describe())\n",
    "    \n",
    "    iqr = scipy.stats.iqr(df[y])\n",
    "    print(iqr)\n",
    "    median = np.median(df[y])\n",
    "    #print(median)\n",
    "    #del_index = df[df[y]<np.percentile(df[y],25) - 1.5*iqr].index\n",
    "    #df = df.loc[list(set(df.index)-set(del_index.tolist()))]\n",
    "    #df.loc[del_index][y] = median\n",
    "    df[y] = np.where(df[y]<np.percentile(df[y],25) - 1.5*iqr, median, df[y])\n",
    "    \n",
    "    #del_index = df[df[y]>np.percentile(df[y],75) + 1.5*iqr].index\n",
    "    #df = df.loc[list(set(df.index)-set(del_index.tolist()))]\n",
    "    #df.loc[del_index][y] = median\n",
    "    df[y] = np.where(df[y]>np.percentile(df[y],75) + 1.5*iqr, median, df[y])\n",
    "    #print(df[y].describe())"
   ]
  },
  {
   "cell_type": "code",
   "execution_count": 295,
   "id": "f31c9109",
   "metadata": {},
   "outputs": [
    {
     "data": {
      "image/png": "[encoded data removed]",
      "text/plain": [
       "<Figure size 1008x576 with 2 Axes>"
      ]
     },
     "metadata": {},
     "output_type": "display_data"
    }
   ],
   "source": [
    "dfXn = df[['f' + str(i) for i in range(12)]]\n",
    "# correlation of features\n",
    "plt.figure(figsize = (14,8))\n",
    "sns.set(font_scale=0.75)\n",
    "sns.heatmap(dfXn.corr().round(3), annot=True, square = True, \\\n",
    "    linewidths=.75, cmap=\"coolwarm\", fmt = \".2f\", annot_kws = {\"size\": 10} )\n",
    "plt.title(\"correlation matrix\")\n",
    "plt.show()"
   ]
  },
  {
   "cell_type": "code",
   "execution_count": 365,
   "id": "43f5afdd",
   "metadata": {},
   "outputs": [
    {
     "data": {
      "image/png": "[encoded data removed]",
      "text/plain": [
       "<Figure size 1008x576 with 2 Axes>"
      ]
     },
     "metadata": {},
     "output_type": "display_data"
    }
   ],
   "source": [
    "cols1=['f0','f2','f3','f4','f8','f10']\n",
    "dfXn = df[cols1]\n",
    "# correlation of features\n",
    "plt.figure(figsize = (14,8))\n",
    "sns.set(font_scale=0.75)\n",
    "sns.heatmap(dfXn.corr().round(3), annot=True, square = True, \\\n",
    "    linewidths=.75, cmap=\"coolwarm\", fmt = \".2f\", annot_kws = {\"size\": 10} )\n",
    "plt.title(\"correlation matrix\")\n",
    "plt.show()"
   ]
  },
  {
   "cell_type": "code",
   "execution_count": 296,
   "id": "28b3e673",
   "metadata": {},
   "outputs": [
    {
     "data": {
      "image/png": "[encoded data removed]",
      "text/plain": [
       "<Figure size 1008x576 with 2 Axes>"
      ]
     },
     "metadata": {},
     "output_type": "display_data"
    }
   ],
   "source": [
    "df['target'] = df['conversion']\n",
    "# treatment vs target: visits\n",
    "plt.figure(figsize = (14,8))\n",
    "sns.set(font_scale=0.75)\n",
    "crosstab = pd.crosstab(df.treatment, df.target, normalize=\"index\")\n",
    "    \n",
    "sns.heatmap(crosstab, annot=True, fmt=\".5f\", linewidths=1, square = True, cmap = \"coolwarm\")\n",
    "plt.xlabel(\"target: visits\")\n",
    "plt.title(\"treatment vs target\");"
   ]
  },
  {
   "cell_type": "markdown",
   "id": "b2e621cf",
   "metadata": {},
   "source": [
    "<a id='1'></a> \n",
    "### Валидационный датасет\n",
    "\n",
    "<a href='#0'> *Вернуться к плану проекта*"
   ]
  },
  {
   "cell_type": "code",
   "execution_count": 297,
   "id": "ce465d26",
   "metadata": {},
   "outputs": [
    {
     "name": "stdout",
     "output_type": "stream",
     "text": [
      "<class 'pandas.core.frame.DataFrame'>\n",
      "Int64Index: 656929 entries, 715 to 13979589\n",
      "Data columns (total 20 columns):\n",
      " #   Column      Non-Null Count   Dtype  \n",
      "---  ------      --------------   -----  \n",
      " 0   f0          656929 non-null  float16\n",
      " 1   f1          656929 non-null  float16\n",
      " 2   f2          656929 non-null  float16\n",
      " 3   f3          656929 non-null  float16\n",
      " 4   f4          656929 non-null  float16\n",
      " 5   f5          656929 non-null  float16\n",
      " 6   f6          656929 non-null  float16\n",
      " 7   f7          656929 non-null  float16\n",
      " 8   f8          656929 non-null  float16\n",
      " 9   f9          656929 non-null  float16\n",
      " 10  f10         656929 non-null  float16\n",
      " 11  f11         656929 non-null  float16\n",
      " 12  treatment   656929 non-null  int8   \n",
      " 13  conversion  656929 non-null  int8   \n",
      " 14  visit       656929 non-null  int8   \n",
      " 15  exposure    656929 non-null  int8   \n",
      " 16  class       656929 non-null  int16  \n",
      " 17  class2      656929 non-null  int16  \n",
      " 18  exposure2   656929 non-null  int64  \n",
      " 19  target      656929 non-null  int8   \n",
      "dtypes: float16(12), int16(2), int64(1), int8(5)\n",
      "memory usage: 30.7 MB\n"
     ]
    }
   ],
   "source": [
    "df.info()"
   ]
  },
  {
   "cell_type": "code",
   "execution_count": 313,
   "id": "79676208",
   "metadata": {},
   "outputs": [
    {
     "data": {
      "text/html": [
       "<div>\n",
       "<style scoped>\n",
       "    .dataframe tbody tr th:only-of-type {\n",
       "        vertical-align: middle;\n",
       "    }\n",
       "\n",
       "    .dataframe tbody tr th {\n",
       "        vertical-align: top;\n",
       "    }\n",
       "\n",
       "    .dataframe thead th {\n",
       "        text-align: right;\n",
       "    }\n",
       "</style>\n",
       "<table border=\"1\" class=\"dataframe\">\n",
       "  <thead>\n",
       "    <tr style=\"text-align: right;\">\n",
       "      <th></th>\n",
       "      <th>f0</th>\n",
       "      <th>f1</th>\n",
       "      <th>f2</th>\n",
       "      <th>f3</th>\n",
       "      <th>f4</th>\n",
       "      <th>f5</th>\n",
       "      <th>f6</th>\n",
       "      <th>f7</th>\n",
       "      <th>f8</th>\n",
       "      <th>f9</th>\n",
       "      <th>f10</th>\n",
       "      <th>f11</th>\n",
       "      <th>treatment</th>\n",
       "      <th>conversion</th>\n",
       "    </tr>\n",
       "  </thead>\n",
       "  <tbody>\n",
       "    <tr>\n",
       "      <th>10531349</th>\n",
       "      <td>14.477</td>\n",
       "      <td>10.062</td>\n",
       "      <td>8.359</td>\n",
       "      <td>2.039</td>\n",
       "      <td>10.281</td>\n",
       "      <td>4.117</td>\n",
       "      <td>-8.062</td>\n",
       "      <td>4.832</td>\n",
       "      <td>3.861</td>\n",
       "      <td>22.578</td>\n",
       "      <td>5.301</td>\n",
       "      <td>-0.169</td>\n",
       "      <td>1</td>\n",
       "      <td>0</td>\n",
       "    </tr>\n",
       "    <tr>\n",
       "      <th>6856763</th>\n",
       "      <td>12.617</td>\n",
       "      <td>10.062</td>\n",
       "      <td>8.227</td>\n",
       "      <td>4.680</td>\n",
       "      <td>10.281</td>\n",
       "      <td>4.117</td>\n",
       "      <td>0.294</td>\n",
       "      <td>4.832</td>\n",
       "      <td>3.795</td>\n",
       "      <td>35.438</td>\n",
       "      <td>5.301</td>\n",
       "      <td>-0.169</td>\n",
       "      <td>1</td>\n",
       "      <td>0</td>\n",
       "    </tr>\n",
       "    <tr>\n",
       "      <th>13542067</th>\n",
       "      <td>13.922</td>\n",
       "      <td>10.062</td>\n",
       "      <td>8.680</td>\n",
       "      <td>1.614</td>\n",
       "      <td>11.031</td>\n",
       "      <td>4.117</td>\n",
       "      <td>-5.988</td>\n",
       "      <td>4.832</td>\n",
       "      <td>3.789</td>\n",
       "      <td>16.219</td>\n",
       "      <td>5.301</td>\n",
       "      <td>-0.169</td>\n",
       "      <td>1</td>\n",
       "      <td>0</td>\n",
       "    </tr>\n",
       "    <tr>\n",
       "      <th>10926197</th>\n",
       "      <td>17.531</td>\n",
       "      <td>10.062</td>\n",
       "      <td>8.344</td>\n",
       "      <td>2.936</td>\n",
       "      <td>10.281</td>\n",
       "      <td>4.117</td>\n",
       "      <td>-5.578</td>\n",
       "      <td>4.832</td>\n",
       "      <td>3.859</td>\n",
       "      <td>25.953</td>\n",
       "      <td>5.301</td>\n",
       "      <td>-0.169</td>\n",
       "      <td>1</td>\n",
       "      <td>0</td>\n",
       "    </tr>\n",
       "    <tr>\n",
       "      <th>443645</th>\n",
       "      <td>12.617</td>\n",
       "      <td>10.062</td>\n",
       "      <td>8.852</td>\n",
       "      <td>4.680</td>\n",
       "      <td>11.031</td>\n",
       "      <td>4.117</td>\n",
       "      <td>0.294</td>\n",
       "      <td>4.832</td>\n",
       "      <td>3.799</td>\n",
       "      <td>13.188</td>\n",
       "      <td>5.301</td>\n",
       "      <td>-0.169</td>\n",
       "      <td>1</td>\n",
       "      <td>0</td>\n",
       "    </tr>\n",
       "  </tbody>\n",
       "</table>\n",
       "</div>"
      ],
      "text/plain": [
       "             f0     f1    f2    f3     f4    f5     f6    f7    f8     f9  \\\n",
       "10531349 14.477 10.062 8.359 2.039 10.281 4.117 -8.062 4.832 3.861 22.578   \n",
       "6856763  12.617 10.062 8.227 4.680 10.281 4.117  0.294 4.832 3.795 35.438   \n",
       "13542067 13.922 10.062 8.680 1.614 11.031 4.117 -5.988 4.832 3.789 16.219   \n",
       "10926197 17.531 10.062 8.344 2.936 10.281 4.117 -5.578 4.832 3.859 25.953   \n",
       "443645   12.617 10.062 8.852 4.680 11.031 4.117  0.294 4.832 3.799 13.188   \n",
       "\n",
       "           f10    f11  treatment  conversion  \n",
       "10531349 5.301 -0.169          1           0  \n",
       "6856763  5.301 -0.169          1           0  \n",
       "13542067 5.301 -0.169          1           0  \n",
       "10926197 5.301 -0.169          1           0  \n",
       "443645   5.301 -0.169          1           0  "
      ]
     },
     "execution_count": 313,
     "metadata": {},
     "output_type": "execute_result"
    }
   ],
   "source": [
    "#cols = list(set(df.columns).difference({'exposure'}))\n",
    "cols = ['f'+str(i) for i in range(12)] + ['treatment','conversion']\n",
    "df_train, df_test = train_test_split(df[cols], stratify=df[['treatment', 'conversion']], random_state=42, test_size=0.3)\n",
    "df_train.head()"
   ]
  },
  {
   "cell_type": "code",
   "execution_count": 314,
   "id": "9a77227e",
   "metadata": {},
   "outputs": [
    {
     "data": {
      "text/plain": [
       "['f0',\n",
       " 'f1',\n",
       " 'f2',\n",
       " 'f3',\n",
       " 'f4',\n",
       " 'f5',\n",
       " 'f6',\n",
       " 'f7',\n",
       " 'f8',\n",
       " 'f9',\n",
       " 'f10',\n",
       " 'f11',\n",
       " 'treatment',\n",
       " 'conversion']"
      ]
     },
     "execution_count": 314,
     "metadata": {},
     "output_type": "execute_result"
    }
   ],
   "source": [
    "cols"
   ]
  },
  {
   "cell_type": "code",
   "execution_count": 46,
   "id": "24bbceed",
   "metadata": {},
   "outputs": [
    {
     "name": "stdout",
     "output_type": "stream",
     "text": [
      "training: (459850, 15)\n",
      "testing: (197079, 15)\n"
     ]
    }
   ],
   "source": [
    "cols1 = ['f'+str(i) for i in range(12)]\n",
    "cols = cols1 + ['treatment','conversion','target_class']\n",
    "#df1 = df[cols1+['treatment', 'conversion','exposure2']].copy()\n",
    "df1 = df[cols].copy()\n",
    "# train/test split\n",
    "#['f'+str(i) for i in range(12)]\n",
    "X_train, X_test, treat_train, treat_test, y_train, y_test = \\\n",
    "        train_test_split(df1[cols],\n",
    "                            df1['treatment'], \n",
    "                            df1['conversion'],\n",
    "                            stratify=df1[['treatment', 'conversion']],\n",
    "                            test_size=TST,\n",
    "                            random_state=RND)\n",
    "\n",
    "print(f\"training: {X_train.shape}\")\n",
    "print(f\"testing: {X_test.shape}\")"
   ]
  },
  {
   "cell_type": "code",
   "execution_count": 47,
   "id": "3781bafc",
   "metadata": {},
   "outputs": [
    {
     "data": {
      "text/html": [
       "<div>\n",
       "<style scoped>\n",
       "    .dataframe tbody tr th:only-of-type {\n",
       "        vertical-align: middle;\n",
       "    }\n",
       "\n",
       "    .dataframe tbody tr th {\n",
       "        vertical-align: top;\n",
       "    }\n",
       "\n",
       "    .dataframe thead th {\n",
       "        text-align: right;\n",
       "    }\n",
       "</style>\n",
       "<table border=\"1\" class=\"dataframe\">\n",
       "  <thead>\n",
       "    <tr style=\"text-align: right;\">\n",
       "      <th></th>\n",
       "      <th>f0</th>\n",
       "      <th>f1</th>\n",
       "      <th>f2</th>\n",
       "      <th>f3</th>\n",
       "      <th>f4</th>\n",
       "      <th>f5</th>\n",
       "      <th>f6</th>\n",
       "      <th>f7</th>\n",
       "      <th>f8</th>\n",
       "      <th>f9</th>\n",
       "      <th>f10</th>\n",
       "      <th>f11</th>\n",
       "      <th>treatment</th>\n",
       "      <th>conversion</th>\n",
       "      <th>target_class</th>\n",
       "    </tr>\n",
       "  </thead>\n",
       "  <tbody>\n",
       "    <tr>\n",
       "      <th>10531349</th>\n",
       "      <td>14.477</td>\n",
       "      <td>10.062</td>\n",
       "      <td>8.359</td>\n",
       "      <td>2.039</td>\n",
       "      <td>10.281</td>\n",
       "      <td>4.117</td>\n",
       "      <td>-8.062</td>\n",
       "      <td>4.832</td>\n",
       "      <td>3.861</td>\n",
       "      <td>22.578</td>\n",
       "      <td>5.301</td>\n",
       "      <td>-0.169</td>\n",
       "      <td>1</td>\n",
       "      <td>0</td>\n",
       "      <td>2</td>\n",
       "    </tr>\n",
       "    <tr>\n",
       "      <th>6856763</th>\n",
       "      <td>12.617</td>\n",
       "      <td>10.062</td>\n",
       "      <td>8.227</td>\n",
       "      <td>4.680</td>\n",
       "      <td>10.281</td>\n",
       "      <td>4.117</td>\n",
       "      <td>0.294</td>\n",
       "      <td>4.832</td>\n",
       "      <td>3.795</td>\n",
       "      <td>35.438</td>\n",
       "      <td>5.301</td>\n",
       "      <td>-0.169</td>\n",
       "      <td>1</td>\n",
       "      <td>0</td>\n",
       "      <td>2</td>\n",
       "    </tr>\n",
       "    <tr>\n",
       "      <th>13542067</th>\n",
       "      <td>13.922</td>\n",
       "      <td>10.062</td>\n",
       "      <td>8.680</td>\n",
       "      <td>1.614</td>\n",
       "      <td>11.031</td>\n",
       "      <td>4.117</td>\n",
       "      <td>-5.988</td>\n",
       "      <td>4.832</td>\n",
       "      <td>3.789</td>\n",
       "      <td>16.219</td>\n",
       "      <td>6.191</td>\n",
       "      <td>-0.169</td>\n",
       "      <td>1</td>\n",
       "      <td>0</td>\n",
       "      <td>2</td>\n",
       "    </tr>\n",
       "    <tr>\n",
       "      <th>10926197</th>\n",
       "      <td>17.531</td>\n",
       "      <td>10.062</td>\n",
       "      <td>8.344</td>\n",
       "      <td>2.936</td>\n",
       "      <td>10.281</td>\n",
       "      <td>4.117</td>\n",
       "      <td>-5.578</td>\n",
       "      <td>4.832</td>\n",
       "      <td>3.859</td>\n",
       "      <td>25.953</td>\n",
       "      <td>5.301</td>\n",
       "      <td>-0.169</td>\n",
       "      <td>1</td>\n",
       "      <td>0</td>\n",
       "      <td>2</td>\n",
       "    </tr>\n",
       "    <tr>\n",
       "      <th>443645</th>\n",
       "      <td>12.617</td>\n",
       "      <td>10.062</td>\n",
       "      <td>8.852</td>\n",
       "      <td>4.680</td>\n",
       "      <td>11.031</td>\n",
       "      <td>4.117</td>\n",
       "      <td>0.294</td>\n",
       "      <td>4.832</td>\n",
       "      <td>3.799</td>\n",
       "      <td>13.188</td>\n",
       "      <td>6.309</td>\n",
       "      <td>-0.169</td>\n",
       "      <td>1</td>\n",
       "      <td>0</td>\n",
       "      <td>2</td>\n",
       "    </tr>\n",
       "    <tr>\n",
       "      <th>...</th>\n",
       "      <td>...</td>\n",
       "      <td>...</td>\n",
       "      <td>...</td>\n",
       "      <td>...</td>\n",
       "      <td>...</td>\n",
       "      <td>...</td>\n",
       "      <td>...</td>\n",
       "      <td>...</td>\n",
       "      <td>...</td>\n",
       "      <td>...</td>\n",
       "      <td>...</td>\n",
       "      <td>...</td>\n",
       "      <td>...</td>\n",
       "      <td>...</td>\n",
       "      <td>...</td>\n",
       "    </tr>\n",
       "    <tr>\n",
       "      <th>11211832</th>\n",
       "      <td>26.188</td>\n",
       "      <td>10.062</td>\n",
       "      <td>8.312</td>\n",
       "      <td>4.680</td>\n",
       "      <td>10.281</td>\n",
       "      <td>4.117</td>\n",
       "      <td>-3.994</td>\n",
       "      <td>4.832</td>\n",
       "      <td>3.795</td>\n",
       "      <td>41.250</td>\n",
       "      <td>5.301</td>\n",
       "      <td>-0.169</td>\n",
       "      <td>1</td>\n",
       "      <td>0</td>\n",
       "      <td>2</td>\n",
       "    </tr>\n",
       "    <tr>\n",
       "      <th>4133204</th>\n",
       "      <td>12.656</td>\n",
       "      <td>10.062</td>\n",
       "      <td>8.289</td>\n",
       "      <td>3.908</td>\n",
       "      <td>10.281</td>\n",
       "      <td>4.117</td>\n",
       "      <td>-1.288</td>\n",
       "      <td>4.832</td>\n",
       "      <td>3.797</td>\n",
       "      <td>45.406</td>\n",
       "      <td>5.301</td>\n",
       "      <td>-0.169</td>\n",
       "      <td>1</td>\n",
       "      <td>0</td>\n",
       "      <td>2</td>\n",
       "    </tr>\n",
       "    <tr>\n",
       "      <th>11114295</th>\n",
       "      <td>15.969</td>\n",
       "      <td>10.062</td>\n",
       "      <td>8.438</td>\n",
       "      <td>3.908</td>\n",
       "      <td>10.281</td>\n",
       "      <td>4.117</td>\n",
       "      <td>-1.288</td>\n",
       "      <td>4.832</td>\n",
       "      <td>3.834</td>\n",
       "      <td>27.766</td>\n",
       "      <td>5.301</td>\n",
       "      <td>-0.169</td>\n",
       "      <td>1</td>\n",
       "      <td>0</td>\n",
       "      <td>2</td>\n",
       "    </tr>\n",
       "    <tr>\n",
       "      <th>3248762</th>\n",
       "      <td>14.156</td>\n",
       "      <td>10.062</td>\n",
       "      <td>8.305</td>\n",
       "      <td>1.815</td>\n",
       "      <td>11.977</td>\n",
       "      <td>4.117</td>\n",
       "      <td>-7.820</td>\n",
       "      <td>4.832</td>\n",
       "      <td>3.816</td>\n",
       "      <td>37.156</td>\n",
       "      <td>5.539</td>\n",
       "      <td>-0.267</td>\n",
       "      <td>1</td>\n",
       "      <td>1</td>\n",
       "      <td>3</td>\n",
       "    </tr>\n",
       "    <tr>\n",
       "      <th>7791548</th>\n",
       "      <td>14.195</td>\n",
       "      <td>10.062</td>\n",
       "      <td>8.312</td>\n",
       "      <td>0.842</td>\n",
       "      <td>11.031</td>\n",
       "      <td>4.117</td>\n",
       "      <td>-8.062</td>\n",
       "      <td>4.832</td>\n",
       "      <td>3.750</td>\n",
       "      <td>43.656</td>\n",
       "      <td>6.176</td>\n",
       "      <td>-0.169</td>\n",
       "      <td>1</td>\n",
       "      <td>0</td>\n",
       "      <td>2</td>\n",
       "    </tr>\n",
       "  </tbody>\n",
       "</table>\n",
       "<p>459850 rows × 15 columns</p>\n",
       "</div>"
      ],
      "text/plain": [
       "             f0     f1    f2    f3     f4    f5     f6    f7    f8     f9  \\\n",
       "10531349 14.477 10.062 8.359 2.039 10.281 4.117 -8.062 4.832 3.861 22.578   \n",
       "6856763  12.617 10.062 8.227 4.680 10.281 4.117  0.294 4.832 3.795 35.438   \n",
       "13542067 13.922 10.062 8.680 1.614 11.031 4.117 -5.988 4.832 3.789 16.219   \n",
       "10926197 17.531 10.062 8.344 2.936 10.281 4.117 -5.578 4.832 3.859 25.953   \n",
       "443645   12.617 10.062 8.852 4.680 11.031 4.117  0.294 4.832 3.799 13.188   \n",
       "...         ...    ...   ...   ...    ...   ...    ...   ...   ...    ...   \n",
       "11211832 26.188 10.062 8.312 4.680 10.281 4.117 -3.994 4.832 3.795 41.250   \n",
       "4133204  12.656 10.062 8.289 3.908 10.281 4.117 -1.288 4.832 3.797 45.406   \n",
       "11114295 15.969 10.062 8.438 3.908 10.281 4.117 -1.288 4.832 3.834 27.766   \n",
       "3248762  14.156 10.062 8.305 1.815 11.977 4.117 -7.820 4.832 3.816 37.156   \n",
       "7791548  14.195 10.062 8.312 0.842 11.031 4.117 -8.062 4.832 3.750 43.656   \n",
       "\n",
       "           f10    f11  treatment  conversion  target_class  \n",
       "10531349 5.301 -0.169          1           0             2  \n",
       "6856763  5.301 -0.169          1           0             2  \n",
       "13542067 6.191 -0.169          1           0             2  \n",
       "10926197 5.301 -0.169          1           0             2  \n",
       "443645   6.309 -0.169          1           0             2  \n",
       "...        ...    ...        ...         ...           ...  \n",
       "11211832 5.301 -0.169          1           0             2  \n",
       "4133204  5.301 -0.169          1           0             2  \n",
       "11114295 5.301 -0.169          1           0             2  \n",
       "3248762  5.539 -0.267          1           1             3  \n",
       "7791548  6.176 -0.169          1           0             2  \n",
       "\n",
       "[459850 rows x 15 columns]"
      ]
     },
     "execution_count": 47,
     "metadata": {},
     "output_type": "execute_result"
    }
   ],
   "source": [
    "X_train"
   ]
  },
  {
   "cell_type": "code",
   "execution_count": 48,
   "id": "1fd391a4",
   "metadata": {},
   "outputs": [
    {
     "data": {
      "text/plain": [
       "10531349    0\n",
       "6856763     0\n",
       "13542067    0\n",
       "10926197    0\n",
       "443645      0\n",
       "           ..\n",
       "11211832    0\n",
       "4133204     0\n",
       "11114295    0\n",
       "3248762     1\n",
       "7791548     0\n",
       "Name: conversion, Length: 459850, dtype: int8"
      ]
     },
     "execution_count": 48,
     "metadata": {},
     "output_type": "execute_result"
    }
   ],
   "source": [
    "y_train"
   ]
  },
  {
   "cell_type": "markdown",
   "id": "1f9e204e",
   "metadata": {},
   "source": [
    " \n",
    " <a id='12'></a> \n",
    "### Class Transformation Model\n",
    "\n",
    "<a href='#0'> *Вернуться к плану проекта*"
   ]
  },
  {
   "cell_type": "code",
   "execution_count": 49,
   "id": "c758a632",
   "metadata": {},
   "outputs": [
    {
     "name": "stdout",
     "output_type": "stream",
     "text": [
      "Learning rate set to 0.141212\n",
      "0:\tlearn: 0.6200168\ttotal: 115ms\tremaining: 1m 55s\n",
      "100:\tlearn: 0.4366252\ttotal: 12.2s\tremaining: 1m 48s\n",
      "200:\tlearn: 0.4346212\ttotal: 24.6s\tremaining: 1m 37s\n",
      "300:\tlearn: 0.4329873\ttotal: 36.8s\tremaining: 1m 25s\n",
      "400:\tlearn: 0.4314412\ttotal: 49.2s\tremaining: 1m 13s\n",
      "500:\tlearn: 0.4300370\ttotal: 1m 2s\tremaining: 1m 2s\n",
      "600:\tlearn: 0.4287459\ttotal: 1m 14s\tremaining: 49.8s\n",
      "700:\tlearn: 0.4274491\ttotal: 1m 27s\tremaining: 37.1s\n",
      "800:\tlearn: 0.4262795\ttotal: 1m 39s\tremaining: 24.6s\n",
      "900:\tlearn: 0.4250596\ttotal: 1m 51s\tremaining: 12.2s\n",
      "999:\tlearn: 0.4239146\ttotal: 2m 3s\tremaining: 0us\n"
     ]
    }
   ],
   "source": [
    "# class transformation model\n",
    "\n",
    "ct_estimator = CatBoostClassifier(  verbose = 100, \n",
    "                                    random_state = RND,\n",
    "                                    thread_count = THREADc)\n",
    "model_ct = ClassTransformation(estimator = ct_estimator)\n",
    "model_ct = model_ct.fit(    X = X_train[cols1], \n",
    "                            y = y_train, \n",
    "                            treatment = treat_train)"
   ]
  },
  {
   "cell_type": "code",
   "execution_count": 50,
   "id": "a3664f95",
   "metadata": {},
   "outputs": [
    {
     "name": "stdout",
     "output_type": "stream",
     "text": [
      "average uplift: 0.0155\n"
     ]
    },
    {
     "data": {
      "text/html": [
       "<div>\n",
       "<style scoped>\n",
       "    .dataframe tbody tr th:only-of-type {\n",
       "        vertical-align: middle;\n",
       "    }\n",
       "\n",
       "    .dataframe tbody tr th {\n",
       "        vertical-align: top;\n",
       "    }\n",
       "\n",
       "    .dataframe thead th {\n",
       "        text-align: right;\n",
       "    }\n",
       "</style>\n",
       "<table border=\"1\" class=\"dataframe\">\n",
       "  <thead>\n",
       "    <tr style=\"text-align: right;\">\n",
       "      <th></th>\n",
       "      <th>n_treatment</th>\n",
       "      <th>n_control</th>\n",
       "      <th>response_rate_treatment</th>\n",
       "      <th>response_rate_control</th>\n",
       "      <th>uplift</th>\n",
       "      <th>std_treatment</th>\n",
       "      <th>std_control</th>\n",
       "      <th>std_uplift</th>\n",
       "    </tr>\n",
       "    <tr>\n",
       "      <th>percentile</th>\n",
       "      <th></th>\n",
       "      <th></th>\n",
       "      <th></th>\n",
       "      <th></th>\n",
       "      <th></th>\n",
       "      <th></th>\n",
       "      <th></th>\n",
       "      <th></th>\n",
       "    </tr>\n",
       "  </thead>\n",
       "  <tbody>\n",
       "    <tr>\n",
       "      <th>0-10</th>\n",
       "      <td>17043</td>\n",
       "      <td>2665</td>\n",
       "      <td>0.333</td>\n",
       "      <td>0.259</td>\n",
       "      <td>0.074</td>\n",
       "      <td>0.004</td>\n",
       "      <td>0.008</td>\n",
       "      <td>0.009</td>\n",
       "    </tr>\n",
       "    <tr>\n",
       "      <th>10-20</th>\n",
       "      <td>17128</td>\n",
       "      <td>2580</td>\n",
       "      <td>0.089</td>\n",
       "      <td>0.067</td>\n",
       "      <td>0.022</td>\n",
       "      <td>0.002</td>\n",
       "      <td>0.005</td>\n",
       "      <td>0.005</td>\n",
       "    </tr>\n",
       "    <tr>\n",
       "      <th>20-30</th>\n",
       "      <td>17028</td>\n",
       "      <td>2680</td>\n",
       "      <td>0.035</td>\n",
       "      <td>0.024</td>\n",
       "      <td>0.011</td>\n",
       "      <td>0.001</td>\n",
       "      <td>0.003</td>\n",
       "      <td>0.003</td>\n",
       "    </tr>\n",
       "    <tr>\n",
       "      <th>30-40</th>\n",
       "      <td>16954</td>\n",
       "      <td>2754</td>\n",
       "      <td>0.022</td>\n",
       "      <td>0.015</td>\n",
       "      <td>0.007</td>\n",
       "      <td>0.001</td>\n",
       "      <td>0.002</td>\n",
       "      <td>0.003</td>\n",
       "    </tr>\n",
       "    <tr>\n",
       "      <th>40-50</th>\n",
       "      <td>16852</td>\n",
       "      <td>2856</td>\n",
       "      <td>0.019</td>\n",
       "      <td>0.013</td>\n",
       "      <td>0.006</td>\n",
       "      <td>0.001</td>\n",
       "      <td>0.002</td>\n",
       "      <td>0.002</td>\n",
       "    </tr>\n",
       "    <tr>\n",
       "      <th>50-60</th>\n",
       "      <td>16994</td>\n",
       "      <td>2714</td>\n",
       "      <td>0.021</td>\n",
       "      <td>0.015</td>\n",
       "      <td>0.007</td>\n",
       "      <td>0.001</td>\n",
       "      <td>0.002</td>\n",
       "      <td>0.003</td>\n",
       "    </tr>\n",
       "    <tr>\n",
       "      <th>60-70</th>\n",
       "      <td>17212</td>\n",
       "      <td>2496</td>\n",
       "      <td>0.025</td>\n",
       "      <td>0.021</td>\n",
       "      <td>0.004</td>\n",
       "      <td>0.001</td>\n",
       "      <td>0.003</td>\n",
       "      <td>0.003</td>\n",
       "    </tr>\n",
       "    <tr>\n",
       "      <th>70-80</th>\n",
       "      <td>17505</td>\n",
       "      <td>2203</td>\n",
       "      <td>0.029</td>\n",
       "      <td>0.020</td>\n",
       "      <td>0.009</td>\n",
       "      <td>0.001</td>\n",
       "      <td>0.003</td>\n",
       "      <td>0.003</td>\n",
       "    </tr>\n",
       "    <tr>\n",
       "      <th>80-90</th>\n",
       "      <td>17858</td>\n",
       "      <td>1850</td>\n",
       "      <td>0.034</td>\n",
       "      <td>0.022</td>\n",
       "      <td>0.012</td>\n",
       "      <td>0.001</td>\n",
       "      <td>0.003</td>\n",
       "      <td>0.004</td>\n",
       "    </tr>\n",
       "    <tr>\n",
       "      <th>90-100</th>\n",
       "      <td>18473</td>\n",
       "      <td>1234</td>\n",
       "      <td>0.033</td>\n",
       "      <td>0.028</td>\n",
       "      <td>0.005</td>\n",
       "      <td>0.001</td>\n",
       "      <td>0.005</td>\n",
       "      <td>0.005</td>\n",
       "    </tr>\n",
       "    <tr>\n",
       "      <th>total</th>\n",
       "      <td>173047</td>\n",
       "      <td>24032</td>\n",
       "      <td>0.064</td>\n",
       "      <td>0.051</td>\n",
       "      <td>0.013</td>\n",
       "      <td>0.016</td>\n",
       "      <td>0.037</td>\n",
       "      <td>0.040</td>\n",
       "    </tr>\n",
       "  </tbody>\n",
       "</table>\n",
       "</div>"
      ],
      "text/plain": [
       "            n_treatment  n_control  response_rate_treatment  \\\n",
       "percentile                                                    \n",
       "0-10              17043       2665                    0.333   \n",
       "10-20             17128       2580                    0.089   \n",
       "20-30             17028       2680                    0.035   \n",
       "30-40             16954       2754                    0.022   \n",
       "40-50             16852       2856                    0.019   \n",
       "50-60             16994       2714                    0.021   \n",
       "60-70             17212       2496                    0.025   \n",
       "70-80             17505       2203                    0.029   \n",
       "80-90             17858       1850                    0.034   \n",
       "90-100            18473       1234                    0.033   \n",
       "total            173047      24032                    0.064   \n",
       "\n",
       "            response_rate_control  uplift  std_treatment  std_control  \\\n",
       "percentile                                                              \n",
       "0-10                        0.259   0.074          0.004        0.008   \n",
       "10-20                       0.067   0.022          0.002        0.005   \n",
       "20-30                       0.024   0.011          0.001        0.003   \n",
       "30-40                       0.015   0.007          0.001        0.002   \n",
       "40-50                       0.013   0.006          0.001        0.002   \n",
       "50-60                       0.015   0.007          0.001        0.002   \n",
       "60-70                       0.021   0.004          0.001        0.003   \n",
       "70-80                       0.020   0.009          0.001        0.003   \n",
       "80-90                       0.022   0.012          0.001        0.003   \n",
       "90-100                      0.028   0.005          0.001        0.005   \n",
       "total                       0.051   0.013          0.016        0.037   \n",
       "\n",
       "            std_uplift  \n",
       "percentile              \n",
       "0-10             0.009  \n",
       "10-20            0.005  \n",
       "20-30            0.003  \n",
       "30-40            0.003  \n",
       "40-50            0.002  \n",
       "50-60            0.003  \n",
       "60-70            0.003  \n",
       "70-80            0.003  \n",
       "80-90            0.004  \n",
       "90-100           0.005  \n",
       "total            0.040  "
      ]
     },
     "execution_count": 50,
     "metadata": {},
     "output_type": "execute_result"
    }
   ],
   "source": [
    "# model results: uplift\n",
    "pred_uplift_ct = model_ct.predict(X_test[cols1])\n",
    "uplift_ct_avg = weighted_average_uplift(y_test, pred_uplift_ct, treat_test, bins=10) \n",
    "print(f\"average uplift: {uplift_ct_avg:.4f}\")\n",
    "\n",
    "pd.options.display.float_format = '{:,.3f}'.format\n",
    "uplift_by_percentile(   y_test, \n",
    "                        pred_uplift_ct, \n",
    "                        treat_test, \n",
    "                        strategy=\"overall\", total=True, std=True, bins=10)"
   ]
  },
  {
   "cell_type": "markdown",
   "id": "d8af8da8",
   "metadata": {},
   "source": [
    "**График uplift by percentile**\n",
    "\n",
    "Если визуализировать таблицу, то получится график uplift by percentile. По нему удобно оценивать эффективность модели. Как его можно интерпретировать? Так как коммуникация будет проводиться с клиентами, получившими наибольшую оценку uplift, то слева на графике должны быть максимальные по модулю положительные значения uplift и в следующих перцентилях значения уменьшаются."
   ]
  },
  {
   "cell_type": "code",
   "execution_count": 51,
   "id": "a35fa5b3",
   "metadata": {},
   "outputs": [
    {
     "data": {
      "image/png": "[encoded data removed]",
      "text/plain": [
       "<Figure size 864x576 with 1 Axes>"
      ]
     },
     "metadata": {
      "needs_background": "light"
     },
     "output_type": "display_data"
    }
   ],
   "source": [
    "plot_uplift_by_percentile(y_test, pred_uplift_ct, treat_test, strategy=\"overall\", kind=\"line\");\n",
    "fig = plt.gcf()\n",
    "fig.set_size_inches(12, 8)"
   ]
  },
  {
   "cell_type": "code",
   "execution_count": 52,
   "id": "d3251ffa",
   "metadata": {},
   "outputs": [
    {
     "data": {
      "image/png": "[encoded data removed]",
      "text/plain": [
       "<Figure size 1080x864 with 2 Axes>"
      ]
     },
     "metadata": {
      "needs_background": "light"
     },
     "output_type": "display_data"
    }
   ],
   "source": [
    "plot_uplift_by_percentile(y_test, pred_uplift_ct, treat_test, strategy=\"overall\", kind=\"bar\");\n",
    "fig = plt.gcf()\n",
    "fig.set_size_inches(15, 12)"
   ]
  },
  {
   "cell_type": "markdown",
   "id": "00cef9ef",
   "metadata": {},
   "source": [
    "**Qini curve**\n",
    "\n",
    "Еще одной довольно распространенной кривой при оценке uplift моделей является Qini кривая. Qini curve, как и другие аплифт метрики, рассчитывается кумулятивно сразу для набора объектов. Кривую Qini для модели тоже сравнивают со случайной кривой (на графике желтая линия) и с идеальным случаем. Аналогично с uplift кривой, чем выше кривая над случайной кривой, тем лучше. "
   ]
  },
  {
   "cell_type": "code",
   "execution_count": 53,
   "id": "96ceee68",
   "metadata": {},
   "outputs": [
    {
     "name": "stdout",
     "output_type": "stream",
     "text": [
      "Class Transformation model:\n",
      "Qini coefficient: 0.085\n",
      "Uplift auc score: 0.046\n"
     ]
    },
    {
     "data": {
      "image/png": "[encoded data removed]",
      "text/plain": [
       "<Figure size 864x576 with 1 Axes>"
      ]
     },
     "metadata": {
      "needs_background": "light"
     },
     "output_type": "display_data"
    }
   ],
   "source": [
    "print_qini(y_test, pred_uplift_ct, treat_test, \"Class Transformation model:\", perfect=False)"
   ]
  },
  {
   "cell_type": "code",
   "execution_count": 54,
   "id": "cd338d0b",
   "metadata": {},
   "outputs": [
    {
     "data": {
      "text/html": [
       "<div>\n",
       "<style scoped>\n",
       "    .dataframe tbody tr th:only-of-type {\n",
       "        vertical-align: middle;\n",
       "    }\n",
       "\n",
       "    .dataframe tbody tr th {\n",
       "        vertical-align: top;\n",
       "    }\n",
       "\n",
       "    .dataframe thead th {\n",
       "        text-align: right;\n",
       "    }\n",
       "</style>\n",
       "<table border=\"1\" class=\"dataframe\">\n",
       "  <thead>\n",
       "    <tr style=\"text-align: right;\">\n",
       "      <th></th>\n",
       "      <th>f0</th>\n",
       "      <th>f1</th>\n",
       "      <th>f2</th>\n",
       "      <th>f3</th>\n",
       "      <th>f4</th>\n",
       "      <th>f5</th>\n",
       "      <th>f6</th>\n",
       "      <th>f7</th>\n",
       "      <th>f8</th>\n",
       "      <th>f9</th>\n",
       "      <th>f10</th>\n",
       "      <th>f11</th>\n",
       "      <th>treatment</th>\n",
       "      <th>conversion</th>\n",
       "      <th>target_class</th>\n",
       "    </tr>\n",
       "  </thead>\n",
       "  <tbody>\n",
       "    <tr>\n",
       "      <th>2293585</th>\n",
       "      <td>20.953</td>\n",
       "      <td>10.062</td>\n",
       "      <td>8.344</td>\n",
       "      <td>4.680</td>\n",
       "      <td>11.031</td>\n",
       "      <td>4.117</td>\n",
       "      <td>-14.609</td>\n",
       "      <td>4.832</td>\n",
       "      <td>3.873</td>\n",
       "      <td>18.375</td>\n",
       "      <td>6.340</td>\n",
       "      <td>-0.169</td>\n",
       "      <td>1</td>\n",
       "      <td>0</td>\n",
       "      <td>2</td>\n",
       "    </tr>\n",
       "    <tr>\n",
       "      <th>9266820</th>\n",
       "      <td>12.617</td>\n",
       "      <td>10.062</td>\n",
       "      <td>8.602</td>\n",
       "      <td>4.680</td>\n",
       "      <td>10.281</td>\n",
       "      <td>4.117</td>\n",
       "      <td>0.294</td>\n",
       "      <td>4.832</td>\n",
       "      <td>3.857</td>\n",
       "      <td>34.188</td>\n",
       "      <td>5.301</td>\n",
       "      <td>-0.169</td>\n",
       "      <td>1</td>\n",
       "      <td>0</td>\n",
       "      <td>2</td>\n",
       "    </tr>\n",
       "    <tr>\n",
       "      <th>8702535</th>\n",
       "      <td>15.812</td>\n",
       "      <td>10.062</td>\n",
       "      <td>8.773</td>\n",
       "      <td>3.908</td>\n",
       "      <td>10.281</td>\n",
       "      <td>4.117</td>\n",
       "      <td>-7.820</td>\n",
       "      <td>4.832</td>\n",
       "      <td>3.840</td>\n",
       "      <td>13.188</td>\n",
       "      <td>5.301</td>\n",
       "      <td>-0.169</td>\n",
       "      <td>1</td>\n",
       "      <td>0</td>\n",
       "      <td>2</td>\n",
       "    </tr>\n",
       "    <tr>\n",
       "      <th>205901</th>\n",
       "      <td>12.617</td>\n",
       "      <td>10.062</td>\n",
       "      <td>8.430</td>\n",
       "      <td>4.680</td>\n",
       "      <td>12.594</td>\n",
       "      <td>4.117</td>\n",
       "      <td>0.294</td>\n",
       "      <td>4.832</td>\n",
       "      <td>3.775</td>\n",
       "      <td>36.656</td>\n",
       "      <td>5.996</td>\n",
       "      <td>-0.169</td>\n",
       "      <td>1</td>\n",
       "      <td>0</td>\n",
       "      <td>2</td>\n",
       "    </tr>\n",
       "    <tr>\n",
       "      <th>10250686</th>\n",
       "      <td>12.617</td>\n",
       "      <td>10.062</td>\n",
       "      <td>8.344</td>\n",
       "      <td>4.680</td>\n",
       "      <td>10.281</td>\n",
       "      <td>4.117</td>\n",
       "      <td>0.294</td>\n",
       "      <td>4.832</td>\n",
       "      <td>3.826</td>\n",
       "      <td>30.797</td>\n",
       "      <td>5.301</td>\n",
       "      <td>-0.169</td>\n",
       "      <td>0</td>\n",
       "      <td>0</td>\n",
       "      <td>0</td>\n",
       "    </tr>\n",
       "    <tr>\n",
       "      <th>...</th>\n",
       "      <td>...</td>\n",
       "      <td>...</td>\n",
       "      <td>...</td>\n",
       "      <td>...</td>\n",
       "      <td>...</td>\n",
       "      <td>...</td>\n",
       "      <td>...</td>\n",
       "      <td>...</td>\n",
       "      <td>...</td>\n",
       "      <td>...</td>\n",
       "      <td>...</td>\n",
       "      <td>...</td>\n",
       "      <td>...</td>\n",
       "      <td>...</td>\n",
       "      <td>...</td>\n",
       "    </tr>\n",
       "    <tr>\n",
       "      <th>4002845</th>\n",
       "      <td>17.000</td>\n",
       "      <td>11.117</td>\n",
       "      <td>8.492</td>\n",
       "      <td>0.720</td>\n",
       "      <td>11.031</td>\n",
       "      <td>2.230</td>\n",
       "      <td>-8.492</td>\n",
       "      <td>8.023</td>\n",
       "      <td>3.881</td>\n",
       "      <td>25.234</td>\n",
       "      <td>5.840</td>\n",
       "      <td>-0.267</td>\n",
       "      <td>1</td>\n",
       "      <td>0</td>\n",
       "      <td>2</td>\n",
       "    </tr>\n",
       "    <tr>\n",
       "      <th>4038569</th>\n",
       "      <td>12.617</td>\n",
       "      <td>10.062</td>\n",
       "      <td>8.281</td>\n",
       "      <td>4.680</td>\n",
       "      <td>13.062</td>\n",
       "      <td>4.117</td>\n",
       "      <td>0.294</td>\n",
       "      <td>4.832</td>\n",
       "      <td>3.783</td>\n",
       "      <td>38.906</td>\n",
       "      <td>5.395</td>\n",
       "      <td>-0.267</td>\n",
       "      <td>1</td>\n",
       "      <td>0</td>\n",
       "      <td>2</td>\n",
       "    </tr>\n",
       "    <tr>\n",
       "      <th>13855745</th>\n",
       "      <td>22.688</td>\n",
       "      <td>10.062</td>\n",
       "      <td>8.422</td>\n",
       "      <td>4.680</td>\n",
       "      <td>10.281</td>\n",
       "      <td>4.117</td>\n",
       "      <td>-7.820</td>\n",
       "      <td>4.832</td>\n",
       "      <td>3.826</td>\n",
       "      <td>36.344</td>\n",
       "      <td>5.301</td>\n",
       "      <td>-0.169</td>\n",
       "      <td>1</td>\n",
       "      <td>0</td>\n",
       "      <td>2</td>\n",
       "    </tr>\n",
       "    <tr>\n",
       "      <th>7912241</th>\n",
       "      <td>21.344</td>\n",
       "      <td>10.062</td>\n",
       "      <td>8.352</td>\n",
       "      <td>4.680</td>\n",
       "      <td>10.281</td>\n",
       "      <td>4.117</td>\n",
       "      <td>-17.297</td>\n",
       "      <td>4.832</td>\n",
       "      <td>3.852</td>\n",
       "      <td>20.047</td>\n",
       "      <td>5.301</td>\n",
       "      <td>-0.169</td>\n",
       "      <td>1</td>\n",
       "      <td>0</td>\n",
       "      <td>2</td>\n",
       "    </tr>\n",
       "    <tr>\n",
       "      <th>11833677</th>\n",
       "      <td>12.617</td>\n",
       "      <td>10.062</td>\n",
       "      <td>8.312</td>\n",
       "      <td>4.680</td>\n",
       "      <td>10.281</td>\n",
       "      <td>4.117</td>\n",
       "      <td>0.294</td>\n",
       "      <td>4.832</td>\n",
       "      <td>3.812</td>\n",
       "      <td>28.281</td>\n",
       "      <td>5.301</td>\n",
       "      <td>-0.169</td>\n",
       "      <td>1</td>\n",
       "      <td>0</td>\n",
       "      <td>2</td>\n",
       "    </tr>\n",
       "  </tbody>\n",
       "</table>\n",
       "<p>197079 rows × 15 columns</p>\n",
       "</div>"
      ],
      "text/plain": [
       "             f0     f1    f2    f3     f4    f5      f6    f7    f8     f9  \\\n",
       "2293585  20.953 10.062 8.344 4.680 11.031 4.117 -14.609 4.832 3.873 18.375   \n",
       "9266820  12.617 10.062 8.602 4.680 10.281 4.117   0.294 4.832 3.857 34.188   \n",
       "8702535  15.812 10.062 8.773 3.908 10.281 4.117  -7.820 4.832 3.840 13.188   \n",
       "205901   12.617 10.062 8.430 4.680 12.594 4.117   0.294 4.832 3.775 36.656   \n",
       "10250686 12.617 10.062 8.344 4.680 10.281 4.117   0.294 4.832 3.826 30.797   \n",
       "...         ...    ...   ...   ...    ...   ...     ...   ...   ...    ...   \n",
       "4002845  17.000 11.117 8.492 0.720 11.031 2.230  -8.492 8.023 3.881 25.234   \n",
       "4038569  12.617 10.062 8.281 4.680 13.062 4.117   0.294 4.832 3.783 38.906   \n",
       "13855745 22.688 10.062 8.422 4.680 10.281 4.117  -7.820 4.832 3.826 36.344   \n",
       "7912241  21.344 10.062 8.352 4.680 10.281 4.117 -17.297 4.832 3.852 20.047   \n",
       "11833677 12.617 10.062 8.312 4.680 10.281 4.117   0.294 4.832 3.812 28.281   \n",
       "\n",
       "           f10    f11  treatment  conversion  target_class  \n",
       "2293585  6.340 -0.169          1           0             2  \n",
       "9266820  5.301 -0.169          1           0             2  \n",
       "8702535  5.301 -0.169          1           0             2  \n",
       "205901   5.996 -0.169          1           0             2  \n",
       "10250686 5.301 -0.169          0           0             0  \n",
       "...        ...    ...        ...         ...           ...  \n",
       "4002845  5.840 -0.267          1           0             2  \n",
       "4038569  5.395 -0.267          1           0             2  \n",
       "13855745 5.301 -0.169          1           0             2  \n",
       "7912241  5.301 -0.169          1           0             2  \n",
       "11833677 5.301 -0.169          1           0             2  \n",
       "\n",
       "[197079 rows x 15 columns]"
      ]
     },
     "execution_count": 54,
     "metadata": {},
     "output_type": "execute_result"
    }
   ],
   "source": [
    "X_test"
   ]
  },
  {
   "cell_type": "code",
   "execution_count": 55,
   "id": "735ebff0",
   "metadata": {},
   "outputs": [
    {
     "data": {
      "image/png": "[encoded data removed]",
      "text/plain": [
       "<Figure size 432x288 with 1 Axes>"
      ]
     },
     "metadata": {
      "needs_background": "light"
     },
     "output_type": "display_data"
    },
    {
     "name": "stdout",
     "output_type": "stream",
     "text": [
      "ord= 1722352    0.000\n",
      "2895023    0.000\n",
      "5694205    0.000\n",
      "163982     0.000\n",
      "1739841    0.000\n",
      "            ... \n",
      "13970841   0.013\n",
      "8963848    0.013\n",
      "11603705   0.013\n",
      "11713099   0.013\n",
      "13958517   0.013\n",
      "Name: random_uplift, Length: 197079, dtype: float64\n"
     ]
    },
    {
     "data": {
      "text/plain": [
       "134.99503999999996"
      ]
     },
     "execution_count": 55,
     "metadata": {},
     "output_type": "execute_result"
    }
   ],
   "source": [
    "X_test['uplift_score'] = pred_uplift_ct\n",
    "qini_df(X_test)"
   ]
  },
  {
   "cell_type": "markdown",
   "id": "0e2ee067",
   "metadata": {},
   "source": [
    "<a id='2'></a> \n",
    "### S-learner и оценка качества\n",
    "\n",
    "<a href='#0'> *Вернуться к плану проекта*"
   ]
  },
  {
   "cell_type": "markdown",
   "id": "3c12dce5",
   "metadata": {},
   "source": [
    "Модель Солоу, также известная как подход S-Learner или Treatment Dummy, основана на статье, опубликованной Дэвидом Ло в 2002 году. Он разделяет обучающий набор данных между образцами обработки и контрольными образцами. Один из его функциональных столбцов состоит из двоичных флагов обработки, 0 или 1: получил ли клиент лечение или нет."
   ]
  },
  {
   "cell_type": "code",
   "execution_count": 425,
   "id": "033f1020",
   "metadata": {},
   "outputs": [],
   "source": [
    "#cols1 = ['f11','f4','f8','f6','f10','f0','f9']\n",
    "cols1 = ['f'+str(i) for i in range(12)]\n",
    "# list of feature columns: excluding the target columns\n",
    "cols1 = np.setdiff1d(cols1, ['f1','f5','f7'] ).tolist()"
   ]
  },
  {
   "cell_type": "code",
   "execution_count": 426,
   "id": "7e52f8be",
   "metadata": {},
   "outputs": [
    {
     "name": "stdout",
     "output_type": "stream",
     "text": [
      "training: (459850, 9)\n",
      "testing: (197079, 9)\n"
     ]
    }
   ],
   "source": [
    "cols = cols1 + ['treatment','conversion']\n",
    "#df1 = df[cols1+['treatment', 'conversion','exposure2']].copy()\n",
    "df1 = df[cols].copy()\n",
    "# train/test split\n",
    "#['f'+str(i) for i in range(12)]\n",
    "X_train, X_test, treat_train, treat_test, y_train, y_test = \\\n",
    "        train_test_split(df1[cols1],\n",
    "                            df1['treatment'], \n",
    "                            df1['conversion'],\n",
    "                            stratify=df1[['treatment', 'conversion']],\n",
    "                            test_size=TST,\n",
    "                            random_state=RND)\n",
    "\n",
    "print(f\"training: {X_train.shape}\")\n",
    "print(f\"testing: {X_test.shape}\")"
   ]
  },
  {
   "cell_type": "code",
   "execution_count": 427,
   "id": "377423b2",
   "metadata": {},
   "outputs": [
    {
     "data": {
      "application/vnd.jupyter.widget-view+json": {
       "model_id": "aadc250676d340f1bf9355657d64ada5",
       "version_major": 2,
       "version_minor": 0
      },
      "text/plain": [
       "MetricVisualizer(layout=Layout(align_self='stretch', height='500px'))"
      ]
     },
     "metadata": {},
     "output_type": "display_data"
    }
   ],
   "source": [
    "# prepare Solo Model\n",
    "estimator_sm = CatBoostClassifier(  iterations = 20, \n",
    "                                    thread_count = THREADc, \n",
    "                                    random_state = RND, \n",
    "                                    silent = True)\n",
    "model_sm = SoloModel(estimator_sm)\n",
    "model_sm = model_sm.fit( X = X_train, \n",
    "                            y = y_train, \n",
    "                            treatment = treat_train, \n",
    "                            estimator_fit_params={'plot': True})"
   ]
  },
  {
   "cell_type": "code",
   "execution_count": 428,
   "id": "17e266f2",
   "metadata": {},
   "outputs": [
    {
     "name": "stdout",
     "output_type": "stream",
     "text": [
      "average uplift: 0.0112\n"
     ]
    },
    {
     "data": {
      "text/html": [
       "<div>\n",
       "<style scoped>\n",
       "    .dataframe tbody tr th:only-of-type {\n",
       "        vertical-align: middle;\n",
       "    }\n",
       "\n",
       "    .dataframe tbody tr th {\n",
       "        vertical-align: top;\n",
       "    }\n",
       "\n",
       "    .dataframe thead th {\n",
       "        text-align: right;\n",
       "    }\n",
       "</style>\n",
       "<table border=\"1\" class=\"dataframe\">\n",
       "  <thead>\n",
       "    <tr style=\"text-align: right;\">\n",
       "      <th></th>\n",
       "      <th>n_treatment</th>\n",
       "      <th>n_control</th>\n",
       "      <th>response_rate_treatment</th>\n",
       "      <th>response_rate_control</th>\n",
       "      <th>uplift</th>\n",
       "      <th>std_treatment</th>\n",
       "      <th>std_control</th>\n",
       "      <th>std_uplift</th>\n",
       "    </tr>\n",
       "    <tr>\n",
       "      <th>percentile</th>\n",
       "      <th></th>\n",
       "      <th></th>\n",
       "      <th></th>\n",
       "      <th></th>\n",
       "      <th></th>\n",
       "      <th></th>\n",
       "      <th></th>\n",
       "      <th></th>\n",
       "    </tr>\n",
       "  </thead>\n",
       "  <tbody>\n",
       "    <tr>\n",
       "      <th>0-10</th>\n",
       "      <td>17318</td>\n",
       "      <td>2390</td>\n",
       "      <td>0.291</td>\n",
       "      <td>0.241</td>\n",
       "      <td>0.049</td>\n",
       "      <td>0.003</td>\n",
       "      <td>0.009</td>\n",
       "      <td>0.009</td>\n",
       "    </tr>\n",
       "    <tr>\n",
       "      <th>10-20</th>\n",
       "      <td>17626</td>\n",
       "      <td>2082</td>\n",
       "      <td>0.100</td>\n",
       "      <td>0.084</td>\n",
       "      <td>0.016</td>\n",
       "      <td>0.002</td>\n",
       "      <td>0.006</td>\n",
       "      <td>0.006</td>\n",
       "    </tr>\n",
       "    <tr>\n",
       "      <th>20-30</th>\n",
       "      <td>17543</td>\n",
       "      <td>2165</td>\n",
       "      <td>0.056</td>\n",
       "      <td>0.046</td>\n",
       "      <td>0.011</td>\n",
       "      <td>0.002</td>\n",
       "      <td>0.004</td>\n",
       "      <td>0.005</td>\n",
       "    </tr>\n",
       "    <tr>\n",
       "      <th>30-40</th>\n",
       "      <td>17487</td>\n",
       "      <td>2221</td>\n",
       "      <td>0.039</td>\n",
       "      <td>0.031</td>\n",
       "      <td>0.008</td>\n",
       "      <td>0.001</td>\n",
       "      <td>0.004</td>\n",
       "      <td>0.004</td>\n",
       "    </tr>\n",
       "    <tr>\n",
       "      <th>40-50</th>\n",
       "      <td>17317</td>\n",
       "      <td>2391</td>\n",
       "      <td>0.030</td>\n",
       "      <td>0.028</td>\n",
       "      <td>0.002</td>\n",
       "      <td>0.001</td>\n",
       "      <td>0.003</td>\n",
       "      <td>0.004</td>\n",
       "    </tr>\n",
       "    <tr>\n",
       "      <th>50-60</th>\n",
       "      <td>17217</td>\n",
       "      <td>2491</td>\n",
       "      <td>0.027</td>\n",
       "      <td>0.021</td>\n",
       "      <td>0.006</td>\n",
       "      <td>0.001</td>\n",
       "      <td>0.003</td>\n",
       "      <td>0.003</td>\n",
       "    </tr>\n",
       "    <tr>\n",
       "      <th>60-70</th>\n",
       "      <td>17221</td>\n",
       "      <td>2487</td>\n",
       "      <td>0.027</td>\n",
       "      <td>0.024</td>\n",
       "      <td>0.003</td>\n",
       "      <td>0.001</td>\n",
       "      <td>0.003</td>\n",
       "      <td>0.003</td>\n",
       "    </tr>\n",
       "    <tr>\n",
       "      <th>70-80</th>\n",
       "      <td>17299</td>\n",
       "      <td>2409</td>\n",
       "      <td>0.026</td>\n",
       "      <td>0.021</td>\n",
       "      <td>0.005</td>\n",
       "      <td>0.001</td>\n",
       "      <td>0.003</td>\n",
       "      <td>0.003</td>\n",
       "    </tr>\n",
       "    <tr>\n",
       "      <th>80-90</th>\n",
       "      <td>16919</td>\n",
       "      <td>2789</td>\n",
       "      <td>0.018</td>\n",
       "      <td>0.011</td>\n",
       "      <td>0.007</td>\n",
       "      <td>0.001</td>\n",
       "      <td>0.002</td>\n",
       "      <td>0.002</td>\n",
       "    </tr>\n",
       "    <tr>\n",
       "      <th>90-100</th>\n",
       "      <td>17100</td>\n",
       "      <td>2607</td>\n",
       "      <td>0.020</td>\n",
       "      <td>0.016</td>\n",
       "      <td>0.004</td>\n",
       "      <td>0.001</td>\n",
       "      <td>0.002</td>\n",
       "      <td>0.003</td>\n",
       "    </tr>\n",
       "    <tr>\n",
       "      <th>total</th>\n",
       "      <td>173047</td>\n",
       "      <td>24032</td>\n",
       "      <td>0.064</td>\n",
       "      <td>0.051</td>\n",
       "      <td>0.013</td>\n",
       "      <td>0.016</td>\n",
       "      <td>0.040</td>\n",
       "      <td>0.043</td>\n",
       "    </tr>\n",
       "  </tbody>\n",
       "</table>\n",
       "</div>"
      ],
      "text/plain": [
       "            n_treatment  n_control  response_rate_treatment  \\\n",
       "percentile                                                    \n",
       "0-10              17318       2390                    0.291   \n",
       "10-20             17626       2082                    0.100   \n",
       "20-30             17543       2165                    0.056   \n",
       "30-40             17487       2221                    0.039   \n",
       "40-50             17317       2391                    0.030   \n",
       "50-60             17217       2491                    0.027   \n",
       "60-70             17221       2487                    0.027   \n",
       "70-80             17299       2409                    0.026   \n",
       "80-90             16919       2789                    0.018   \n",
       "90-100            17100       2607                    0.020   \n",
       "total            173047      24032                    0.064   \n",
       "\n",
       "            response_rate_control  uplift  std_treatment  std_control  \\\n",
       "percentile                                                              \n",
       "0-10                        0.241   0.049          0.003        0.009   \n",
       "10-20                       0.084   0.016          0.002        0.006   \n",
       "20-30                       0.046   0.011          0.002        0.004   \n",
       "30-40                       0.031   0.008          0.001        0.004   \n",
       "40-50                       0.028   0.002          0.001        0.003   \n",
       "50-60                       0.021   0.006          0.001        0.003   \n",
       "60-70                       0.024   0.003          0.001        0.003   \n",
       "70-80                       0.021   0.005          0.001        0.003   \n",
       "80-90                       0.011   0.007          0.001        0.002   \n",
       "90-100                      0.016   0.004          0.001        0.002   \n",
       "total                       0.051   0.013          0.016        0.040   \n",
       "\n",
       "            std_uplift  \n",
       "percentile              \n",
       "0-10             0.009  \n",
       "10-20            0.006  \n",
       "20-30            0.005  \n",
       "30-40            0.004  \n",
       "40-50            0.004  \n",
       "50-60            0.003  \n",
       "60-70            0.003  \n",
       "70-80            0.003  \n",
       "80-90            0.002  \n",
       "90-100           0.003  \n",
       "total            0.043  "
      ]
     },
     "execution_count": 428,
     "metadata": {},
     "output_type": "execute_result"
    }
   ],
   "source": [
    "# model results: uplift\n",
    "pred_uplift_sm = model_sm.predict(X_test)\n",
    "uplift_sm_avg = weighted_average_uplift(y_test, pred_uplift_sm, treat_test, bins=10) \n",
    "print(f\"average uplift: {uplift_sm_avg:.4f}\")\n",
    "\n",
    "pd.options.display.float_format = '{:,.3f}'.format\n",
    "uplift_by_percentile(   y_test, \n",
    "                        pred_uplift_sm, \n",
    "                        treat_test, \n",
    "                        strategy=\"overall\", total=True, std=True, bins=10)"
   ]
  },
  {
   "cell_type": "markdown",
   "id": "354b8331",
   "metadata": {},
   "source": [
    "Средний uplift составляет 1,23%."
   ]
  },
  {
   "cell_type": "code",
   "execution_count": 429,
   "id": "01bbe89b",
   "metadata": {},
   "outputs": [
    {
     "data": {
      "image/png": "[encoded data removed]",
      "text/plain": [
       "<Figure size 1440x504 with 3 Axes>"
      ]
     },
     "metadata": {},
     "output_type": "display_data"
    }
   ],
   "source": [
    "# model results: conditional probabilities of treatment effect\n",
    "# probability of performing the targeted action (visits):\n",
    "prob_treat = model_sm.trmnt_preds_         # probability in treatment group\n",
    "prob_control = model_sm.ctrl_preds_        # probability in control group\n",
    "plot_uplift_preds(trmnt_preds=prob_treat, ctrl_preds=prob_control);"
   ]
  },
  {
   "cell_type": "code",
   "execution_count": 430,
   "id": "3c2f3e22",
   "metadata": {},
   "outputs": [
    {
     "name": "stdout",
     "output_type": "stream",
     "text": [
      "S-learner:\n",
      "Qini coefficient: 0.027\n",
      "Uplift auc score: 0.014\n"
     ]
    },
    {
     "data": {
      "image/png": "[encoded data removed]",
      "text/plain": [
       "<Figure size 864x576 with 1 Axes>"
      ]
     },
     "metadata": {},
     "output_type": "display_data"
    }
   ],
   "source": [
    "print_qini(y_test, pred_uplift_sm, treat_test, \"S-learner:\", perfect=False)"
   ]
  },
  {
   "cell_type": "code",
   "execution_count": 431,
   "id": "9fd5dd4e",
   "metadata": {},
   "outputs": [
    {
     "data": {
      "text/html": [
       "<div>\n",
       "<style scoped>\n",
       "    .dataframe tbody tr th:only-of-type {\n",
       "        vertical-align: middle;\n",
       "    }\n",
       "\n",
       "    .dataframe tbody tr th {\n",
       "        vertical-align: top;\n",
       "    }\n",
       "\n",
       "    .dataframe thead th {\n",
       "        text-align: right;\n",
       "    }\n",
       "</style>\n",
       "<table border=\"1\" class=\"dataframe\">\n",
       "  <thead>\n",
       "    <tr style=\"text-align: right;\">\n",
       "      <th></th>\n",
       "      <th>feature_name</th>\n",
       "      <th>feature_importance</th>\n",
       "    </tr>\n",
       "  </thead>\n",
       "  <tbody>\n",
       "    <tr>\n",
       "      <th>0</th>\n",
       "      <td>f11</td>\n",
       "      <td>22.535</td>\n",
       "    </tr>\n",
       "    <tr>\n",
       "      <th>1</th>\n",
       "      <td>f8</td>\n",
       "      <td>17.619</td>\n",
       "    </tr>\n",
       "    <tr>\n",
       "      <th>2</th>\n",
       "      <td>f4</td>\n",
       "      <td>17.350</td>\n",
       "    </tr>\n",
       "    <tr>\n",
       "      <th>3</th>\n",
       "      <td>f6</td>\n",
       "      <td>9.940</td>\n",
       "    </tr>\n",
       "    <tr>\n",
       "      <th>4</th>\n",
       "      <td>f2</td>\n",
       "      <td>7.243</td>\n",
       "    </tr>\n",
       "    <tr>\n",
       "      <th>5</th>\n",
       "      <td>f0</td>\n",
       "      <td>6.708</td>\n",
       "    </tr>\n",
       "    <tr>\n",
       "      <th>6</th>\n",
       "      <td>f10</td>\n",
       "      <td>6.379</td>\n",
       "    </tr>\n",
       "    <tr>\n",
       "      <th>7</th>\n",
       "      <td>f9</td>\n",
       "      <td>5.968</td>\n",
       "    </tr>\n",
       "    <tr>\n",
       "      <th>8</th>\n",
       "      <td>f3</td>\n",
       "      <td>4.710</td>\n",
       "    </tr>\n",
       "    <tr>\n",
       "      <th>9</th>\n",
       "      <td>treatment</td>\n",
       "      <td>1.548</td>\n",
       "    </tr>\n",
       "  </tbody>\n",
       "</table>\n",
       "</div>"
      ],
      "text/plain": [
       "  feature_name  feature_importance\n",
       "0          f11              22.535\n",
       "1           f8              17.619\n",
       "2           f4              17.350\n",
       "3           f6               9.940\n",
       "4           f2               7.243\n",
       "5           f0               6.708\n",
       "6          f10               6.379\n",
       "7           f9               5.968\n",
       "8           f3               4.710\n",
       "9    treatment               1.548"
      ]
     },
     "execution_count": 431,
     "metadata": {},
     "output_type": "execute_result"
    }
   ],
   "source": [
    "#feature_importances_, ранжирует объекты по их влиянию на целевую переменную\n",
    "\n",
    "df_imp = pd.DataFrame({\n",
    "            \"feature_name\": model_sm.estimator.feature_names_,\n",
    "            \"feature_importance\": model_sm.estimator.feature_importances_}).\\\n",
    "                sort_values(\"feature_importance\", ascending=False).reset_index(drop=True)\n",
    "df_imp"
   ]
  },
  {
   "cell_type": "markdown",
   "id": "460e9d2e",
   "metadata": {},
   "source": [
    "Мы можем использовать массивы, предоставленные функцией predict() и атрибутами trmnt_preds_ и ctrl_preds_, для сортировки наших клиентов по категориям. Сначала мы создаем новый dataframe dfZ. Его три числовых столбца состоят из оценок повышения всех клиентов и двух вероятностей, на основе которых они были рассчитаны: вероятность ответа при лечении; subtrahend: вероятность ответа при отсутствии лечения. Затем мы вставляем новый столбец — категории клиентов, “cats” — и заполняем его автоматически, оценивая три числовых столбца. В строке 9 я определяю интервалы подъема, которые будут соответствовать меткам категорий:\n",
    "\n",
    "Подъем, близкий к нулю, подразумевает либо верные вещи, либо безнадежные дела. Используя метод вырезания pandas в строках с 9 по 11, я заключаю их в квадратные скобки в небольшом интервале между -0.01 и +0.01 и предварительно помечаю все из них как ”верные вещи\".\n",
    "Отрицательные подъемы ниже -0,01 указывают на спящих собак.\n",
    "Те, у кого положительный подъем выше 0,01, являются убедительными."
   ]
  },
  {
   "cell_type": "code",
   "execution_count": 432,
   "id": "8426fb10",
   "metadata": {},
   "outputs": [
    {
     "data": {
      "text/html": [
       "<div>\n",
       "<style scoped>\n",
       "    .dataframe tbody tr th:only-of-type {\n",
       "        vertical-align: middle;\n",
       "    }\n",
       "\n",
       "    .dataframe tbody tr th {\n",
       "        vertical-align: top;\n",
       "    }\n",
       "\n",
       "    .dataframe thead th {\n",
       "        text-align: right;\n",
       "    }\n",
       "</style>\n",
       "<table border=\"1\" class=\"dataframe\">\n",
       "  <thead>\n",
       "    <tr style=\"text-align: right;\">\n",
       "      <th></th>\n",
       "      <th>prob_treat</th>\n",
       "      <th>prob_control</th>\n",
       "      <th>uplift</th>\n",
       "      <th>cats</th>\n",
       "    </tr>\n",
       "  </thead>\n",
       "  <tbody>\n",
       "    <tr>\n",
       "      <th>166914</th>\n",
       "      <td>0.814</td>\n",
       "      <td>0.607</td>\n",
       "      <td>0.207</td>\n",
       "      <td>persuadable</td>\n",
       "    </tr>\n",
       "    <tr>\n",
       "      <th>149668</th>\n",
       "      <td>0.737</td>\n",
       "      <td>0.547</td>\n",
       "      <td>0.190</td>\n",
       "      <td>persuadable</td>\n",
       "    </tr>\n",
       "    <tr>\n",
       "      <th>139884</th>\n",
       "      <td>0.801</td>\n",
       "      <td>0.615</td>\n",
       "      <td>0.186</td>\n",
       "      <td>persuadable</td>\n",
       "    </tr>\n",
       "    <tr>\n",
       "      <th>127152</th>\n",
       "      <td>0.686</td>\n",
       "      <td>0.510</td>\n",
       "      <td>0.176</td>\n",
       "      <td>persuadable</td>\n",
       "    </tr>\n",
       "    <tr>\n",
       "      <th>151104</th>\n",
       "      <td>0.821</td>\n",
       "      <td>0.645</td>\n",
       "      <td>0.176</td>\n",
       "      <td>persuadable</td>\n",
       "    </tr>\n",
       "    <tr>\n",
       "      <th>...</th>\n",
       "      <td>...</td>\n",
       "      <td>...</td>\n",
       "      <td>...</td>\n",
       "      <td>...</td>\n",
       "    </tr>\n",
       "    <tr>\n",
       "      <th>131476</th>\n",
       "      <td>0.246</td>\n",
       "      <td>0.331</td>\n",
       "      <td>-0.085</td>\n",
       "      <td>sleeping dog</td>\n",
       "    </tr>\n",
       "    <tr>\n",
       "      <th>1890</th>\n",
       "      <td>0.379</td>\n",
       "      <td>0.469</td>\n",
       "      <td>-0.090</td>\n",
       "      <td>sleeping dog</td>\n",
       "    </tr>\n",
       "    <tr>\n",
       "      <th>76903</th>\n",
       "      <td>0.337</td>\n",
       "      <td>0.437</td>\n",
       "      <td>-0.100</td>\n",
       "      <td>sleeping dog</td>\n",
       "    </tr>\n",
       "    <tr>\n",
       "      <th>42390</th>\n",
       "      <td>0.351</td>\n",
       "      <td>0.452</td>\n",
       "      <td>-0.101</td>\n",
       "      <td>sleeping dog</td>\n",
       "    </tr>\n",
       "    <tr>\n",
       "      <th>121690</th>\n",
       "      <td>0.495</td>\n",
       "      <td>0.599</td>\n",
       "      <td>-0.104</td>\n",
       "      <td>sleeping dog</td>\n",
       "    </tr>\n",
       "  </tbody>\n",
       "</table>\n",
       "<p>197079 rows × 4 columns</p>\n",
       "</div>"
      ],
      "text/plain": [
       "        prob_treat  prob_control  uplift          cats\n",
       "166914       0.814         0.607   0.207   persuadable\n",
       "149668       0.737         0.547   0.190   persuadable\n",
       "139884       0.801         0.615   0.186   persuadable\n",
       "127152       0.686         0.510   0.176   persuadable\n",
       "151104       0.821         0.645   0.176   persuadable\n",
       "...            ...           ...     ...           ...\n",
       "131476       0.246         0.331  -0.085  sleeping dog\n",
       "1890         0.379         0.469  -0.090  sleeping dog\n",
       "76903        0.337         0.437  -0.100  sleeping dog\n",
       "42390        0.351         0.452  -0.101  sleeping dog\n",
       "121690       0.495         0.599  -0.104  sleeping dog\n",
       "\n",
       "[197079 rows x 4 columns]"
      ]
     },
     "execution_count": 432,
     "metadata": {},
     "output_type": "execute_result"
    }
   ],
   "source": [
    "# uplift by customer\n",
    "dfZ = pd.DataFrame()\n",
    "dfZ[\"prob_treat\"] = model_sm.trmnt_preds_   \n",
    "dfZ[\"prob_control\"] = model_sm.ctrl_preds_   \n",
    "dfZ[\"uplift\"] = pred_uplift_sm\n",
    "dfZ.sort_values(\"uplift\", inplace=True, ascending=False)   \n",
    "\n",
    "# classify customers by their response probabilities\n",
    "cutbins = [-1, -0.01, 0.01, 1]\n",
    "cutlabels = [\"sleeping dog\", \"sure thing\", \"persuadable\"]\n",
    "dfZ[\"cats\"] = pd.cut(dfZ[\"uplift\"], bins=cutbins, labels=cutlabels)\n",
    "\n",
    "\n",
    "# sure things needs to be split between lost causes and real sure things\n",
    "dfZ[\"cats\"] = dfZ[\"cats\"].cat.add_categories([\"lost cause\"])\n",
    "dfZ.loc[(dfZ[\"cats\"] == \"sure thing\") & (dfZ[\"prob_control\"] < 0.20), \"cats\"] = \"lost cause\"\n",
    "dfZ.sort_values(\"uplift\", ascending=False)"
   ]
  },
  {
   "cell_type": "markdown",
   "id": "005f7256",
   "metadata": {},
   "source": [
    "В этом примере я определяю, что вероятность ниже 0,20 переводит клиента в категорию безнадежных дел. Другие клиенты, которые не меняют своего поведения после рекламной кампании, но продолжают часто взаимодействовать с веб-сайтом, помечаются как \"верные вещи\". Конечно, мы могли бы отделить тех, кто никогда не берет, от тех, кто всегда берет, используя другие критерии, кроме их склонности посещать веб-сайт. Маркетологи должны были бы разработать критерий, который они считают полезной информацией."
   ]
  },
  {
   "cell_type": "code",
   "execution_count": 433,
   "id": "30097a44",
   "metadata": {},
   "outputs": [
    {
     "data": {
      "text/plain": [
       "<AxesSubplot:>"
      ]
     },
     "execution_count": 433,
     "metadata": {},
     "output_type": "execute_result"
    },
    {
     "data": {
      "image/png": "[encoded data removed]",
      "text/plain": [
       "<Figure size 432x288 with 1 Axes>"
      ]
     },
     "metadata": {},
     "output_type": "display_data"
    }
   ],
   "source": [
    "dfZ.cats.hist()"
   ]
  },
  {
   "cell_type": "code",
   "execution_count": 434,
   "id": "a0ee8723",
   "metadata": {},
   "outputs": [
    {
     "data": {
      "text/html": [
       "<div>\n",
       "<style scoped>\n",
       "    .dataframe tbody tr th:only-of-type {\n",
       "        vertical-align: middle;\n",
       "    }\n",
       "\n",
       "    .dataframe tbody tr th {\n",
       "        vertical-align: top;\n",
       "    }\n",
       "\n",
       "    .dataframe thead th {\n",
       "        text-align: right;\n",
       "    }\n",
       "</style>\n",
       "<table border=\"1\" class=\"dataframe\">\n",
       "  <thead>\n",
       "    <tr style=\"text-align: right;\">\n",
       "      <th></th>\n",
       "      <th>prob_control</th>\n",
       "      <th>prob_treat</th>\n",
       "      <th>uplift</th>\n",
       "    </tr>\n",
       "    <tr>\n",
       "      <th>cats</th>\n",
       "      <th></th>\n",
       "      <th></th>\n",
       "      <th></th>\n",
       "    </tr>\n",
       "  </thead>\n",
       "  <tbody>\n",
       "    <tr>\n",
       "      <th>sleeping dog</th>\n",
       "      <td>0.065</td>\n",
       "      <td>0.053</td>\n",
       "      <td>-0.011</td>\n",
       "    </tr>\n",
       "    <tr>\n",
       "      <th>sure thing</th>\n",
       "      <td>0.306</td>\n",
       "      <td>0.310</td>\n",
       "      <td>0.001</td>\n",
       "    </tr>\n",
       "    <tr>\n",
       "      <th>persuadable</th>\n",
       "      <td>0.055</td>\n",
       "      <td>0.074</td>\n",
       "      <td>0.019</td>\n",
       "    </tr>\n",
       "    <tr>\n",
       "      <th>lost cause</th>\n",
       "      <td>0.020</td>\n",
       "      <td>0.025</td>\n",
       "      <td>0.004</td>\n",
       "    </tr>\n",
       "  </tbody>\n",
       "</table>\n",
       "</div>"
      ],
      "text/plain": [
       "              prob_control  prob_treat  uplift\n",
       "cats                                          \n",
       "sleeping dog         0.065       0.053  -0.011\n",
       "sure thing           0.306       0.310   0.001\n",
       "persuadable          0.055       0.074   0.019\n",
       "lost cause           0.020       0.025   0.004"
      ]
     },
     "execution_count": 434,
     "metadata": {},
     "output_type": "execute_result"
    }
   ],
   "source": [
    "# uplift by customer category\n",
    "pd.pivot_table(dfZ, index = \"cats\", values = [\"prob_control\", \"prob_treat\", \"uplift\"], aggfunc=\"median\")"
   ]
  },
  {
   "cell_type": "markdown",
   "id": "68ae77eb",
   "metadata": {},
   "source": [
    "Когда мы рассматриваем категории клиентов, мы замечаем, что для sleeping dogs характерно отрицательное медианное повышение -1,4%; для убедительных - положительное медианное значение 2,0%. Верные вещи и безнадежные дела колеблются вокруг нуля. "
   ]
  },
  {
   "cell_type": "code",
   "execution_count": 435,
   "id": "dece782d",
   "metadata": {},
   "outputs": [
    {
     "data": {
      "text/html": [
       "<div>\n",
       "<style scoped>\n",
       "    .dataframe tbody tr th:only-of-type {\n",
       "        vertical-align: middle;\n",
       "    }\n",
       "\n",
       "    .dataframe tbody tr th {\n",
       "        vertical-align: top;\n",
       "    }\n",
       "\n",
       "    .dataframe thead th {\n",
       "        text-align: right;\n",
       "    }\n",
       "</style>\n",
       "<table border=\"1\" class=\"dataframe\">\n",
       "  <thead>\n",
       "    <tr style=\"text-align: right;\">\n",
       "      <th>cats</th>\n",
       "      <th>sleeping dog</th>\n",
       "      <th>sure thing</th>\n",
       "      <th>persuadable</th>\n",
       "      <th>lost cause</th>\n",
       "    </tr>\n",
       "  </thead>\n",
       "  <tbody>\n",
       "    <tr>\n",
       "      <th>count</th>\n",
       "      <td>333.000</td>\n",
       "      <td>358.000</td>\n",
       "      <td>64,655.000</td>\n",
       "      <td>131,733.000</td>\n",
       "    </tr>\n",
       "    <tr>\n",
       "      <th>mean</th>\n",
       "      <td>-0.015</td>\n",
       "      <td>0.002</td>\n",
       "      <td>0.026</td>\n",
       "      <td>0.005</td>\n",
       "    </tr>\n",
       "    <tr>\n",
       "      <th>std</th>\n",
       "      <td>0.013</td>\n",
       "      <td>0.005</td>\n",
       "      <td>0.019</td>\n",
       "      <td>0.002</td>\n",
       "    </tr>\n",
       "    <tr>\n",
       "      <th>min</th>\n",
       "      <td>-0.104</td>\n",
       "      <td>-0.010</td>\n",
       "      <td>0.010</td>\n",
       "      <td>-0.010</td>\n",
       "    </tr>\n",
       "    <tr>\n",
       "      <th>25%</th>\n",
       "      <td>-0.013</td>\n",
       "      <td>-0.001</td>\n",
       "      <td>0.013</td>\n",
       "      <td>0.003</td>\n",
       "    </tr>\n",
       "    <tr>\n",
       "      <th>50%</th>\n",
       "      <td>-0.011</td>\n",
       "      <td>0.001</td>\n",
       "      <td>0.019</td>\n",
       "      <td>0.004</td>\n",
       "    </tr>\n",
       "    <tr>\n",
       "      <th>75%</th>\n",
       "      <td>-0.011</td>\n",
       "      <td>0.007</td>\n",
       "      <td>0.031</td>\n",
       "      <td>0.006</td>\n",
       "    </tr>\n",
       "    <tr>\n",
       "      <th>max</th>\n",
       "      <td>-0.010</td>\n",
       "      <td>0.010</td>\n",
       "      <td>0.207</td>\n",
       "      <td>0.010</td>\n",
       "    </tr>\n",
       "  </tbody>\n",
       "</table>\n",
       "</div>"
      ],
      "text/plain": [
       "cats   sleeping dog  sure thing  persuadable  lost cause\n",
       "count       333.000     358.000   64,655.000 131,733.000\n",
       "mean         -0.015       0.002        0.026       0.005\n",
       "std           0.013       0.005        0.019       0.002\n",
       "min          -0.104      -0.010        0.010      -0.010\n",
       "25%          -0.013      -0.001        0.013       0.003\n",
       "50%          -0.011       0.001        0.019       0.004\n",
       "75%          -0.011       0.007        0.031       0.006\n",
       "max          -0.010       0.010        0.207       0.010"
      ]
     },
     "execution_count": 435,
     "metadata": {},
     "output_type": "execute_result"
    }
   ],
   "source": [
    "dfZ.groupby(\"cats\")[\"uplift\"].describe().T"
   ]
  },
  {
   "cell_type": "code",
   "execution_count": 436,
   "id": "93b8a73d",
   "metadata": {},
   "outputs": [
    {
     "data": {
      "image/png": "[encoded data removed]",
      "text/plain": [
       "<Figure size 1440x576 with 1 Axes>"
      ]
     },
     "metadata": {},
     "output_type": "display_data"
    }
   ],
   "source": [
    "# uplift by category\n",
    "import seaborn as sns\n",
    "fig, ax = plt.subplots(figsize=(20, 8))\n",
    "with sns.plotting_context(\"notebook\", font_scale=1.5):\n",
    "    sns.histplot(data=dfZ, x='uplift', hue='cats', stat='count', edgecolor=None, palette=\"bright\")\n",
    "    ax.set_title('uplift');"
   ]
  },
  {
   "cell_type": "code",
   "execution_count": 437,
   "id": "8d517ba8",
   "metadata": {},
   "outputs": [],
   "source": [
    "# classify customers by their response probabilities\n",
    "cutbins = [-1, -0.01, 0.01, 0.08, 1]\n",
    "cutlabels = [\"sleeping dog\", \"sure thing\", \"persuadable\", \"avid persuadables\"]\n",
    "dfZ[\"cats\"] = pd.cut(dfZ[\"uplift\"], bins=cutbins, labels=cutlabels)"
   ]
  },
  {
   "cell_type": "code",
   "execution_count": 438,
   "id": "e7f69f89",
   "metadata": {},
   "outputs": [
    {
     "data": {
      "image/png": "[encoded data removed]",
      "text/plain": [
       "<Figure size 1440x576 with 1 Axes>"
      ]
     },
     "metadata": {},
     "output_type": "display_data"
    }
   ],
   "source": [
    "fig, ax = plt.subplots(figsize=(20, 8))\n",
    "with sns.plotting_context(\"notebook\", font_scale=1.5):\n",
    "    sns.histplot(data=dfZ, x='uplift', hue='cats', stat='count', edgecolor=None, palette=\"bright\")\n",
    "    ax.set_title('uplift');"
   ]
  },
  {
   "cell_type": "markdown",
   "id": "2fb1f9f2",
   "metadata": {},
   "source": [
    "<a id='3'></a> \n",
    "### T-learner и оценка качества\n",
    "\n",
    "<a href='#0'> *Вернуться к плану проекта*"
   ]
  },
  {
   "cell_type": "code",
   "execution_count": 403,
   "id": "e7ac0267",
   "metadata": {},
   "outputs": [],
   "source": [
    "#cols1 = ['f11','f4','f8','f6','f10','f0','f9']\n",
    "cols1 = ['f'+str(i) for i in range(12)]\n",
    "# list of feature columns: excluding the target columns\n",
    "cols1 = np.setdiff1d(cols1, ['f1', 'f5'] ).tolist()"
   ]
  },
  {
   "cell_type": "code",
   "execution_count": 404,
   "id": "9f108e32",
   "metadata": {},
   "outputs": [
    {
     "data": {
      "text/plain": [
       "['f0', 'f10', 'f11', 'f2', 'f3', 'f4', 'f6', 'f7', 'f8', 'f9']"
      ]
     },
     "execution_count": 404,
     "metadata": {},
     "output_type": "execute_result"
    }
   ],
   "source": [
    "cols1"
   ]
  },
  {
   "cell_type": "code",
   "execution_count": 405,
   "id": "bece22d7",
   "metadata": {},
   "outputs": [
    {
     "name": "stdout",
     "output_type": "stream",
     "text": [
      "training: (459850, 10)\n",
      "testing: (197079, 10)\n"
     ]
    }
   ],
   "source": [
    "cols = cols1 + ['treatment','conversion']\n",
    "#df1 = df[cols1+['treatment', 'conversion','exposure2']].copy()\n",
    "df1 = df[cols].copy()\n",
    "# train/test split\n",
    "#['f'+str(i) for i in range(12)]\n",
    "X_train, X_test, treat_train, treat_test, y_train, y_test = \\\n",
    "        train_test_split(df1[cols1],\n",
    "                            df1['treatment'], \n",
    "                            df1['conversion'],\n",
    "                            stratify=df1[['treatment', 'conversion']],\n",
    "                            test_size=TST,\n",
    "                            random_state=RND)\n",
    "\n",
    "print(f\"training: {X_train.shape}\")\n",
    "print(f\"testing: {X_test.shape}\")"
   ]
  },
  {
   "cell_type": "code",
   "execution_count": 59,
   "id": "d15c8abe",
   "metadata": {},
   "outputs": [],
   "source": [
    "# prepare model\n",
    "estimator_2m_treat = CatBoostClassifier(    iterations = 20, \n",
    "                                            thread_count = THREADc, \n",
    "                                            random_state = RND, \n",
    "                                            silent = True)\n",
    "\n",
    "estimator_2m_control = CatBoostClassifier(  iterations = 20, \n",
    "                                            thread_count = THREADc, \n",
    "                                            random_state = RND, \n",
    "                                            silent = True)\n",
    "\n",
    "model_2im = TwoModels(  estimator_trmnt = estimator_2m_treat, \n",
    "                        estimator_ctrl = estimator_2m_control, \n",
    "                        method = \"vanilla\")\n",
    "model_2im = model_2im.fit(  X_train, \n",
    "                            y_train, \n",
    "                            treat_train)"
   ]
  },
  {
   "cell_type": "code",
   "execution_count": 407,
   "id": "0bba4d50",
   "metadata": {},
   "outputs": [
    {
     "name": "stdout",
     "output_type": "stream",
     "text": [
      "average uplift: 0.0100\n"
     ]
    },
    {
     "data": {
      "text/html": [
       "<div>\n",
       "<style scoped>\n",
       "    .dataframe tbody tr th:only-of-type {\n",
       "        vertical-align: middle;\n",
       "    }\n",
       "\n",
       "    .dataframe tbody tr th {\n",
       "        vertical-align: top;\n",
       "    }\n",
       "\n",
       "    .dataframe thead th {\n",
       "        text-align: right;\n",
       "    }\n",
       "</style>\n",
       "<table border=\"1\" class=\"dataframe\">\n",
       "  <thead>\n",
       "    <tr style=\"text-align: right;\">\n",
       "      <th></th>\n",
       "      <th>n_treatment</th>\n",
       "      <th>n_control</th>\n",
       "      <th>response_rate_treatment</th>\n",
       "      <th>response_rate_control</th>\n",
       "      <th>uplift</th>\n",
       "      <th>std_treatment</th>\n",
       "      <th>std_control</th>\n",
       "      <th>std_uplift</th>\n",
       "    </tr>\n",
       "    <tr>\n",
       "      <th>percentile</th>\n",
       "      <th></th>\n",
       "      <th></th>\n",
       "      <th></th>\n",
       "      <th></th>\n",
       "      <th></th>\n",
       "      <th></th>\n",
       "      <th></th>\n",
       "      <th></th>\n",
       "    </tr>\n",
       "  </thead>\n",
       "  <tbody>\n",
       "    <tr>\n",
       "      <th>0-10</th>\n",
       "      <td>17341</td>\n",
       "      <td>2367</td>\n",
       "      <td>0.243</td>\n",
       "      <td>0.197</td>\n",
       "      <td>0.045</td>\n",
       "      <td>0.003</td>\n",
       "      <td>0.008</td>\n",
       "      <td>0.009</td>\n",
       "    </tr>\n",
       "    <tr>\n",
       "      <th>10-20</th>\n",
       "      <td>17451</td>\n",
       "      <td>2257</td>\n",
       "      <td>0.077</td>\n",
       "      <td>0.062</td>\n",
       "      <td>0.015</td>\n",
       "      <td>0.002</td>\n",
       "      <td>0.005</td>\n",
       "      <td>0.005</td>\n",
       "    </tr>\n",
       "    <tr>\n",
       "      <th>20-30</th>\n",
       "      <td>17589</td>\n",
       "      <td>2119</td>\n",
       "      <td>0.048</td>\n",
       "      <td>0.037</td>\n",
       "      <td>0.010</td>\n",
       "      <td>0.002</td>\n",
       "      <td>0.004</td>\n",
       "      <td>0.004</td>\n",
       "    </tr>\n",
       "    <tr>\n",
       "      <th>30-40</th>\n",
       "      <td>17464</td>\n",
       "      <td>2244</td>\n",
       "      <td>0.036</td>\n",
       "      <td>0.028</td>\n",
       "      <td>0.009</td>\n",
       "      <td>0.001</td>\n",
       "      <td>0.003</td>\n",
       "      <td>0.004</td>\n",
       "    </tr>\n",
       "    <tr>\n",
       "      <th>40-50</th>\n",
       "      <td>17274</td>\n",
       "      <td>2434</td>\n",
       "      <td>0.029</td>\n",
       "      <td>0.024</td>\n",
       "      <td>0.006</td>\n",
       "      <td>0.001</td>\n",
       "      <td>0.003</td>\n",
       "      <td>0.003</td>\n",
       "    </tr>\n",
       "    <tr>\n",
       "      <th>50-60</th>\n",
       "      <td>17226</td>\n",
       "      <td>2482</td>\n",
       "      <td>0.030</td>\n",
       "      <td>0.020</td>\n",
       "      <td>0.010</td>\n",
       "      <td>0.001</td>\n",
       "      <td>0.003</td>\n",
       "      <td>0.003</td>\n",
       "    </tr>\n",
       "    <tr>\n",
       "      <th>60-70</th>\n",
       "      <td>17058</td>\n",
       "      <td>2650</td>\n",
       "      <td>0.025</td>\n",
       "      <td>0.022</td>\n",
       "      <td>0.004</td>\n",
       "      <td>0.001</td>\n",
       "      <td>0.003</td>\n",
       "      <td>0.003</td>\n",
       "    </tr>\n",
       "    <tr>\n",
       "      <th>70-80</th>\n",
       "      <td>16986</td>\n",
       "      <td>2722</td>\n",
       "      <td>0.021</td>\n",
       "      <td>0.014</td>\n",
       "      <td>0.006</td>\n",
       "      <td>0.001</td>\n",
       "      <td>0.002</td>\n",
       "      <td>0.003</td>\n",
       "    </tr>\n",
       "    <tr>\n",
       "      <th>80-90</th>\n",
       "      <td>16909</td>\n",
       "      <td>2799</td>\n",
       "      <td>0.025</td>\n",
       "      <td>0.017</td>\n",
       "      <td>0.008</td>\n",
       "      <td>0.001</td>\n",
       "      <td>0.002</td>\n",
       "      <td>0.003</td>\n",
       "    </tr>\n",
       "    <tr>\n",
       "      <th>90-100</th>\n",
       "      <td>17749</td>\n",
       "      <td>1958</td>\n",
       "      <td>0.100</td>\n",
       "      <td>0.112</td>\n",
       "      <td>-0.012</td>\n",
       "      <td>0.002</td>\n",
       "      <td>0.007</td>\n",
       "      <td>0.007</td>\n",
       "    </tr>\n",
       "    <tr>\n",
       "      <th>total</th>\n",
       "      <td>173047</td>\n",
       "      <td>24032</td>\n",
       "      <td>0.064</td>\n",
       "      <td>0.051</td>\n",
       "      <td>0.013</td>\n",
       "      <td>0.017</td>\n",
       "      <td>0.041</td>\n",
       "      <td>0.045</td>\n",
       "    </tr>\n",
       "  </tbody>\n",
       "</table>\n",
       "</div>"
      ],
      "text/plain": [
       "            n_treatment  n_control  response_rate_treatment  \\\n",
       "percentile                                                    \n",
       "0-10              17341       2367                    0.243   \n",
       "10-20             17451       2257                    0.077   \n",
       "20-30             17589       2119                    0.048   \n",
       "30-40             17464       2244                    0.036   \n",
       "40-50             17274       2434                    0.029   \n",
       "50-60             17226       2482                    0.030   \n",
       "60-70             17058       2650                    0.025   \n",
       "70-80             16986       2722                    0.021   \n",
       "80-90             16909       2799                    0.025   \n",
       "90-100            17749       1958                    0.100   \n",
       "total            173047      24032                    0.064   \n",
       "\n",
       "            response_rate_control  uplift  std_treatment  std_control  \\\n",
       "percentile                                                              \n",
       "0-10                        0.197   0.045          0.003        0.008   \n",
       "10-20                       0.062   0.015          0.002        0.005   \n",
       "20-30                       0.037   0.010          0.002        0.004   \n",
       "30-40                       0.028   0.009          0.001        0.003   \n",
       "40-50                       0.024   0.006          0.001        0.003   \n",
       "50-60                       0.020   0.010          0.001        0.003   \n",
       "60-70                       0.022   0.004          0.001        0.003   \n",
       "70-80                       0.014   0.006          0.001        0.002   \n",
       "80-90                       0.017   0.008          0.001        0.002   \n",
       "90-100                      0.112  -0.012          0.002        0.007   \n",
       "total                       0.051   0.013          0.017        0.041   \n",
       "\n",
       "            std_uplift  \n",
       "percentile              \n",
       "0-10             0.009  \n",
       "10-20            0.005  \n",
       "20-30            0.004  \n",
       "30-40            0.004  \n",
       "40-50            0.003  \n",
       "50-60            0.003  \n",
       "60-70            0.003  \n",
       "70-80            0.003  \n",
       "80-90            0.003  \n",
       "90-100           0.007  \n",
       "total            0.045  "
      ]
     },
     "execution_count": 407,
     "metadata": {},
     "output_type": "execute_result"
    }
   ],
   "source": [
    "# model results: uplift\n",
    "pred_uplift_2im = model_2im.predict(X_test)\n",
    "uplift_2im_avg = weighted_average_uplift(y_test, pred_uplift_2im, treat_test, bins=10) \n",
    "print(f\"average uplift: {uplift_2im_avg:.4f}\")\n",
    "\n",
    "pd.options.display.float_format = '{:,.3f}'.format\n",
    "uplift_by_percentile(   y_test, \n",
    "                        pred_uplift_2im, \n",
    "                        treat_test, \n",
    "                        strategy=\"overall\", total=True, std=True, bins=10)"
   ]
  },
  {
   "cell_type": "code",
   "execution_count": 408,
   "id": "96145e0b",
   "metadata": {},
   "outputs": [
    {
     "data": {
      "image/png": "[encoded data removed]",
      "text/plain": [
       "<Figure size 1440x504 with 3 Axes>"
      ]
     },
     "metadata": {},
     "output_type": "display_data"
    }
   ],
   "source": [
    "# model results: conditional probabilities of treatment effect\n",
    "# probability of performing the targeted action (visits):\n",
    "prob_treat = model_2im.trmnt_preds_         # probability in treatment group\n",
    "prob_control = model_2im.ctrl_preds_        # probability in control group\n",
    "plot_uplift_preds(trmnt_preds=prob_treat, ctrl_preds=prob_control);"
   ]
  },
  {
   "cell_type": "code",
   "execution_count": 409,
   "id": "ce92a5c2",
   "metadata": {},
   "outputs": [
    {
     "data": {
      "text/html": [
       "<div>\n",
       "<style scoped>\n",
       "    .dataframe tbody tr th:only-of-type {\n",
       "        vertical-align: middle;\n",
       "    }\n",
       "\n",
       "    .dataframe tbody tr th {\n",
       "        vertical-align: top;\n",
       "    }\n",
       "\n",
       "    .dataframe thead th {\n",
       "        text-align: right;\n",
       "    }\n",
       "</style>\n",
       "<table border=\"1\" class=\"dataframe\">\n",
       "  <thead>\n",
       "    <tr style=\"text-align: right;\">\n",
       "      <th></th>\n",
       "      <th>feature_name</th>\n",
       "      <th>feature_importance</th>\n",
       "    </tr>\n",
       "  </thead>\n",
       "  <tbody>\n",
       "    <tr>\n",
       "      <th>0</th>\n",
       "      <td>f11</td>\n",
       "      <td>25.343</td>\n",
       "    </tr>\n",
       "    <tr>\n",
       "      <th>1</th>\n",
       "      <td>f8</td>\n",
       "      <td>16.948</td>\n",
       "    </tr>\n",
       "    <tr>\n",
       "      <th>2</th>\n",
       "      <td>f4</td>\n",
       "      <td>16.534</td>\n",
       "    </tr>\n",
       "    <tr>\n",
       "      <th>3</th>\n",
       "      <td>f6</td>\n",
       "      <td>10.969</td>\n",
       "    </tr>\n",
       "    <tr>\n",
       "      <th>4</th>\n",
       "      <td>f0</td>\n",
       "      <td>7.134</td>\n",
       "    </tr>\n",
       "    <tr>\n",
       "      <th>5</th>\n",
       "      <td>f9</td>\n",
       "      <td>6.780</td>\n",
       "    </tr>\n",
       "    <tr>\n",
       "      <th>6</th>\n",
       "      <td>f10</td>\n",
       "      <td>6.012</td>\n",
       "    </tr>\n",
       "    <tr>\n",
       "      <th>7</th>\n",
       "      <td>f2</td>\n",
       "      <td>5.703</td>\n",
       "    </tr>\n",
       "    <tr>\n",
       "      <th>8</th>\n",
       "      <td>f3</td>\n",
       "      <td>3.018</td>\n",
       "    </tr>\n",
       "    <tr>\n",
       "      <th>9</th>\n",
       "      <td>f7</td>\n",
       "      <td>1.558</td>\n",
       "    </tr>\n",
       "  </tbody>\n",
       "</table>\n",
       "</div>"
      ],
      "text/plain": [
       "  feature_name  feature_importance\n",
       "0          f11              25.343\n",
       "1           f8              16.948\n",
       "2           f4              16.534\n",
       "3           f6              10.969\n",
       "4           f0               7.134\n",
       "5           f9               6.780\n",
       "6          f10               6.012\n",
       "7           f2               5.703\n",
       "8           f3               3.018\n",
       "9           f7               1.558"
      ]
     },
     "execution_count": 409,
     "metadata": {},
     "output_type": "execute_result"
    }
   ],
   "source": [
    "df_imp = pd.DataFrame({\n",
    "            \"feature_name\": model_2im.estimator_trmnt.feature_names_,\n",
    "            \"feature_importance\": model_2im.estimator_trmnt.feature_importances_}).\\\n",
    "                sort_values(\"feature_importance\", ascending=False).reset_index(drop=True)\n",
    "df_imp"
   ]
  },
  {
   "cell_type": "code",
   "execution_count": 410,
   "id": "f40298b9",
   "metadata": {},
   "outputs": [
    {
     "name": "stdout",
     "output_type": "stream",
     "text": [
      "S-learner:\n",
      "Qini coefficient: 0.033\n",
      "Uplift auc score: 0.017\n"
     ]
    },
    {
     "data": {
      "image/png": "[encoded data removed]",
      "text/plain": [
       "<Figure size 864x576 with 1 Axes>"
      ]
     },
     "metadata": {},
     "output_type": "display_data"
    }
   ],
   "source": [
    "print_qini(y_test, pred_uplift_2im, treat_test, \"T-learner:\", perfect=False)"
   ]
  },
  {
   "cell_type": "markdown",
   "id": "e9105abf",
   "metadata": {},
   "source": [
    "<a id='4'></a> \n",
    "### X-learner и оценка качества\n",
    "\n",
    "<a href='#0'> *Вернуться к плану проекта*"
   ]
  },
  {
   "cell_type": "code",
   "execution_count": 460,
   "id": "ca7f026f",
   "metadata": {},
   "outputs": [],
   "source": [
    "#cols1 = ['f11','f4','f8','f6','f10','f0','f9']\n",
    "cols1 = ['f'+str(i) for i in range(12)]\n",
    "# list of feature columns: excluding the target columns\n",
    "#cols1 = np.setdiff1d(cols1, ['f1'] ).tolist()"
   ]
  },
  {
   "cell_type": "code",
   "execution_count": 461,
   "id": "1daece7d",
   "metadata": {},
   "outputs": [
    {
     "name": "stdout",
     "output_type": "stream",
     "text": [
      "training: (459850, 12)\n",
      "testing: (197079, 12)\n"
     ]
    }
   ],
   "source": [
    "cols = cols1 + ['treatment','conversion']\n",
    "#df1 = df[cols1+['treatment', 'conversion','exposure2']].copy()\n",
    "df1 = df[cols].copy()\n",
    "# train/test split\n",
    "#['f'+str(i) for i in range(12)]\n",
    "X_train, X_test, treat_train, treat_test, y_train, y_test = \\\n",
    "        train_test_split(df1[cols1],\n",
    "                            df1['treatment'], \n",
    "                            df1['conversion'],\n",
    "                            stratify=df1[['treatment', 'conversion']],\n",
    "                            test_size=TST,\n",
    "                            random_state=RND)\n",
    "\n",
    "print(f\"training: {X_train.shape}\")\n",
    "print(f\"testing: {X_test.shape}\")"
   ]
  },
  {
   "cell_type": "code",
   "execution_count": 462,
   "id": "faed34d7",
   "metadata": {},
   "outputs": [],
   "source": [
    "# prepare model\n",
    "model_2dm = TwoModels(  estimator_trmnt = estimator_2m_treat, \n",
    "                        estimator_ctrl = estimator_2m_control, \n",
    "                        method = \"ddr_control\")                    # or: \"ddr_treatment\"\n",
    "\n",
    "\n",
    "model_2dm = model_2dm.fit(  X_train, \n",
    "                            y_train, \n",
    "                            treat_train)"
   ]
  },
  {
   "cell_type": "code",
   "execution_count": 463,
   "id": "c1c72529",
   "metadata": {},
   "outputs": [
    {
     "name": "stdout",
     "output_type": "stream",
     "text": [
      "average uplift: 0.0116\n"
     ]
    },
    {
     "data": {
      "text/html": [
       "<div>\n",
       "<style scoped>\n",
       "    .dataframe tbody tr th:only-of-type {\n",
       "        vertical-align: middle;\n",
       "    }\n",
       "\n",
       "    .dataframe tbody tr th {\n",
       "        vertical-align: top;\n",
       "    }\n",
       "\n",
       "    .dataframe thead th {\n",
       "        text-align: right;\n",
       "    }\n",
       "</style>\n",
       "<table border=\"1\" class=\"dataframe\">\n",
       "  <thead>\n",
       "    <tr style=\"text-align: right;\">\n",
       "      <th></th>\n",
       "      <th>n_treatment</th>\n",
       "      <th>n_control</th>\n",
       "      <th>response_rate_treatment</th>\n",
       "      <th>response_rate_control</th>\n",
       "      <th>uplift</th>\n",
       "      <th>std_treatment</th>\n",
       "      <th>std_control</th>\n",
       "      <th>std_uplift</th>\n",
       "    </tr>\n",
       "    <tr>\n",
       "      <th>percentile</th>\n",
       "      <th></th>\n",
       "      <th></th>\n",
       "      <th></th>\n",
       "      <th></th>\n",
       "      <th></th>\n",
       "      <th></th>\n",
       "      <th></th>\n",
       "      <th></th>\n",
       "    </tr>\n",
       "  </thead>\n",
       "  <tbody>\n",
       "    <tr>\n",
       "      <th>0-10</th>\n",
       "      <td>17286</td>\n",
       "      <td>2422</td>\n",
       "      <td>0.245</td>\n",
       "      <td>0.205</td>\n",
       "      <td>0.040</td>\n",
       "      <td>0.003</td>\n",
       "      <td>0.008</td>\n",
       "      <td>0.009</td>\n",
       "    </tr>\n",
       "    <tr>\n",
       "      <th>10-20</th>\n",
       "      <td>17580</td>\n",
       "      <td>2128</td>\n",
       "      <td>0.086</td>\n",
       "      <td>0.067</td>\n",
       "      <td>0.019</td>\n",
       "      <td>0.002</td>\n",
       "      <td>0.005</td>\n",
       "      <td>0.006</td>\n",
       "    </tr>\n",
       "    <tr>\n",
       "      <th>20-30</th>\n",
       "      <td>17490</td>\n",
       "      <td>2218</td>\n",
       "      <td>0.055</td>\n",
       "      <td>0.045</td>\n",
       "      <td>0.010</td>\n",
       "      <td>0.002</td>\n",
       "      <td>0.004</td>\n",
       "      <td>0.005</td>\n",
       "    </tr>\n",
       "    <tr>\n",
       "      <th>30-40</th>\n",
       "      <td>17453</td>\n",
       "      <td>2255</td>\n",
       "      <td>0.041</td>\n",
       "      <td>0.027</td>\n",
       "      <td>0.014</td>\n",
       "      <td>0.002</td>\n",
       "      <td>0.003</td>\n",
       "      <td>0.004</td>\n",
       "    </tr>\n",
       "    <tr>\n",
       "      <th>40-50</th>\n",
       "      <td>17423</td>\n",
       "      <td>2285</td>\n",
       "      <td>0.034</td>\n",
       "      <td>0.028</td>\n",
       "      <td>0.006</td>\n",
       "      <td>0.001</td>\n",
       "      <td>0.003</td>\n",
       "      <td>0.004</td>\n",
       "    </tr>\n",
       "    <tr>\n",
       "      <th>50-60</th>\n",
       "      <td>17397</td>\n",
       "      <td>2311</td>\n",
       "      <td>0.030</td>\n",
       "      <td>0.028</td>\n",
       "      <td>0.002</td>\n",
       "      <td>0.001</td>\n",
       "      <td>0.003</td>\n",
       "      <td>0.004</td>\n",
       "    </tr>\n",
       "    <tr>\n",
       "      <th>60-70</th>\n",
       "      <td>17155</td>\n",
       "      <td>2553</td>\n",
       "      <td>0.024</td>\n",
       "      <td>0.021</td>\n",
       "      <td>0.003</td>\n",
       "      <td>0.001</td>\n",
       "      <td>0.003</td>\n",
       "      <td>0.003</td>\n",
       "    </tr>\n",
       "    <tr>\n",
       "      <th>70-80</th>\n",
       "      <td>16952</td>\n",
       "      <td>2756</td>\n",
       "      <td>0.021</td>\n",
       "      <td>0.013</td>\n",
       "      <td>0.008</td>\n",
       "      <td>0.001</td>\n",
       "      <td>0.002</td>\n",
       "      <td>0.002</td>\n",
       "    </tr>\n",
       "    <tr>\n",
       "      <th>80-90</th>\n",
       "      <td>16893</td>\n",
       "      <td>2815</td>\n",
       "      <td>0.018</td>\n",
       "      <td>0.014</td>\n",
       "      <td>0.004</td>\n",
       "      <td>0.001</td>\n",
       "      <td>0.002</td>\n",
       "      <td>0.002</td>\n",
       "    </tr>\n",
       "    <tr>\n",
       "      <th>90-100</th>\n",
       "      <td>17418</td>\n",
       "      <td>2289</td>\n",
       "      <td>0.080</td>\n",
       "      <td>0.071</td>\n",
       "      <td>0.009</td>\n",
       "      <td>0.002</td>\n",
       "      <td>0.005</td>\n",
       "      <td>0.006</td>\n",
       "    </tr>\n",
       "    <tr>\n",
       "      <th>total</th>\n",
       "      <td>173047</td>\n",
       "      <td>24032</td>\n",
       "      <td>0.064</td>\n",
       "      <td>0.051</td>\n",
       "      <td>0.013</td>\n",
       "      <td>0.017</td>\n",
       "      <td>0.041</td>\n",
       "      <td>0.044</td>\n",
       "    </tr>\n",
       "  </tbody>\n",
       "</table>\n",
       "</div>"
      ],
      "text/plain": [
       "            n_treatment  n_control  response_rate_treatment  \\\n",
       "percentile                                                    \n",
       "0-10              17286       2422                    0.245   \n",
       "10-20             17580       2128                    0.086   \n",
       "20-30             17490       2218                    0.055   \n",
       "30-40             17453       2255                    0.041   \n",
       "40-50             17423       2285                    0.034   \n",
       "50-60             17397       2311                    0.030   \n",
       "60-70             17155       2553                    0.024   \n",
       "70-80             16952       2756                    0.021   \n",
       "80-90             16893       2815                    0.018   \n",
       "90-100            17418       2289                    0.080   \n",
       "total            173047      24032                    0.064   \n",
       "\n",
       "            response_rate_control  uplift  std_treatment  std_control  \\\n",
       "percentile                                                              \n",
       "0-10                        0.205   0.040          0.003        0.008   \n",
       "10-20                       0.067   0.019          0.002        0.005   \n",
       "20-30                       0.045   0.010          0.002        0.004   \n",
       "30-40                       0.027   0.014          0.002        0.003   \n",
       "40-50                       0.028   0.006          0.001        0.003   \n",
       "50-60                       0.028   0.002          0.001        0.003   \n",
       "60-70                       0.021   0.003          0.001        0.003   \n",
       "70-80                       0.013   0.008          0.001        0.002   \n",
       "80-90                       0.014   0.004          0.001        0.002   \n",
       "90-100                      0.071   0.009          0.002        0.005   \n",
       "total                       0.051   0.013          0.017        0.041   \n",
       "\n",
       "            std_uplift  \n",
       "percentile              \n",
       "0-10             0.009  \n",
       "10-20            0.006  \n",
       "20-30            0.005  \n",
       "30-40            0.004  \n",
       "40-50            0.004  \n",
       "50-60            0.004  \n",
       "60-70            0.003  \n",
       "70-80            0.002  \n",
       "80-90            0.002  \n",
       "90-100           0.006  \n",
       "total            0.044  "
      ]
     },
     "execution_count": 463,
     "metadata": {},
     "output_type": "execute_result"
    }
   ],
   "source": [
    "# model results: uplift\n",
    "pred_uplift_2dm = model_2dm.predict(X_test)\n",
    "uplift_2dm_avg = weighted_average_uplift(y_test, pred_uplift_2dm, treat_test, bins=10) \n",
    "print(f\"average uplift: {uplift_2dm_avg:.4f}\")\n",
    "\n",
    "pd.options.display.float_format = '{:,.3f}'.format\n",
    "uplift_by_percentile(   y_test, \n",
    "                        pred_uplift_2dm, \n",
    "                        treat_test, \n",
    "                        strategy=\"overall\", total=True, std=True, bins=10)"
   ]
  },
  {
   "cell_type": "code",
   "execution_count": 464,
   "id": "3073ae5c",
   "metadata": {},
   "outputs": [
    {
     "data": {
      "image/png": "[encoded data removed]",
      "text/plain": [
       "<Figure size 1440x504 with 3 Axes>"
      ]
     },
     "metadata": {},
     "output_type": "display_data"
    }
   ],
   "source": [
    "# model results: conditional probabilities of treatment effect\n",
    "# probability of performing the targeted action (visits):\n",
    "prob_treat = model_2dm.trmnt_preds_         # probability in treatment group\n",
    "prob_control = model_2dm.ctrl_preds_        # probability in control group\n",
    "plot_uplift_preds(trmnt_preds=prob_treat, ctrl_preds=prob_control);"
   ]
  },
  {
   "cell_type": "code",
   "execution_count": 465,
   "id": "2e3cacb4",
   "metadata": {},
   "outputs": [
    {
     "data": {
      "text/html": [
       "<div>\n",
       "<style scoped>\n",
       "    .dataframe tbody tr th:only-of-type {\n",
       "        vertical-align: middle;\n",
       "    }\n",
       "\n",
       "    .dataframe tbody tr th {\n",
       "        vertical-align: top;\n",
       "    }\n",
       "\n",
       "    .dataframe thead th {\n",
       "        text-align: right;\n",
       "    }\n",
       "</style>\n",
       "<table border=\"1\" class=\"dataframe\">\n",
       "  <thead>\n",
       "    <tr style=\"text-align: right;\">\n",
       "      <th></th>\n",
       "      <th>feature_name</th>\n",
       "      <th>feature_importance</th>\n",
       "    </tr>\n",
       "  </thead>\n",
       "  <tbody>\n",
       "    <tr>\n",
       "      <th>0</th>\n",
       "      <td>ddr_control</td>\n",
       "      <td>46.199</td>\n",
       "    </tr>\n",
       "    <tr>\n",
       "      <th>1</th>\n",
       "      <td>f8</td>\n",
       "      <td>12.405</td>\n",
       "    </tr>\n",
       "    <tr>\n",
       "      <th>2</th>\n",
       "      <td>f9</td>\n",
       "      <td>9.298</td>\n",
       "    </tr>\n",
       "    <tr>\n",
       "      <th>3</th>\n",
       "      <td>f4</td>\n",
       "      <td>7.485</td>\n",
       "    </tr>\n",
       "    <tr>\n",
       "      <th>4</th>\n",
       "      <td>f0</td>\n",
       "      <td>7.326</td>\n",
       "    </tr>\n",
       "    <tr>\n",
       "      <th>5</th>\n",
       "      <td>f11</td>\n",
       "      <td>4.661</td>\n",
       "    </tr>\n",
       "    <tr>\n",
       "      <th>6</th>\n",
       "      <td>f6</td>\n",
       "      <td>4.363</td>\n",
       "    </tr>\n",
       "    <tr>\n",
       "      <th>7</th>\n",
       "      <td>f10</td>\n",
       "      <td>2.957</td>\n",
       "    </tr>\n",
       "    <tr>\n",
       "      <th>8</th>\n",
       "      <td>f2</td>\n",
       "      <td>2.326</td>\n",
       "    </tr>\n",
       "    <tr>\n",
       "      <th>9</th>\n",
       "      <td>f3</td>\n",
       "      <td>2.216</td>\n",
       "    </tr>\n",
       "    <tr>\n",
       "      <th>10</th>\n",
       "      <td>f7</td>\n",
       "      <td>0.611</td>\n",
       "    </tr>\n",
       "    <tr>\n",
       "      <th>11</th>\n",
       "      <td>f1</td>\n",
       "      <td>0.137</td>\n",
       "    </tr>\n",
       "    <tr>\n",
       "      <th>12</th>\n",
       "      <td>f5</td>\n",
       "      <td>0.015</td>\n",
       "    </tr>\n",
       "  </tbody>\n",
       "</table>\n",
       "</div>"
      ],
      "text/plain": [
       "   feature_name  feature_importance\n",
       "0   ddr_control              46.199\n",
       "1            f8              12.405\n",
       "2            f9               9.298\n",
       "3            f4               7.485\n",
       "4            f0               7.326\n",
       "5           f11               4.661\n",
       "6            f6               4.363\n",
       "7           f10               2.957\n",
       "8            f2               2.326\n",
       "9            f3               2.216\n",
       "10           f7               0.611\n",
       "11           f1               0.137\n",
       "12           f5               0.015"
      ]
     },
     "execution_count": 465,
     "metadata": {},
     "output_type": "execute_result"
    }
   ],
   "source": [
    "df_imp = pd.DataFrame({\n",
    "            \"feature_name\": model_2dm.estimator_trmnt.feature_names_,\n",
    "            \"feature_importance\": model_2dm.estimator_trmnt.feature_importances_}).\\\n",
    "                sort_values(\"feature_importance\", ascending=False).reset_index(drop=True)\n",
    "df_imp"
   ]
  },
  {
   "cell_type": "code",
   "execution_count": 466,
   "id": "a1de78dc",
   "metadata": {},
   "outputs": [
    {
     "name": "stdout",
     "output_type": "stream",
     "text": [
      "X-learner:\n",
      "Qini coefficient: 0.023\n",
      "Uplift auc score: 0.012\n"
     ]
    },
    {
     "data": {
      "image/png": "[encoded data removed]",
      "text/plain": [
       "<Figure size 864x576 with 1 Axes>"
      ]
     },
     "metadata": {},
     "output_type": "display_data"
    }
   ],
   "source": [
    "print_qini(y_test, pred_uplift_2dm, treat_test, \"X-learner:\", perfect=False)"
   ]
  },
  {
   "cell_type": "markdown",
   "id": "60a8d055",
   "metadata": {},
   "source": [
    "<a id='5'></a> \n",
    "### R-learner и оценка качества\n",
    "\n",
    "<a href='#0'> *Вернуться к плану проекта*"
   ]
  },
  {
   "cell_type": "code",
   "execution_count": 56,
   "id": "3103180f",
   "metadata": {},
   "outputs": [],
   "source": [
    "#cols1 = ['f11','f4','f8','f6','f10','f0','f9']\n",
    "cols1 = ['f'+str(i) for i in range(12)]\n",
    "# list of feature columns: excluding the target columns\n",
    "cols1 = np.setdiff1d(cols1, ['f1'] ).tolist()"
   ]
  },
  {
   "cell_type": "code",
   "execution_count": 57,
   "id": "d4604f45",
   "metadata": {},
   "outputs": [
    {
     "name": "stdout",
     "output_type": "stream",
     "text": [
      "training: (459850, 11)\n",
      "testing: (197079, 11)\n"
     ]
    }
   ],
   "source": [
    "cols = cols1 + ['treatment','conversion']\n",
    "#df1 = df[cols1+['treatment', 'conversion','exposure2']].copy()\n",
    "df1 = df[cols].copy()\n",
    "# train/test split\n",
    "#['f'+str(i) for i in range(12)]\n",
    "X_train, X_test, treat_train, treat_test, y_train, y_test = \\\n",
    "        train_test_split(df1[cols1],\n",
    "                            df1['treatment'], \n",
    "                            df1['conversion'],\n",
    "                            stratify=df1[['treatment', 'conversion']],\n",
    "                            test_size=TST,\n",
    "                            random_state=RND)\n",
    "\n",
    "print(f\"training: {X_train.shape}\")\n",
    "print(f\"testing: {X_test.shape}\")"
   ]
  },
  {
   "cell_type": "code",
   "execution_count": 60,
   "id": "65b61e71",
   "metadata": {},
   "outputs": [],
   "source": [
    "# prepare model\n",
    "model_2dmt = TwoModels(  estimator_trmnt = estimator_2m_treat, \n",
    "                         estimator_ctrl = estimator_2m_control, \n",
    "                         method = \"ddr_treatment\")                    \n",
    "\n",
    "\n",
    "model_2dmt = model_2dmt.fit(  X_train, \n",
    "                              y_train, \n",
    "                              treat_train)"
   ]
  },
  {
   "cell_type": "code",
   "execution_count": 61,
   "id": "c12568de",
   "metadata": {},
   "outputs": [
    {
     "name": "stdout",
     "output_type": "stream",
     "text": [
      "average uplift: 0.0103\n"
     ]
    },
    {
     "data": {
      "text/html": [
       "<div>\n",
       "<style scoped>\n",
       "    .dataframe tbody tr th:only-of-type {\n",
       "        vertical-align: middle;\n",
       "    }\n",
       "\n",
       "    .dataframe tbody tr th {\n",
       "        vertical-align: top;\n",
       "    }\n",
       "\n",
       "    .dataframe thead th {\n",
       "        text-align: right;\n",
       "    }\n",
       "</style>\n",
       "<table border=\"1\" class=\"dataframe\">\n",
       "  <thead>\n",
       "    <tr style=\"text-align: right;\">\n",
       "      <th></th>\n",
       "      <th>n_treatment</th>\n",
       "      <th>n_control</th>\n",
       "      <th>response_rate_treatment</th>\n",
       "      <th>response_rate_control</th>\n",
       "      <th>uplift</th>\n",
       "      <th>std_treatment</th>\n",
       "      <th>std_control</th>\n",
       "      <th>std_uplift</th>\n",
       "    </tr>\n",
       "    <tr>\n",
       "      <th>percentile</th>\n",
       "      <th></th>\n",
       "      <th></th>\n",
       "      <th></th>\n",
       "      <th></th>\n",
       "      <th></th>\n",
       "      <th></th>\n",
       "      <th></th>\n",
       "      <th></th>\n",
       "    </tr>\n",
       "  </thead>\n",
       "  <tbody>\n",
       "    <tr>\n",
       "      <th>0-10</th>\n",
       "      <td>17353</td>\n",
       "      <td>2355</td>\n",
       "      <td>0.248</td>\n",
       "      <td>0.206</td>\n",
       "      <td>0.042</td>\n",
       "      <td>0.003</td>\n",
       "      <td>0.008</td>\n",
       "      <td>0.009</td>\n",
       "    </tr>\n",
       "    <tr>\n",
       "      <th>10-20</th>\n",
       "      <td>17407</td>\n",
       "      <td>2301</td>\n",
       "      <td>0.083</td>\n",
       "      <td>0.070</td>\n",
       "      <td>0.013</td>\n",
       "      <td>0.002</td>\n",
       "      <td>0.005</td>\n",
       "      <td>0.006</td>\n",
       "    </tr>\n",
       "    <tr>\n",
       "      <th>20-30</th>\n",
       "      <td>17481</td>\n",
       "      <td>2227</td>\n",
       "      <td>0.038</td>\n",
       "      <td>0.032</td>\n",
       "      <td>0.006</td>\n",
       "      <td>0.001</td>\n",
       "      <td>0.004</td>\n",
       "      <td>0.004</td>\n",
       "    </tr>\n",
       "    <tr>\n",
       "      <th>30-40</th>\n",
       "      <td>17404</td>\n",
       "      <td>2304</td>\n",
       "      <td>0.029</td>\n",
       "      <td>0.020</td>\n",
       "      <td>0.009</td>\n",
       "      <td>0.001</td>\n",
       "      <td>0.003</td>\n",
       "      <td>0.003</td>\n",
       "    </tr>\n",
       "    <tr>\n",
       "      <th>40-50</th>\n",
       "      <td>17301</td>\n",
       "      <td>2407</td>\n",
       "      <td>0.024</td>\n",
       "      <td>0.018</td>\n",
       "      <td>0.006</td>\n",
       "      <td>0.001</td>\n",
       "      <td>0.003</td>\n",
       "      <td>0.003</td>\n",
       "    </tr>\n",
       "    <tr>\n",
       "      <th>50-60</th>\n",
       "      <td>17118</td>\n",
       "      <td>2590</td>\n",
       "      <td>0.023</td>\n",
       "      <td>0.013</td>\n",
       "      <td>0.010</td>\n",
       "      <td>0.001</td>\n",
       "      <td>0.002</td>\n",
       "      <td>0.003</td>\n",
       "    </tr>\n",
       "    <tr>\n",
       "      <th>60-70</th>\n",
       "      <td>17173</td>\n",
       "      <td>2535</td>\n",
       "      <td>0.021</td>\n",
       "      <td>0.015</td>\n",
       "      <td>0.007</td>\n",
       "      <td>0.001</td>\n",
       "      <td>0.002</td>\n",
       "      <td>0.003</td>\n",
       "    </tr>\n",
       "    <tr>\n",
       "      <th>70-80</th>\n",
       "      <td>17065</td>\n",
       "      <td>2643</td>\n",
       "      <td>0.022</td>\n",
       "      <td>0.018</td>\n",
       "      <td>0.004</td>\n",
       "      <td>0.001</td>\n",
       "      <td>0.003</td>\n",
       "      <td>0.003</td>\n",
       "    </tr>\n",
       "    <tr>\n",
       "      <th>80-90</th>\n",
       "      <td>17043</td>\n",
       "      <td>2665</td>\n",
       "      <td>0.024</td>\n",
       "      <td>0.023</td>\n",
       "      <td>0.001</td>\n",
       "      <td>0.001</td>\n",
       "      <td>0.003</td>\n",
       "      <td>0.003</td>\n",
       "    </tr>\n",
       "    <tr>\n",
       "      <th>90-100</th>\n",
       "      <td>17702</td>\n",
       "      <td>2005</td>\n",
       "      <td>0.121</td>\n",
       "      <td>0.116</td>\n",
       "      <td>0.005</td>\n",
       "      <td>0.002</td>\n",
       "      <td>0.007</td>\n",
       "      <td>0.008</td>\n",
       "    </tr>\n",
       "    <tr>\n",
       "      <th>total</th>\n",
       "      <td>173047</td>\n",
       "      <td>24032</td>\n",
       "      <td>0.064</td>\n",
       "      <td>0.051</td>\n",
       "      <td>0.013</td>\n",
       "      <td>0.016</td>\n",
       "      <td>0.040</td>\n",
       "      <td>0.043</td>\n",
       "    </tr>\n",
       "  </tbody>\n",
       "</table>\n",
       "</div>"
      ],
      "text/plain": [
       "            n_treatment  n_control  response_rate_treatment  \\\n",
       "percentile                                                    \n",
       "0-10              17353       2355                    0.248   \n",
       "10-20             17407       2301                    0.083   \n",
       "20-30             17481       2227                    0.038   \n",
       "30-40             17404       2304                    0.029   \n",
       "40-50             17301       2407                    0.024   \n",
       "50-60             17118       2590                    0.023   \n",
       "60-70             17173       2535                    0.021   \n",
       "70-80             17065       2643                    0.022   \n",
       "80-90             17043       2665                    0.024   \n",
       "90-100            17702       2005                    0.121   \n",
       "total            173047      24032                    0.064   \n",
       "\n",
       "            response_rate_control  uplift  std_treatment  std_control  \\\n",
       "percentile                                                              \n",
       "0-10                        0.206   0.042          0.003        0.008   \n",
       "10-20                       0.070   0.013          0.002        0.005   \n",
       "20-30                       0.032   0.006          0.001        0.004   \n",
       "30-40                       0.020   0.009          0.001        0.003   \n",
       "40-50                       0.018   0.006          0.001        0.003   \n",
       "50-60                       0.013   0.010          0.001        0.002   \n",
       "60-70                       0.015   0.007          0.001        0.002   \n",
       "70-80                       0.018   0.004          0.001        0.003   \n",
       "80-90                       0.023   0.001          0.001        0.003   \n",
       "90-100                      0.116   0.005          0.002        0.007   \n",
       "total                       0.051   0.013          0.016        0.040   \n",
       "\n",
       "            std_uplift  \n",
       "percentile              \n",
       "0-10             0.009  \n",
       "10-20            0.006  \n",
       "20-30            0.004  \n",
       "30-40            0.003  \n",
       "40-50            0.003  \n",
       "50-60            0.003  \n",
       "60-70            0.003  \n",
       "70-80            0.003  \n",
       "80-90            0.003  \n",
       "90-100           0.008  \n",
       "total            0.043  "
      ]
     },
     "execution_count": 61,
     "metadata": {},
     "output_type": "execute_result"
    }
   ],
   "source": [
    "# model results: uplift\n",
    "pred_uplift_2dmt = model_2dmt.predict(X_test)\n",
    "uplift_2dmt_avg = weighted_average_uplift(y_test, pred_uplift_2dmt, treat_test, bins=10) \n",
    "print(f\"average uplift: {uplift_2dmt_avg:.4f}\")\n",
    "\n",
    "pd.options.display.float_format = '{:,.3f}'.format\n",
    "uplift_by_percentile(   y_test, \n",
    "                        pred_uplift_2dmt, \n",
    "                        treat_test, \n",
    "                        strategy=\"overall\", total=True, std=True, bins=10)"
   ]
  },
  {
   "cell_type": "code",
   "execution_count": 62,
   "id": "f9a617d2",
   "metadata": {},
   "outputs": [
    {
     "name": "stdout",
     "output_type": "stream",
     "text": [
      "R-learner:\n",
      "Qini coefficient: 0.021\n",
      "Uplift auc score: 0.011\n"
     ]
    },
    {
     "data": {
      "image/png": "[encoded data removed]",
      "text/plain": [
       "<Figure size 864x576 with 1 Axes>"
      ]
     },
     "metadata": {
      "needs_background": "light"
     },
     "output_type": "display_data"
    }
   ],
   "source": [
    "print_qini(y_test, pred_uplift_2dmt, treat_test, \"R-learner:\", perfect=False)"
   ]
  },
  {
   "cell_type": "code",
   "execution_count": 476,
   "id": "acfebf32",
   "metadata": {},
   "outputs": [
    {
     "data": {
      "text/html": [
       "<div>\n",
       "<style scoped>\n",
       "    .dataframe tbody tr th:only-of-type {\n",
       "        vertical-align: middle;\n",
       "    }\n",
       "\n",
       "    .dataframe tbody tr th {\n",
       "        vertical-align: top;\n",
       "    }\n",
       "\n",
       "    .dataframe thead th {\n",
       "        text-align: right;\n",
       "    }\n",
       "</style>\n",
       "<table border=\"1\" class=\"dataframe\">\n",
       "  <thead>\n",
       "    <tr style=\"text-align: right;\">\n",
       "      <th></th>\n",
       "      <th>feature_name</th>\n",
       "      <th>feature_importance</th>\n",
       "    </tr>\n",
       "  </thead>\n",
       "  <tbody>\n",
       "    <tr>\n",
       "      <th>0</th>\n",
       "      <td>f11</td>\n",
       "      <td>22.647</td>\n",
       "    </tr>\n",
       "    <tr>\n",
       "      <th>1</th>\n",
       "      <td>f8</td>\n",
       "      <td>16.184</td>\n",
       "    </tr>\n",
       "    <tr>\n",
       "      <th>2</th>\n",
       "      <td>f4</td>\n",
       "      <td>15.115</td>\n",
       "    </tr>\n",
       "    <tr>\n",
       "      <th>3</th>\n",
       "      <td>f6</td>\n",
       "      <td>9.477</td>\n",
       "    </tr>\n",
       "    <tr>\n",
       "      <th>4</th>\n",
       "      <td>f0</td>\n",
       "      <td>8.646</td>\n",
       "    </tr>\n",
       "    <tr>\n",
       "      <th>5</th>\n",
       "      <td>f9</td>\n",
       "      <td>7.544</td>\n",
       "    </tr>\n",
       "    <tr>\n",
       "      <th>6</th>\n",
       "      <td>f2</td>\n",
       "      <td>6.975</td>\n",
       "    </tr>\n",
       "    <tr>\n",
       "      <th>7</th>\n",
       "      <td>f10</td>\n",
       "      <td>6.583</td>\n",
       "    </tr>\n",
       "    <tr>\n",
       "      <th>8</th>\n",
       "      <td>f3</td>\n",
       "      <td>4.270</td>\n",
       "    </tr>\n",
       "    <tr>\n",
       "      <th>9</th>\n",
       "      <td>f5</td>\n",
       "      <td>1.549</td>\n",
       "    </tr>\n",
       "    <tr>\n",
       "      <th>10</th>\n",
       "      <td>f7</td>\n",
       "      <td>1.011</td>\n",
       "    </tr>\n",
       "  </tbody>\n",
       "</table>\n",
       "</div>"
      ],
      "text/plain": [
       "   feature_name  feature_importance\n",
       "0           f11              22.647\n",
       "1            f8              16.184\n",
       "2            f4              15.115\n",
       "3            f6               9.477\n",
       "4            f0               8.646\n",
       "5            f9               7.544\n",
       "6            f2               6.975\n",
       "7           f10               6.583\n",
       "8            f3               4.270\n",
       "9            f5               1.549\n",
       "10           f7               1.011"
      ]
     },
     "execution_count": 476,
     "metadata": {},
     "output_type": "execute_result"
    }
   ],
   "source": [
    "df_imp = pd.DataFrame({\n",
    "            \"feature_name\": model_2dmt.estimator_trmnt.feature_names_,\n",
    "            \"feature_importance\": model_2dmt.estimator_trmnt.feature_importances_}).\\\n",
    "                sort_values(\"feature_importance\", ascending=False).reset_index(drop=True)\n",
    "df_imp"
   ]
  },
  {
   "cell_type": "markdown",
   "id": "39be4d89",
   "metadata": {},
   "source": [
    "<a id='6'></a> \n",
    "### UpliftRandomForest и оценка качества\n",
    "\n",
    "<a href='#0'> *Вернуться к плану проекта*"
   ]
  },
  {
   "cell_type": "markdown",
   "id": "58167b39",
   "metadata": {},
   "source": [
    "см https://drive.google.com/file/d/1IoSYarNNE7h4c1Z1HfSSEGuBsQ_BV3Vq/view?usp=sharing"
   ]
  },
  {
   "cell_type": "markdown",
   "id": "094c2a4b",
   "metadata": {},
   "source": [
    "<a id='7'></a> \n",
    "### Выводы о лучших моделях\n",
    "\n",
    "<a href='#0'> *Вернуться к плану проекта*"
   ]
  },
  {
   "cell_type": "markdown",
   "id": "a6798bd9",
   "metadata": {},
   "source": [
    "Class Transformation model:\n",
    "Qini coefficient: 0.085\n",
    "Uplift auc score: 0.046\n",
    "\n",
    "\n",
    "S-learner:\n",
    "Qini coefficient: 0.027\n",
    "Uplift auc score: 0.014\n",
    "\n",
    "\n",
    "T-learner:\n",
    "Qini coefficient: 0.033\n",
    "Uplift auc score: 0.017\n",
    "\n",
    "\n",
    "X-learner:\n",
    "Qini coefficient: 0.023\n",
    "Uplift auc score: 0.012\n",
    "\n",
    "\n",
    "R-learner:\n",
    "Qini coefficient: 0.021\n",
    "Uplift auc score: 0.011\n"
   ]
  },
  {
   "cell_type": "code",
   "execution_count": null,
   "id": "163c72a3",
   "metadata": {},
   "outputs": [],
   "source": []
  },
  {
   "cell_type": "markdown",
   "id": "650f74a6",
   "metadata": {},
   "source": [
    "**При подготовке проекта использованы материалы статьи https://towardsdatascience.com/swaying-the-persuadables-predict-marketing-uplift-in-python-c5e9fd855b80**"
   ]
  },
  {
   "cell_type": "code",
   "execution_count": null,
   "id": "c2e06e51",
   "metadata": {},
   "outputs": [],
   "source": []
  }
 ],
 "metadata": {
  "kernelspec": {
   "display_name": "Python 3 (ipykernel)",
   "language": "python",
   "name": "python3"
  },
  "language_info": {
   "codemirror_mode": {
    "name": "ipython",
    "version": 3
   },
   "file_extension": ".py",
   "mimetype": "text/x-python",
   "name": "python",
   "nbconvert_exporter": "python",
   "pygments_lexer": "ipython3",
   "version": "3.7.13"
  }
 },
 "nbformat": 4,
 "nbformat_minor": 5
}
