{
 "cells": [
  {
   "cell_type": "markdown",
   "id": "977e7920",
   "metadata": {},
   "source": [
    "# Дипломная работа\n",
    "## часть 2"
   ]
  },
  {
   "cell_type": "markdown",
   "id": "86b8c23e",
   "metadata": {},
   "source": [
    "**Цель работы**: создать модель, которая сможет предсказывать товары (в нашем случае топ 3), которые будут наиболее интересными и актуальными для покупки, конкретным покупателем. Данными для модели будет информация о покупках, совершенных им самим или \"похожими на него\" другими покупателями ранее. Поэтому обучение производится на данных прошлого периода, а проверка качества модели на данных последующих периодов. "
   ]
  },
  {
   "cell_type": "markdown",
   "id": "15ef15cf",
   "metadata": {},
   "source": [
    "### Библиотеки"
   ]
  },
  {
   "cell_type": "code",
   "execution_count": 1,
   "id": "4876999f",
   "metadata": {},
   "outputs": [
    {
     "name": "stderr",
     "output_type": "stream",
     "text": [
      "C:\\Users\\talic\\anaconda3\\envs\\RecSystem\\lib\\site-packages\\lightfm\\_lightfm_fast.py:9: UserWarning: LightFM was compiled without OpenMP support. Only a single thread will be used.\n",
      "  warnings.warn(\n"
     ]
    }
   ],
   "source": [
    "import datetime\n",
    "import numpy as np\n",
    "import pandas as pd\n",
    "import os\n",
    "import seaborn as sns\n",
    "import pandas_profiling\n",
    "\n",
    "# all lightfm imports \n",
    "from lightfm.data import Dataset\n",
    "from lightfm import LightFM\n",
    "from lightfm import cross_validation\n",
    "from lightfm.evaluation import precision_at_k\n",
    "from lightfm.evaluation import auc_score"
   ]
  },
  {
   "cell_type": "markdown",
   "id": "cda5fc25",
   "metadata": {},
   "source": [
    "### Функции"
   ]
  },
  {
   "cell_type": "code",
   "execution_count": 2,
   "id": "7b2e0e10",
   "metadata": {},
   "outputs": [],
   "source": [
    "def display_data(dataframe, list_columns=None):\n",
    "    '''\n",
    "    Развернутая информация по датасету с фильтрацией по списку колонок,\n",
    "    по умолчнию без фильтрации,\n",
    "    названия признаков упорядочены по алфавиту\n",
    "    '''\n",
    "    if list_columns==None:\n",
    "        index_ = sorted(dataframe.columns)\n",
    "    else: \n",
    "        index_ = sorted([x for x in set(dataframe.dtypes.index).intersection(set(list_columns))])\n",
    "    \n",
    "    df = dataframe[index_]\n",
    "    d = pd.concat([df.dtypes,df.count() + df.isna().sum(),\\\n",
    "               round((df.isna().sum()/(df.count() + df.isna().sum()))*100,2),df.nunique(),],axis=1)\n",
    "    d.columns = ['Тип', 'Общ.кол', '% пропусков','Кол-во уник.значений']\n",
    "    display(d)\n",
    "    \n",
    "    return"
   ]
  },
  {
   "cell_type": "code",
   "execution_count": 24,
   "id": "87927f50",
   "metadata": {},
   "outputs": [],
   "source": [
    "def features_from_data(df, timestamp):\n",
    "    '''\n",
    "    Новые признаки из поля datetime\n",
    "    \n",
    "    df - Data Frame\n",
    "    timestamp - name of column to transform new features\n",
    "    \n",
    "    '''\n",
    "    dat = pd.to_datetime(df[timestamp], unit='ms', origin='unix')\n",
    "    #df['date0'] = dat\n",
    "    df['date'] = dat.dt.date\n",
    "    df['hour'] = dat.dt.hour.astype('int8')\n",
    "    df['month'] = dat.dt.month.astype('int8')\n",
    "    df['doy'] = dat.dt.dayofyear.astype('int32')\n",
    "    #df['year'] = dat.dt.year.astype('int16')\n",
    "    df['weekofyear'] = dat.dt.isocalendar().week.astype('int8')\n",
    "    df['dow'] = dat.dt.dayofweek.astype('int8')\n",
    "    \n",
    "    \n",
    "def generate_int_id(dataframe, id_col_name):\n",
    "    \"\"\"\n",
    "    Generate unique integer id for users, questions and answers\n",
    "\n",
    "    Parameters\n",
    "    ----------\n",
    "    dataframe: Dataframe\n",
    "        Pandas Dataframe for Users or Q&A. \n",
    "    id_col_name : String \n",
    "        New integer id's column name.\n",
    "        \n",
    "    Returns\n",
    "    -------\n",
    "    Dataframe\n",
    "        Updated dataframe containing new id column \n",
    "    \"\"\"\n",
    "    new_dataframe=dataframe.assign(\n",
    "        int_id_col_name=np.arange(len(dataframe))\n",
    "        ).reset_index(drop=True)\n",
    "    return new_dataframe.rename(columns={'int_id_col_name': id_col_name})\n",
    "\n",
    "\n",
    "def generate_feature_list(dataframe, features_name):\n",
    "    \"\"\"\n",
    "    Generate features list for mapping \n",
    "\n",
    "    Parameters\n",
    "    ----------\n",
    "    dataframe: Dataframe\n",
    "        Pandas Dataframe for Users or Q&A. \n",
    "    features_name : List\n",
    "        List of feature columns name avaiable in dataframe. \n",
    "        \n",
    "    Returns\n",
    "    -------\n",
    "    List of all features for mapping \n",
    "    \"\"\"\n",
    "    features = dataframe[features_name].apply(\n",
    "        lambda x: ','.join(x.map(str)), axis=1)\n",
    "    features = features.str.split(',')\n",
    "    features = features.apply(pd.Series).stack().reset_index(drop=True)\n",
    "    return features\n",
    "\n",
    "\n",
    "def calculate_auc_score(lightfm_model, interactions_matrix, \n",
    "                        question_features, professional_features): \n",
    "    \"\"\"\n",
    "    Measure the ROC AUC metric for a model. \n",
    "    A perfect score is 1.0.\n",
    "\n",
    "    Parameters\n",
    "    ----------\n",
    "    lightfm_model: LightFM model \n",
    "        A fitted lightfm model \n",
    "    interactions_matrix : \n",
    "        A lightfm interactions matrix \n",
    "    question_features, professional_features: \n",
    "        Lightfm features \n",
    "        \n",
    "    Returns\n",
    "    -------\n",
    "    String containing AUC score \n",
    "    \"\"\"\n",
    "    score = auc_score( \n",
    "        lightfm_model, interactions_matrix, \n",
    "        item_features=question_features, \n",
    "        user_features=professional_features, \n",
    "        num_threads=4).mean()\n",
    "    return score\n",
    "\n",
    "\n",
    "\n",
    "def take_features(df_events, ind_visitors, event_name):\n",
    "    '''\n",
    "    формирует набор признаков для посетителя сайта по виду события\n",
    "    (т.е строку из товаров привлекших внимание посетителя при просмотрах, добавлении в корзину или покупке\n",
    "    понедельно!!)\n",
    "    '''\n",
    "    tmp = events0.loc[(events0.visitorid.isin(ind_visitors))&(events0.event==event_name)][['visitorid', 'itemid', 'weekofyear']]\n",
    "    tmp = tmp.dropna()\n",
    "    tmp['itemid'] = tmp['itemid'].astype(str)\n",
    "    #we group all of tags of each user into single row \n",
    "    tmp = tmp.groupby(['weekofyear','visitorid'])['itemid'].apply(','.join).reset_index()\n",
    "    #tmp['itemid'] = ( tmp['itemid'].str.split(',').apply(set).str.join(','))\n",
    "    tmp.rename(columns={'itemid': 'visitor_'+event_name}, inplace=True)\n",
    "    \n",
    "    return df_events.merge(tmp, how='left', on=['visitorid','weekofyear'])\n",
    "\n",
    "def create_list_parentids2(categoryid):\n",
    "    '''\n",
    "    Определяет список всех \"предков\" в иерархии элемента в обратном порядке\n",
    "    '''\n",
    "    list_parentids = categoryid\n",
    "    \n",
    "    parent_id = category[category.categoryid==int(categoryid)].parentid.values[0]\n",
    "    \n",
    "    while not parent_id.astype(str)=='-1':\n",
    "        list_parentids = ','.join([list_parentids, str(int(parent_id))])\n",
    "        category_id = parent_id\n",
    "        \n",
    "        parent_id = category[category.categoryid==category_id].parentid.values[0]\n",
    "            \n",
    "    return list_parentids\n",
    "\n",
    "\n",
    "def create_df_feature2(code_property):\n",
    "    '''\n",
    "    Создает датафрейм для добавления к данным по коду свойства\n",
    "    '''\n",
    "    \n",
    "    new_df = properties[properties['property']==code_property][['itemid','weekofyear', 'value']]\n",
    "    \n",
    "    if code_property == '790': # price\n",
    "        new_df['value'] = new_df['value'].apply(lambda x: x[1:])\n",
    "        new_df['value'] = new_df['value'].astype('float')\n",
    "       \n",
    "    else:    \n",
    "        if code_property == 'categoryid': \n",
    "            new_df['value'] = new_df['value'].apply(lambda x: create_list_parentids2(x))\n",
    "            \n",
    "        new_df['value'] = new_df['value'].str.split(' ').apply(set).str.join(',')\n",
    "\n",
    "    # Свойства устанавливаются на следующую неделю:\n",
    "    new_df['weekofyear'] = new_df['weekofyear'] + 1 \n",
    "\n",
    "    return new_df\n",
    "\n",
    "def create_features_visitors(df_visitors, df_events, event_name):\n",
    "    '''\n",
    "    формирует набор признаков для посетителя сайта по виду события\n",
    "    (т.е строку из товаров привлекших внимание посетителя при просмотрах, добавлении в корзину или покупке\n",
    "    )\n",
    "    '''\n",
    "    tmp = df_events[['visitorid', event_name]]\n",
    "    tmp = tmp.dropna()\n",
    "    \n",
    "    #we group all of tags of each user into single row \n",
    "    tmp = tmp.groupby(['visitorid'])[event_name].apply(','.join).reset_index()\n",
    "    tmp[event_name] = ( tmp[event_name].str.split(',').apply(set).str.join(','))\n",
    "        \n",
    "    return df_visitors.merge(tmp, how='left', on=['visitorid'])\n",
    "\n",
    "def create_features(dataframe, features_name, id_col_name):\n",
    "    \"\"\"\n",
    "    Создаются функции, которые будут готовы для загрузки в light fm\n",
    "\n",
    "    Parameters\n",
    "    ----------\n",
    "    dataframe: Dataframe\n",
    "        Pandas Dataframe со свойствами\n",
    "    features_name : List\n",
    "        Список имен столбцов объектов, доступных во фрейме данных\n",
    "    id_col_name: String\n",
    "        Имя столбца, содержащее идентификатор, с которым будут сопоставлены объекты.\n",
    "        1. items_id_num\n",
    "        2. visitors_id_num\n",
    "\n",
    "    Returns\n",
    "    -------\n",
    "    Pandas Series\n",
    "        Серия pandas, содержащая технологические функции, готовые для подачи в light fm.\n",
    "    \"\"\"\n",
    "\n",
    "    features = dataframe[features_name].apply(\n",
    "        lambda x: ','.join(x.map(str)), axis=1)\n",
    "    features = features.str.split(',')\n",
    "    features = list(zip(dataframe[id_col_name], features))\n",
    "    return features"
   ]
  },
  {
   "cell_type": "code",
   "execution_count": 4,
   "id": "f30bb480",
   "metadata": {},
   "outputs": [],
   "source": [
    "'''\n",
    "Объявление переменных\n",
    "\n",
    "'''\n",
    "path = r'F:\\SkillFactory\\diplom'\n",
    "dict_actions = {0:'view', 1:'addtocart', 2: 'transaction'}\n"
   ]
  },
  {
   "cell_type": "markdown",
   "id": "5b0213aa",
   "metadata": {},
   "source": [
    "### Загрузка исходгого датасета"
   ]
  },
  {
   "cell_type": "code",
   "execution_count": 187,
   "id": "95d6fc79",
   "metadata": {},
   "outputs": [],
   "source": [
    "'''\n",
    "Загрузка данных\n",
    "\n",
    "'''\n",
    "\n",
    "category = pd.read_csv(os.path.join(path,'category_tree.csv'))\n",
    "events = pd.read_csv(os.path.join(path,'events.csv'))\n",
    "items1 = pd.read_csv(os.path.join(path,'item_properties_part1.csv'))\n",
    "items2 = pd.read_csv(os.path.join(path,'item_properties_part2.csv'))"
   ]
  },
  {
   "cell_type": "code",
   "execution_count": 188,
   "id": "c399c641",
   "metadata": {},
   "outputs": [],
   "source": [
    "'''\n",
    "Получение данных \n",
    "\n",
    "'''\n",
    "# Заполняем -1 корень дерева (25 штук)\n",
    "category['parentid'] = category['parentid'].fillna(-1)\n",
    "    \n",
    "# Уменьшаем размерность данных\n",
    "category['categoryid'] = category['categoryid'].astype('int32')\n",
    "category['parentid'] = category['parentid'].astype('int32')\n",
    "\n",
    "# Получим признаки из даты\n",
    "features_from_data(events, 'timestamp')\n",
    "\n",
    "#Дубликаты\n",
    "events = events.drop_duplicates()\n",
    "\n",
    "#for col in ['visitorid', 'itemid', 'transactionid']:\n",
    "#    events[col] = events[col].astype('int32')\n",
    "    \n",
    "# Сохранение\n",
    "events0 = events.copy() \n",
    "\n",
    "#Объединяем свойства в один датасет:\n",
    "properties = pd.concat([items1,items2])\n",
    "properties = properties.drop_duplicates()\n",
    "\n",
    "# Уменьшаем размерность данных\n",
    "properties['itemid'] = properties['itemid'].astype('int32')"
   ]
  },
  {
   "cell_type": "markdown",
   "id": "9b8beb50",
   "metadata": {},
   "source": [
    "### Описание исходных данных"
   ]
  },
  {
   "cell_type": "code",
   "execution_count": 7,
   "id": "65799ba7",
   "metadata": {},
   "outputs": [
    {
     "data": {
      "text/html": [
       "<div>\n",
       "<style scoped>\n",
       "    .dataframe tbody tr th:only-of-type {\n",
       "        vertical-align: middle;\n",
       "    }\n",
       "\n",
       "    .dataframe tbody tr th {\n",
       "        vertical-align: top;\n",
       "    }\n",
       "\n",
       "    .dataframe thead th {\n",
       "        text-align: right;\n",
       "    }\n",
       "</style>\n",
       "<table border=\"1\" class=\"dataframe\">\n",
       "  <thead>\n",
       "    <tr style=\"text-align: right;\">\n",
       "      <th></th>\n",
       "      <th>categoryid</th>\n",
       "      <th>parentid</th>\n",
       "    </tr>\n",
       "  </thead>\n",
       "  <tbody>\n",
       "    <tr>\n",
       "      <th>0</th>\n",
       "      <td>1016</td>\n",
       "      <td>213</td>\n",
       "    </tr>\n",
       "    <tr>\n",
       "      <th>1</th>\n",
       "      <td>809</td>\n",
       "      <td>169</td>\n",
       "    </tr>\n",
       "    <tr>\n",
       "      <th>2</th>\n",
       "      <td>570</td>\n",
       "      <td>9</td>\n",
       "    </tr>\n",
       "  </tbody>\n",
       "</table>\n",
       "</div>"
      ],
      "text/plain": [
       "   categoryid  parentid\n",
       "0        1016       213\n",
       "1         809       169\n",
       "2         570         9"
      ]
     },
     "execution_count": 7,
     "metadata": {},
     "output_type": "execute_result"
    }
   ],
   "source": [
    "category.head(3)"
   ]
  },
  {
   "cell_type": "code",
   "execution_count": 8,
   "id": "37f39e82",
   "metadata": {},
   "outputs": [
    {
     "data": {
      "text/html": [
       "<div>\n",
       "<style scoped>\n",
       "    .dataframe tbody tr th:only-of-type {\n",
       "        vertical-align: middle;\n",
       "    }\n",
       "\n",
       "    .dataframe tbody tr th {\n",
       "        vertical-align: top;\n",
       "    }\n",
       "\n",
       "    .dataframe thead th {\n",
       "        text-align: right;\n",
       "    }\n",
       "</style>\n",
       "<table border=\"1\" class=\"dataframe\">\n",
       "  <thead>\n",
       "    <tr style=\"text-align: right;\">\n",
       "      <th></th>\n",
       "      <th>Тип</th>\n",
       "      <th>Общ.кол</th>\n",
       "      <th>% пропусков</th>\n",
       "      <th>Кол-во уник.значений</th>\n",
       "    </tr>\n",
       "  </thead>\n",
       "  <tbody>\n",
       "    <tr>\n",
       "      <th>categoryid</th>\n",
       "      <td>int32</td>\n",
       "      <td>1669</td>\n",
       "      <td>0.0</td>\n",
       "      <td>1669</td>\n",
       "    </tr>\n",
       "    <tr>\n",
       "      <th>parentid</th>\n",
       "      <td>int32</td>\n",
       "      <td>1669</td>\n",
       "      <td>0.0</td>\n",
       "      <td>363</td>\n",
       "    </tr>\n",
       "  </tbody>\n",
       "</table>\n",
       "</div>"
      ],
      "text/plain": [
       "              Тип  Общ.кол  % пропусков  Кол-во уник.значений\n",
       "categoryid  int32     1669          0.0                  1669\n",
       "parentid    int32     1669          0.0                   363"
      ]
     },
     "metadata": {},
     "output_type": "display_data"
    }
   ],
   "source": [
    "display_data(category)"
   ]
  },
  {
   "cell_type": "markdown",
   "id": "d9207599",
   "metadata": {},
   "source": [
    "Датафрейм **category** содержит дерево категорий для товаров"
   ]
  },
  {
   "cell_type": "code",
   "execution_count": 9,
   "id": "4ae9f26f",
   "metadata": {},
   "outputs": [
    {
     "data": {
      "text/html": [
       "<div>\n",
       "<style scoped>\n",
       "    .dataframe tbody tr th:only-of-type {\n",
       "        vertical-align: middle;\n",
       "    }\n",
       "\n",
       "    .dataframe tbody tr th {\n",
       "        vertical-align: top;\n",
       "    }\n",
       "\n",
       "    .dataframe thead th {\n",
       "        text-align: right;\n",
       "    }\n",
       "</style>\n",
       "<table border=\"1\" class=\"dataframe\">\n",
       "  <thead>\n",
       "    <tr style=\"text-align: right;\">\n",
       "      <th></th>\n",
       "      <th>timestamp</th>\n",
       "      <th>itemid</th>\n",
       "      <th>property</th>\n",
       "      <th>value</th>\n",
       "    </tr>\n",
       "  </thead>\n",
       "  <tbody>\n",
       "    <tr>\n",
       "      <th>0</th>\n",
       "      <td>1435460400000</td>\n",
       "      <td>460429</td>\n",
       "      <td>categoryid</td>\n",
       "      <td>1338</td>\n",
       "    </tr>\n",
       "    <tr>\n",
       "      <th>1</th>\n",
       "      <td>1441508400000</td>\n",
       "      <td>206783</td>\n",
       "      <td>888</td>\n",
       "      <td>1116713 960601 n277.200</td>\n",
       "    </tr>\n",
       "    <tr>\n",
       "      <th>2</th>\n",
       "      <td>1439089200000</td>\n",
       "      <td>395014</td>\n",
       "      <td>400</td>\n",
       "      <td>n552.000 639502 n720.000 424566</td>\n",
       "    </tr>\n",
       "  </tbody>\n",
       "</table>\n",
       "</div>"
      ],
      "text/plain": [
       "       timestamp  itemid    property                            value\n",
       "0  1435460400000  460429  categoryid                             1338\n",
       "1  1441508400000  206783         888          1116713 960601 n277.200\n",
       "2  1439089200000  395014         400  n552.000 639502 n720.000 424566"
      ]
     },
     "execution_count": 9,
     "metadata": {},
     "output_type": "execute_result"
    }
   ],
   "source": [
    "properties.head(3)"
   ]
  },
  {
   "cell_type": "code",
   "execution_count": 10,
   "id": "88c9b23d",
   "metadata": {},
   "outputs": [
    {
     "data": {
      "text/html": [
       "<div>\n",
       "<style scoped>\n",
       "    .dataframe tbody tr th:only-of-type {\n",
       "        vertical-align: middle;\n",
       "    }\n",
       "\n",
       "    .dataframe tbody tr th {\n",
       "        vertical-align: top;\n",
       "    }\n",
       "\n",
       "    .dataframe thead th {\n",
       "        text-align: right;\n",
       "    }\n",
       "</style>\n",
       "<table border=\"1\" class=\"dataframe\">\n",
       "  <thead>\n",
       "    <tr style=\"text-align: right;\">\n",
       "      <th></th>\n",
       "      <th>Тип</th>\n",
       "      <th>Общ.кол</th>\n",
       "      <th>% пропусков</th>\n",
       "      <th>Кол-во уник.значений</th>\n",
       "    </tr>\n",
       "  </thead>\n",
       "  <tbody>\n",
       "    <tr>\n",
       "      <th>itemid</th>\n",
       "      <td>int32</td>\n",
       "      <td>20275902</td>\n",
       "      <td>0.0</td>\n",
       "      <td>417053</td>\n",
       "    </tr>\n",
       "    <tr>\n",
       "      <th>property</th>\n",
       "      <td>object</td>\n",
       "      <td>20275902</td>\n",
       "      <td>0.0</td>\n",
       "      <td>1104</td>\n",
       "    </tr>\n",
       "    <tr>\n",
       "      <th>timestamp</th>\n",
       "      <td>int64</td>\n",
       "      <td>20275902</td>\n",
       "      <td>0.0</td>\n",
       "      <td>18</td>\n",
       "    </tr>\n",
       "    <tr>\n",
       "      <th>value</th>\n",
       "      <td>object</td>\n",
       "      <td>20275902</td>\n",
       "      <td>0.0</td>\n",
       "      <td>1966868</td>\n",
       "    </tr>\n",
       "  </tbody>\n",
       "</table>\n",
       "</div>"
      ],
      "text/plain": [
       "              Тип   Общ.кол  % пропусков  Кол-во уник.значений\n",
       "itemid      int32  20275902          0.0                417053\n",
       "property   object  20275902          0.0                  1104\n",
       "timestamp   int64  20275902          0.0                    18\n",
       "value      object  20275902          0.0               1966868"
      ]
     },
     "metadata": {},
     "output_type": "display_data"
    }
   ],
   "source": [
    "display_data(properties)"
   ]
  },
  {
   "cell_type": "markdown",
   "id": "4eaef087",
   "metadata": {},
   "source": [
    "Датафрейм **properties** содержит информацию о свойстве('**property**') товара ('**itemid**'), имеющем значение ('**value**') на определенную дату ('**date**'). Как показал анализ установка значений свойств происходит 1 раз в неделю (см. часть 1) \n",
    "Поле **date** позволяет создать дополнительные свойства: **dow**, **doy**, **hour**, **month**, **weekofyear**."
   ]
  },
  {
   "cell_type": "code",
   "execution_count": 11,
   "id": "ed1aae17",
   "metadata": {},
   "outputs": [
    {
     "data": {
      "text/html": [
       "<div>\n",
       "<style scoped>\n",
       "    .dataframe tbody tr th:only-of-type {\n",
       "        vertical-align: middle;\n",
       "    }\n",
       "\n",
       "    .dataframe tbody tr th {\n",
       "        vertical-align: top;\n",
       "    }\n",
       "\n",
       "    .dataframe thead th {\n",
       "        text-align: right;\n",
       "    }\n",
       "</style>\n",
       "<table border=\"1\" class=\"dataframe\">\n",
       "  <thead>\n",
       "    <tr style=\"text-align: right;\">\n",
       "      <th></th>\n",
       "      <th>timestamp</th>\n",
       "      <th>visitorid</th>\n",
       "      <th>event</th>\n",
       "      <th>itemid</th>\n",
       "      <th>transactionid</th>\n",
       "      <th>date</th>\n",
       "      <th>hour</th>\n",
       "      <th>month</th>\n",
       "      <th>doy</th>\n",
       "      <th>weekofyear</th>\n",
       "      <th>dow</th>\n",
       "    </tr>\n",
       "  </thead>\n",
       "  <tbody>\n",
       "    <tr>\n",
       "      <th>0</th>\n",
       "      <td>1433221332117</td>\n",
       "      <td>257597</td>\n",
       "      <td>view</td>\n",
       "      <td>355908</td>\n",
       "      <td>NaN</td>\n",
       "      <td>2015-06-02</td>\n",
       "      <td>5</td>\n",
       "      <td>6</td>\n",
       "      <td>153</td>\n",
       "      <td>23</td>\n",
       "      <td>1</td>\n",
       "    </tr>\n",
       "    <tr>\n",
       "      <th>1</th>\n",
       "      <td>1433224214164</td>\n",
       "      <td>992329</td>\n",
       "      <td>view</td>\n",
       "      <td>248676</td>\n",
       "      <td>NaN</td>\n",
       "      <td>2015-06-02</td>\n",
       "      <td>5</td>\n",
       "      <td>6</td>\n",
       "      <td>153</td>\n",
       "      <td>23</td>\n",
       "      <td>1</td>\n",
       "    </tr>\n",
       "    <tr>\n",
       "      <th>2</th>\n",
       "      <td>1433221999827</td>\n",
       "      <td>111016</td>\n",
       "      <td>view</td>\n",
       "      <td>318965</td>\n",
       "      <td>NaN</td>\n",
       "      <td>2015-06-02</td>\n",
       "      <td>5</td>\n",
       "      <td>6</td>\n",
       "      <td>153</td>\n",
       "      <td>23</td>\n",
       "      <td>1</td>\n",
       "    </tr>\n",
       "  </tbody>\n",
       "</table>\n",
       "</div>"
      ],
      "text/plain": [
       "       timestamp  visitorid event  itemid  transactionid        date  hour  \\\n",
       "0  1433221332117     257597  view  355908            NaN  2015-06-02     5   \n",
       "1  1433224214164     992329  view  248676            NaN  2015-06-02     5   \n",
       "2  1433221999827     111016  view  318965            NaN  2015-06-02     5   \n",
       "\n",
       "   month  doy  weekofyear  dow  \n",
       "0      6  153          23    1  \n",
       "1      6  153          23    1  \n",
       "2      6  153          23    1  "
      ]
     },
     "execution_count": 11,
     "metadata": {},
     "output_type": "execute_result"
    }
   ],
   "source": [
    "events.head(3)"
   ]
  },
  {
   "cell_type": "code",
   "execution_count": 15,
   "id": "45ec00e4",
   "metadata": {},
   "outputs": [
    {
     "data": {
      "text/html": [
       "<div>\n",
       "<style scoped>\n",
       "    .dataframe tbody tr th:only-of-type {\n",
       "        vertical-align: middle;\n",
       "    }\n",
       "\n",
       "    .dataframe tbody tr th {\n",
       "        vertical-align: top;\n",
       "    }\n",
       "\n",
       "    .dataframe thead th {\n",
       "        text-align: right;\n",
       "    }\n",
       "</style>\n",
       "<table border=\"1\" class=\"dataframe\">\n",
       "  <thead>\n",
       "    <tr style=\"text-align: right;\">\n",
       "      <th></th>\n",
       "      <th>Тип</th>\n",
       "      <th>Общ.кол</th>\n",
       "      <th>% пропусков</th>\n",
       "      <th>Кол-во уник.значений</th>\n",
       "    </tr>\n",
       "  </thead>\n",
       "  <tbody>\n",
       "    <tr>\n",
       "      <th>date</th>\n",
       "      <td>object</td>\n",
       "      <td>2755641</td>\n",
       "      <td>0.00</td>\n",
       "      <td>139</td>\n",
       "    </tr>\n",
       "    <tr>\n",
       "      <th>dow</th>\n",
       "      <td>int8</td>\n",
       "      <td>2755641</td>\n",
       "      <td>0.00</td>\n",
       "      <td>7</td>\n",
       "    </tr>\n",
       "    <tr>\n",
       "      <th>doy</th>\n",
       "      <td>int32</td>\n",
       "      <td>2755641</td>\n",
       "      <td>0.00</td>\n",
       "      <td>139</td>\n",
       "    </tr>\n",
       "    <tr>\n",
       "      <th>event</th>\n",
       "      <td>object</td>\n",
       "      <td>2755641</td>\n",
       "      <td>0.00</td>\n",
       "      <td>3</td>\n",
       "    </tr>\n",
       "    <tr>\n",
       "      <th>hour</th>\n",
       "      <td>int8</td>\n",
       "      <td>2755641</td>\n",
       "      <td>0.00</td>\n",
       "      <td>24</td>\n",
       "    </tr>\n",
       "    <tr>\n",
       "      <th>itemid</th>\n",
       "      <td>int64</td>\n",
       "      <td>2755641</td>\n",
       "      <td>0.00</td>\n",
       "      <td>235061</td>\n",
       "    </tr>\n",
       "    <tr>\n",
       "      <th>month</th>\n",
       "      <td>int8</td>\n",
       "      <td>2755641</td>\n",
       "      <td>0.00</td>\n",
       "      <td>5</td>\n",
       "    </tr>\n",
       "    <tr>\n",
       "      <th>timestamp</th>\n",
       "      <td>int64</td>\n",
       "      <td>2755641</td>\n",
       "      <td>0.00</td>\n",
       "      <td>2750455</td>\n",
       "    </tr>\n",
       "    <tr>\n",
       "      <th>transactionid</th>\n",
       "      <td>float64</td>\n",
       "      <td>2755641</td>\n",
       "      <td>99.19</td>\n",
       "      <td>17672</td>\n",
       "    </tr>\n",
       "    <tr>\n",
       "      <th>visitorid</th>\n",
       "      <td>int64</td>\n",
       "      <td>2755641</td>\n",
       "      <td>0.00</td>\n",
       "      <td>1407580</td>\n",
       "    </tr>\n",
       "    <tr>\n",
       "      <th>weekofyear</th>\n",
       "      <td>int8</td>\n",
       "      <td>2755641</td>\n",
       "      <td>0.00</td>\n",
       "      <td>21</td>\n",
       "    </tr>\n",
       "  </tbody>\n",
       "</table>\n",
       "</div>"
      ],
      "text/plain": [
       "                   Тип  Общ.кол  % пропусков  Кол-во уник.значений\n",
       "date            object  2755641         0.00                   139\n",
       "dow               int8  2755641         0.00                     7\n",
       "doy              int32  2755641         0.00                   139\n",
       "event           object  2755641         0.00                     3\n",
       "hour              int8  2755641         0.00                    24\n",
       "itemid           int64  2755641         0.00                235061\n",
       "month             int8  2755641         0.00                     5\n",
       "timestamp        int64  2755641         0.00               2750455\n",
       "transactionid  float64  2755641        99.19                 17672\n",
       "visitorid        int64  2755641         0.00               1407580\n",
       "weekofyear        int8  2755641         0.00                    21"
      ]
     },
     "metadata": {},
     "output_type": "display_data"
    }
   ],
   "source": [
    "display_data(events)"
   ]
  },
  {
   "cell_type": "markdown",
   "id": "1d1ba101",
   "metadata": {},
   "source": [
    "Датафрейм **events** содержит информацию о событии ('**event**') для покупателя ('**itemid**') в определенное время ('**timestamp**'). Если это покупка ('**event=transaction**'), то имеется № транзакции ('**transactionid**'). Как и в предыдущем датасете можно получить дополнительные свойства **dow**, **doy**, **hour**, **month**, **weekofyear**, а также информацию о количестве покупок  в данном чеке ('**transaction_q**')"
   ]
  },
  {
   "cell_type": "markdown",
   "id": "dcc1ddbe",
   "metadata": {},
   "source": [
    "### Трансформации исходного датасета, чтобы получить датасет для обучения"
   ]
  },
  {
   "cell_type": "code",
   "execution_count": 189,
   "id": "b647b08f",
   "metadata": {},
   "outputs": [],
   "source": [
    "'''\n",
    "Cоздание новых признаков\n",
    "\n",
    "'''\n",
    "\n",
    "# для избранных покупателей построить списки по просмотрам, корзинам и покупкам\n",
    "#Для каждого чека transactionid посчитаем количество покупок в чеке - transactionid\n",
    "tmp = pd.DataFrame(events.groupby('transactionid').transactionid.count())\n",
    "tmp.rename(columns={'transactionid': 'transaction_q'}, inplace=True)\n",
    "tmp.reset_index(inplace=True)\n",
    "events = events.merge(tmp,left_on='transactionid', right_on='transactionid' )\n"
   ]
  },
  {
   "cell_type": "code",
   "execution_count": 190,
   "id": "d1ade7fc",
   "metadata": {},
   "outputs": [],
   "source": [
    "'''    \n",
    "Сформируем датафрейм с покупаемыми товарами и только с покупателями\n",
    "'''\n",
    "\n",
    "ind = events[events.transaction_q>2].itemid.tolist() # список покупаемых товаров\n",
    "ind = list(set(ind))\n",
    "\n",
    "ind_visitors = events[events.transaction_q>2].visitorid.tolist() # список покупателей\n",
    "ind_visitors = list(set(ind_visitors))\n",
    "\n",
    "df = events.loc[events.itemid.isin(ind)].copy()\n",
    "df = df.loc[df.visitorid.isin(ind_visitors)].copy()  \n",
    "\n",
    "#Сформируем датафрейм с покупаемыми товарами\n",
    "properties = properties.loc[properties.itemid.isin(ind)].copy()\n",
    "\n",
    "\n",
    "df_events = df.copy()\n",
    "df_events = df_events[['visitorid','itemid', 'transactionid','hour','month','doy','weekofyear','dow','transaction_q']]\n",
    "\n",
    "# Число покупок за неделю у покупателя\n",
    "# Число продаж за неделю данного товара\n",
    "df_events['buying'] = df_events.groupby(['weekofyear', 'visitorid'])['transaction_q'].\\\n",
    "    transform('count').astype('int32')\n",
    "df_events['sales'] = df_events.groupby(['weekofyear', 'itemid'])['transaction_q'].\\\n",
    "    transform('count').astype('int32')\n",
    "    \n",
    "#Признаки по виду события\n",
    "for event_name in ['view', 'addtocart', 'transaction']:\n",
    "    df_events = take_features(df_events, ind_visitors, event_name)\n",
    "    \n",
    "# Сформируем список наиболее важных наиболее распространенных свойств\n",
    "list_properties = properties.drop_duplicates(['itemid', 'property']).groupby(\"property\")['itemid'].count().sort_values(ascending=False)[:25].index.tolist()\n",
    "\n",
    "# Получим признаки из даты\n",
    "features_from_data(properties, 'timestamp')\n",
    "properties = properties.drop(columns='timestamp')\n",
    "\n",
    "# Отбор покупаемых элементов\n",
    "df_items = df[(df.transactionid>-1)][['transactionid','visitorid','itemid', 'weekofyear',]].copy()\n",
    "\n",
    "for col in ['visitorid', 'itemid', 'transactionid']:\n",
    "    df_items[col] = df_items[col].astype('int32')\n"
   ]
  },
  {
   "cell_type": "markdown",
   "id": "1bfb0361",
   "metadata": {},
   "source": [
    "Как оценить товар, который предпочитает визитер? Наверное, по количеству приобретаемого товара.\n",
    "Все было бы хорошо, но в данном датасете, как показывает анализ, основная часть покупок - это товары,\n",
    "которые приобретаются не более одного раза. Однако пусть будет так:\n",
    "\n",
    "**rank** - целевая функция, позволяет оценить количество купленного товара"
   ]
  },
  {
   "cell_type": "code",
   "execution_count": 191,
   "id": "922980c5",
   "metadata": {},
   "outputs": [],
   "source": [
    "# Количество продаж по товару за период: неделя\n",
    "# rank - целевая функция, позволяет оценить количество купленного товара\n",
    "\n",
    "dict_check = pd.DataFrame(df_items.groupby(['itemid','weekofyear'])['transactionid'].count())\\\n",
    "    .reset_index()\n",
    "dict_check = dict_check.rename(columns={'transactionid': 'rank'})\n",
    "df_items = df_items.merge(dict_check, on=['itemid','weekofyear'], how='left')\n",
    "df_items['rank'] = df_items['rank'].astype('int16')\n",
    "\n",
    "\n",
    "df_items = pd.DataFrame(df_items.groupby(['itemid', 'weekofyear'])['rank'].sum())\\\n",
    "    .reset_index()\n",
    "df_items = df_items.drop_duplicates()    "
   ]
  },
  {
   "cell_type": "markdown",
   "id": "6e48e366",
   "metadata": {},
   "source": [
    "Среди свойств в датафрейме **properties** имеется свойство с **categoryid** = 790 числового типа с достаточно умеренным количеством пропусков и по частоте встречаемости, занимающее 2 -ое место среди всех признаков. Есть предположение, что это ничто иное как цена товара. Поэтому выделим этот признак в отдельный столбец, а затем используем для формирования новых признаков. "
   ]
  },
  {
   "cell_type": "code",
   "execution_count": 192,
   "id": "17b04aa6",
   "metadata": {},
   "outputs": [],
   "source": [
    "# Присоединим цену\n",
    "new_df = create_df_feature2('790') #price\n",
    "new_df['value'].fillna(1,inplace=True)\n",
    "df_items = pd.merge(df_items, new_df, left_on=['itemid', 'weekofyear'],right_on=['itemid', 'weekofyear'], how='left')\n",
    "df_items.rename(columns = {'value': 'price'},  inplace=True)"
   ]
  },
  {
   "cell_type": "code",
   "execution_count": 193,
   "id": "c028e68b",
   "metadata": {},
   "outputs": [
    {
     "data": {
      "text/html": [
       "<div>\n",
       "<style scoped>\n",
       "    .dataframe tbody tr th:only-of-type {\n",
       "        vertical-align: middle;\n",
       "    }\n",
       "\n",
       "    .dataframe tbody tr th {\n",
       "        vertical-align: top;\n",
       "    }\n",
       "\n",
       "    .dataframe thead th {\n",
       "        text-align: right;\n",
       "    }\n",
       "</style>\n",
       "<table border=\"1\" class=\"dataframe\">\n",
       "  <thead>\n",
       "    <tr style=\"text-align: right;\">\n",
       "      <th></th>\n",
       "      <th>itemid</th>\n",
       "      <th>weekofyear</th>\n",
       "      <th>rank</th>\n",
       "      <th>price</th>\n",
       "    </tr>\n",
       "  </thead>\n",
       "  <tbody>\n",
       "    <tr>\n",
       "      <th>0</th>\n",
       "      <td>15</td>\n",
       "      <td>28</td>\n",
       "      <td>1</td>\n",
       "      <td>8400.0</td>\n",
       "    </tr>\n",
       "    <tr>\n",
       "      <th>1</th>\n",
       "      <td>19</td>\n",
       "      <td>33</td>\n",
       "      <td>1</td>\n",
       "      <td>18600.0</td>\n",
       "    </tr>\n",
       "    <tr>\n",
       "      <th>2</th>\n",
       "      <td>25</td>\n",
       "      <td>24</td>\n",
       "      <td>1</td>\n",
       "      <td>37320.0</td>\n",
       "    </tr>\n",
       "  </tbody>\n",
       "</table>\n",
       "</div>"
      ],
      "text/plain": [
       "   itemid  weekofyear  rank    price\n",
       "0      15          28     1   8400.0\n",
       "1      19          33     1  18600.0\n",
       "2      25          24     1  37320.0"
      ]
     },
     "execution_count": 193,
     "metadata": {},
     "output_type": "execute_result"
    }
   ],
   "source": [
    "df_items.head(3)"
   ]
  },
  {
   "cell_type": "code",
   "execution_count": 200,
   "id": "fd1eff9f",
   "metadata": {},
   "outputs": [
    {
     "data": {
      "text/plain": [
       "min          1.0\n",
       "max    2246640.0\n",
       "Name: price, dtype: float64"
      ]
     },
     "execution_count": 200,
     "metadata": {},
     "output_type": "execute_result"
    }
   ],
   "source": [
    "df_items[df_items.price>0].price.agg(['min', 'max'])"
   ]
  },
  {
   "cell_type": "code",
   "execution_count": 199,
   "id": "b2ba8f46",
   "metadata": {},
   "outputs": [],
   "source": [
    "# Пустые значения и 0 заменим на 1\n",
    "df_items['price'].fillna(1, inplace=True)\n",
    "df_items['price'] = np.where(df_items['price']==0, 1, df_items['price'])"
   ]
  },
  {
   "cell_type": "markdown",
   "id": "ea8a5912",
   "metadata": {},
   "source": [
    "Теперь поле **rank** можно откорректировать так, чтобы оно имело не количественный смысл, а денежный. Тогда мы будем ранжировать товар по количеству прибыли, что собственно и требуется в постановке задачи:"
   ]
  },
  {
   "cell_type": "code",
   "execution_count": 202,
   "id": "96dd9f90",
   "metadata": {},
   "outputs": [],
   "source": [
    "df_items['rank'] = df_items['rank']*df_items['price']"
   ]
  },
  {
   "cell_type": "code",
   "execution_count": 204,
   "id": "1182ceca",
   "metadata": {},
   "outputs": [],
   "source": [
    "'''\n",
    "Поскольку свойства товара изменялись 1 раз в неделю, для каждого itemid\n",
    "определяем значение week_item_tags - набор свойств товара на этой неделе,\n",
    "кроме цены, которая вынесена отдельно\n",
    "\n",
    "'''\n",
    "df_items['week_item_tags'] = ''\n",
    "\n",
    "for i in range(len(list_properties)):\n",
    "    code_property = list_properties[i]\n",
    "    #print(code_property)\n",
    "    if not(code_property=='790'):\n",
    "        new_df = create_df_feature2(code_property)\n",
    "        df_items = pd.merge(df_items, new_df, on=['itemid', 'weekofyear'], how='left')\n",
    "        df_items['week_item_tags'] = (df_items[['week_item_tags', 'value']].apply(lambda x: ','.join(x.dropna()), axis=1))\n",
    "        df_items.drop(columns = ['value'], axis=1, inplace=True)\n",
    "        \n",
    "df_items['week_item_tags'] = df_items['week_item_tags']\\\n",
    "    .apply(lambda x : x[1:] if x.startswith(\",\") else x)"
   ]
  },
  {
   "cell_type": "code",
   "execution_count": 209,
   "id": "0aab7b81",
   "metadata": {},
   "outputs": [
    {
     "data": {
      "text/html": [
       "<div>\n",
       "<style scoped>\n",
       "    .dataframe tbody tr th:only-of-type {\n",
       "        vertical-align: middle;\n",
       "    }\n",
       "\n",
       "    .dataframe tbody tr th {\n",
       "        vertical-align: top;\n",
       "    }\n",
       "\n",
       "    .dataframe thead th {\n",
       "        text-align: right;\n",
       "    }\n",
       "</style>\n",
       "<table border=\"1\" class=\"dataframe\">\n",
       "  <thead>\n",
       "    <tr style=\"text-align: right;\">\n",
       "      <th></th>\n",
       "      <th>itemid</th>\n",
       "      <th>weekofyear</th>\n",
       "      <th>rank</th>\n",
       "      <th>price</th>\n",
       "      <th>week_item_tags</th>\n",
       "    </tr>\n",
       "  </thead>\n",
       "  <tbody>\n",
       "    <tr>\n",
       "      <th>14</th>\n",
       "      <td>1510</td>\n",
       "      <td>29</td>\n",
       "      <td>107520.0</td>\n",
       "      <td>26880.0</td>\n",
       "      <td>727528,20836,150169,624616,312886,99315,86628,1</td>\n",
       "    </tr>\n",
       "    <tr>\n",
       "      <th>17</th>\n",
       "      <td>1684</td>\n",
       "      <td>31</td>\n",
       "      <td>991200.0</td>\n",
       "      <td>247800.0</td>\n",
       "      <td>1</td>\n",
       "    </tr>\n",
       "    <tr>\n",
       "      <th>35</th>\n",
       "      <td>4067</td>\n",
       "      <td>37</td>\n",
       "      <td>771120.0</td>\n",
       "      <td>85680.0</td>\n",
       "      <td>1137917,3169,931404,1</td>\n",
       "    </tr>\n",
       "    <tr>\n",
       "      <th>38</th>\n",
       "      <td>4887</td>\n",
       "      <td>23</td>\n",
       "      <td>53760.0</td>\n",
       "      <td>13440.0</td>\n",
       "      <td>679677,1297729,588415,311524,665587,1131293,18...</td>\n",
       "    </tr>\n",
       "    <tr>\n",
       "      <th>54</th>\n",
       "      <td>7804</td>\n",
       "      <td>36</td>\n",
       "      <td>19152.0</td>\n",
       "      <td>4788.0</td>\n",
       "      <td></td>\n",
       "    </tr>\n",
       "    <tr>\n",
       "      <th>...</th>\n",
       "      <td>...</td>\n",
       "      <td>...</td>\n",
       "      <td>...</td>\n",
       "      <td>...</td>\n",
       "      <td>...</td>\n",
       "    </tr>\n",
       "    <tr>\n",
       "      <th>4033</th>\n",
       "      <td>461686</td>\n",
       "      <td>33</td>\n",
       "      <td>74400.0</td>\n",
       "      <td>18600.0</td>\n",
       "      <td>245814,171308,370498,237874</td>\n",
       "    </tr>\n",
       "    <tr>\n",
       "      <th>4037</th>\n",
       "      <td>461686</td>\n",
       "      <td>37</td>\n",
       "      <td>695520.0</td>\n",
       "      <td>19320.0</td>\n",
       "      <td>245814,171308,370498,237874</td>\n",
       "    </tr>\n",
       "    <tr>\n",
       "      <th>4039</th>\n",
       "      <td>463002</td>\n",
       "      <td>29</td>\n",
       "      <td>98400.0</td>\n",
       "      <td>24600.0</td>\n",
       "      <td>1</td>\n",
       "    </tr>\n",
       "    <tr>\n",
       "      <th>4051</th>\n",
       "      <td>464731</td>\n",
       "      <td>27</td>\n",
       "      <td>402408.0</td>\n",
       "      <td>44712.0</td>\n",
       "      <td>1219,121,540,140,1285872,10317,n60.000,807959,...</td>\n",
       "    </tr>\n",
       "    <tr>\n",
       "      <th>4062</th>\n",
       "      <td>465522</td>\n",
       "      <td>30</td>\n",
       "      <td>172320.0</td>\n",
       "      <td>43080.0</td>\n",
       "      <td>1051804,1</td>\n",
       "    </tr>\n",
       "  </tbody>\n",
       "</table>\n",
       "<p>483 rows × 5 columns</p>\n",
       "</div>"
      ],
      "text/plain": [
       "      itemid  weekofyear      rank     price  \\\n",
       "14      1510          29  107520.0   26880.0   \n",
       "17      1684          31  991200.0  247800.0   \n",
       "35      4067          37  771120.0   85680.0   \n",
       "38      4887          23   53760.0   13440.0   \n",
       "54      7804          36   19152.0    4788.0   \n",
       "...      ...         ...       ...       ...   \n",
       "4033  461686          33   74400.0   18600.0   \n",
       "4037  461686          37  695520.0   19320.0   \n",
       "4039  463002          29   98400.0   24600.0   \n",
       "4051  464731          27  402408.0   44712.0   \n",
       "4062  465522          30  172320.0   43080.0   \n",
       "\n",
       "                                         week_item_tags  \n",
       "14      727528,20836,150169,624616,312886,99315,86628,1  \n",
       "17                                                    1  \n",
       "35                                1137917,3169,931404,1  \n",
       "38    679677,1297729,588415,311524,665587,1131293,18...  \n",
       "54                                                       \n",
       "...                                                 ...  \n",
       "4033                        245814,171308,370498,237874  \n",
       "4037                        245814,171308,370498,237874  \n",
       "4039                                                  1  \n",
       "4051  1219,121,540,140,1285872,10317,n60.000,807959,...  \n",
       "4062                                          1051804,1  \n",
       "\n",
       "[483 rows x 5 columns]"
      ]
     },
     "execution_count": 209,
     "metadata": {},
     "output_type": "execute_result"
    }
   ],
   "source": [
    "df_items[~(df_items['rank']==df_items['price'])]"
   ]
  },
  {
   "cell_type": "code",
   "execution_count": 210,
   "id": "6ad60fe1",
   "metadata": {},
   "outputs": [],
   "source": [
    "# Тэги на товар строим на основании уникальной нумерации\n",
    "\n",
    "#item_tags; кто интересовался товаром из визитеров \n",
    "item_tags = df_events[['itemid','visitorid']]\n",
    "item_tags = item_tags.drop_duplicates()\n",
    "item_tags['visitorid'] = item_tags['visitorid'].astype(str)\n",
    "\n",
    "item_tags = item_tags.groupby(['itemid'])['visitorid']\\\n",
    "    .apply(','.join).reset_index()\n",
    "\n",
    "item_tags.rename({'visitorid':'item_tags'}, axis=1, inplace=True)\n",
    "\n",
    "#генерим уникальный номер\n",
    "item_tags = generate_int_id(item_tags, 'items_id_num')"
   ]
  },
  {
   "cell_type": "code",
   "execution_count": 211,
   "id": "4fe79622",
   "metadata": {},
   "outputs": [],
   "source": [
    "# присоединим новые свойства к датафрейму с товарами и событиями\n",
    "df_items = df_items.merge(item_tags, how='left', on='itemid')\n",
    "df_events = df_events.merge(df_items[['itemid','weekofyear','items_id_num','item_tags',\\\n",
    "    'price','rank', 'week_item_tags']]\\\n",
    "    , how='left', on=['itemid','weekofyear'])"
   ]
  },
  {
   "cell_type": "code",
   "execution_count": 212,
   "id": "4200c53f",
   "metadata": {},
   "outputs": [],
   "source": [
    "#visitor_tags: какими свойствами товаров интересовался визитер\n",
    "visitor_tags = df_events[['visitorid','week_item_tags']]\n",
    "visitor_tags = visitor_tags.drop_duplicates()\n",
    "\n",
    "visitor_tags = visitor_tags.groupby(['visitorid'])['week_item_tags']\\\n",
    "    .apply(','.join).reset_index()"
   ]
  },
  {
   "cell_type": "code",
   "execution_count": 213,
   "id": "f2885fc3",
   "metadata": {},
   "outputs": [],
   "source": [
    "visitor_tags.rename({'week_item_tags':'visitor_tags'}, axis=1, inplace=True)\n",
    "visitor_tags['visitor_tags'] = (visitor_tags['visitor_tags']\\\n",
    "    .str.split(',').apply(set).str.join(','))\n",
    "visitor_tags['visitor_tags'] = visitor_tags['visitor_tags']\\\n",
    "    .apply(lambda x : x[1:] if x.startswith(\",\") else x)"
   ]
  },
  {
   "cell_type": "code",
   "execution_count": 214,
   "id": "4d048c2f",
   "metadata": {},
   "outputs": [],
   "source": [
    "# Датафрейс с визитерами и их свойствами    \n",
    "df_visitors = df_events.groupby(['visitorid'])[['transactionid']]\\\n",
    "    .count().reset_index()\n",
    "df_visitors = df_visitors.merge(visitor_tags, how='left', on='visitorid').fillna('')\n",
    "\n",
    "#генерим уникальный номер\n",
    "df_visitors = generate_int_id(df_visitors, 'visitors_id_num')\n",
    "\n",
    "# присоединим новые свойства к датафрейму событиями\n",
    "df_events = (df_events.merge(df_visitors[['visitorid', 'visitors_id_num', 'visitor_tags']]\\\n",
    "    ,how='inner', on='visitorid'))"
   ]
  },
  {
   "cell_type": "code",
   "execution_count": null,
   "id": "f17a1e3b",
   "metadata": {},
   "outputs": [],
   "source": []
  },
  {
   "cell_type": "code",
   "execution_count": 98,
   "id": "8ac8f0bf",
   "metadata": {},
   "outputs": [],
   "source": [
    " # ну и какие у нас фичи получились?\n",
    "cols = df_events.columns"
   ]
  },
  {
   "cell_type": "code",
   "execution_count": 215,
   "id": "a8cd3189",
   "metadata": {},
   "outputs": [],
   "source": [
    " for col in ['visitor_view', 'visitor_addtocart', 'visitor_transaction']:\n",
    "        \n",
    "    # заполним пропуски        \n",
    "    df_events[col].fillna('', inplace=True)    \n",
    "    \n",
    "    df_visitors = create_features_visitors(df_visitors, df_events, col)"
   ]
  },
  {
   "cell_type": "code",
   "execution_count": 216,
   "id": "39148623",
   "metadata": {},
   "outputs": [
    {
     "data": {
      "text/html": [
       "<div>\n",
       "<style scoped>\n",
       "    .dataframe tbody tr th:only-of-type {\n",
       "        vertical-align: middle;\n",
       "    }\n",
       "\n",
       "    .dataframe tbody tr th {\n",
       "        vertical-align: top;\n",
       "    }\n",
       "\n",
       "    .dataframe thead th {\n",
       "        text-align: right;\n",
       "    }\n",
       "</style>\n",
       "<table border=\"1\" class=\"dataframe\">\n",
       "  <thead>\n",
       "    <tr style=\"text-align: right;\">\n",
       "      <th></th>\n",
       "      <th>visitorid</th>\n",
       "      <th>transactionid</th>\n",
       "      <th>visitor_tags</th>\n",
       "      <th>visitors_id_num</th>\n",
       "      <th>visitor_view</th>\n",
       "      <th>visitor_addtocart</th>\n",
       "      <th>visitor_transaction</th>\n",
       "    </tr>\n",
       "  </thead>\n",
       "  <tbody>\n",
       "    <tr>\n",
       "      <th>0</th>\n",
       "      <td>3465</td>\n",
       "      <td>3</td>\n",
       "      <td>1154859,250613,1,1083967,17996,1318567,1285872</td>\n",
       "      <td>0</td>\n",
       "      <td>114485,8523</td>\n",
       "      <td>114485,8523,434048</td>\n",
       "      <td>114485,8523,434048</td>\n",
       "    </tr>\n",
       "    <tr>\n",
       "      <th>1</th>\n",
       "      <td>4101</td>\n",
       "      <td>4</td>\n",
       "      <td>1,963713,645524,n210852.000,519769</td>\n",
       "      <td>1</td>\n",
       "      <td>400859,115244,376365,401523,204798,457408,3566...</td>\n",
       "      <td>228066,400859,170353,104752</td>\n",
       "      <td>228066,400859,170353,104752</td>\n",
       "    </tr>\n",
       "    <tr>\n",
       "      <th>2</th>\n",
       "      <td>6468</td>\n",
       "      <td>4</td>\n",
       "      <td>1135780,n9216.000,842796,221748,n16392.000,128...</td>\n",
       "      <td>2</td>\n",
       "      <td>65273,108343,277247,278166,378760,289096</td>\n",
       "      <td>289096,378760,108343,65273</td>\n",
       "      <td>378760,108343,65273,289096</td>\n",
       "    </tr>\n",
       "    <tr>\n",
       "      <th>3</th>\n",
       "      <td>6952</td>\n",
       "      <td>3</td>\n",
       "      <td>350726,1,171308,207130,n36.000,1297729,370498,...</td>\n",
       "      <td>3</td>\n",
       "      <td>171878,108924,218794,461686,419052</td>\n",
       "      <td>108924,19789,461686</td>\n",
       "      <td>108924,19789,461686</td>\n",
       "    </tr>\n",
       "    <tr>\n",
       "      <th>4</th>\n",
       "      <td>6958</td>\n",
       "      <td>4</td>\n",
       "      <td>1330686,1</td>\n",
       "      <td>4</td>\n",
       "      <td>371281,236652,166378,431417,374855,232462,1872...</td>\n",
       "      <td>339822,187200,184011,431417,374855</td>\n",
       "      <td>339822,431417,184011,187200</td>\n",
       "    </tr>\n",
       "    <tr>\n",
       "      <th>...</th>\n",
       "      <td>...</td>\n",
       "      <td>...</td>\n",
       "      <td>...</td>\n",
       "      <td>...</td>\n",
       "      <td>...</td>\n",
       "      <td>...</td>\n",
       "      <td>...</td>\n",
       "    </tr>\n",
       "    <tr>\n",
       "      <th>708</th>\n",
       "      <td>1391065</td>\n",
       "      <td>3</td>\n",
       "      <td></td>\n",
       "      <td>708</td>\n",
       "      <td>88160,335033,80885,48115</td>\n",
       "      <td>88160,335033,48115</td>\n",
       "      <td>88160,335033,48115</td>\n",
       "    </tr>\n",
       "    <tr>\n",
       "      <th>709</th>\n",
       "      <td>1392423</td>\n",
       "      <td>3</td>\n",
       "      <td>1154859,1,1250749,961511,653725,424314</td>\n",
       "      <td>709</td>\n",
       "      <td>445351,37029,240721,308551,213834</td>\n",
       "      <td>445351,37029</td>\n",
       "      <td>445351,37029,213834</td>\n",
       "    </tr>\n",
       "    <tr>\n",
       "      <th>710</th>\n",
       "      <td>1398978</td>\n",
       "      <td>9</td>\n",
       "      <td>1146838,150169,n24000.000,1290536,655992,92743...</td>\n",
       "      <td>710</td>\n",
       "      <td>127080</td>\n",
       "      <td>154775,8015,62805,31952,49405,336668,38083,252...</td>\n",
       "      <td>8015,62805,49405,336668,38083,252023,330029,87...</td>\n",
       "    </tr>\n",
       "    <tr>\n",
       "      <th>711</th>\n",
       "      <td>1400296</td>\n",
       "      <td>3</td>\n",
       "      <td>150169,89463,834659,858078,679677,312,1128903,...</td>\n",
       "      <td>711</td>\n",
       "      <td>369902,101874,249477</td>\n",
       "      <td>369902,101874,249477</td>\n",
       "      <td>369902,101874,249477</td>\n",
       "    </tr>\n",
       "    <tr>\n",
       "      <th>712</th>\n",
       "      <td>1404991</td>\n",
       "      <td>3</td>\n",
       "      <td></td>\n",
       "      <td>712</td>\n",
       "      <td>250640,233695</td>\n",
       "      <td>166148,250640,233695</td>\n",
       "      <td>166148,250640,233695</td>\n",
       "    </tr>\n",
       "  </tbody>\n",
       "</table>\n",
       "<p>713 rows × 7 columns</p>\n",
       "</div>"
      ],
      "text/plain": [
       "     visitorid  transactionid  \\\n",
       "0         3465              3   \n",
       "1         4101              4   \n",
       "2         6468              4   \n",
       "3         6952              3   \n",
       "4         6958              4   \n",
       "..         ...            ...   \n",
       "708    1391065              3   \n",
       "709    1392423              3   \n",
       "710    1398978              9   \n",
       "711    1400296              3   \n",
       "712    1404991              3   \n",
       "\n",
       "                                          visitor_tags  visitors_id_num  \\\n",
       "0       1154859,250613,1,1083967,17996,1318567,1285872                0   \n",
       "1                   1,963713,645524,n210852.000,519769                1   \n",
       "2    1135780,n9216.000,842796,221748,n16392.000,128...                2   \n",
       "3    350726,1,171308,207130,n36.000,1297729,370498,...                3   \n",
       "4                                            1330686,1                4   \n",
       "..                                                 ...              ...   \n",
       "708                                                                 708   \n",
       "709             1154859,1,1250749,961511,653725,424314              709   \n",
       "710  1146838,150169,n24000.000,1290536,655992,92743...              710   \n",
       "711  150169,89463,834659,858078,679677,312,1128903,...              711   \n",
       "712                                                                 712   \n",
       "\n",
       "                                          visitor_view  \\\n",
       "0                                          114485,8523   \n",
       "1    400859,115244,376365,401523,204798,457408,3566...   \n",
       "2             65273,108343,277247,278166,378760,289096   \n",
       "3                   171878,108924,218794,461686,419052   \n",
       "4    371281,236652,166378,431417,374855,232462,1872...   \n",
       "..                                                 ...   \n",
       "708                           88160,335033,80885,48115   \n",
       "709                  445351,37029,240721,308551,213834   \n",
       "710                                             127080   \n",
       "711                               369902,101874,249477   \n",
       "712                                      250640,233695   \n",
       "\n",
       "                                     visitor_addtocart  \\\n",
       "0                                   114485,8523,434048   \n",
       "1                          228066,400859,170353,104752   \n",
       "2                           289096,378760,108343,65273   \n",
       "3                                  108924,19789,461686   \n",
       "4                   339822,187200,184011,431417,374855   \n",
       "..                                                 ...   \n",
       "708                                 88160,335033,48115   \n",
       "709                                       445351,37029   \n",
       "710  154775,8015,62805,31952,49405,336668,38083,252...   \n",
       "711                               369902,101874,249477   \n",
       "712                               166148,250640,233695   \n",
       "\n",
       "                                   visitor_transaction  \n",
       "0                                   114485,8523,434048  \n",
       "1                          228066,400859,170353,104752  \n",
       "2                           378760,108343,65273,289096  \n",
       "3                                  108924,19789,461686  \n",
       "4                          339822,431417,184011,187200  \n",
       "..                                                 ...  \n",
       "708                                 88160,335033,48115  \n",
       "709                                445351,37029,213834  \n",
       "710  8015,62805,49405,336668,38083,252023,330029,87...  \n",
       "711                               369902,101874,249477  \n",
       "712                               166148,250640,233695  \n",
       "\n",
       "[713 rows x 7 columns]"
      ]
     },
     "execution_count": 216,
     "metadata": {},
     "output_type": "execute_result"
    }
   ],
   "source": [
    "df_visitors"
   ]
  },
  {
   "cell_type": "markdown",
   "id": "11560e2b",
   "metadata": {},
   "source": [
    "### Краткое описание модели"
   ]
  },
  {
   "cell_type": "markdown",
   "id": "729bdd50",
   "metadata": {},
   "source": [
    "Для построение модели будем использовать гибридную модель LigthFM, как широко распространенный пакет \"из коробки\" для построения рекомендаций для предоставления рекомендаций на данных, где пользователи взаимодействуют с подмножеством элементов из конечного набора:\n",
    "\n",
    "**predict(0, item_ids=[0, 1, 2], item_features=[11's features, 12's features, 13's features], user_features=[D.features])**"
   ]
  },
  {
   "cell_type": "markdown",
   "id": "af8d8a01",
   "metadata": {},
   "source": [
    "Модель изучает вложения (скрытые представления в многомерном пространстве) для пользователей и элементов таким образом, чтобы кодировать предпочтения пользователя по отношению к элементам. При умножении вместе эти представления дают баллы по каждому элементу для данного пользователя; элементы, получившие высокие оценки, с большей вероятностью будут интересны пользователю.\n",
    "\n",
    "Представления пользователя и элемента выражаются в терминах представлений их функций: для каждой функции оценивается эмбеддинг, и затем эти функции суммируются, чтобы получить представления для пользователей и элементов.\n",
    "\n",
    "Эмбеддинги изучаются с помощью методов стохастического градиентного спуска.\n",
    "\n",
    "Доступны четыре функции потери:\n",
    "\n",
    "- логистическая: используется, когда присутствуют как положительные (1), так и отрицательные (-1) взаимодействия.\n",
    "\n",
    "- BPR: Максимизирует разницу в прогнозе между положительным примером и случайно выбранным отрицательным примером. Используется, когда присутствуют только положительные взаимодействия и желательно оптимизировать ROC AUC.\n",
    "\n",
    "- WARP: Максимизирует ранг положительных примеров путем многократной выборки отрицательных примеров до тех пор, пока не будет найден один, нарушающий ранг. Используется, когда присутствуют только положительные взаимодействия и желательно оптимизировать верхнюю часть списка рекомендаций (точность @ k).\n",
    "\n",
    "- k-OS WARP: потеря статистики k-го порядка 3. Модификация WARP, которая использует k-й положительный пример для любого данного пользователя в качестве основы для попарных обновлений.\n",
    "\n",
    "- Доступны два графика скорости обучения: adagrad: 4, adadelta: 5"
   ]
  },
  {
   "cell_type": "markdown",
   "id": "577ca648",
   "metadata": {},
   "source": [
    "#### Гиперпараметры: \n",
    "- no_components (int, необязательно) – размерность скрытых вложений объектов.\n",
    "\n",
    "- k (int, необязательно) – для обучения k-OS k-й положительный пример будет выбран из n положительных примеров, отобранных для каждого пользователя.\n",
    "\n",
    "- n (int, необязательно) – для обучения k-OS максимальное количество положительных результатов, отобранных для каждого обновления.\n",
    "\n",
    "- learning_schedule (строка, необязательно) – один из (‘adagrad’, ‘adadelta’).\n",
    "\n",
    "- loss (строка, необязательно) – одна из (‘logistic’, ‘bpr’, ‘warp’, ‘warp-kos’): функция потерь.\n",
    "\n",
    "- learning_rate (float, необязательно) – начальная скорость обучения для расписания обучения adagrad.\n",
    "\n",
    "- rho (float, необязательно) – коэффициент скользящей средней для расписания обучения adadelta.\n",
    "\n",
    "- epsilon (float, необязательно) – параметр настройки для расписания обучения adadelta.\n",
    "\n",
    "- item_alpha (float, необязательно) – штраф L2 за элементы элемента. Совет: установка этого значения слишком высоко может замедлить тренировку. Один из хороших способов проверить - оказались ли конечные веса во вложениях в основном равными нулю. Та же идея применима и к параметру user_alpha.\n",
    "\n",
    "- user_alpha (float, необязательно) – штраф L2 за пользовательские функции.\n",
    "\n",
    "- max_sampled (int, необязательно) – максимальное количество отрицательных выборок, используемых во время подгонки основы. Требуется много выборок, чтобы найти отрицательные триплеты для пользователей, которые уже хорошо представлены моделью; это может привести к очень длительному времени обучения и переобучению. Установка этого значения на большее число обычно приводит к увеличению времени обучения, но в некоторых случаях может повысить точность.\n",
    "\n",
    "- random_state (int seed, RandomState instance или None) – начальное значение генератора псевдослучайных чисел, используемое при перетасовке данных и инициализации параметров.\n"
   ]
  },
  {
   "cell_type": "markdown",
   "id": "35716a11",
   "metadata": {},
   "source": [
    "#### Переменные:\n",
    "- ~LightFM.item_embeddings (массив np.float32 формы [n_item_features, n_components]) – Содержит оцененные скрытые векторы для характеристик элемента. [i, j]-я запись дает значение j-го компонента для i-го элемента элемента. В простейшем случае, когда матрица признаков элемента является идентификационной матрицей, i-я строка будет представлять скрытый вектор i-го элемента.\n",
    "\n",
    "- ~LightFM.user_embeddings (массив np.float32 формы [n_user_features, n_components]) – Содержит оценочные скрытые векторы для пользовательских функций. [i, j]-я запись дает значение j-го компонента для i-й пользовательской функции. В простейшем случае, когда матрица пользовательских признаков является идентификационной матрицей, i-я строка будет представлять i-й скрытый вектор пользователя.\n",
    "\n",
    "- ~LightFM.item_biases (массив np.float32 формы [n_item_features,]) – содержит смещения для item_features.\n",
    "\n",
    "- ~LightFM.user_biases (массив np.float32 формы [n_user_features,]) – содержит смещения для user_features."
   ]
  },
  {
   "cell_type": "markdown",
   "id": "df863de2",
   "metadata": {},
   "source": [
    "### Формат входных данных для  модели LightFM"
   ]
  },
  {
   "cell_type": "markdown",
   "id": "79319bfd",
   "metadata": {},
   "source": [
    "Поскольку модель LightFM требует определенного формата входных данных, исходные данные потребуют дополнительных преобразований. Прежде всего выделим отдельно каждое свойство для товаров и визитеров"
   ]
  },
  {
   "cell_type": "code",
   "execution_count": 217,
   "id": "11f71213",
   "metadata": {},
   "outputs": [],
   "source": [
    "# сгенерируем списки свойств для товаров и для визитеров\n",
    "\n",
    "item_feature_list = generate_feature_list(\n",
    "    item_tags,\n",
    "    ['item_tags'])\n",
    "\n",
    "visitor_feature_list = generate_feature_list(\n",
    "    df_visitors,\n",
    "    ['visitor_tags'])"
   ]
  },
  {
   "cell_type": "markdown",
   "id": "e28b265a",
   "metadata": {},
   "source": [
    "Теперь необходимо создать функции для подачи в LightFM: каждому идентификатору товара или визитера ставится в соответствие вектор с его свойствами"
   ]
  },
  {
   "cell_type": "code",
   "execution_count": 220,
   "id": "e47d997e",
   "metadata": {},
   "outputs": [
    {
     "data": {
      "text/plain": [
       "['buying',\n",
       " 'week_item_tags',\n",
       " 'rank',\n",
       " 'sales',\n",
       " 'visitor_view',\n",
       " 'item_tags',\n",
       " 'transaction_q',\n",
       " 'weekofyear',\n",
       " 'visitor_tags',\n",
       " 'visitor_transaction',\n",
       " 'visitors_id_num',\n",
       " 'price',\n",
       " 'items_id_num',\n",
       " 'visitor_addtocart']"
      ]
     },
     "execution_count": 220,
     "metadata": {},
     "output_type": "execute_result"
    }
   ],
   "source": [
    "list(cols)"
   ]
  },
  {
   "cell_type": "code",
   "execution_count": 219,
   "id": "a19133b3",
   "metadata": {},
   "outputs": [],
   "source": [
    "cols = set(cols)-{'visitorid', 'itemid','doy', 'dow', 'month', 'hour', 'transactionid'}"
   ]
  },
  {
   "cell_type": "code",
   "execution_count": 253,
   "id": "d24d2f37",
   "metadata": {},
   "outputs": [
    {
     "name": "stderr",
     "output_type": "stream",
     "text": [
      "C:\\Users\\talic\\AppData\\Local\\Temp\\ipykernel_1516\\2522923461.py:3: FutureWarning: Passing a set as an indexer is deprecated and will raise in a future version. Use a list instead.\n",
      "  df_events2 = df_events[cols]\n",
      "C:\\Users\\talic\\AppData\\Local\\Temp\\ipykernel_1516\\2522923461.py:5: SettingWithCopyWarning: \n",
      "A value is trying to be set on a copy of a slice from a DataFrame.\n",
      "Try using .loc[row_indexer,col_indexer] = value instead\n",
      "\n",
      "See the caveats in the documentation: https://pandas.pydata.org/pandas-docs/stable/user_guide/indexing.html#returning-a-view-versus-a-copy\n",
      "  df_events2['total_weights'] = (df_events2['rank'])\n"
     ]
    }
   ],
   "source": [
    "# создание функций для подачи в lightfm \n",
    "\n",
    "df_events2 = df_events[cols]\n",
    "#df_events2['total_weights'] = 1/(df_events2['rank']) \n",
    "df_events2['total_weights'] = (df_events2['rank']) \n",
    "\n",
    "item_tags['item_features'] = create_features(\n",
    "    item_tags, ['item_tags'], \n",
    "    'items_id_num')\n",
    "\n",
    "df_visitors['visitor_features'] = create_features(\n",
    "    df_visitors,\n",
    "    ['visitor_tags'],\n",
    "    'visitors_id_num')"
   ]
  },
  {
   "cell_type": "code",
   "execution_count": 254,
   "id": "a627b21d",
   "metadata": {},
   "outputs": [
    {
     "data": {
      "text/plain": [
       "(2952, 713)"
      ]
     },
     "execution_count": 254,
     "metadata": {},
     "output_type": "execute_result"
    }
   ],
   "source": [
    "item_tags.items_id_num.nunique(), df_visitors.visitors_id_num.nunique()"
   ]
  },
  {
   "cell_type": "markdown",
   "id": "4a8e2f77",
   "metadata": {},
   "source": [
    "Теперь можно построить датасет в формате LightFM, подав на вход датасета новые уникальные номера объектов и полученные функции"
   ]
  },
  {
   "cell_type": "code",
   "execution_count": 260,
   "id": "5c272849",
   "metadata": {},
   "outputs": [],
   "source": [
    "########################\n",
    "# Dataset building for lightfm\n",
    "########################\n",
    "\n",
    "dataset = Dataset()\n",
    "dataset.fit(\n",
    "    set(df_visitors['visitors_id_num']), \n",
    "    set(item_tags['items_id_num']),\n",
    "    item_features=item_feature_list, \n",
    "    user_features=visitor_feature_list)"
   ]
  },
  {
   "cell_type": "code",
   "execution_count": 261,
   "id": "e02b2239",
   "metadata": {},
   "outputs": [],
   "source": [
    "df_train = df_events2[df_events2['weekofyear']<35].copy()\n",
    "df_test = df_events2[df_events2['weekofyear']>34].copy()"
   ]
  },
  {
   "cell_type": "markdown",
   "id": "1bfbc1ac",
   "metadata": {},
   "source": [
    "Теперь мы строим матрицу взаимодействий между посетителями и элементами, мы передаем идентификаторы посетителей и элементов в виде кортежа, например, pd.Series((visitor_id, item_id), (visitor_id, item_id)) затем мы используем метод light fm build in для построения матрицы взаимодействий"
   ]
  },
  {
   "cell_type": "code",
   "execution_count": 262,
   "id": "5f5f8b30",
   "metadata": {},
   "outputs": [
    {
     "name": "stderr",
     "output_type": "stream",
     "text": [
      "C:\\Users\\talic\\AppData\\Local\\Temp\\ipykernel_1516\\1763872109.py:1: SettingWithCopyWarning: \n",
      "A value is trying to be set on a copy of a slice from a DataFrame.\n",
      "Try using .loc[row_indexer,col_indexer] = value instead\n",
      "\n",
      "See the caveats in the documentation: https://pandas.pydata.org/pandas-docs/stable/user_guide/indexing.html#returning-a-view-versus-a-copy\n",
      "  df_events2['visitor_id_tuple'] = list(zip(\n"
     ]
    }
   ],
   "source": [
    "df_events2['visitor_id_tuple'] = list(zip(\n",
    "    df_events2.visitors_id_num,\\\n",
    "    df_events2.items_id_num,\\\n",
    "    df_events2.total_weights))\n",
    "\n",
    "interactions, weights = dataset.build_interactions(df_events2['visitor_id_tuple'])"
   ]
  },
  {
   "cell_type": "code",
   "execution_count": 263,
   "id": "f0dd97c5",
   "metadata": {},
   "outputs": [],
   "source": [
    "df_train['visitor_id_tuple'] = list(zip(\n",
    "    df_train.visitors_id_num,\\\n",
    "    df_train.items_id_num,\\\n",
    "    df_train.total_weights))\n",
    "\n",
    "interactions_train, weights_train = dataset.build_interactions(df_train['visitor_id_tuple'])"
   ]
  },
  {
   "cell_type": "code",
   "execution_count": 264,
   "id": "e0fa1da9",
   "metadata": {},
   "outputs": [],
   "source": [
    "df_test['visitor_id_tuple'] = list(zip(\n",
    "    df_test.visitors_id_num,\\\n",
    "    df_test.items_id_num,\\\n",
    "    df_test.total_weights))\n",
    "\n",
    "interactions_test, weights_test = dataset.build_interactions(df_test['visitor_id_tuple'])"
   ]
  },
  {
   "cell_type": "markdown",
   "id": "341878e8",
   "metadata": {},
   "source": [
    "Теперь мы создаем наши функции таким образом, чтобы их понимал lightfm, для этого\n",
    "используем метод light fm build"
   ]
  },
  {
   "cell_type": "code",
   "execution_count": 265,
   "id": "eb27c310",
   "metadata": {},
   "outputs": [],
   "source": [
    "items_features = dataset.build_item_features(\n",
    "    item_tags['item_features'])\n",
    "\n",
    "visitor_features = dataset.build_user_features(\n",
    "    df_visitors['visitor_features'])"
   ]
  },
  {
   "cell_type": "markdown",
   "id": "fa780353",
   "metadata": {},
   "source": [
    "### Построение модели"
   ]
  },
  {
   "cell_type": "markdown",
   "id": "9dc824e6",
   "metadata": {},
   "source": [
    "Определяем модель lightfm, указав гиперпараметры.\n",
    "Затем обучаем модель на матрице взаимодействий, элементам и пользовательским функциям"
   ]
  },
  {
   "cell_type": "code",
   "execution_count": 229,
   "id": "7ec1d320",
   "metadata": {},
   "outputs": [
    {
     "name": "stderr",
     "output_type": "stream",
     "text": [
      "Epoch: 100%|██████████| 5/5 [00:13<00:00,  2.67s/it]\n"
     ]
    },
    {
     "data": {
      "text/plain": [
       "<lightfm.lightfm.LightFM at 0x18e953fe100>"
      ]
     },
     "execution_count": 229,
     "metadata": {},
     "output_type": "execute_result"
    }
   ],
   "source": [
    "# Построение модели\n",
    "\n",
    "model = LightFM(\n",
    "    learning_rate=0.05,\n",
    "    no_components=300,\n",
    "    loss='warp',\n",
    "    random_state=42)\n",
    "\n",
    "model.fit(\n",
    "    interactions_train,\n",
    "    item_features=items_features,\n",
    "    user_features=visitor_features, sample_weight=weights_train,\n",
    "    epochs=5, num_threads=4, verbose=True)"
   ]
  },
  {
   "cell_type": "code",
   "execution_count": 230,
   "id": "5ce629f7",
   "metadata": {},
   "outputs": [
    {
     "data": {
      "text/plain": [
       "0.770502"
      ]
     },
     "execution_count": 230,
     "metadata": {},
     "output_type": "execute_result"
    }
   ],
   "source": [
    "# для 20 - 0.4964845\n",
    "# для всех - 0.93770784\n",
    "# 0.9575064 с ценой\n",
    "# 0.96793693\n",
    "# 0.93443596\n",
    "calculate_auc_score(model, interactions_train, items_features, visitor_features)"
   ]
  },
  {
   "cell_type": "code",
   "execution_count": 231,
   "id": "281dff8e",
   "metadata": {},
   "outputs": [
    {
     "data": {
      "text/plain": [
       "0.39934668"
      ]
     },
     "execution_count": 231,
     "metadata": {},
     "output_type": "execute_result"
    }
   ],
   "source": [
    "calculate_auc_score(model, interactions_test, items_features, visitor_features)"
   ]
  },
  {
   "cell_type": "code",
   "execution_count": 232,
   "id": "684889e6",
   "metadata": {},
   "outputs": [
    {
     "name": "stderr",
     "output_type": "stream",
     "text": [
      "Epoch: 100%|██████████| 5/5 [00:19<00:00,  3.94s/it]\n"
     ]
    },
    {
     "data": {
      "text/plain": [
       "<lightfm.lightfm.LightFM at 0x18e953e9340>"
      ]
     },
     "execution_count": 232,
     "metadata": {},
     "output_type": "execute_result"
    }
   ],
   "source": [
    "# Построение модели\n",
    "\n",
    "model = LightFM(\n",
    "    no_components=300,\n",
    "    learning_rate=0.05,\n",
    "    loss='warp',\n",
    "    learning_schedule='adadelta',\n",
    "    random_state=42)\n",
    "\n",
    "model.fit(\n",
    "    interactions_train,\n",
    "    item_features=items_features,\n",
    "    user_features=visitor_features, sample_weight=weights_train,\n",
    "    epochs=5, num_threads=4, verbose=True)"
   ]
  },
  {
   "cell_type": "code",
   "execution_count": 233,
   "id": "8c9ed6da",
   "metadata": {},
   "outputs": [
    {
     "data": {
      "text/plain": [
       "0.9686787"
      ]
     },
     "execution_count": 233,
     "metadata": {},
     "output_type": "execute_result"
    }
   ],
   "source": [
    "calculate_auc_score(model, interactions_train, items_features, visitor_features)"
   ]
  },
  {
   "cell_type": "code",
   "execution_count": 234,
   "id": "0e176625",
   "metadata": {},
   "outputs": [
    {
     "data": {
      "text/plain": [
       "0.65387315"
      ]
     },
     "execution_count": 234,
     "metadata": {},
     "output_type": "execute_result"
    }
   ],
   "source": [
    "calculate_auc_score(model, interactions_test, items_features, visitor_features)"
   ]
  },
  {
   "cell_type": "code",
   "execution_count": 235,
   "id": "a7bd2b29",
   "metadata": {},
   "outputs": [
    {
     "name": "stdout",
     "output_type": "stream",
     "text": [
      "Hybrid train set p@3: 0.7527413\n"
     ]
    }
   ],
   "source": [
    "patks = precision_at_k(model, interactions_train,\n",
    "    train_interactions=interactions_train,\n",
    "    item_features=items_features,   \n",
    "    user_features=visitor_features,\n",
    "    k=3, num_threads=4, check_intersections=False)\n",
    "\n",
    "print('Hybrid train set p@3: %s' % np.mean(patks))"
   ]
  },
  {
   "cell_type": "code",
   "execution_count": 236,
   "id": "0585adad",
   "metadata": {},
   "outputs": [
    {
     "name": "stdout",
     "output_type": "stream",
     "text": [
      "Hybrid train set p@3: 0.08201058\n"
     ]
    }
   ],
   "source": [
    "patks = precision_at_k(model, interactions_test,\n",
    "    train_interactions=interactions_train,\n",
    "    item_features=items_features,   \n",
    "    user_features=visitor_features,\n",
    "    k=3, num_threads=3, check_intersections=False)\n",
    "\n",
    "print('Hybrid train set p@3: %s' % np.mean(patks))"
   ]
  },
  {
   "cell_type": "code",
   "execution_count": 237,
   "id": "1be8e1e1",
   "metadata": {},
   "outputs": [
    {
     "name": "stdout",
     "output_type": "stream",
     "text": [
      "EPOCHS= 150\n"
     ]
    },
    {
     "name": "stderr",
     "output_type": "stream",
     "text": [
      "Epoch: 100%|██████████| 150/150 [00:48<00:00,  3.06it/s]\n"
     ]
    },
    {
     "data": {
      "text/plain": [
       "<lightfm.lightfm.LightFM at 0x18e94079100>"
      ]
     },
     "execution_count": 237,
     "metadata": {},
     "output_type": "execute_result"
    }
   ],
   "source": [
    "# Для best model:\n",
    "\n",
    "\n",
    "#epochs, learning_rate,\\\n",
    "#no_components, alpha = [248, # epochs\n",
    "#    0.581181804647835,  # learning_rate\n",
    "#    117, # no_components\n",
    "#    0.00022597769528813776, # alpha\n",
    "#    ]\n",
    "\n",
    "#epochs, learning_rate,\\\n",
    "#no_components, alpha = [88, #epochs\n",
    "#    0.3943014513515949, #learning_rate:\n",
    "#    95, #no_components:\n",
    "#    3.356245782309117e-05, #alpha: \n",
    "#    ]\n",
    "epochs, learning_rate,\\\n",
    "no_components, alpha = [150,\n",
    "    0.05,\n",
    "    300,\n",
    "    0.0,\n",
    "    ]\n",
    "    \n",
    "    \n",
    "user_alpha = alpha\n",
    "item_alpha = alpha\n",
    "\n",
    "model = LightFM(\n",
    "no_components=no_components,\n",
    "learning_rate=learning_rate,\n",
    "loss='warp',\n",
    "learning_schedule='adadelta',    \n",
    "random_state=42,\n",
    "user_alpha=user_alpha,\n",
    "item_alpha=item_alpha)\n",
    "print('epochs='.upper(), epochs)\n",
    "model.fit(\n",
    "    interactions_train,\n",
    "    item_features=items_features,\n",
    "    user_features=visitor_features, sample_weight=weights_train,\n",
    "    epochs=epochs, num_threads=4, verbose=True)    "
   ]
  },
  {
   "cell_type": "code",
   "execution_count": 238,
   "id": "d58bfd41",
   "metadata": {},
   "outputs": [
    {
     "data": {
      "text/plain": [
       "0.99997973"
      ]
     },
     "execution_count": 238,
     "metadata": {},
     "output_type": "execute_result"
    }
   ],
   "source": [
    "calculate_auc_score(model, interactions_train, items_features, visitor_features)"
   ]
  },
  {
   "cell_type": "code",
   "execution_count": 239,
   "id": "0988432c",
   "metadata": {},
   "outputs": [
    {
     "data": {
      "text/plain": [
       "0.70773005"
      ]
     },
     "execution_count": 239,
     "metadata": {},
     "output_type": "execute_result"
    }
   ],
   "source": [
    "calculate_auc_score(model, interactions_test, items_features, visitor_features)"
   ]
  },
  {
   "cell_type": "code",
   "execution_count": 240,
   "id": "d5b481b6",
   "metadata": {},
   "outputs": [
    {
     "name": "stdout",
     "output_type": "stream",
     "text": [
      "Hybrid train set p@3: 608 1.9698466\n"
     ]
    }
   ],
   "source": [
    "patks = precision_at_k(model, interactions_train,\n",
    "    train_interactions=interactions_train,\n",
    "    item_features=items_features,   \n",
    "    user_features=visitor_features,\n",
    "    k=3,  check_intersections=False)\n",
    "\n",
    "print('Hybrid train set p@3: %s' % len(patks), np.mean(patks))"
   ]
  },
  {
   "cell_type": "code",
   "execution_count": 241,
   "id": "891c34e9",
   "metadata": {},
   "outputs": [
    {
     "name": "stdout",
     "output_type": "stream",
     "text": [
      "Hybrid train set p@3: 126 0.1904762\n"
     ]
    }
   ],
   "source": [
    "patks = precision_at_k(model, interactions_test,\n",
    "    train_interactions=interactions_train,\n",
    "    item_features=items_features,   \n",
    "    user_features=visitor_features,\n",
    "    k=3,  check_intersections=False)\n",
    "\n",
    "print('Hybrid train set p@3: %s' % len(patks),np.mean(patks))"
   ]
  },
  {
   "cell_type": "markdown",
   "id": "1c0558f5",
   "metadata": {},
   "source": [
    "## Оптимизация гиперпараметров с scikit-optimize"
   ]
  },
  {
   "cell_type": "markdown",
   "id": "3c7b34c7",
   "metadata": {},
   "source": [
    "**Внимание!** Для оптимизации гиперпараметров была испробована библиотека **skopt** \n",
    "Однако не все версии python поддерживают ее!"
   ]
  },
  {
   "cell_type": "code",
   "execution_count": 268,
   "id": "4f3c9917",
   "metadata": {},
   "outputs": [],
   "source": [
    "def objective(params):\n",
    "    # unpack\n",
    "    epochs, learning_rate,\\\n",
    "    no_components, alpha = params\n",
    "    \n",
    "    user_alpha = alpha\n",
    "    item_alpha = alpha\n",
    "    \n",
    "    model = LightFM(\n",
    "    no_components=no_components,\n",
    "    learning_rate=learning_rate,\n",
    "    loss='warp',\n",
    "    random_state=42,\n",
    "    user_alpha=user_alpha,\n",
    "    item_alpha=item_alpha)\n",
    "    print('epochs='.upper(), epochs)\n",
    "    model.fit(\n",
    "        interactions_train,\n",
    "        item_features=items_features,\n",
    "        user_features=visitor_features, sample_weight=weights_train,\n",
    "        epochs=epochs, num_threads=4, verbose=True)\n",
    "    \n",
    "    \n",
    "    patks = precision_at_k(model, interactions_test,\n",
    "      train_interactions=interactions_train,\n",
    "      item_features=items_features,   \n",
    "      user_features=visitor_features,\n",
    "      k=3, num_threads=4, check_intersections=False)\n",
    "    mapatk = np.mean(patks)\n",
    "    # Make negative because we want to _minimize_ objective\n",
    "    out = -mapatk\n",
    "    # Handle some weird numerical shit going on\n",
    "    if np.abs(out + 1) < 0.01 or out < -1.0:\n",
    "        return 0.0\n",
    "    else:\n",
    "        return out"
   ]
  },
  {
   "cell_type": "code",
   "execution_count": null,
   "id": "44f0bf95",
   "metadata": {},
   "outputs": [],
   "source": [
    "space = [(1, 200), # epochs\n",
    "    (10**-4, 1.0, 'log-uniform'), # learning_rate\n",
    "    (20, 200), # no_components\n",
    "    (10**-6, 10**-1, 'log-uniform'), # alpha\n",
    "    ]\n",
    "res_fm = forest_minimize(objective, space, n_calls=100, random_state=0,verbose=True)\n"
   ]
  },
  {
   "cell_type": "markdown",
   "id": "7b58b8e1",
   "metadata": {},
   "source": [
    "## Кросс-валидация на лучшей модели"
   ]
  },
  {
   "cell_type": "code",
   "execution_count": 266,
   "id": "dd78c358",
   "metadata": {},
   "outputs": [
    {
     "data": {
      "text/plain": [
       "[18,\n",
       " 19,\n",
       " 20,\n",
       " 21,\n",
       " 22,\n",
       " 23,\n",
       " 24,\n",
       " 25,\n",
       " 26,\n",
       " 27,\n",
       " 28,\n",
       " 29,\n",
       " 30,\n",
       " 31,\n",
       " 32,\n",
       " 33,\n",
       " 34,\n",
       " 35,\n",
       " 36,\n",
       " 37,\n",
       " 38]"
      ]
     },
     "execution_count": 266,
     "metadata": {},
     "output_type": "execute_result"
    }
   ],
   "source": [
    "sorted(df_events2['weekofyear'].unique())"
   ]
  },
  {
   "cell_type": "code",
   "execution_count": 242,
   "id": "4fd6450f",
   "metadata": {},
   "outputs": [],
   "source": [
    "def best_model(params):\n",
    "    # unpack\n",
    "    epochs, learning_rate,\\\n",
    "    no_components, alpha = params\n",
    "    \n",
    "    user_alpha = alpha\n",
    "    item_alpha = alpha\n",
    "    \n",
    "    train['visitor_id_tuple'] = list(zip(\n",
    "    train.visitors_id_num,\\\n",
    "    train.items_id_num,\\\n",
    "    train.total_weights))\n",
    "\n",
    "    interactions_train, weights_train = dataset.build_interactions(train['visitor_id_tuple'])\n",
    "\n",
    "    test['visitor_id_tuple'] = list(zip(\n",
    "    test.visitors_id_num,\\\n",
    "    test.items_id_num,\\\n",
    "    test.total_weights))\n",
    "\n",
    "    interactions_test, weights_test = dataset.build_interactions(test['visitor_id_tuple'])\n",
    "    \n",
    "    model = LightFM(\n",
    "    no_components=no_components,\n",
    "    learning_rate=learning_rate,\n",
    "    learning_schedule='adadelta',        \n",
    "    loss='warp',\n",
    "    random_state=42,\n",
    "    user_alpha=user_alpha,\n",
    "    item_alpha=item_alpha)\n",
    "        \n",
    "    model.fit(\n",
    "        interactions_train,\n",
    "        item_features=items_features,\n",
    "        user_features=visitor_features, sample_weight=weights_train,\n",
    "        epochs=epochs, num_threads=4, verbose=True)\n",
    "    \n",
    "    \n",
    "    patks = precision_at_k(model, interactions_train,\n",
    "      train_interactions=interactions_train,\n",
    "      item_features=items_features,   \n",
    "      user_features=visitor_features,\n",
    "      k=3, check_intersections=False)\n",
    "    \n",
    "    print('Hybrid train set p@3: %s' % np.mean(patks))\n",
    "    \n",
    "    patks = precision_at_k(model, interactions_test,\n",
    "      train_interactions=interactions_test,\n",
    "      item_features=items_features,   \n",
    "      user_features=visitor_features,\n",
    "      k=3, check_intersections=False)\n",
    "    \n",
    "    print('Hybrid test set p@3: %s' % np.mean(patks))\n",
    "    \n",
    "    # Make negative because we want to _minimize_ objective\n",
    "    #out = -mapatk\n",
    "    # Handle some weird numerical shit going on\n",
    "    '''\n",
    "    if np.abs(out + 1) < 0.01 or out < -1.0:\n",
    "        return 0.0\n",
    "    else:\n",
    "        return out\n",
    "    '''\n",
    "    "
   ]
  },
  {
   "cell_type": "code",
   "execution_count": 243,
   "id": "c278bb23",
   "metadata": {},
   "outputs": [
    {
     "data": {
      "text/plain": [
       "26"
      ]
     },
     "execution_count": 243,
     "metadata": {},
     "output_type": "execute_result"
    }
   ],
   "source": [
    "week_index = sorted(df_events2['weekofyear'].unique())\n",
    "week_index[8]"
   ]
  },
  {
   "cell_type": "code",
   "execution_count": 270,
   "id": "de19e3ba",
   "metadata": {},
   "outputs": [
    {
     "name": "stdout",
     "output_type": "stream",
     "text": [
      "15\n"
     ]
    },
    {
     "name": "stderr",
     "output_type": "stream",
     "text": [
      "Epoch: 100%|██████████| 100/100 [00:00<00:00, 204.52it/s]\n",
      "C:\\Users\\talic\\AppData\\Roaming\\Python\\Python39\\site-packages\\numpy\\core\\fromnumeric.py:3432: RuntimeWarning: Mean of empty slice.\n",
      "  return _methods._mean(a, axis=axis, dtype=dtype,\n",
      "C:\\Users\\talic\\AppData\\Roaming\\Python\\Python39\\site-packages\\numpy\\core\\_methods.py:190: RuntimeWarning: invalid value encountered in divide\n",
      "  ret = ret.dtype.type(ret / rcount)\n"
     ]
    },
    {
     "name": "stdout",
     "output_type": "stream",
     "text": [
      "Hybrid train set p@3: nan\n",
      "Hybrid test set p@3: nan\n",
      "16\n"
     ]
    },
    {
     "name": "stderr",
     "output_type": "stream",
     "text": [
      "Epoch: 100%|██████████| 100/100 [00:00<00:00, 131.57it/s]\n"
     ]
    },
    {
     "name": "stdout",
     "output_type": "stream",
     "text": [
      "Hybrid train set p@3: nan\n",
      "Hybrid test set p@3: nan\n",
      "17\n"
     ]
    },
    {
     "name": "stderr",
     "output_type": "stream",
     "text": [
      "Epoch: 100%|██████████| 100/100 [00:00<00:00, 129.67it/s]\n"
     ]
    },
    {
     "name": "stdout",
     "output_type": "stream",
     "text": [
      "Hybrid train set p@3: nan\n",
      "Hybrid test set p@3: nan\n",
      "18\n"
     ]
    },
    {
     "name": "stderr",
     "output_type": "stream",
     "text": [
      "Epoch: 100%|██████████| 100/100 [00:00<00:00, 142.89it/s]\n"
     ]
    },
    {
     "name": "stdout",
     "output_type": "stream",
     "text": [
      "Hybrid train set p@3: nan\n",
      "Hybrid test set p@3: 0.0\n",
      "19\n"
     ]
    },
    {
     "name": "stderr",
     "output_type": "stream",
     "text": [
      "Epoch: 100%|██████████| 100/100 [00:00<00:00, 133.69it/s]\n"
     ]
    },
    {
     "name": "stdout",
     "output_type": "stream",
     "text": [
      "Hybrid train set p@3: 0.88888884\n",
      "Hybrid test set p@3: 0.008333334\n",
      "20\n"
     ]
    },
    {
     "name": "stderr",
     "output_type": "stream",
     "text": [
      "Epoch: 100%|██████████| 100/100 [00:04<00:00, 24.34it/s]\n"
     ]
    },
    {
     "name": "stdout",
     "output_type": "stream",
     "text": [
      "Hybrid train set p@3: 1.2301588\n",
      "Hybrid test set p@3: 0.013333334\n"
     ]
    }
   ],
   "source": [
    "'''\n",
    "Maximimum p@k found: 0.32419\n",
    "Optimal parameters:\n",
    "epochs: 248\n",
    "learning_rate: 0.581181804647835\n",
    "no_components: 117\n",
    "alpha: 0.00022597769528813776\n",
    "'''\n",
    "'''\n",
    "params = [248, # epochs\n",
    "    0.581181804647835,  # learning_rate\n",
    "    117, # no_components\n",
    "    0.00022597769528813776, # alpha\n",
    "    ]\n",
    "'''    \n",
    "params = [100,\n",
    "    0.05,\n",
    "    300,\n",
    "    0.0,\n",
    "    ]\n",
    "\n",
    "for _index in range(15, len(week_index)):\n",
    "    print(_index)\n",
    "    train = df_events2[df_events2['weekofyear']<_index].copy()\n",
    "    test = df_events2[df_events2['weekofyear']==_index].copy()\n",
    "    best_model(params)"
   ]
  },
  {
   "cell_type": "markdown",
   "id": "c866f4ea",
   "metadata": {},
   "source": [
    "### Команды для Докер_образа"
   ]
  },
  {
   "cell_type": "markdown",
   "id": "da163aca",
   "metadata": {},
   "source": [
    "FROM ubuntu:latest\n",
    "\n",
    "RUN apt-get update \\\n",
    "    && apt-get install -qyy -o APT::Install-Recommends=false -o APT::Install-Suggests=false \\\n",
    "    file \\\n",
    "    gcc \\\n",
    "    python3 \\\n",
    "    python3-dev \\\n",
    "    python3-pip \\\n",
    "    python3-setuptools \\\n",
    "    python3-venv \\\n",
    "    python3-wheel \\\n",
    "    && apt-get clean \\\n",
    "    && rm -rf /var/lib/apt/lists/*\n",
    "\n",
    "RUN pip3 install --cache-dir=/tmp/pipcache --upgrade pip && rm -rf /tmp/pipcache\n",
    "RUN pip install --cache-dir=/tmp/pipcache poetry && rm -rf /tmp/pipcache\n",
    "\n",
    "\n",
    "FROM python:latest\n",
    "\n",
    "WORKDIR /src/app\n",
    "\n",
    "COPY requirements.txt ./\n",
    "\n",
    "RUN pip install --no-cache-dir -r requirements.txt\n",
    "\n",
    "COPY /src/ .\n",
    "\n",
    "CMD [\"python\", \"./main.py\"]"
   ]
  },
  {
   "cell_type": "markdown",
   "id": "0bb0875f",
   "metadata": {},
   "source": [
    "## Выводы\n",
    "\n",
    "1. Полученный результат на метрике Precision@3 = 0.19 может быть улучшен введением дополнительных функций для как для визитера, так и для товара, полученных на основании временных признаков: дня недели, часа, месяца покупки и прочих, сочетания ценовых признаков, а также с использованием комбинированного подхода к учету просмотра, использования корзины и покупки и подбора соответствующих весов. Далее, поскольку данные носят исторический характер, то влияние функций на результат также нужно осуществлять с подбором соответствующих весов: чем старше данные, тем меньше их влияние на результат.\n",
    "\n",
    "2. Использование в production:\n",
    "Для реализации задачи я бы использовала 2 компьютера:\n",
    "1 послабее с API для пользователя выдавал результат на основании построенной модели для известных пользователей.\n",
    "Справочники с пользователями, товарами, а также событиями я преобразовала бы в формат Postgresql для быстроты и простоты доступа.\n",
    "Для переобучения модели на новых данных требуется компьтер помощнее: он подхватывает новые данные о пользователе и его предпочтениях из базы Postgresql и старую модель заменяет на переобученную модель,  также отслеживает актульность модели и точность выдаваемых метрик\n",
    "\n"
   ]
  },
  {
   "cell_type": "code",
   "execution_count": null,
   "id": "92e92e94",
   "metadata": {},
   "outputs": [],
   "source": []
  }
 ],
 "metadata": {
  "kernelspec": {
   "display_name": "Python 3 (ipykernel)",
   "language": "python",
   "name": "python3"
  },
  "language_info": {
   "codemirror_mode": {
    "name": "ipython",
    "version": 3
   },
   "file_extension": ".py",
   "mimetype": "text/x-python",
   "name": "python",
   "nbconvert_exporter": "python",
   "pygments_lexer": "ipython3",
   "version": "3.9.16"
  }
 },
 "nbformat": 4,
 "nbformat_minor": 5
}
