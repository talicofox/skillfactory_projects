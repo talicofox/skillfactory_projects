{
 "cells": [
  {
   "cell_type": "markdown",
   "id": "d6523778",
   "metadata": {},
   "source": [
    "# Дипломная работа"
   ]
  },
  {
   "cell_type": "markdown",
   "id": "50c1172c",
   "metadata": {},
   "source": [
    "<a id='0'></a> \n",
    "## Оглавление\n",
    "**Постановка задачи**    \n",
    "<a href='#7'> **Уточнение бизнес-постановки и Выбор метрик**     \n",
    "<a href='#2'> **Описание датасета**   \n",
    "<a href='#3'> **Импорт библиотек и чтение исходных данных**      \n",
    "<a href='#4'> **Используемые функции**  \n",
    "<a href='#5'> **Получение данных и создание новых признаков**     \n",
    "    \n",
    "**Исследование данных**    \n",
    "<a href='#1'> **Описание структуры**     \n",
    "<a href='#6'> **Статистический анализ данных**     "
   ]
  },
  {
   "cell_type": "markdown",
   "id": "e0f641d2",
   "metadata": {},
   "source": [
    "## Постановка задачи"
   ]
  },
  {
   "cell_type": "markdown",
   "id": "92477525",
   "metadata": {},
   "source": [
    "Построить рекомендательную систему, располагающуюся на главной странице сайта компании-ритейлера.\n",
    "Сервис должен выдавать рекомендации по id-пользователя и должен помочь повысить прибыль от продаж в интернет-магазине хотя бы на 20 %"
   ]
  },
  {
   "cell_type": "markdown",
   "id": "a206518a",
   "metadata": {},
   "source": [
    "<a id='7'></a> \n",
    "### Уточнение бизнес-постановки и Выбор метрик\n",
    "<a href='#0'> *Вернуться к оглавлению*"
   ]
  },
  {
   "cell_type": "markdown",
   "id": "cf184644",
   "metadata": {},
   "source": [
    "Рекомендательная система из товаров, имеющихся в доступности, выбирает 3 с наибольшим рейтингом для данного покупателя и предлагает их покупателю."
   ]
  },
  {
   "cell_type": "markdown",
   "id": "952db38a",
   "metadata": {},
   "source": [
    "Среди offline - метрик для определения качества модели остановимся на "
   ]
  },
  {
   "cell_type": "markdown",
   "id": "50d7f536",
   "metadata": {},
   "source": [
    "$$ Precision@N = {{К} \\over {N}},$$\n",
    "\n",
    "$$\\  где\\ N\\ -\\ количество\\ рекомендованных\\ товаров,\\\n",
    "K - количество\\ купленных\\ товаров\\ из\\ рекомендованных $$"
   ]
  },
  {
   "cell_type": "markdown",
   "id": "a4de58cb",
   "metadata": {},
   "source": [
    "и Mean Reciprocal Rank для оценки качества ранжирования:"
   ]
  },
  {
   "cell_type": "markdown",
   "id": "242f64b2",
   "metadata": {},
   "source": [
    "$$ E({{1} \\over {pos}}),$$\n",
    "$$ на\\ какой\\ позиции\\ списка\\ рекомендаций\\ пользователь\\ находит\\ первую\\ полезную$$"
   ]
  },
  {
   "cell_type": "markdown",
   "id": "e84afbfc",
   "metadata": {},
   "source": [
    "Для бизнеса в данном случае интересными метриками могут оказаться: \n",
    "- конверсия товара в корзину, \n",
    "- конверсия товара в покупку, \n",
    "- средняя длина конверсии от просмотра товара до совершения покупки.\n",
    "\n",
    "Но в данном конкретном случае основной метрикой будет прибыль от продаж.\n",
    "Но для вычисления данной метрики уже после вывода в продашн потребуется знать себестоимость продаваемых товаров, а не просто выручку."
   ]
  },
  {
   "cell_type": "markdown",
   "id": "3815bded",
   "metadata": {},
   "source": [
    "<a id='2'></a> \n",
    "### Описание датасета\n",
    "<a href='#0'> *Вернуться к оглавлению*"
   ]
  },
  {
   "cell_type": "markdown",
   "id": "bcb162bb",
   "metadata": {},
   "source": [
    "**events** — датасет с событиями. \n",
    "\n",
    "Колонки:\n",
    "\n",
    "- timestamp — время события\n",
    "- visitorid — идентификатор пользователя\n",
    "- event — тип события\n",
    "- itemid — идентификатор объекта\n",
    "- transactionid — идентификатор транзакции, если она проходила\n",
    "\n",
    "Записей событий - 2756101\n",
    "\n",
    "Типы событий:\n",
    "\n",
    "- view (просмотр карточки товара\n",
    "- addtocart (добавление в корзину)\n",
    "- transaction (покупка)\n",
    "\n",
    "\n",
    "**category_tree** — файл с деревом категорий (можно восстановить дерево).\n",
    "\n",
    "- category_id — идентификатор категорий\n",
    "- parent_id — идентификатор родительской категории\n",
    "\n",
    "**item_properties** — файл с свойствами товаров.\n",
    "\n",
    "- timestamp — момент записи значения свойства\n",
    "- item_id — идентификатор объекта\n",
    "- property — свойство, кажется, они все, кроме категории, захешированы\n",
    "- value — значение свойства\n",
    "\n",
    "Уникальных признаков товара   1104"
   ]
  },
  {
   "cell_type": "markdown",
   "id": "99e8fd14",
   "metadata": {},
   "source": [
    "<a id='3'></a> \n",
    "### Импорт библиотек\n",
    "<a href='#0'> *Вернуться к оглавлению*"
   ]
  },
  {
   "cell_type": "code",
   "execution_count": 1,
   "id": "1f2e065c",
   "metadata": {},
   "outputs": [],
   "source": [
    "# импортируем необходимые библиотеки\n",
    "import datetime\n",
    "import numpy as np\n",
    "import pandas as pd\n",
    "import os\n",
    "import seaborn as sns\n",
    "from sklearn.feature_extraction.text import TfidfVectorizer\n",
    "from sklearn.preprocessing import OrdinalEncoder\n",
    "from implicit.als import AlternatingLeastSquares\n",
    "from implicit.evaluation import mean_average_precision_at_k\n",
    "from sklearn import metrics\n",
    "from sklearn.cluster import KMeans\n",
    "\n",
    "from gensim.models import Word2Vec\n",
    "from sklearn.manifold import TSNE\n",
    "\n",
    "from sklearn.linear_model import LogisticRegression\n",
    "from sklearn.model_selection import GridSearchCV, StratifiedKFold\n",
    "\n",
    "%matplotlib inline\n",
    "import matplotlib.pyplot as plt"
   ]
  },
  {
   "cell_type": "code",
   "execution_count": 2,
   "id": "d2340f35",
   "metadata": {},
   "outputs": [],
   "source": [
    "path = r'F:\\SkillFactory\\diplom'"
   ]
  },
  {
   "cell_type": "code",
   "execution_count": 186,
   "id": "c845a524",
   "metadata": {},
   "outputs": [],
   "source": [
    "# загрузим данные\n",
    "category = pd.read_csv(os.path.join(path,'category_tree.csv'))\n",
    "events = pd.read_csv(os.path.join(path,'events.csv'))\n",
    "items1 = pd.read_csv(os.path.join(path,'item_properties_part1.csv'))\n",
    "items2 = pd.read_csv(os.path.join(path,'item_properties_part2.csv'))"
   ]
  },
  {
   "cell_type": "markdown",
   "id": "809eda53",
   "metadata": {},
   "source": [
    "<a id='4'></a> \n",
    "### Используемые функции\n",
    "<a href='#0'> *Вернуться к оглавлению*"
   ]
  },
  {
   "cell_type": "code",
   "execution_count": 4,
   "id": "af7d40b7",
   "metadata": {},
   "outputs": [],
   "source": [
    "def features_from_data(df, timestamp):\n",
    "    '''\n",
    "    Новые признаки из поля datetime\n",
    "    \n",
    "    df - Data Frame\n",
    "    timestamp - name of column to transform new features\n",
    "    \n",
    "    '''\n",
    "    dat = pd.to_datetime(df[timestamp], unit='ms', origin='unix')\n",
    "    #df['date0'] = dat\n",
    "    df['date'] = dat.dt.date\n",
    "    df['hour'] = dat.dt.hour.astype('int8')\n",
    "    df['month'] = dat.dt.month.astype('int8')\n",
    "    df['doy'] = dat.dt.dayofyear.astype('int32')\n",
    "    #df['year'] = dat.dt.year.astype('int16')\n",
    "    df['weekofyear'] = dat.dt.isocalendar().week.astype('int8')\n",
    "    df['dow'] = dat.dt.dayofweek.astype('int8')"
   ]
  },
  {
   "cell_type": "code",
   "execution_count": 5,
   "id": "33117d80",
   "metadata": {},
   "outputs": [],
   "source": [
    "def show_distination(df, _list, target):\n",
    "    '''\n",
    "    Изображает распределение признаков и боксплоты с выбросами по значениям целевой функции\n",
    "    '''\n",
    "    len_list = len(_list)\n",
    "    length = 16\n",
    "    if len_list<4:\n",
    "        length = 4*len_list\n",
    "    fig, axs = plt.subplots(2,len_list, constrained_layout=True, figsize=(length, 5))\n",
    "    \n",
    "    for i in range(len_list):\n",
    "        \n",
    "        df[_list[i]].hist(ax=axs[0,i])\n",
    "        df.boxplot(column=[_list[i]], by=target, ax=axs[1,i])"
   ]
  },
  {
   "cell_type": "code",
   "execution_count": 6,
   "id": "77e5212b",
   "metadata": {},
   "outputs": [],
   "source": [
    "def create_df_feature(code_property, _type):\n",
    "    '''\n",
    "    Создает датафрейм для добавления к данным по коду свойства\n",
    "    '''\n",
    "    new_df = properties[properties['property']==code_property][['itemid','weekofyear', 'value']]\n",
    "    if code_property == '790': # price\n",
    "        new_df['value'] = new_df['value'].apply(lambda x: x[1:])\n",
    "        new_df['value'] = new_df['value'].astype('float')\n",
    "    new_df['value'] = new_df['value'].astype(_type)\n",
    "    \n",
    "    # Свойства устанавливаются на следующую неделю:\n",
    "    new_df['weekofyear'] = new_df['weekofyear'] + 1 \n",
    "\n",
    "    return new_df"
   ]
  },
  {
   "cell_type": "code",
   "execution_count": 7,
   "id": "7b8780f5",
   "metadata": {},
   "outputs": [],
   "source": [
    "def iqd(df, col):\n",
    "    '''\n",
    "    interquartile distance formula\n",
    "    '''\n",
    "    IQR = df[col].quantile(0.75) - df[col].quantile(0.25)\n",
    "    perc25 = df[col].quantile(0.25)\n",
    "    perc75 = df[col].quantile(0.75)\n",
    "\n",
    "    print(\n",
    "    '25-й перцентиль: {},'.format(perc25),\n",
    "    '75-й перцентиль: {},'.format(perc75),\n",
    "    \"IQR: {}, \".format(IQR),\n",
    "    \"Границы выбросов: [{f}, {l}].\".format(f=perc25 - 1.5*IQR, l=perc75 + 1.5*IQR))\n",
    "    return \n",
    "    \n",
    "    \n",
    "def show_correlation(df, features):\n",
    "    '''\n",
    "    plot correlation matrix\n",
    "    '''\n",
    "    \n",
    "    #corr_matrix = df.drop(categorial_feature, axis=1).corr()\n",
    "    corr_matrix = df[features].corr()\n",
    "    plt.rcParams['figure.figsize'] = (15,15)\n",
    "    sns.heatmap(corr_matrix, square=True,\n",
    "                annot=True, fmt=\".1f\", linewidths=0.1, cmap=\"RdBu\");\n",
    "    plt.tight_layout()\n",
    "    \n",
    "def get_boxplot(df, column, _target):\n",
    "    '''\n",
    "    plot boxes for the column\n",
    "    '''\n",
    "    fig, ax = plt.subplots(figsize = (14, 4))\n",
    "    sns.boxplot(x=column, y=_target,data=df, ax=ax) \n",
    "    plt.xticks(rotation=45)\n",
    "    ax.set_title('Boxplot for ' + column)\n",
    "    plt.show()\n",
    "    "
   ]
  },
  {
   "cell_type": "code",
   "execution_count": 8,
   "id": "776a08ae",
   "metadata": {},
   "outputs": [],
   "source": [
    "def display_data(dataframe, list_columns=None):\n",
    "    '''\n",
    "    Развернутая информация по датасету с фильтрацией по списку колонок,\n",
    "    по умолчнию без фильтрации,\n",
    "    названия признаков упорядочены по алфавиту\n",
    "    '''\n",
    "    if list_columns==None:\n",
    "        index_ = sorted(dataframe.columns)\n",
    "    else: \n",
    "        index_ = sorted([x for x in set(dataframe.dtypes.index).intersection(set(list_columns))])\n",
    "    \n",
    "    df = dataframe[index_]\n",
    "    d = pd.concat([df.dtypes,df.count() + df.isna().sum(),\\\n",
    "               round((df.isna().sum()/(df.count() + df.isna().sum()))*100,2),df.nunique(),],axis=1)\n",
    "    d.columns = ['Тип', 'Общ.кол', '% пропусков','Кол-во уник.значений']\n",
    "    display(d)\n",
    "    \n",
    "    return"
   ]
  },
  {
   "cell_type": "code",
   "execution_count": 9,
   "id": "604dd94b",
   "metadata": {},
   "outputs": [],
   "source": [
    "# Наивный подход к созданию единого эмбеддинга для документа – средний эмбеддинг по словам\n",
    "def doc_vectorizer(doc, model):\n",
    "    doc_vector = []\n",
    "    num_words = 0\n",
    "    for word in doc:\n",
    "        try:\n",
    "            if num_words == 0:\n",
    "                doc_vector = model.wv[word]\n",
    "            else:\n",
    "                doc_vector = np.add(doc_vector, model.wv[word])\n",
    "            num_words += 1\n",
    "        except:\n",
    "            pass\n",
    "     \n",
    "    return np.asarray(doc_vector) / num_words\n"
   ]
  },
  {
   "cell_type": "markdown",
   "id": "34df1b00",
   "metadata": {},
   "source": [
    "<a id='5'></a> \n",
    "## Получение данных и создание новых признаков\n",
    "<a href='#0'> *Вернуться к оглавлению*"
   ]
  },
  {
   "cell_type": "markdown",
   "id": "90bb378b",
   "metadata": {},
   "source": [
    "При подготовке данных постараемся уменьшить размер используемой памяти путем преобразования типов данных, посмотрим на уникальность данных,\n",
    "датасеты свойств объединим в один, определим ключевые поля для связи между датасетами, а также получим новые признаки из поля timestamp"
   ]
  },
  {
   "cell_type": "markdown",
   "id": "60ada943",
   "metadata": {},
   "source": [
    "### Предварительное исследование данных"
   ]
  },
  {
   "cell_type": "markdown",
   "id": "b26d2ab9",
   "metadata": {},
   "source": [
    "**Category**"
   ]
  },
  {
   "cell_type": "code",
   "execution_count": 10,
   "id": "7f195fb6",
   "metadata": {},
   "outputs": [
    {
     "name": "stdout",
     "output_type": "stream",
     "text": [
      "<class 'pandas.core.frame.DataFrame'>\n",
      "RangeIndex: 1669 entries, 0 to 1668\n",
      "Data columns (total 2 columns):\n",
      " #   Column      Non-Null Count  Dtype  \n",
      "---  ------      --------------  -----  \n",
      " 0   categoryid  1669 non-null   int64  \n",
      " 1   parentid    1644 non-null   float64\n",
      "dtypes: float64(1), int64(1)\n",
      "memory usage: 26.2 KB\n"
     ]
    }
   ],
   "source": [
    "category.info()"
   ]
  },
  {
   "cell_type": "code",
   "execution_count": 11,
   "id": "cd783251",
   "metadata": {},
   "outputs": [
    {
     "name": "stdout",
     "output_type": "stream",
     "text": [
      "Количество уникальных значений категорий - 1669 и родительских категорий - 362\n"
     ]
    }
   ],
   "source": [
    "print('Количество уникальных значений категорий - {} и родительских категорий - {}'.\\\n",
    "      format(category.categoryid.nunique(), category.parentid.nunique()))"
   ]
  },
  {
   "cell_type": "code",
   "execution_count": 12,
   "id": "41d6ee60",
   "metadata": {},
   "outputs": [],
   "source": [
    "# Заменим неопределенные значения 'parentid' на -1, это корень дерева\n",
    "category['parentid'].fillna(-1, inplace=True)"
   ]
  },
  {
   "cell_type": "code",
   "execution_count": 13,
   "id": "a7f96627",
   "metadata": {},
   "outputs": [
    {
     "data": {
      "text/plain": [
       "25"
      ]
     },
     "execution_count": 13,
     "metadata": {},
     "output_type": "execute_result"
    }
   ],
   "source": [
    "# Количество ветвей, выходящих из корня дерева:\n",
    "len(category[category.parentid==-1])"
   ]
  },
  {
   "cell_type": "code",
   "execution_count": 14,
   "id": "1aed8f22",
   "metadata": {},
   "outputs": [],
   "source": [
    "# Уменьшаем размерность данных\n",
    "category['categoryid'] = category['categoryid'].astype('int32')\n",
    "category['parentid'] = category['parentid'].astype('int32')"
   ]
  },
  {
   "cell_type": "code",
   "execution_count": 15,
   "id": "d85f9651",
   "metadata": {},
   "outputs": [
    {
     "name": "stdout",
     "output_type": "stream",
     "text": [
      "<class 'pandas.core.frame.DataFrame'>\n",
      "RangeIndex: 1669 entries, 0 to 1668\n",
      "Data columns (total 2 columns):\n",
      " #   Column      Non-Null Count  Dtype\n",
      "---  ------      --------------  -----\n",
      " 0   categoryid  1669 non-null   int32\n",
      " 1   parentid    1669 non-null   int32\n",
      "dtypes: int32(2)\n",
      "memory usage: 13.2 KB\n"
     ]
    }
   ],
   "source": [
    "category.info()"
   ]
  },
  {
   "cell_type": "markdown",
   "id": "43309624",
   "metadata": {},
   "source": [
    "**Events**"
   ]
  },
  {
   "cell_type": "code",
   "execution_count": 187,
   "id": "f971f85a",
   "metadata": {},
   "outputs": [
    {
     "data": {
      "text/html": [
       "<div>\n",
       "<style scoped>\n",
       "    .dataframe tbody tr th:only-of-type {\n",
       "        vertical-align: middle;\n",
       "    }\n",
       "\n",
       "    .dataframe tbody tr th {\n",
       "        vertical-align: top;\n",
       "    }\n",
       "\n",
       "    .dataframe thead th {\n",
       "        text-align: right;\n",
       "    }\n",
       "</style>\n",
       "<table border=\"1\" class=\"dataframe\">\n",
       "  <thead>\n",
       "    <tr style=\"text-align: right;\">\n",
       "      <th></th>\n",
       "      <th>timestamp</th>\n",
       "      <th>visitorid</th>\n",
       "      <th>itemid</th>\n",
       "      <th>transactionid</th>\n",
       "    </tr>\n",
       "  </thead>\n",
       "  <tbody>\n",
       "    <tr>\n",
       "      <th>count</th>\n",
       "      <td>2.756101e+06</td>\n",
       "      <td>2.756101e+06</td>\n",
       "      <td>2.756101e+06</td>\n",
       "      <td>22457.000000</td>\n",
       "    </tr>\n",
       "    <tr>\n",
       "      <th>mean</th>\n",
       "      <td>1.436424e+12</td>\n",
       "      <td>7.019229e+05</td>\n",
       "      <td>2.349225e+05</td>\n",
       "      <td>8826.497796</td>\n",
       "    </tr>\n",
       "    <tr>\n",
       "      <th>std</th>\n",
       "      <td>3.366312e+09</td>\n",
       "      <td>4.056875e+05</td>\n",
       "      <td>1.341954e+05</td>\n",
       "      <td>5098.996290</td>\n",
       "    </tr>\n",
       "    <tr>\n",
       "      <th>min</th>\n",
       "      <td>1.430622e+12</td>\n",
       "      <td>0.000000e+00</td>\n",
       "      <td>3.000000e+00</td>\n",
       "      <td>0.000000</td>\n",
       "    </tr>\n",
       "    <tr>\n",
       "      <th>25%</th>\n",
       "      <td>1.433478e+12</td>\n",
       "      <td>3.505660e+05</td>\n",
       "      <td>1.181200e+05</td>\n",
       "      <td>4411.000000</td>\n",
       "    </tr>\n",
       "    <tr>\n",
       "      <th>50%</th>\n",
       "      <td>1.436453e+12</td>\n",
       "      <td>7.020600e+05</td>\n",
       "      <td>2.360670e+05</td>\n",
       "      <td>8813.000000</td>\n",
       "    </tr>\n",
       "    <tr>\n",
       "      <th>75%</th>\n",
       "      <td>1.439225e+12</td>\n",
       "      <td>1.053437e+06</td>\n",
       "      <td>3.507150e+05</td>\n",
       "      <td>13224.000000</td>\n",
       "    </tr>\n",
       "    <tr>\n",
       "      <th>max</th>\n",
       "      <td>1.442545e+12</td>\n",
       "      <td>1.407579e+06</td>\n",
       "      <td>4.668670e+05</td>\n",
       "      <td>17671.000000</td>\n",
       "    </tr>\n",
       "  </tbody>\n",
       "</table>\n",
       "</div>"
      ],
      "text/plain": [
       "          timestamp     visitorid        itemid  transactionid\n",
       "count  2.756101e+06  2.756101e+06  2.756101e+06   22457.000000\n",
       "mean   1.436424e+12  7.019229e+05  2.349225e+05    8826.497796\n",
       "std    3.366312e+09  4.056875e+05  1.341954e+05    5098.996290\n",
       "min    1.430622e+12  0.000000e+00  3.000000e+00       0.000000\n",
       "25%    1.433478e+12  3.505660e+05  1.181200e+05    4411.000000\n",
       "50%    1.436453e+12  7.020600e+05  2.360670e+05    8813.000000\n",
       "75%    1.439225e+12  1.053437e+06  3.507150e+05   13224.000000\n",
       "max    1.442545e+12  1.407579e+06  4.668670e+05   17671.000000"
      ]
     },
     "execution_count": 187,
     "metadata": {},
     "output_type": "execute_result"
    }
   ],
   "source": [
    "events.describe()"
   ]
  },
  {
   "cell_type": "code",
   "execution_count": 188,
   "id": "caa123d3",
   "metadata": {},
   "outputs": [
    {
     "data": {
      "text/html": [
       "<div>\n",
       "<style scoped>\n",
       "    .dataframe tbody tr th:only-of-type {\n",
       "        vertical-align: middle;\n",
       "    }\n",
       "\n",
       "    .dataframe tbody tr th {\n",
       "        vertical-align: top;\n",
       "    }\n",
       "\n",
       "    .dataframe thead th {\n",
       "        text-align: right;\n",
       "    }\n",
       "</style>\n",
       "<table border=\"1\" class=\"dataframe\">\n",
       "  <thead>\n",
       "    <tr style=\"text-align: right;\">\n",
       "      <th></th>\n",
       "      <th>timestamp</th>\n",
       "      <th>visitorid</th>\n",
       "      <th>event</th>\n",
       "      <th>itemid</th>\n",
       "      <th>transactionid</th>\n",
       "    </tr>\n",
       "  </thead>\n",
       "  <tbody>\n",
       "    <tr>\n",
       "      <th>0</th>\n",
       "      <td>1433221332117</td>\n",
       "      <td>257597</td>\n",
       "      <td>view</td>\n",
       "      <td>355908</td>\n",
       "      <td>NaN</td>\n",
       "    </tr>\n",
       "    <tr>\n",
       "      <th>1</th>\n",
       "      <td>1433224214164</td>\n",
       "      <td>992329</td>\n",
       "      <td>view</td>\n",
       "      <td>248676</td>\n",
       "      <td>NaN</td>\n",
       "    </tr>\n",
       "    <tr>\n",
       "      <th>2</th>\n",
       "      <td>1433221999827</td>\n",
       "      <td>111016</td>\n",
       "      <td>view</td>\n",
       "      <td>318965</td>\n",
       "      <td>NaN</td>\n",
       "    </tr>\n",
       "    <tr>\n",
       "      <th>3</th>\n",
       "      <td>1433221955914</td>\n",
       "      <td>483717</td>\n",
       "      <td>view</td>\n",
       "      <td>253185</td>\n",
       "      <td>NaN</td>\n",
       "    </tr>\n",
       "    <tr>\n",
       "      <th>4</th>\n",
       "      <td>1433221337106</td>\n",
       "      <td>951259</td>\n",
       "      <td>view</td>\n",
       "      <td>367447</td>\n",
       "      <td>NaN</td>\n",
       "    </tr>\n",
       "  </tbody>\n",
       "</table>\n",
       "</div>"
      ],
      "text/plain": [
       "       timestamp  visitorid event  itemid  transactionid\n",
       "0  1433221332117     257597  view  355908            NaN\n",
       "1  1433224214164     992329  view  248676            NaN\n",
       "2  1433221999827     111016  view  318965            NaN\n",
       "3  1433221955914     483717  view  253185            NaN\n",
       "4  1433221337106     951259  view  367447            NaN"
      ]
     },
     "execution_count": 188,
     "metadata": {},
     "output_type": "execute_result"
    }
   ],
   "source": [
    "events.head(5)"
   ]
  },
  {
   "cell_type": "code",
   "execution_count": 189,
   "id": "6fa3689e",
   "metadata": {},
   "outputs": [
    {
     "data": {
      "text/plain": [
       "0"
      ]
     },
     "execution_count": 189,
     "metadata": {},
     "output_type": "execute_result"
    }
   ],
   "source": [
    "events.event.isna().sum()"
   ]
  },
  {
   "cell_type": "markdown",
   "id": "1731aa5d",
   "metadata": {},
   "source": [
    "##### Какой процент продаж обеспечивают топовые товары (точка отсечения — 1 июля)? \n",
    "\n",
    "Если мы всем будем рекомендовать топовые товары (по числу транзакций), то какое качество рекомендаций получится?\n",
    "\n",
    "Посчитаем такую штуку: возьмём статистику до 1 июля включительно и потом прикинем, как эти товары покупались после 1 июля. Сколько процентов покупок мы можем так покрыть?"
   ]
  },
  {
   "cell_type": "code",
   "execution_count": 190,
   "id": "2a3ca505",
   "metadata": {},
   "outputs": [
    {
     "data": {
      "text/plain": [
       "array(['transaction'], dtype=object)"
      ]
     },
     "execution_count": 190,
     "metadata": {},
     "output_type": "execute_result"
    }
   ],
   "source": [
    "# Проверяем, что здесь только транзакции, т.е покупок было 22457\n",
    "events[events['transactionid']>-1]['event'].unique()"
   ]
  },
  {
   "cell_type": "code",
   "execution_count": 191,
   "id": "70afa0b1",
   "metadata": {},
   "outputs": [
    {
     "data": {
      "text/plain": [
       "461686    133\n",
       "119736     97\n",
       "213834     92\n",
       "312728     46\n",
       "7943       46\n",
       "445351     45\n",
       "48030      41\n",
       "420960     38\n",
       "248455     38\n",
       "17478      37\n",
       "Name: itemid, dtype: int64"
      ]
     },
     "execution_count": 191,
     "metadata": {},
     "output_type": "execute_result"
    }
   ],
   "source": [
    "events[events['transactionid']>-1]['itemid'].value_counts()[:10]"
   ]
  },
  {
   "cell_type": "markdown",
   "id": "cc3be623",
   "metadata": {},
   "source": [
    "Три топовых товара покупали > 90 раз"
   ]
  },
  {
   "cell_type": "code",
   "execution_count": 192,
   "id": "6b88544a",
   "metadata": {},
   "outputs": [
    {
     "data": {
      "text/plain": [
       "322"
      ]
     },
     "execution_count": 192,
     "metadata": {},
     "output_type": "execute_result"
    }
   ],
   "source": [
    "events[events['transactionid']>-1]['itemid'].value_counts()[:3].sum()"
   ]
  },
  {
   "cell_type": "code",
   "execution_count": 193,
   "id": "ae27f249",
   "metadata": {},
   "outputs": [
    {
     "data": {
      "text/plain": [
       "22135"
      ]
     },
     "execution_count": 193,
     "metadata": {},
     "output_type": "execute_result"
    }
   ],
   "source": [
    "events[events['transactionid']>-1]['itemid'].value_counts()[3:].sum()"
   ]
  },
  {
   "cell_type": "code",
   "execution_count": 194,
   "id": "44915f6d",
   "metadata": {},
   "outputs": [
    {
     "name": "stdout",
     "output_type": "stream",
     "text": [
      "Если смотреть на весь датасет, то три топовых продукта составляют   1.4 % от всех продаж\n"
     ]
    }
   ],
   "source": [
    "print('Если смотреть на весь датасет, то три топовых продукта составляют {:5.2} % от всех продаж'.\\\n",
    "      format(events[events['transactionid']>-1]['itemid'].value_counts()[:3].sum()*100/\\\n",
    "            (events[events['transactionid']>-1]['itemid'].value_counts()[:3].sum()+\\\n",
    "            events[events['transactionid']>-1]['itemid'].value_counts()[3:].sum())))"
   ]
  },
  {
   "cell_type": "markdown",
   "id": "7d8c3dd0",
   "metadata": {},
   "source": [
    "Использовав 1 июля, как точку отсечения между двумя частями выборки для определения трех топовых продуктов по числу продаж и для непосредственного вычисления статистики получим:"
   ]
  },
  {
   "cell_type": "code",
   "execution_count": 195,
   "id": "10a59b24",
   "metadata": {},
   "outputs": [],
   "source": [
    "# Получим признаки из даты\n",
    "features_from_data(events, 'timestamp')"
   ]
  },
  {
   "cell_type": "code",
   "execution_count": 196,
   "id": "2fc81a12",
   "metadata": {},
   "outputs": [
    {
     "data": {
      "text/plain": [
       "119736    36\n",
       "369447    31\n",
       "7943      30\n",
       "Name: itemid, dtype: int64"
      ]
     },
     "execution_count": 196,
     "metadata": {},
     "output_type": "execute_result"
    }
   ],
   "source": [
    "a = events[events.date<datetime.date(2015,7,2)].copy()\n",
    "b = events[events.date>datetime.date(2015,7,1)].copy()\n",
    "top3 = a[a['transactionid']>-1]['itemid'].value_counts()[:3]\n",
    "top3"
   ]
  },
  {
   "cell_type": "code",
   "execution_count": 197,
   "id": "799dd21a",
   "metadata": {},
   "outputs": [
    {
     "name": "stdout",
     "output_type": "stream",
     "text": [
      "Топовые товары обеспечивают только 0.61 % продаж\n"
     ]
    }
   ],
   "source": [
    "# ТОповые продажи\n",
    "b[(b['transactionid']>-1)&((b['itemid']==119736)|(b['itemid']==7943)|(b['itemid']==369447))]['itemid'].value_counts().sum()\n",
    "# Все продажи на исследуемой части выборки:\n",
    "b[(b['transactionid']>-1)]['itemid'].value_counts().sum()\n",
    "print('Топовые товары обеспечивают только {} % продаж'.format(round(7700/(12608),2)))"
   ]
  },
  {
   "cell_type": "markdown",
   "id": "5d479242",
   "metadata": {},
   "source": [
    "Полученный результат, говорит о том, что ориентироваться только на продажи топовых продуктов недостаточно. Необходимо проявить большую гибкость и исследовать предпочтения каждого покупателя отдельно."
   ]
  },
  {
   "cell_type": "code",
   "execution_count": 198,
   "id": "40b7525f",
   "metadata": {},
   "outputs": [
    {
     "data": {
      "text/html": [
       "<div>\n",
       "<style scoped>\n",
       "    .dataframe tbody tr th:only-of-type {\n",
       "        vertical-align: middle;\n",
       "    }\n",
       "\n",
       "    .dataframe tbody tr th {\n",
       "        vertical-align: top;\n",
       "    }\n",
       "\n",
       "    .dataframe thead tr th {\n",
       "        text-align: left;\n",
       "    }\n",
       "\n",
       "    .dataframe thead tr:last-of-type th {\n",
       "        text-align: right;\n",
       "    }\n",
       "</style>\n",
       "<table border=\"1\" class=\"dataframe\">\n",
       "  <thead>\n",
       "    <tr>\n",
       "      <th></th>\n",
       "      <th>itemid</th>\n",
       "    </tr>\n",
       "    <tr>\n",
       "      <th></th>\n",
       "      <th>count</th>\n",
       "    </tr>\n",
       "    <tr>\n",
       "      <th>visitorid</th>\n",
       "      <th></th>\n",
       "    </tr>\n",
       "  </thead>\n",
       "  <tbody>\n",
       "    <tr>\n",
       "      <th>172</th>\n",
       "      <td>2</td>\n",
       "    </tr>\n",
       "    <tr>\n",
       "      <th>186</th>\n",
       "      <td>1</td>\n",
       "    </tr>\n",
       "    <tr>\n",
       "      <th>264</th>\n",
       "      <td>2</td>\n",
       "    </tr>\n",
       "    <tr>\n",
       "      <th>419</th>\n",
       "      <td>1</td>\n",
       "    </tr>\n",
       "    <tr>\n",
       "      <th>539</th>\n",
       "      <td>1</td>\n",
       "    </tr>\n",
       "    <tr>\n",
       "      <th>...</th>\n",
       "      <td>...</td>\n",
       "    </tr>\n",
       "    <tr>\n",
       "      <th>1406787</th>\n",
       "      <td>1</td>\n",
       "    </tr>\n",
       "    <tr>\n",
       "      <th>1406981</th>\n",
       "      <td>1</td>\n",
       "    </tr>\n",
       "    <tr>\n",
       "      <th>1407070</th>\n",
       "      <td>1</td>\n",
       "    </tr>\n",
       "    <tr>\n",
       "      <th>1407110</th>\n",
       "      <td>1</td>\n",
       "    </tr>\n",
       "    <tr>\n",
       "      <th>1407398</th>\n",
       "      <td>1</td>\n",
       "    </tr>\n",
       "  </tbody>\n",
       "</table>\n",
       "<p>11719 rows × 1 columns</p>\n",
       "</div>"
      ],
      "text/plain": [
       "          itemid\n",
       "           count\n",
       "visitorid       \n",
       "172            2\n",
       "186            1\n",
       "264            2\n",
       "419            1\n",
       "539            1\n",
       "...          ...\n",
       "1406787        1\n",
       "1406981        1\n",
       "1407070        1\n",
       "1407110        1\n",
       "1407398        1\n",
       "\n",
       "[11719 rows x 1 columns]"
      ]
     },
     "execution_count": 198,
     "metadata": {},
     "output_type": "execute_result"
    }
   ],
   "source": [
    "events[events['transactionid']>-1].groupby(['visitorid'])[['itemid']].agg(['count'])"
   ]
  },
  {
   "cell_type": "code",
   "execution_count": 199,
   "id": "25e2e29b",
   "metadata": {},
   "outputs": [
    {
     "data": {
      "text/plain": [
       "<AxesSubplot:>"
      ]
     },
     "execution_count": 199,
     "metadata": {},
     "output_type": "execute_result"
    },
    {
     "data": {
      "image/png": "[encoded data removed]",
      "text/plain": [
       "<Figure size 432x288 with 1 Axes>"
      ]
     },
     "metadata": {
      "needs_background": "light"
     },
     "output_type": "display_data"
    }
   ],
   "source": [
    "np.log(events['visitorid']+1).hist(bins=100)"
   ]
  },
  {
   "cell_type": "code",
   "execution_count": 200,
   "id": "9175967f",
   "metadata": {},
   "outputs": [
    {
     "data": {
      "text/plain": [
       "array(['view', 'addtocart', 'transaction'], dtype=object)"
      ]
     },
     "execution_count": 200,
     "metadata": {},
     "output_type": "execute_result"
    }
   ],
   "source": [
    "events.event.unique()"
   ]
  },
  {
   "cell_type": "code",
   "execution_count": 201,
   "id": "77511310",
   "metadata": {},
   "outputs": [
    {
     "data": {
      "text/plain": [
       "view           2664312\n",
       "addtocart        69332\n",
       "transaction      22457\n",
       "Name: event, dtype: int64"
      ]
     },
     "execution_count": 201,
     "metadata": {},
     "output_type": "execute_result"
    },
    {
     "data": {
      "image/png": "[encoded data removed]",
      "text/plain": [
       "<Figure size 432x288 with 1 Axes>"
      ]
     },
     "metadata": {
      "needs_background": "light"
     },
     "output_type": "display_data"
    }
   ],
   "source": [
    "# Гистограмма событий\n",
    "events[\"event\"].hist()\n",
    "events[\"event\"].value_counts()"
   ]
  },
  {
   "cell_type": "markdown",
   "id": "ea405485",
   "metadata": {},
   "source": [
    "Нас будут интересовать только товары, которые покупались хотя бы один раз. Какой интерес предлагать товар, который заведомо не будет куплен? Таких записей 22457"
   ]
  },
  {
   "cell_type": "code",
   "execution_count": 202,
   "id": "e72f5a82",
   "metadata": {},
   "outputs": [
    {
     "data": {
      "text/html": [
       "<div>\n",
       "<style scoped>\n",
       "    .dataframe tbody tr th:only-of-type {\n",
       "        vertical-align: middle;\n",
       "    }\n",
       "\n",
       "    .dataframe tbody tr th {\n",
       "        vertical-align: top;\n",
       "    }\n",
       "\n",
       "    .dataframe thead th {\n",
       "        text-align: right;\n",
       "    }\n",
       "</style>\n",
       "<table border=\"1\" class=\"dataframe\">\n",
       "  <thead>\n",
       "    <tr style=\"text-align: right;\">\n",
       "      <th></th>\n",
       "      <th>timestamp</th>\n",
       "      <th>visitorid</th>\n",
       "      <th>event</th>\n",
       "      <th>itemid</th>\n",
       "      <th>transactionid</th>\n",
       "      <th>date</th>\n",
       "      <th>hour</th>\n",
       "      <th>month</th>\n",
       "      <th>doy</th>\n",
       "      <th>weekofyear</th>\n",
       "      <th>dow</th>\n",
       "    </tr>\n",
       "  </thead>\n",
       "  <tbody>\n",
       "    <tr>\n",
       "      <th>1</th>\n",
       "      <td>1433224214164</td>\n",
       "      <td>992329</td>\n",
       "      <td>view</td>\n",
       "      <td>248676</td>\n",
       "      <td>NaN</td>\n",
       "      <td>2015-06-02</td>\n",
       "      <td>5</td>\n",
       "      <td>6</td>\n",
       "      <td>153</td>\n",
       "      <td>23</td>\n",
       "      <td>1</td>\n",
       "    </tr>\n",
       "    <tr>\n",
       "      <th>4</th>\n",
       "      <td>1433221337106</td>\n",
       "      <td>951259</td>\n",
       "      <td>view</td>\n",
       "      <td>367447</td>\n",
       "      <td>NaN</td>\n",
       "      <td>2015-06-02</td>\n",
       "      <td>5</td>\n",
       "      <td>6</td>\n",
       "      <td>153</td>\n",
       "      <td>23</td>\n",
       "      <td>1</td>\n",
       "    </tr>\n",
       "    <tr>\n",
       "      <th>6</th>\n",
       "      <td>1433221923240</td>\n",
       "      <td>810725</td>\n",
       "      <td>view</td>\n",
       "      <td>443030</td>\n",
       "      <td>NaN</td>\n",
       "      <td>2015-06-02</td>\n",
       "      <td>5</td>\n",
       "      <td>6</td>\n",
       "      <td>153</td>\n",
       "      <td>23</td>\n",
       "      <td>1</td>\n",
       "    </tr>\n",
       "    <tr>\n",
       "      <th>7</th>\n",
       "      <td>1433223291897</td>\n",
       "      <td>794181</td>\n",
       "      <td>view</td>\n",
       "      <td>439202</td>\n",
       "      <td>NaN</td>\n",
       "      <td>2015-06-02</td>\n",
       "      <td>5</td>\n",
       "      <td>6</td>\n",
       "      <td>153</td>\n",
       "      <td>23</td>\n",
       "      <td>1</td>\n",
       "    </tr>\n",
       "    <tr>\n",
       "      <th>10</th>\n",
       "      <td>1433222162373</td>\n",
       "      <td>176446</td>\n",
       "      <td>view</td>\n",
       "      <td>10572</td>\n",
       "      <td>NaN</td>\n",
       "      <td>2015-06-02</td>\n",
       "      <td>5</td>\n",
       "      <td>6</td>\n",
       "      <td>153</td>\n",
       "      <td>23</td>\n",
       "      <td>1</td>\n",
       "    </tr>\n",
       "    <tr>\n",
       "      <th>15</th>\n",
       "      <td>1433222531378</td>\n",
       "      <td>57036</td>\n",
       "      <td>view</td>\n",
       "      <td>334662</td>\n",
       "      <td>NaN</td>\n",
       "      <td>2015-06-02</td>\n",
       "      <td>5</td>\n",
       "      <td>6</td>\n",
       "      <td>153</td>\n",
       "      <td>23</td>\n",
       "      <td>1</td>\n",
       "    </tr>\n",
       "    <tr>\n",
       "      <th>17</th>\n",
       "      <td>1433223236124</td>\n",
       "      <td>287857</td>\n",
       "      <td>addtocart</td>\n",
       "      <td>5206</td>\n",
       "      <td>NaN</td>\n",
       "      <td>2015-06-02</td>\n",
       "      <td>5</td>\n",
       "      <td>6</td>\n",
       "      <td>153</td>\n",
       "      <td>23</td>\n",
       "      <td>1</td>\n",
       "    </tr>\n",
       "    <tr>\n",
       "      <th>19</th>\n",
       "      <td>1433221078505</td>\n",
       "      <td>158090</td>\n",
       "      <td>addtocart</td>\n",
       "      <td>10572</td>\n",
       "      <td>NaN</td>\n",
       "      <td>2015-06-02</td>\n",
       "      <td>4</td>\n",
       "      <td>6</td>\n",
       "      <td>153</td>\n",
       "      <td>23</td>\n",
       "      <td>1</td>\n",
       "    </tr>\n",
       "    <tr>\n",
       "      <th>22</th>\n",
       "      <td>1433221274809</td>\n",
       "      <td>1213673</td>\n",
       "      <td>view</td>\n",
       "      <td>343861</td>\n",
       "      <td>NaN</td>\n",
       "      <td>2015-06-02</td>\n",
       "      <td>5</td>\n",
       "      <td>6</td>\n",
       "      <td>153</td>\n",
       "      <td>23</td>\n",
       "      <td>1</td>\n",
       "    </tr>\n",
       "    <tr>\n",
       "      <th>27</th>\n",
       "      <td>1433222147345</td>\n",
       "      <td>1076270</td>\n",
       "      <td>view</td>\n",
       "      <td>262799</td>\n",
       "      <td>NaN</td>\n",
       "      <td>2015-06-02</td>\n",
       "      <td>5</td>\n",
       "      <td>6</td>\n",
       "      <td>153</td>\n",
       "      <td>23</td>\n",
       "      <td>1</td>\n",
       "    </tr>\n",
       "  </tbody>\n",
       "</table>\n",
       "</div>"
      ],
      "text/plain": [
       "        timestamp  visitorid      event  itemid  transactionid        date  \\\n",
       "1   1433224214164     992329       view  248676            NaN  2015-06-02   \n",
       "4   1433221337106     951259       view  367447            NaN  2015-06-02   \n",
       "6   1433221923240     810725       view  443030            NaN  2015-06-02   \n",
       "7   1433223291897     794181       view  439202            NaN  2015-06-02   \n",
       "10  1433222162373     176446       view   10572            NaN  2015-06-02   \n",
       "15  1433222531378      57036       view  334662            NaN  2015-06-02   \n",
       "17  1433223236124     287857  addtocart    5206            NaN  2015-06-02   \n",
       "19  1433221078505     158090  addtocart   10572            NaN  2015-06-02   \n",
       "22  1433221274809    1213673       view  343861            NaN  2015-06-02   \n",
       "27  1433222147345    1076270       view  262799            NaN  2015-06-02   \n",
       "\n",
       "    hour  month  doy  weekofyear  dow  \n",
       "1      5      6  153          23    1  \n",
       "4      5      6  153          23    1  \n",
       "6      5      6  153          23    1  \n",
       "7      5      6  153          23    1  \n",
       "10     5      6  153          23    1  \n",
       "15     5      6  153          23    1  \n",
       "17     5      6  153          23    1  \n",
       "19     4      6  153          23    1  \n",
       "22     5      6  153          23    1  \n",
       "27     5      6  153          23    1  "
      ]
     },
     "execution_count": 202,
     "metadata": {},
     "output_type": "execute_result"
    }
   ],
   "source": [
    "#Сформируем датафрейм с покупаемыми товарами\n",
    "\n",
    "ind = events[events.event=='transaction'].itemid.tolist() # список покупаемых товаров\n",
    "df = events.loc[events.itemid.isin(ind)].copy()\n",
    "df.head(10)"
   ]
  },
  {
   "cell_type": "code",
   "execution_count": 203,
   "id": "8e427405",
   "metadata": {},
   "outputs": [
    {
     "data": {
      "text/plain": [
       "view           842836\n",
       "addtocart       48764\n",
       "transaction     22457\n",
       "Name: event, dtype: int64"
      ]
     },
     "execution_count": 203,
     "metadata": {},
     "output_type": "execute_result"
    },
    {
     "data": {
      "image/png": "[encoded data removed]",
      "text/plain": [
       "<Figure size 432x288 with 1 Axes>"
      ]
     },
     "metadata": {
      "needs_background": "light"
     },
     "output_type": "display_data"
    }
   ],
   "source": [
    "# Гистограмма событий\n",
    "df[\"event\"].hist()\n",
    "df[\"event\"].value_counts()"
   ]
  },
  {
   "cell_type": "code",
   "execution_count": 204,
   "id": "90198857",
   "metadata": {},
   "outputs": [
    {
     "name": "stdout",
     "output_type": "stream",
     "text": [
      "<class 'pandas.core.frame.DataFrame'>\n",
      "Int64Index: 914057 entries, 1 to 2756098\n",
      "Data columns (total 11 columns):\n",
      " #   Column         Non-Null Count   Dtype  \n",
      "---  ------         --------------   -----  \n",
      " 0   timestamp      914057 non-null  int64  \n",
      " 1   visitorid      914057 non-null  int64  \n",
      " 2   event          914057 non-null  object \n",
      " 3   itemid         914057 non-null  int64  \n",
      " 4   transactionid  22457 non-null   float64\n",
      " 5   date           914057 non-null  object \n",
      " 6   hour           914057 non-null  int8   \n",
      " 7   month          914057 non-null  int8   \n",
      " 8   doy            914057 non-null  int32  \n",
      " 9   weekofyear     914057 non-null  int8   \n",
      " 10  dow            914057 non-null  int8   \n",
      "dtypes: float64(1), int32(1), int64(3), int8(4), object(2)\n",
      "memory usage: 55.8+ MB\n"
     ]
    }
   ],
   "source": [
    "df.info()"
   ]
  },
  {
   "cell_type": "code",
   "execution_count": 205,
   "id": "bd608f31",
   "metadata": {},
   "outputs": [
    {
     "data": {
      "text/plain": [
       "view           842836\n",
       "addtocart       48764\n",
       "transaction     22457\n",
       "Name: event, dtype: int64"
      ]
     },
     "execution_count": 205,
     "metadata": {},
     "output_type": "execute_result"
    }
   ],
   "source": [
    "df['event'].value_counts()"
   ]
  },
  {
   "cell_type": "code",
   "execution_count": 206,
   "id": "fcddcb3e",
   "metadata": {},
   "outputs": [],
   "source": [
    "# Кодируем категориальный признак типа событий:\n",
    "# 1 - добавили в корзину\n",
    "# 2 - покупка\n",
    "\n",
    "df['eventid'] = 0\n",
    "df['eventid'] = np.where(df['event']=='addtocart',1,0)\n",
    "df['eventid'] = np.where(df['event']=='transaction',2,df['eventid'])\n",
    "df['eventid'] = df['eventid'].astype('int8')"
   ]
  },
  {
   "cell_type": "code",
   "execution_count": 207,
   "id": "60b9b6ab",
   "metadata": {},
   "outputs": [
    {
     "data": {
      "text/plain": [
       "0    842836\n",
       "1     48764\n",
       "2     22457\n",
       "Name: eventid, dtype: int64"
      ]
     },
     "execution_count": 207,
     "metadata": {},
     "output_type": "execute_result"
    }
   ],
   "source": [
    "# Проверка кодирования\n",
    "df['eventid'].value_counts()"
   ]
  },
  {
   "cell_type": "code",
   "execution_count": 208,
   "id": "bf380840",
   "metadata": {},
   "outputs": [],
   "source": [
    "# Записываем датафрейм в файл с рейтингами\n",
    "#df[['timestamp','visitorid','itemid','eventid']].to_csv(os.path.join(path,'ratings.csv'))"
   ]
  },
  {
   "cell_type": "code",
   "execution_count": 209,
   "id": "b5720dc0",
   "metadata": {},
   "outputs": [
    {
     "data": {
      "text/plain": [
       "(12025, 911288, 409322)"
      ]
     },
     "execution_count": 209,
     "metadata": {},
     "output_type": "execute_result"
    }
   ],
   "source": [
    "df.itemid.nunique(), df.timestamp.nunique(), df.visitorid.nunique()"
   ]
  },
  {
   "cell_type": "code",
   "execution_count": 210,
   "id": "456a9e12",
   "metadata": {},
   "outputs": [
    {
     "data": {
      "text/plain": [
       "461686    2978\n",
       "219512    1800\n",
       "257040    1647\n",
       "309778    1628\n",
       "384302    1608\n",
       "          ... \n",
       "72462        2\n",
       "159562       2\n",
       "207791       2\n",
       "136034       2\n",
       "280270       1\n",
       "Name: itemid, Length: 12025, dtype: int64"
      ]
     },
     "execution_count": 210,
     "metadata": {},
     "output_type": "execute_result"
    }
   ],
   "source": [
    "df['itemid'].value_counts()"
   ]
  },
  {
   "cell_type": "code",
   "execution_count": 211,
   "id": "6fdc5bf7",
   "metadata": {},
   "outputs": [
    {
     "data": {
      "text/plain": [
       "<AxesSubplot:>"
      ]
     },
     "execution_count": 211,
     "metadata": {},
     "output_type": "execute_result"
    },
    {
     "data": {
      "image/png": "[encoded data removed]",
      "text/plain": [
       "<Figure size 432x288 with 1 Axes>"
      ]
     },
     "metadata": {
      "needs_background": "light"
     },
     "output_type": "display_data"
    }
   ],
   "source": [
    "# Гистограмма самых популярных товаров\n",
    "df['itemid'].value_counts()[:10].plot(kind='barh')"
   ]
  },
  {
   "cell_type": "code",
   "execution_count": 212,
   "id": "5782fef7",
   "metadata": {},
   "outputs": [
    {
     "data": {
      "text/plain": [
       "<AxesSubplot:>"
      ]
     },
     "execution_count": 212,
     "metadata": {},
     "output_type": "execute_result"
    },
    {
     "data": {
      "image/png": "[encoded data removed]",
      "text/plain": [
       "<Figure size 432x288 with 1 Axes>"
      ]
     },
     "metadata": {
      "needs_background": "light"
     },
     "output_type": "display_data"
    }
   ],
   "source": [
    "# Гистограмма самых продаваемых товаров\n",
    "df[df.event=='transaction']['itemid'].value_counts()[:10].plot(kind='barh')"
   ]
  },
  {
   "cell_type": "markdown",
   "id": "d022dde8",
   "metadata": {},
   "source": [
    "Самые популярные товары могут не входить в топ самых покупаемых товаров!"
   ]
  },
  {
   "cell_type": "code",
   "execution_count": 213,
   "id": "a205c0c5",
   "metadata": {},
   "outputs": [
    {
     "data": {
      "text/plain": [
       "<AxesSubplot:>"
      ]
     },
     "execution_count": 213,
     "metadata": {},
     "output_type": "execute_result"
    },
    {
     "data": {
      "image/png": "[encoded data removed]",
      "text/plain": [
       "<Figure size 432x288 with 1 Axes>"
      ]
     },
     "metadata": {
      "needs_background": "light"
     },
     "output_type": "display_data"
    }
   ],
   "source": [
    "# Гистограмма самых \"активных\" покупателей \n",
    "df['visitorid'].value_counts()[:10].plot(kind='barh')"
   ]
  },
  {
   "cell_type": "code",
   "execution_count": 214,
   "id": "83be2298",
   "metadata": {},
   "outputs": [
    {
     "data": {
      "text/plain": [
       "<AxesSubplot:>"
      ]
     },
     "execution_count": 214,
     "metadata": {},
     "output_type": "execute_result"
    },
    {
     "data": {
      "image/png": "[encoded data removed]",
      "text/plain": [
       "<Figure size 432x288 with 1 Axes>"
      ]
     },
     "metadata": {
      "needs_background": "light"
     },
     "output_type": "display_data"
    }
   ],
   "source": [
    "# Кто больше всего покупает?\n",
    "df[df.event=='transaction']['visitorid'].value_counts()[:10].plot(kind='barh')"
   ]
  },
  {
   "cell_type": "code",
   "execution_count": 215,
   "id": "c10297d1",
   "metadata": {},
   "outputs": [
    {
     "name": "stdout",
     "output_type": "stream",
     "text": [
      "<class 'pandas.core.frame.DataFrame'>\n",
      "Int64Index: 914057 entries, 1 to 2756098\n",
      "Data columns (total 12 columns):\n",
      " #   Column         Non-Null Count   Dtype  \n",
      "---  ------         --------------   -----  \n",
      " 0   timestamp      914057 non-null  int64  \n",
      " 1   visitorid      914057 non-null  int64  \n",
      " 2   event          914057 non-null  object \n",
      " 3   itemid         914057 non-null  int64  \n",
      " 4   transactionid  22457 non-null   float64\n",
      " 5   date           914057 non-null  object \n",
      " 6   hour           914057 non-null  int8   \n",
      " 7   month          914057 non-null  int8   \n",
      " 8   doy            914057 non-null  int32  \n",
      " 9   weekofyear     914057 non-null  int8   \n",
      " 10  dow            914057 non-null  int8   \n",
      " 11  eventid        914057 non-null  int8   \n",
      "dtypes: float64(1), int32(1), int64(3), int8(5), object(2)\n",
      "memory usage: 56.7+ MB\n"
     ]
    }
   ],
   "source": [
    "df.info()"
   ]
  },
  {
   "cell_type": "markdown",
   "id": "157989bf",
   "metadata": {},
   "source": [
    "**Properties**"
   ]
  },
  {
   "cell_type": "code",
   "execution_count": 216,
   "id": "28e37659",
   "metadata": {},
   "outputs": [
    {
     "name": "stdout",
     "output_type": "stream",
     "text": [
      "<class 'pandas.core.frame.DataFrame'>\n",
      "RangeIndex: 10999999 entries, 0 to 10999998\n",
      "Data columns (total 4 columns):\n",
      " #   Column     Dtype \n",
      "---  ------     ----- \n",
      " 0   timestamp  int64 \n",
      " 1   itemid     int64 \n",
      " 2   property   object\n",
      " 3   value      object\n",
      "dtypes: int64(2), object(2)\n",
      "memory usage: 335.7+ MB\n"
     ]
    }
   ],
   "source": [
    "items1.info()"
   ]
  },
  {
   "cell_type": "code",
   "execution_count": 217,
   "id": "b26ca6bd",
   "metadata": {},
   "outputs": [
    {
     "name": "stdout",
     "output_type": "stream",
     "text": [
      "<class 'pandas.core.frame.DataFrame'>\n",
      "RangeIndex: 9275903 entries, 0 to 9275902\n",
      "Data columns (total 4 columns):\n",
      " #   Column     Dtype \n",
      "---  ------     ----- \n",
      " 0   timestamp  int64 \n",
      " 1   itemid     int64 \n",
      " 2   property   object\n",
      " 3   value      object\n",
      "dtypes: int64(2), object(2)\n",
      "memory usage: 283.1+ MB\n"
     ]
    }
   ],
   "source": [
    "items2.info()"
   ]
  },
  {
   "cell_type": "code",
   "execution_count": 218,
   "id": "402f48b7",
   "metadata": {},
   "outputs": [
    {
     "data": {
      "text/plain": [
       "(18, 417053, 1097)"
      ]
     },
     "execution_count": 218,
     "metadata": {},
     "output_type": "execute_result"
    }
   ],
   "source": [
    "items1.timestamp.nunique(),items1.itemid.nunique(),items1.property.nunique()"
   ]
  },
  {
   "cell_type": "code",
   "execution_count": 219,
   "id": "32886c00",
   "metadata": {},
   "outputs": [
    {
     "data": {
      "text/plain": [
       "(18, 417053, 1094)"
      ]
     },
     "execution_count": 219,
     "metadata": {},
     "output_type": "execute_result"
    }
   ],
   "source": [
    "items2.timestamp.nunique(),items2.itemid.nunique(),items2.property.nunique()"
   ]
  },
  {
   "cell_type": "code",
   "execution_count": 220,
   "id": "e634899d",
   "metadata": {},
   "outputs": [],
   "source": [
    "#Объединяем свойства в один датасет:\n",
    "properties = pd.concat([items1,items2])"
   ]
  },
  {
   "cell_type": "code",
   "execution_count": 221,
   "id": "d5b397ad",
   "metadata": {},
   "outputs": [
    {
     "data": {
      "text/html": [
       "<div>\n",
       "<style scoped>\n",
       "    .dataframe tbody tr th:only-of-type {\n",
       "        vertical-align: middle;\n",
       "    }\n",
       "\n",
       "    .dataframe tbody tr th {\n",
       "        vertical-align: top;\n",
       "    }\n",
       "\n",
       "    .dataframe thead th {\n",
       "        text-align: right;\n",
       "    }\n",
       "</style>\n",
       "<table border=\"1\" class=\"dataframe\">\n",
       "  <thead>\n",
       "    <tr style=\"text-align: right;\">\n",
       "      <th></th>\n",
       "      <th>timestamp</th>\n",
       "      <th>itemid</th>\n",
       "      <th>property</th>\n",
       "      <th>value</th>\n",
       "    </tr>\n",
       "  </thead>\n",
       "  <tbody>\n",
       "    <tr>\n",
       "      <th>0</th>\n",
       "      <td>1435460400000</td>\n",
       "      <td>460429</td>\n",
       "      <td>categoryid</td>\n",
       "      <td>1338</td>\n",
       "    </tr>\n",
       "    <tr>\n",
       "      <th>1</th>\n",
       "      <td>1441508400000</td>\n",
       "      <td>206783</td>\n",
       "      <td>888</td>\n",
       "      <td>1116713 960601 n277.200</td>\n",
       "    </tr>\n",
       "    <tr>\n",
       "      <th>2</th>\n",
       "      <td>1439089200000</td>\n",
       "      <td>395014</td>\n",
       "      <td>400</td>\n",
       "      <td>n552.000 639502 n720.000 424566</td>\n",
       "    </tr>\n",
       "    <tr>\n",
       "      <th>3</th>\n",
       "      <td>1431226800000</td>\n",
       "      <td>59481</td>\n",
       "      <td>790</td>\n",
       "      <td>n15360.000</td>\n",
       "    </tr>\n",
       "    <tr>\n",
       "      <th>4</th>\n",
       "      <td>1431831600000</td>\n",
       "      <td>156781</td>\n",
       "      <td>917</td>\n",
       "      <td>828513</td>\n",
       "    </tr>\n",
       "  </tbody>\n",
       "</table>\n",
       "</div>"
      ],
      "text/plain": [
       "       timestamp  itemid    property                            value\n",
       "0  1435460400000  460429  categoryid                             1338\n",
       "1  1441508400000  206783         888          1116713 960601 n277.200\n",
       "2  1439089200000  395014         400  n552.000 639502 n720.000 424566\n",
       "3  1431226800000   59481         790                       n15360.000\n",
       "4  1431831600000  156781         917                           828513"
      ]
     },
     "execution_count": 221,
     "metadata": {},
     "output_type": "execute_result"
    }
   ],
   "source": [
    "#Обращаем внимание, что itemid в properties - это не categoryid!!!\n",
    "properties.head(5)"
   ]
  },
  {
   "cell_type": "code",
   "execution_count": 222,
   "id": "332ab258",
   "metadata": {},
   "outputs": [
    {
     "name": "stdout",
     "output_type": "stream",
     "text": [
      "За все время только 18 раз были установлены  1104 уникальных значений свойств для 417053 товаров\n"
     ]
    }
   ],
   "source": [
    "print('За все время только {} раз были установлены  {} уникальных значений свойств для {} товаров'\\\n",
    "      .format(properties.timestamp.nunique(),properties.property.nunique(), properties.itemid.nunique()))"
   ]
  },
  {
   "cell_type": "code",
   "execution_count": 223,
   "id": "b1e2aec4",
   "metadata": {},
   "outputs": [
    {
     "name": "stdout",
     "output_type": "stream",
     "text": [
      "<class 'pandas.core.frame.DataFrame'>\n",
      "Int64Index: 20275902 entries, 0 to 9275902\n",
      "Data columns (total 4 columns):\n",
      " #   Column     Dtype \n",
      "---  ------     ----- \n",
      " 0   timestamp  int64 \n",
      " 1   itemid     int64 \n",
      " 2   property   object\n",
      " 3   value      object\n",
      "dtypes: int64(2), object(2)\n",
      "memory usage: 773.5+ MB\n"
     ]
    }
   ],
   "source": [
    "properties.info()"
   ]
  },
  {
   "cell_type": "code",
   "execution_count": 224,
   "id": "c73955ea",
   "metadata": {},
   "outputs": [],
   "source": [
    "#Сформируем датафрейм с покупаемыми товарами\n",
    "properties = properties.loc[properties.itemid.isin(ind)].copy()"
   ]
  },
  {
   "cell_type": "code",
   "execution_count": 225,
   "id": "b2d71787",
   "metadata": {},
   "outputs": [
    {
     "name": "stdout",
     "output_type": "stream",
     "text": [
      "<class 'pandas.core.frame.DataFrame'>\n",
      "Int64Index: 846698 entries, 27 to 9275901\n",
      "Data columns (total 4 columns):\n",
      " #   Column     Non-Null Count   Dtype \n",
      "---  ------     --------------   ----- \n",
      " 0   timestamp  846698 non-null  int64 \n",
      " 1   itemid     846698 non-null  int64 \n",
      " 2   property   846698 non-null  object\n",
      " 3   value      846698 non-null  object\n",
      "dtypes: int64(2), object(2)\n",
      "memory usage: 32.3+ MB\n"
     ]
    }
   ],
   "source": [
    "properties.info()"
   ]
  },
  {
   "cell_type": "code",
   "execution_count": 226,
   "id": "f083fdcc",
   "metadata": {},
   "outputs": [
    {
     "name": "stdout",
     "output_type": "stream",
     "text": [
      "За все время только 18 раз были установлены  936 уникальных значений свойств для 11645 товаров\n"
     ]
    }
   ],
   "source": [
    "print('За все время только {} раз были установлены  {} уникальных значений свойств для {} товаров'\\\n",
    "      .format(properties.timestamp.nunique(),properties.property.nunique(), properties.itemid.nunique()))"
   ]
  },
  {
   "cell_type": "code",
   "execution_count": 227,
   "id": "cedc7409",
   "metadata": {},
   "outputs": [],
   "source": [
    "# Уменьшаем размерность данных\n",
    "#properties['timestamp'] = properties['timestamp'].astype('int32')\n",
    "properties['itemid'] = properties['itemid'].astype('int32')"
   ]
  },
  {
   "cell_type": "code",
   "execution_count": 228,
   "id": "ad674706",
   "metadata": {},
   "outputs": [
    {
     "name": "stdout",
     "output_type": "stream",
     "text": [
      "<class 'pandas.core.frame.DataFrame'>\n",
      "Int64Index: 846698 entries, 27 to 9275901\n",
      "Data columns (total 4 columns):\n",
      " #   Column     Non-Null Count   Dtype \n",
      "---  ------     --------------   ----- \n",
      " 0   timestamp  846698 non-null  int64 \n",
      " 1   itemid     846698 non-null  int32 \n",
      " 2   property   846698 non-null  object\n",
      " 3   value      846698 non-null  object\n",
      "dtypes: int32(1), int64(1), object(2)\n",
      "memory usage: 29.1+ MB\n"
     ]
    }
   ],
   "source": [
    "properties.info()"
   ]
  },
  {
   "cell_type": "code",
   "execution_count": 229,
   "id": "64d8c53e",
   "metadata": {},
   "outputs": [
    {
     "data": {
      "text/plain": [
       "<AxesSubplot:>"
      ]
     },
     "execution_count": 229,
     "metadata": {},
     "output_type": "execute_result"
    },
    {
     "data": {
      "image/png": "[encoded data removed]",
      "text/plain": [
       "<Figure size 432x288 with 1 Axes>"
      ]
     },
     "metadata": {
      "needs_background": "light"
     },
     "output_type": "display_data"
    }
   ],
   "source": [
    "properties['itemid'].value_counts().hist(bins=11)"
   ]
  },
  {
   "cell_type": "code",
   "execution_count": 230,
   "id": "de3ac5db",
   "metadata": {},
   "outputs": [
    {
     "data": {
      "text/plain": [
       "790           190841\n",
       "available     144620\n",
       "888           105279\n",
       "categoryid     23809\n",
       "776            16747\n",
       "283            16507\n",
       "364            14092\n",
       "400            13623\n",
       "202            12953\n",
       "6              12805\n",
       "Name: property, dtype: int64"
      ]
     },
     "execution_count": 230,
     "metadata": {},
     "output_type": "execute_result"
    }
   ],
   "source": [
    "properties['property'].value_counts()[:10] #936 для продаваемых товаров, а не 1104"
   ]
  },
  {
   "cell_type": "code",
   "execution_count": 231,
   "id": "f356f56c",
   "metadata": {},
   "outputs": [
    {
     "data": {
      "text/plain": [
       "['790',\n",
       " 'available',\n",
       " '888',\n",
       " 'categoryid',\n",
       " '776',\n",
       " '283',\n",
       " '364',\n",
       " '400',\n",
       " '202',\n",
       " '6']"
      ]
     },
     "execution_count": 231,
     "metadata": {},
     "output_type": "execute_result"
    }
   ],
   "source": [
    "# Сформируем список наиболее важных наиболее распространенных свойств\n",
    "list_properties = properties['property'].value_counts()[:10].index.tolist()\n",
    "list_properties"
   ]
  },
  {
   "cell_type": "code",
   "execution_count": 232,
   "id": "d70407a7",
   "metadata": {},
   "outputs": [
    {
     "data": {
      "text/plain": [
       "145    n400080.000\n",
       "258    n273000.000\n",
       "264    n238800.000\n",
       "496     n22320.000\n",
       "510    n122760.000\n",
       "Name: value, dtype: object"
      ]
     },
     "execution_count": 232,
     "metadata": {},
     "output_type": "execute_result"
    }
   ],
   "source": [
    "properties[properties['property']=='790']['value'][:5]"
   ]
  },
  {
   "cell_type": "code",
   "execution_count": 233,
   "id": "c483845f",
   "metadata": {},
   "outputs": [
    {
     "data": {
      "text/plain": [
       "119    0\n",
       "296    1\n",
       "444    1\n",
       "463    1\n",
       "542    1\n",
       "Name: value, dtype: object"
      ]
     },
     "execution_count": 233,
     "metadata": {},
     "output_type": "execute_result"
    }
   ],
   "source": [
    "properties[properties['property']=='available']['value'][:5]"
   ]
  },
  {
   "cell_type": "code",
   "execution_count": 234,
   "id": "a63c4352",
   "metadata": {},
   "outputs": [
    {
     "data": {
      "text/plain": [
       "104          1333963 747375 927741 1071593 547687 199524\n",
       "139    722389 543387 679871 n180.000 1175087 n144.000...\n",
       "446                                               980463\n",
       "794                                               914786\n",
       "906                                               488331\n",
       "Name: value, dtype: object"
      ]
     },
     "execution_count": 234,
     "metadata": {},
     "output_type": "execute_result"
    }
   ],
   "source": [
    "properties[properties['property']=='888']['value'][:5]"
   ]
  },
  {
   "cell_type": "markdown",
   "id": "f1ddbd35",
   "metadata": {},
   "source": [
    "По частоте испотзования свойств мы видим первые 3( > 100000)\n",
    "\n",
    " - 790 - это числовое поле, цена\n",
    " - available - доступность товара\n",
    " - 888 - хэш"
   ]
  },
  {
   "cell_type": "code",
   "execution_count": 235,
   "id": "a3a9ec4b",
   "metadata": {},
   "outputs": [
    {
     "data": {
      "text/plain": [
       "127030                              83\n",
       "150169 727528 20836 624616 99315    53\n",
       "172002 1045165 1018845              36\n",
       "109135                              36\n",
       "888666 556040                       34\n",
       "                                    ..\n",
       "166198 46534                         1\n",
       "1326469                              1\n",
       "62410                                1\n",
       "797168                               1\n",
       "516870 n7620.000 1007509             1\n",
       "Name: value, Length: 17238, dtype: int64"
      ]
     },
     "execution_count": 235,
     "metadata": {},
     "output_type": "execute_result"
    }
   ],
   "source": [
    "#888\n",
    "prop = list_properties[2]\n",
    "properties[properties['property']==prop]['value'].value_counts()"
   ]
  },
  {
   "cell_type": "code",
   "execution_count": 236,
   "id": "4c774e92",
   "metadata": {},
   "outputs": [],
   "source": [
    "docs = properties[properties['property']==prop]['value'].value_counts()[:].index.tolist()\n",
    "#docs = [x.split(sep=' ') for x in docs]\n",
    "#docs[2]"
   ]
  },
  {
   "cell_type": "code",
   "execution_count": 237,
   "id": "8bf0657e",
   "metadata": {},
   "outputs": [],
   "source": [
    "vectorizer = TfidfVectorizer()\n",
    "X = vectorizer.fit_transform(docs)"
   ]
  },
  {
   "cell_type": "code",
   "execution_count": 238,
   "id": "e88c1585",
   "metadata": {},
   "outputs": [
    {
     "data": {
      "text/plain": [
       "<17238x14967 sparse matrix of type '<class 'numpy.float64'>'\n",
       "\twith 74337 stored elements in Compressed Sparse Row format>"
      ]
     },
     "execution_count": 238,
     "metadata": {},
     "output_type": "execute_result"
    }
   ],
   "source": [
    "X"
   ]
  },
  {
   "cell_type": "code",
   "execution_count": 239,
   "id": "38b7a4d7",
   "metadata": {},
   "outputs": [
    {
     "data": {
      "text/plain": [
       "(17238, 14967)"
      ]
     },
     "execution_count": 239,
     "metadata": {},
     "output_type": "execute_result"
    }
   ],
   "source": [
    "X.shape"
   ]
  },
  {
   "cell_type": "code",
   "execution_count": 240,
   "id": "68860e0a",
   "metadata": {},
   "outputs": [],
   "source": [
    "# Создаём KMeans кластеризатор \n",
    "kmeans = KMeans(n_clusters=8)\n",
    "\n",
    "# Обучим кластеризатор на подготовленных данных\n",
    "kmeans.fit(X)\n",
    "\n",
    "# Получаем предсказанные кластеры\n",
    "y_pred = kmeans.labels_.astype(int)\n"
   ]
  },
  {
   "cell_type": "code",
   "execution_count": 241,
   "id": "23409544",
   "metadata": {},
   "outputs": [
    {
     "data": {
      "text/plain": [
       "(17238, numpy.ndarray, scipy.sparse.csr.csr_matrix)"
      ]
     },
     "execution_count": 241,
     "metadata": {},
     "output_type": "execute_result"
    }
   ],
   "source": [
    "len(y_pred), type(y_pred),type(X)"
   ]
  },
  {
   "cell_type": "code",
   "execution_count": 242,
   "id": "69ad22c7",
   "metadata": {},
   "outputs": [],
   "source": [
    "#properties[properties['property']==prop]['value'].value_counts().index.tolist()"
   ]
  },
  {
   "cell_type": "code",
   "execution_count": 243,
   "id": "c03af0f2",
   "metadata": {},
   "outputs": [
    {
     "data": {
      "text/plain": [
       "3    12436\n",
       "1     1328\n",
       "5     1087\n",
       "4      862\n",
       "0      734\n",
       "7      373\n",
       "6      219\n",
       "2      199\n",
       "Name: 0, dtype: int64"
      ]
     },
     "execution_count": 243,
     "metadata": {},
     "output_type": "execute_result"
    }
   ],
   "source": [
    "pd.DataFrame(y_pred)[0].value_counts()"
   ]
  },
  {
   "cell_type": "code",
   "execution_count": 244,
   "id": "770ac405",
   "metadata": {},
   "outputs": [],
   "source": [
    "# Запомним результат модели в словаре с ключами со значениями исходного поля\n",
    "dict_clasters = dict(zip(docs, y_pred))"
   ]
  },
  {
   "cell_type": "code",
   "execution_count": 245,
   "id": "8399fe27",
   "metadata": {},
   "outputs": [
    {
     "data": {
      "text/plain": [
       "array(['0', '1'], dtype=object)"
      ]
     },
     "execution_count": 245,
     "metadata": {},
     "output_type": "execute_result"
    }
   ],
   "source": [
    "# Доступность товара в течение периода\n",
    "# При рекомендации товара необходимо учитывать его доступность и замену аналогом\n",
    "properties[properties['property']=='available']['value'].unique()"
   ]
  },
  {
   "cell_type": "code",
   "execution_count": 246,
   "id": "6bb0262e",
   "metadata": {},
   "outputs": [
    {
     "data": {
      "text/plain": [
       "1    90104\n",
       "0    54516\n",
       "Name: value, dtype: int64"
      ]
     },
     "execution_count": 246,
     "metadata": {},
     "output_type": "execute_result"
    }
   ],
   "source": [
    "properties[properties['property']=='available']['value'].value_counts()"
   ]
  },
  {
   "cell_type": "code",
   "execution_count": 247,
   "id": "5c15cc20",
   "metadata": {},
   "outputs": [
    {
     "name": "stdout",
     "output_type": "stream",
     "text": [
      "751 значения categoryid из 1669 используются в properties\n"
     ]
    }
   ],
   "source": [
    "print('{} значения categoryid из {} используются в properties'.\\\n",
    "      format(properties[properties['property']=='categoryid']['value'].nunique(),\\\n",
    "            category.categoryid.nunique()))"
   ]
  },
  {
   "cell_type": "code",
   "execution_count": 248,
   "id": "7e7accab",
   "metadata": {},
   "outputs": [],
   "source": [
    "# Получим признаки из даты\n",
    "features_from_data(properties, 'timestamp')\n",
    "properties = properties.drop(columns='timestamp')"
   ]
  },
  {
   "cell_type": "code",
   "execution_count": 249,
   "id": "1cd2581f",
   "metadata": {},
   "outputs": [
    {
     "data": {
      "text/plain": [
       "(3    846698\n",
       " Name: hour, dtype: int64,\n",
       " 6    846698\n",
       " Name: dow, dtype: int64)"
      ]
     },
     "execution_count": 249,
     "metadata": {},
     "output_type": "execute_result"
    }
   ],
   "source": [
    "# Поскольку значение одно колонку можно удалить\n",
    "#properties['year'].value_counts()\n",
    "#2015\n",
    "# Рассмотрим уникальность hour & dow\n",
    "properties['hour'].value_counts(), properties['dow'].value_counts()"
   ]
  },
  {
   "cell_type": "markdown",
   "id": "1f372a02",
   "metadata": {},
   "source": [
    "Можно сделать вывод, что установка свойств, а особенно важного для нас свойства, как цена,\n",
    "происходит в 6-ой день недели (воскресенье) в 3 часа. Т.е свойства задаются 1 раз в конце недели и действуют в течение следующей недели (weekofyear). Поскольку год только 2015, weekofyear будет однозначно определять уникальные признаки продаваемого товара в течение недели."
   ]
  },
  {
   "cell_type": "code",
   "execution_count": 250,
   "id": "99b86b36",
   "metadata": {},
   "outputs": [
    {
     "data": {
      "text/html": [
       "<div>\n",
       "<style scoped>\n",
       "    .dataframe tbody tr th:only-of-type {\n",
       "        vertical-align: middle;\n",
       "    }\n",
       "\n",
       "    .dataframe tbody tr th {\n",
       "        vertical-align: top;\n",
       "    }\n",
       "\n",
       "    .dataframe thead th {\n",
       "        text-align: right;\n",
       "    }\n",
       "</style>\n",
       "<table border=\"1\" class=\"dataframe\">\n",
       "  <thead>\n",
       "    <tr style=\"text-align: right;\">\n",
       "      <th></th>\n",
       "      <th>Тип</th>\n",
       "      <th>Общ.кол</th>\n",
       "      <th>% пропусков</th>\n",
       "      <th>Кол-во уник.значений</th>\n",
       "    </tr>\n",
       "  </thead>\n",
       "  <tbody>\n",
       "    <tr>\n",
       "      <th>date</th>\n",
       "      <td>object</td>\n",
       "      <td>846698</td>\n",
       "      <td>0.0</td>\n",
       "      <td>18</td>\n",
       "    </tr>\n",
       "    <tr>\n",
       "      <th>dow</th>\n",
       "      <td>int8</td>\n",
       "      <td>846698</td>\n",
       "      <td>0.0</td>\n",
       "      <td>1</td>\n",
       "    </tr>\n",
       "    <tr>\n",
       "      <th>doy</th>\n",
       "      <td>int32</td>\n",
       "      <td>846698</td>\n",
       "      <td>0.0</td>\n",
       "      <td>18</td>\n",
       "    </tr>\n",
       "    <tr>\n",
       "      <th>hour</th>\n",
       "      <td>int8</td>\n",
       "      <td>846698</td>\n",
       "      <td>0.0</td>\n",
       "      <td>1</td>\n",
       "    </tr>\n",
       "    <tr>\n",
       "      <th>itemid</th>\n",
       "      <td>int32</td>\n",
       "      <td>846698</td>\n",
       "      <td>0.0</td>\n",
       "      <td>11645</td>\n",
       "    </tr>\n",
       "    <tr>\n",
       "      <th>month</th>\n",
       "      <td>int8</td>\n",
       "      <td>846698</td>\n",
       "      <td>0.0</td>\n",
       "      <td>5</td>\n",
       "    </tr>\n",
       "    <tr>\n",
       "      <th>property</th>\n",
       "      <td>object</td>\n",
       "      <td>846698</td>\n",
       "      <td>0.0</td>\n",
       "      <td>936</td>\n",
       "    </tr>\n",
       "    <tr>\n",
       "      <th>value</th>\n",
       "      <td>object</td>\n",
       "      <td>846698</td>\n",
       "      <td>0.0</td>\n",
       "      <td>81051</td>\n",
       "    </tr>\n",
       "    <tr>\n",
       "      <th>weekofyear</th>\n",
       "      <td>int8</td>\n",
       "      <td>846698</td>\n",
       "      <td>0.0</td>\n",
       "      <td>18</td>\n",
       "    </tr>\n",
       "  </tbody>\n",
       "</table>\n",
       "</div>"
      ],
      "text/plain": [
       "               Тип  Общ.кол  % пропусков  Кол-во уник.значений\n",
       "date        object   846698          0.0                    18\n",
       "dow           int8   846698          0.0                     1\n",
       "doy          int32   846698          0.0                    18\n",
       "hour          int8   846698          0.0                     1\n",
       "itemid       int32   846698          0.0                 11645\n",
       "month         int8   846698          0.0                     5\n",
       "property    object   846698          0.0                   936\n",
       "value       object   846698          0.0                 81051\n",
       "weekofyear    int8   846698          0.0                    18"
      ]
     },
     "metadata": {},
     "output_type": "display_data"
    }
   ],
   "source": [
    "display_data(properties)"
   ]
  },
  {
   "cell_type": "code",
   "execution_count": 251,
   "id": "fcfb370c",
   "metadata": {},
   "outputs": [],
   "source": [
    "features_from_data(df, 'timestamp')\n",
    "#Удаляем признак \n",
    "df = df.drop(columns='timestamp')"
   ]
  },
  {
   "cell_type": "code",
   "execution_count": 252,
   "id": "c4e8c096",
   "metadata": {},
   "outputs": [],
   "source": [
    "# Заменим неопределенные значения 'transactionid' \n",
    "df['transactionid'].fillna(-1, inplace=True)"
   ]
  },
  {
   "cell_type": "code",
   "execution_count": 253,
   "id": "c7ace8a0",
   "metadata": {},
   "outputs": [],
   "source": [
    "for col in ['visitorid', 'itemid', 'transactionid']:\n",
    "    df[col] = df[col].astype('int32')"
   ]
  },
  {
   "cell_type": "code",
   "execution_count": 254,
   "id": "c2bc4a9e",
   "metadata": {},
   "outputs": [
    {
     "name": "stdout",
     "output_type": "stream",
     "text": [
      "<class 'pandas.core.frame.DataFrame'>\n",
      "Int64Index: 914057 entries, 1 to 2756098\n",
      "Data columns (total 11 columns):\n",
      " #   Column         Non-Null Count   Dtype \n",
      "---  ------         --------------   ----- \n",
      " 0   visitorid      914057 non-null  int32 \n",
      " 1   event          914057 non-null  object\n",
      " 2   itemid         914057 non-null  int32 \n",
      " 3   transactionid  914057 non-null  int32 \n",
      " 4   date           914057 non-null  object\n",
      " 5   hour           914057 non-null  int8  \n",
      " 6   month          914057 non-null  int8  \n",
      " 7   doy            914057 non-null  int32 \n",
      " 8   weekofyear     914057 non-null  int8  \n",
      " 9   dow            914057 non-null  int8  \n",
      " 10  eventid        914057 non-null  int8  \n",
      "dtypes: int32(4), int8(5), object(2)\n",
      "memory usage: 39.2+ MB\n"
     ]
    }
   ],
   "source": [
    "df.info()"
   ]
  },
  {
   "cell_type": "code",
   "execution_count": 255,
   "id": "f5e5f843",
   "metadata": {},
   "outputs": [],
   "source": [
    "#df[df.visitorid==121688]"
   ]
  },
  {
   "cell_type": "code",
   "execution_count": 256,
   "id": "fd72d6d0",
   "metadata": {},
   "outputs": [],
   "source": [
    "# Количество позиций в чеке\n",
    "dict_check = df.groupby(df['transactionid'])['transactionid'].count().to_dict()\n",
    "df['transactionq'] = df['transactionid'].apply(lambda x: dict_check[x] if x>0 else 0)\n",
    "df['transactionq'] = df['transactionq'].astype('int16')"
   ]
  },
  {
   "cell_type": "code",
   "execution_count": 257,
   "id": "2b37f921",
   "metadata": {
    "scrolled": true
   },
   "outputs": [
    {
     "data": {
      "text/plain": [
       "<AxesSubplot:>"
      ]
     },
     "execution_count": 257,
     "metadata": {},
     "output_type": "execute_result"
    },
    {
     "data": {
      "image/png": "[encoded data removed]",
      "text/plain": [
       "<Figure size 432x288 with 1 Axes>"
      ]
     },
     "metadata": {
      "needs_background": "light"
     },
     "output_type": "display_data"
    }
   ],
   "source": [
    "df[df['transactionq']>1]['transactionq'].hist(bins=100)"
   ]
  },
  {
   "cell_type": "code",
   "execution_count": 258,
   "id": "56d6d24b",
   "metadata": {},
   "outputs": [],
   "source": [
    "#df[df.visitorid==121688]"
   ]
  },
  {
   "cell_type": "code",
   "execution_count": 259,
   "id": "5ec369d0",
   "metadata": {},
   "outputs": [],
   "source": [
    "# Корректировка weekofyear для 6-го дня после 3-часов: установка свойств на следующую неделю\n",
    "df['weekofyear'] = np.where((df['dow']==6)&(df['hour']>2),df['weekofyear']+1,df['weekofyear'])\n",
    "\n",
    "# Присоединим цену\n",
    "new_df = create_df_feature('790', 'int32') #price\n",
    "\n",
    "df = pd.merge(df, new_df, on=['itemid', 'weekofyear'], how='left')\n",
    "df.rename(columns = {'value': 'price'},  inplace=True)"
   ]
  },
  {
   "cell_type": "code",
   "execution_count": 260,
   "id": "a8aca9da",
   "metadata": {},
   "outputs": [],
   "source": [
    "# Сумма покупки в транзакции нормированная:\n",
    "dict_check = df.groupby(df['transactionid'])['price'].sum().to_dict()\n",
    "df['summa'] = df['transactionid'].apply(lambda x: dict_check[x] if x>0 else 0)\n",
    "_diff = np.max(df['summa'])-np.min(df['summa'])\n",
    "df['summa_norm'] = np.where(_diff>0, df['summa']/_diff, 0).round(2)"
   ]
  },
  {
   "cell_type": "code",
   "execution_count": 261,
   "id": "8487f3fe",
   "metadata": {},
   "outputs": [],
   "source": [
    "# Признак доступности товара \n",
    "new_df = create_df_feature('available', 'int8') #available\n",
    "\n",
    "df = pd.merge(df, new_df, on=['itemid', 'weekofyear'], how='left')\n",
    "df.rename(columns = {'value': 'available'},  inplace=True)"
   ]
  },
  {
   "cell_type": "code",
   "execution_count": 262,
   "id": "4dc99ad3",
   "metadata": {},
   "outputs": [],
   "source": [
    "# Категория товара\n",
    "new_df = create_df_feature('categoryid', 'int16') #available\n",
    "\n",
    "df = pd.merge(df, new_df, on=['itemid', 'weekofyear'], how='left')\n",
    "df.rename(columns = {'value': 'categoryid'},  inplace=True)\n"
   ]
  },
  {
   "cell_type": "code",
   "execution_count": 263,
   "id": "16c67def",
   "metadata": {},
   "outputs": [
    {
     "data": {
      "text/html": [
       "<div>\n",
       "<style scoped>\n",
       "    .dataframe tbody tr th:only-of-type {\n",
       "        vertical-align: middle;\n",
       "    }\n",
       "\n",
       "    .dataframe tbody tr th {\n",
       "        vertical-align: top;\n",
       "    }\n",
       "\n",
       "    .dataframe thead th {\n",
       "        text-align: right;\n",
       "    }\n",
       "</style>\n",
       "<table border=\"1\" class=\"dataframe\">\n",
       "  <thead>\n",
       "    <tr style=\"text-align: right;\">\n",
       "      <th></th>\n",
       "      <th>visitorid</th>\n",
       "      <th>event</th>\n",
       "      <th>itemid</th>\n",
       "      <th>transactionid</th>\n",
       "      <th>date</th>\n",
       "      <th>hour</th>\n",
       "      <th>month</th>\n",
       "      <th>doy</th>\n",
       "      <th>weekofyear</th>\n",
       "      <th>dow</th>\n",
       "      <th>eventid</th>\n",
       "      <th>transactionq</th>\n",
       "      <th>price</th>\n",
       "      <th>summa</th>\n",
       "      <th>summa_norm</th>\n",
       "      <th>available</th>\n",
       "      <th>categoryid</th>\n",
       "    </tr>\n",
       "  </thead>\n",
       "  <tbody>\n",
       "    <tr>\n",
       "      <th>0</th>\n",
       "      <td>992329</td>\n",
       "      <td>view</td>\n",
       "      <td>248676</td>\n",
       "      <td>-1</td>\n",
       "      <td>2015-06-02</td>\n",
       "      <td>5</td>\n",
       "      <td>6</td>\n",
       "      <td>153</td>\n",
       "      <td>23</td>\n",
       "      <td>1</td>\n",
       "      <td>0</td>\n",
       "      <td>0</td>\n",
       "      <td>19800.0</td>\n",
       "      <td>0.0</td>\n",
       "      <td>0.0</td>\n",
       "      <td>NaN</td>\n",
       "      <td>NaN</td>\n",
       "    </tr>\n",
       "    <tr>\n",
       "      <th>1</th>\n",
       "      <td>951259</td>\n",
       "      <td>view</td>\n",
       "      <td>367447</td>\n",
       "      <td>-1</td>\n",
       "      <td>2015-06-02</td>\n",
       "      <td>5</td>\n",
       "      <td>6</td>\n",
       "      <td>153</td>\n",
       "      <td>23</td>\n",
       "      <td>1</td>\n",
       "      <td>0</td>\n",
       "      <td>0</td>\n",
       "      <td>443880.0</td>\n",
       "      <td>0.0</td>\n",
       "      <td>0.0</td>\n",
       "      <td>1.0</td>\n",
       "      <td>1613.0</td>\n",
       "    </tr>\n",
       "    <tr>\n",
       "      <th>2</th>\n",
       "      <td>810725</td>\n",
       "      <td>view</td>\n",
       "      <td>443030</td>\n",
       "      <td>-1</td>\n",
       "      <td>2015-06-02</td>\n",
       "      <td>5</td>\n",
       "      <td>6</td>\n",
       "      <td>153</td>\n",
       "      <td>23</td>\n",
       "      <td>1</td>\n",
       "      <td>0</td>\n",
       "      <td>0</td>\n",
       "      <td>28800.0</td>\n",
       "      <td>0.0</td>\n",
       "      <td>0.0</td>\n",
       "      <td>NaN</td>\n",
       "      <td>NaN</td>\n",
       "    </tr>\n",
       "    <tr>\n",
       "      <th>3</th>\n",
       "      <td>794181</td>\n",
       "      <td>view</td>\n",
       "      <td>439202</td>\n",
       "      <td>-1</td>\n",
       "      <td>2015-06-02</td>\n",
       "      <td>5</td>\n",
       "      <td>6</td>\n",
       "      <td>153</td>\n",
       "      <td>23</td>\n",
       "      <td>1</td>\n",
       "      <td>0</td>\n",
       "      <td>0</td>\n",
       "      <td>23160.0</td>\n",
       "      <td>0.0</td>\n",
       "      <td>0.0</td>\n",
       "      <td>NaN</td>\n",
       "      <td>NaN</td>\n",
       "    </tr>\n",
       "    <tr>\n",
       "      <th>4</th>\n",
       "      <td>176446</td>\n",
       "      <td>view</td>\n",
       "      <td>10572</td>\n",
       "      <td>-1</td>\n",
       "      <td>2015-06-02</td>\n",
       "      <td>5</td>\n",
       "      <td>6</td>\n",
       "      <td>153</td>\n",
       "      <td>23</td>\n",
       "      <td>1</td>\n",
       "      <td>0</td>\n",
       "      <td>0</td>\n",
       "      <td>9180.0</td>\n",
       "      <td>0.0</td>\n",
       "      <td>0.0</td>\n",
       "      <td>1.0</td>\n",
       "      <td>NaN</td>\n",
       "    </tr>\n",
       "    <tr>\n",
       "      <th>...</th>\n",
       "      <td>...</td>\n",
       "      <td>...</td>\n",
       "      <td>...</td>\n",
       "      <td>...</td>\n",
       "      <td>...</td>\n",
       "      <td>...</td>\n",
       "      <td>...</td>\n",
       "      <td>...</td>\n",
       "      <td>...</td>\n",
       "      <td>...</td>\n",
       "      <td>...</td>\n",
       "      <td>...</td>\n",
       "      <td>...</td>\n",
       "      <td>...</td>\n",
       "      <td>...</td>\n",
       "      <td>...</td>\n",
       "      <td>...</td>\n",
       "    </tr>\n",
       "    <tr>\n",
       "      <th>914052</th>\n",
       "      <td>887677</td>\n",
       "      <td>view</td>\n",
       "      <td>415160</td>\n",
       "      <td>-1</td>\n",
       "      <td>2015-08-01</td>\n",
       "      <td>3</td>\n",
       "      <td>8</td>\n",
       "      <td>213</td>\n",
       "      <td>31</td>\n",
       "      <td>5</td>\n",
       "      <td>0</td>\n",
       "      <td>0</td>\n",
       "      <td>111480.0</td>\n",
       "      <td>0.0</td>\n",
       "      <td>0.0</td>\n",
       "      <td>1.0</td>\n",
       "      <td>NaN</td>\n",
       "    </tr>\n",
       "    <tr>\n",
       "      <th>914053</th>\n",
       "      <td>611270</td>\n",
       "      <td>view</td>\n",
       "      <td>432925</td>\n",
       "      <td>-1</td>\n",
       "      <td>2015-08-01</td>\n",
       "      <td>2</td>\n",
       "      <td>8</td>\n",
       "      <td>213</td>\n",
       "      <td>31</td>\n",
       "      <td>5</td>\n",
       "      <td>0</td>\n",
       "      <td>0</td>\n",
       "      <td>45000.0</td>\n",
       "      <td>0.0</td>\n",
       "      <td>0.0</td>\n",
       "      <td>0.0</td>\n",
       "      <td>NaN</td>\n",
       "    </tr>\n",
       "    <tr>\n",
       "      <th>914054</th>\n",
       "      <td>831605</td>\n",
       "      <td>view</td>\n",
       "      <td>57810</td>\n",
       "      <td>-1</td>\n",
       "      <td>2015-08-01</td>\n",
       "      <td>3</td>\n",
       "      <td>8</td>\n",
       "      <td>213</td>\n",
       "      <td>31</td>\n",
       "      <td>5</td>\n",
       "      <td>0</td>\n",
       "      <td>0</td>\n",
       "      <td>72240.0</td>\n",
       "      <td>0.0</td>\n",
       "      <td>0.0</td>\n",
       "      <td>1.0</td>\n",
       "      <td>NaN</td>\n",
       "    </tr>\n",
       "    <tr>\n",
       "      <th>914055</th>\n",
       "      <td>804736</td>\n",
       "      <td>addtocart</td>\n",
       "      <td>346534</td>\n",
       "      <td>-1</td>\n",
       "      <td>2015-08-01</td>\n",
       "      <td>3</td>\n",
       "      <td>8</td>\n",
       "      <td>213</td>\n",
       "      <td>31</td>\n",
       "      <td>5</td>\n",
       "      <td>1</td>\n",
       "      <td>0</td>\n",
       "      <td>95400.0</td>\n",
       "      <td>0.0</td>\n",
       "      <td>0.0</td>\n",
       "      <td>1.0</td>\n",
       "      <td>NaN</td>\n",
       "    </tr>\n",
       "    <tr>\n",
       "      <th>914056</th>\n",
       "      <td>1251746</td>\n",
       "      <td>view</td>\n",
       "      <td>78144</td>\n",
       "      <td>-1</td>\n",
       "      <td>2015-08-01</td>\n",
       "      <td>2</td>\n",
       "      <td>8</td>\n",
       "      <td>213</td>\n",
       "      <td>31</td>\n",
       "      <td>5</td>\n",
       "      <td>0</td>\n",
       "      <td>0</td>\n",
       "      <td>14760.0</td>\n",
       "      <td>0.0</td>\n",
       "      <td>0.0</td>\n",
       "      <td>1.0</td>\n",
       "      <td>NaN</td>\n",
       "    </tr>\n",
       "  </tbody>\n",
       "</table>\n",
       "<p>914057 rows × 17 columns</p>\n",
       "</div>"
      ],
      "text/plain": [
       "        visitorid      event  itemid  transactionid        date  hour  month  \\\n",
       "0          992329       view  248676             -1  2015-06-02     5      6   \n",
       "1          951259       view  367447             -1  2015-06-02     5      6   \n",
       "2          810725       view  443030             -1  2015-06-02     5      6   \n",
       "3          794181       view  439202             -1  2015-06-02     5      6   \n",
       "4          176446       view   10572             -1  2015-06-02     5      6   \n",
       "...           ...        ...     ...            ...         ...   ...    ...   \n",
       "914052     887677       view  415160             -1  2015-08-01     3      8   \n",
       "914053     611270       view  432925             -1  2015-08-01     2      8   \n",
       "914054     831605       view   57810             -1  2015-08-01     3      8   \n",
       "914055     804736  addtocart  346534             -1  2015-08-01     3      8   \n",
       "914056    1251746       view   78144             -1  2015-08-01     2      8   \n",
       "\n",
       "        doy  weekofyear  dow  eventid  transactionq     price  summa  \\\n",
       "0       153          23    1        0             0   19800.0    0.0   \n",
       "1       153          23    1        0             0  443880.0    0.0   \n",
       "2       153          23    1        0             0   28800.0    0.0   \n",
       "3       153          23    1        0             0   23160.0    0.0   \n",
       "4       153          23    1        0             0    9180.0    0.0   \n",
       "...     ...         ...  ...      ...           ...       ...    ...   \n",
       "914052  213          31    5        0             0  111480.0    0.0   \n",
       "914053  213          31    5        0             0   45000.0    0.0   \n",
       "914054  213          31    5        0             0   72240.0    0.0   \n",
       "914055  213          31    5        1             0   95400.0    0.0   \n",
       "914056  213          31    5        0             0   14760.0    0.0   \n",
       "\n",
       "        summa_norm  available  categoryid  \n",
       "0              0.0        NaN         NaN  \n",
       "1              0.0        1.0      1613.0  \n",
       "2              0.0        NaN         NaN  \n",
       "3              0.0        NaN         NaN  \n",
       "4              0.0        1.0         NaN  \n",
       "...            ...        ...         ...  \n",
       "914052         0.0        1.0         NaN  \n",
       "914053         0.0        0.0         NaN  \n",
       "914054         0.0        1.0         NaN  \n",
       "914055         0.0        1.0         NaN  \n",
       "914056         0.0        1.0         NaN  \n",
       "\n",
       "[914057 rows x 17 columns]"
      ]
     },
     "execution_count": 263,
     "metadata": {},
     "output_type": "execute_result"
    }
   ],
   "source": [
    "df"
   ]
  },
  {
   "cell_type": "code",
   "execution_count": 264,
   "id": "9acbc2e1",
   "metadata": {},
   "outputs": [
    {
     "data": {
      "text/html": [
       "<div>\n",
       "<style scoped>\n",
       "    .dataframe tbody tr th:only-of-type {\n",
       "        vertical-align: middle;\n",
       "    }\n",
       "\n",
       "    .dataframe tbody tr th {\n",
       "        vertical-align: top;\n",
       "    }\n",
       "\n",
       "    .dataframe thead th {\n",
       "        text-align: right;\n",
       "    }\n",
       "</style>\n",
       "<table border=\"1\" class=\"dataframe\">\n",
       "  <thead>\n",
       "    <tr style=\"text-align: right;\">\n",
       "      <th></th>\n",
       "      <th>Тип</th>\n",
       "      <th>Общ.кол</th>\n",
       "      <th>% пропусков</th>\n",
       "      <th>Кол-во уник.значений</th>\n",
       "    </tr>\n",
       "  </thead>\n",
       "  <tbody>\n",
       "    <tr>\n",
       "      <th>available</th>\n",
       "      <td>float64</td>\n",
       "      <td>914057</td>\n",
       "      <td>39.54</td>\n",
       "      <td>2</td>\n",
       "    </tr>\n",
       "    <tr>\n",
       "      <th>categoryid</th>\n",
       "      <td>float64</td>\n",
       "      <td>914057</td>\n",
       "      <td>88.50</td>\n",
       "      <td>685</td>\n",
       "    </tr>\n",
       "    <tr>\n",
       "      <th>date</th>\n",
       "      <td>object</td>\n",
       "      <td>914057</td>\n",
       "      <td>0.00</td>\n",
       "      <td>139</td>\n",
       "    </tr>\n",
       "    <tr>\n",
       "      <th>dow</th>\n",
       "      <td>int8</td>\n",
       "      <td>914057</td>\n",
       "      <td>0.00</td>\n",
       "      <td>7</td>\n",
       "    </tr>\n",
       "    <tr>\n",
       "      <th>doy</th>\n",
       "      <td>int32</td>\n",
       "      <td>914057</td>\n",
       "      <td>0.00</td>\n",
       "      <td>139</td>\n",
       "    </tr>\n",
       "    <tr>\n",
       "      <th>event</th>\n",
       "      <td>object</td>\n",
       "      <td>914057</td>\n",
       "      <td>0.00</td>\n",
       "      <td>3</td>\n",
       "    </tr>\n",
       "    <tr>\n",
       "      <th>eventid</th>\n",
       "      <td>int8</td>\n",
       "      <td>914057</td>\n",
       "      <td>0.00</td>\n",
       "      <td>3</td>\n",
       "    </tr>\n",
       "    <tr>\n",
       "      <th>hour</th>\n",
       "      <td>int8</td>\n",
       "      <td>914057</td>\n",
       "      <td>0.00</td>\n",
       "      <td>24</td>\n",
       "    </tr>\n",
       "    <tr>\n",
       "      <th>itemid</th>\n",
       "      <td>int32</td>\n",
       "      <td>914057</td>\n",
       "      <td>0.00</td>\n",
       "      <td>12025</td>\n",
       "    </tr>\n",
       "    <tr>\n",
       "      <th>month</th>\n",
       "      <td>int8</td>\n",
       "      <td>914057</td>\n",
       "      <td>0.00</td>\n",
       "      <td>5</td>\n",
       "    </tr>\n",
       "    <tr>\n",
       "      <th>price</th>\n",
       "      <td>float64</td>\n",
       "      <td>914057</td>\n",
       "      <td>15.72</td>\n",
       "      <td>7081</td>\n",
       "    </tr>\n",
       "    <tr>\n",
       "      <th>summa</th>\n",
       "      <td>float64</td>\n",
       "      <td>914057</td>\n",
       "      <td>0.00</td>\n",
       "      <td>3756</td>\n",
       "    </tr>\n",
       "    <tr>\n",
       "      <th>summa_norm</th>\n",
       "      <td>float64</td>\n",
       "      <td>914057</td>\n",
       "      <td>0.00</td>\n",
       "      <td>31</td>\n",
       "    </tr>\n",
       "    <tr>\n",
       "      <th>transactionid</th>\n",
       "      <td>int32</td>\n",
       "      <td>914057</td>\n",
       "      <td>0.00</td>\n",
       "      <td>17673</td>\n",
       "    </tr>\n",
       "    <tr>\n",
       "      <th>transactionq</th>\n",
       "      <td>int16</td>\n",
       "      <td>914057</td>\n",
       "      <td>0.00</td>\n",
       "      <td>24</td>\n",
       "    </tr>\n",
       "    <tr>\n",
       "      <th>visitorid</th>\n",
       "      <td>int32</td>\n",
       "      <td>914057</td>\n",
       "      <td>0.00</td>\n",
       "      <td>409322</td>\n",
       "    </tr>\n",
       "    <tr>\n",
       "      <th>weekofyear</th>\n",
       "      <td>int8</td>\n",
       "      <td>914057</td>\n",
       "      <td>0.00</td>\n",
       "      <td>20</td>\n",
       "    </tr>\n",
       "  </tbody>\n",
       "</table>\n",
       "</div>"
      ],
      "text/plain": [
       "                   Тип  Общ.кол  % пропусков  Кол-во уник.значений\n",
       "available      float64   914057        39.54                     2\n",
       "categoryid     float64   914057        88.50                   685\n",
       "date            object   914057         0.00                   139\n",
       "dow               int8   914057         0.00                     7\n",
       "doy              int32   914057         0.00                   139\n",
       "event           object   914057         0.00                     3\n",
       "eventid           int8   914057         0.00                     3\n",
       "hour              int8   914057         0.00                    24\n",
       "itemid           int32   914057         0.00                 12025\n",
       "month             int8   914057         0.00                     5\n",
       "price          float64   914057        15.72                  7081\n",
       "summa          float64   914057         0.00                  3756\n",
       "summa_norm     float64   914057         0.00                    31\n",
       "transactionid    int32   914057         0.00                 17673\n",
       "transactionq     int16   914057         0.00                    24\n",
       "visitorid        int32   914057         0.00                409322\n",
       "weekofyear        int8   914057         0.00                    20"
      ]
     },
     "metadata": {},
     "output_type": "display_data"
    }
   ],
   "source": [
    "display_data(df)"
   ]
  },
  {
   "cell_type": "code",
   "execution_count": 265,
   "id": "0d5b272e",
   "metadata": {},
   "outputs": [],
   "source": [
    "df['categoryid'].fillna(0, inplace=True)\n",
    "df['available'].fillna(2, inplace=True)\n",
    "df['price'].fillna(0, inplace=True)"
   ]
  },
  {
   "cell_type": "code",
   "execution_count": 266,
   "id": "864d96cd",
   "metadata": {},
   "outputs": [],
   "source": [
    "# Свойство888\n",
    "new_df = create_df_feature('888', 'str') #available\n",
    "\n",
    "df = pd.merge(df, new_df, on=['itemid', 'weekofyear'], how='left')\n",
    "df.rename(columns = {'value': 'prop888'},  inplace=True)\n"
   ]
  },
  {
   "cell_type": "code",
   "execution_count": 267,
   "id": "20961067",
   "metadata": {},
   "outputs": [
    {
     "data": {
      "text/html": [
       "<div>\n",
       "<style scoped>\n",
       "    .dataframe tbody tr th:only-of-type {\n",
       "        vertical-align: middle;\n",
       "    }\n",
       "\n",
       "    .dataframe tbody tr th {\n",
       "        vertical-align: top;\n",
       "    }\n",
       "\n",
       "    .dataframe thead th {\n",
       "        text-align: right;\n",
       "    }\n",
       "</style>\n",
       "<table border=\"1\" class=\"dataframe\">\n",
       "  <thead>\n",
       "    <tr style=\"text-align: right;\">\n",
       "      <th></th>\n",
       "      <th>Тип</th>\n",
       "      <th>Общ.кол</th>\n",
       "      <th>% пропусков</th>\n",
       "      <th>Кол-во уник.значений</th>\n",
       "    </tr>\n",
       "  </thead>\n",
       "  <tbody>\n",
       "    <tr>\n",
       "      <th>available</th>\n",
       "      <td>float64</td>\n",
       "      <td>914057</td>\n",
       "      <td>0.00</td>\n",
       "      <td>3</td>\n",
       "    </tr>\n",
       "    <tr>\n",
       "      <th>categoryid</th>\n",
       "      <td>float64</td>\n",
       "      <td>914057</td>\n",
       "      <td>0.00</td>\n",
       "      <td>685</td>\n",
       "    </tr>\n",
       "    <tr>\n",
       "      <th>date</th>\n",
       "      <td>object</td>\n",
       "      <td>914057</td>\n",
       "      <td>0.00</td>\n",
       "      <td>139</td>\n",
       "    </tr>\n",
       "    <tr>\n",
       "      <th>dow</th>\n",
       "      <td>int8</td>\n",
       "      <td>914057</td>\n",
       "      <td>0.00</td>\n",
       "      <td>7</td>\n",
       "    </tr>\n",
       "    <tr>\n",
       "      <th>doy</th>\n",
       "      <td>int32</td>\n",
       "      <td>914057</td>\n",
       "      <td>0.00</td>\n",
       "      <td>139</td>\n",
       "    </tr>\n",
       "    <tr>\n",
       "      <th>event</th>\n",
       "      <td>object</td>\n",
       "      <td>914057</td>\n",
       "      <td>0.00</td>\n",
       "      <td>3</td>\n",
       "    </tr>\n",
       "    <tr>\n",
       "      <th>eventid</th>\n",
       "      <td>int8</td>\n",
       "      <td>914057</td>\n",
       "      <td>0.00</td>\n",
       "      <td>3</td>\n",
       "    </tr>\n",
       "    <tr>\n",
       "      <th>hour</th>\n",
       "      <td>int8</td>\n",
       "      <td>914057</td>\n",
       "      <td>0.00</td>\n",
       "      <td>24</td>\n",
       "    </tr>\n",
       "    <tr>\n",
       "      <th>itemid</th>\n",
       "      <td>int32</td>\n",
       "      <td>914057</td>\n",
       "      <td>0.00</td>\n",
       "      <td>12025</td>\n",
       "    </tr>\n",
       "    <tr>\n",
       "      <th>month</th>\n",
       "      <td>int8</td>\n",
       "      <td>914057</td>\n",
       "      <td>0.00</td>\n",
       "      <td>5</td>\n",
       "    </tr>\n",
       "    <tr>\n",
       "      <th>price</th>\n",
       "      <td>float64</td>\n",
       "      <td>914057</td>\n",
       "      <td>0.00</td>\n",
       "      <td>7081</td>\n",
       "    </tr>\n",
       "    <tr>\n",
       "      <th>prop888</th>\n",
       "      <td>object</td>\n",
       "      <td>914057</td>\n",
       "      <td>51.14</td>\n",
       "      <td>14148</td>\n",
       "    </tr>\n",
       "    <tr>\n",
       "      <th>summa</th>\n",
       "      <td>float64</td>\n",
       "      <td>914057</td>\n",
       "      <td>0.00</td>\n",
       "      <td>3756</td>\n",
       "    </tr>\n",
       "    <tr>\n",
       "      <th>summa_norm</th>\n",
       "      <td>float64</td>\n",
       "      <td>914057</td>\n",
       "      <td>0.00</td>\n",
       "      <td>31</td>\n",
       "    </tr>\n",
       "    <tr>\n",
       "      <th>transactionid</th>\n",
       "      <td>int32</td>\n",
       "      <td>914057</td>\n",
       "      <td>0.00</td>\n",
       "      <td>17673</td>\n",
       "    </tr>\n",
       "    <tr>\n",
       "      <th>transactionq</th>\n",
       "      <td>int16</td>\n",
       "      <td>914057</td>\n",
       "      <td>0.00</td>\n",
       "      <td>24</td>\n",
       "    </tr>\n",
       "    <tr>\n",
       "      <th>visitorid</th>\n",
       "      <td>int32</td>\n",
       "      <td>914057</td>\n",
       "      <td>0.00</td>\n",
       "      <td>409322</td>\n",
       "    </tr>\n",
       "    <tr>\n",
       "      <th>weekofyear</th>\n",
       "      <td>int8</td>\n",
       "      <td>914057</td>\n",
       "      <td>0.00</td>\n",
       "      <td>20</td>\n",
       "    </tr>\n",
       "  </tbody>\n",
       "</table>\n",
       "</div>"
      ],
      "text/plain": [
       "                   Тип  Общ.кол  % пропусков  Кол-во уник.значений\n",
       "available      float64   914057         0.00                     3\n",
       "categoryid     float64   914057         0.00                   685\n",
       "date            object   914057         0.00                   139\n",
       "dow               int8   914057         0.00                     7\n",
       "doy              int32   914057         0.00                   139\n",
       "event           object   914057         0.00                     3\n",
       "eventid           int8   914057         0.00                     3\n",
       "hour              int8   914057         0.00                    24\n",
       "itemid           int32   914057         0.00                 12025\n",
       "month             int8   914057         0.00                     5\n",
       "price          float64   914057         0.00                  7081\n",
       "prop888         object   914057        51.14                 14148\n",
       "summa          float64   914057         0.00                  3756\n",
       "summa_norm     float64   914057         0.00                    31\n",
       "transactionid    int32   914057         0.00                 17673\n",
       "transactionq     int16   914057         0.00                    24\n",
       "visitorid        int32   914057         0.00                409322\n",
       "weekofyear        int8   914057         0.00                    20"
      ]
     },
     "metadata": {},
     "output_type": "display_data"
    }
   ],
   "source": [
    "display_data(df)"
   ]
  },
  {
   "cell_type": "code",
   "execution_count": 268,
   "id": "ae9a2917",
   "metadata": {},
   "outputs": [],
   "source": [
    "# Кластеризация 888\n",
    "df['prop888'].fillna('9', inplace=True)\n",
    "dict_clasters['9'] = 9\n",
    "df['prop888'] = df['prop888'].apply(lambda x: dict_clasters[x])\n",
    "df['prop888'] = df['prop888'].astype('int16')"
   ]
  },
  {
   "cell_type": "code",
   "execution_count": null,
   "id": "41abe05e",
   "metadata": {},
   "outputs": [],
   "source": []
  },
  {
   "cell_type": "code",
   "execution_count": null,
   "id": "03486aba",
   "metadata": {},
   "outputs": [],
   "source": []
  },
  {
   "cell_type": "code",
   "execution_count": null,
   "id": "86a157ae",
   "metadata": {},
   "outputs": [],
   "source": []
  },
  {
   "cell_type": "markdown",
   "id": "0c81c898",
   "metadata": {},
   "source": [
    "# Создание датасета"
   ]
  },
  {
   "cell_type": "code",
   "execution_count": 269,
   "id": "cbf195bd",
   "metadata": {},
   "outputs": [],
   "source": [
    "def create_dataframe(df, dict_actions):\n",
    "    \n",
    "    '''\n",
    "    Формирует датасет в соответствии со словарем\n",
    "    dict_actions = {0:'view', 1:'addtocart', 2: 'transaction'}\n",
    "    по количеству совершенных действий\n",
    "    '''\n",
    "    #click\n",
    "    df0 = df[df.event==dict_actions[0]].groupby(['doy','visitorid','itemid',\\\n",
    "        'available', 'categoryid',\\\n",
    "        'dow', 'eventid', 'month', 'price', 'summa', 'transactionid', 'transactionq', 'weekofyear', 'prop888'])\\\n",
    "        .agg(\n",
    "            view = pd.NamedAgg(column = 'event', aggfunc='count'),\n",
    "            hour_view = pd.NamedAgg(column = 'hour', aggfunc='min'),\n",
    "        )\n",
    "    #df0.rename({'event':dict_actions[0]}, axis=1,inplace=True)\n",
    "    i = 1\n",
    "    \n",
    "    df0 = df0.merge(df[df.event==dict_actions[i]].groupby(['doy','visitorid','itemid',\\\n",
    "        'available', 'categoryid',\\\n",
    "        'dow', 'eventid', 'month', 'price', 'summa', 'transactionid', 'transactionq', 'weekofyear', 'prop888'])[['event']].count(),\\\n",
    "        left_on=['doy','visitorid','itemid',\\\n",
    "        'available', 'categoryid',\\\n",
    "        'dow', 'eventid', 'month', 'price', 'summa', 'transactionid', 'transactionq', 'weekofyear', 'prop888'],\\\n",
    "                    right_on=['doy','visitorid','itemid',\\\n",
    "        'available', 'categoryid',\\\n",
    "        'dow', 'eventid', 'month', 'price', 'summa', 'transactionid', 'transactionq', 'weekofyear', 'prop888'],\\\n",
    "        how='outer')\n",
    "    df0.rename({'event':dict_actions[i]}, axis=1,inplace=True)\n",
    "        \n",
    "    i = 2\n",
    "    \n",
    "    df0 = df0.merge(df[df.event==dict_actions[i]].groupby(['doy','visitorid','itemid',\\\n",
    "        'available', 'categoryid',\\\n",
    "        'dow', 'eventid', 'month', 'price', 'summa', 'transactionid', 'transactionq', 'weekofyear', 'prop888']).agg(\\\n",
    "        transaction = pd.NamedAgg(column = 'event', aggfunc='count'),\n",
    "        hour_transaction = pd.NamedAgg(column = 'hour', aggfunc='max'),\n",
    "        ), left_on=['doy','visitorid','itemid',\\\n",
    "        'available', 'categoryid',\\\n",
    "        'dow', 'eventid', 'month', 'price', 'summa', 'transactionid', 'transactionq', 'weekofyear', 'prop888'],\\\n",
    "                    right_on=['doy','visitorid','itemid',\\\n",
    "        'available', 'categoryid',\\\n",
    "        'dow', 'eventid', 'month', 'price', 'summa', 'transactionid', 'transactionq', 'weekofyear', 'prop888'],\\\n",
    "        how='outer')\n",
    "    #df0.rename({'event':dict_actions[i]}, axis=1,inplace=True)\n",
    "    \n",
    "    df0 = df0.reset_index()\n",
    "                \n",
    "    return df0\n",
    "\n",
    "dict_actions = {0:'view', 1:'addtocart', 2: 'transaction'}\n",
    "df = create_dataframe(df, dict_actions)"
   ]
  },
  {
   "cell_type": "code",
   "execution_count": 270,
   "id": "51ba3537",
   "metadata": {},
   "outputs": [
    {
     "name": "stdout",
     "output_type": "stream",
     "text": [
      "<class 'pandas.core.frame.DataFrame'>\n",
      "RangeIndex: 732965 entries, 0 to 732964\n",
      "Data columns (total 19 columns):\n",
      " #   Column            Non-Null Count   Dtype  \n",
      "---  ------            --------------   -----  \n",
      " 0   doy               732965 non-null  int64  \n",
      " 1   visitorid         732965 non-null  int64  \n",
      " 2   itemid            732965 non-null  int64  \n",
      " 3   available         732965 non-null  float64\n",
      " 4   categoryid        732965 non-null  float64\n",
      " 5   dow               732965 non-null  int64  \n",
      " 6   eventid           732965 non-null  int64  \n",
      " 7   month             732965 non-null  int64  \n",
      " 8   price             732965 non-null  float64\n",
      " 9   summa             732965 non-null  float64\n",
      " 10  transactionid     732965 non-null  int64  \n",
      " 11  transactionq      732965 non-null  int64  \n",
      " 12  weekofyear        732965 non-null  int64  \n",
      " 13  prop888           732965 non-null  int64  \n",
      " 14  view              666117 non-null  float64\n",
      " 15  hour_view         666117 non-null  float64\n",
      " 16  addtocart         44522 non-null   float64\n",
      " 17  transaction       22326 non-null   float64\n",
      " 18  hour_transaction  22326 non-null   float64\n",
      "dtypes: float64(9), int64(10)\n",
      "memory usage: 106.2 MB\n"
     ]
    }
   ],
   "source": [
    "df.info()"
   ]
  },
  {
   "cell_type": "code",
   "execution_count": 271,
   "id": "b4f61f15",
   "metadata": {},
   "outputs": [
    {
     "data": {
      "text/html": [
       "<div>\n",
       "<style scoped>\n",
       "    .dataframe tbody tr th:only-of-type {\n",
       "        vertical-align: middle;\n",
       "    }\n",
       "\n",
       "    .dataframe tbody tr th {\n",
       "        vertical-align: top;\n",
       "    }\n",
       "\n",
       "    .dataframe thead th {\n",
       "        text-align: right;\n",
       "    }\n",
       "</style>\n",
       "<table border=\"1\" class=\"dataframe\">\n",
       "  <thead>\n",
       "    <tr style=\"text-align: right;\">\n",
       "      <th></th>\n",
       "      <th>doy</th>\n",
       "      <th>visitorid</th>\n",
       "      <th>itemid</th>\n",
       "      <th>available</th>\n",
       "      <th>categoryid</th>\n",
       "      <th>dow</th>\n",
       "      <th>eventid</th>\n",
       "      <th>month</th>\n",
       "      <th>price</th>\n",
       "      <th>summa</th>\n",
       "      <th>transactionid</th>\n",
       "      <th>transactionq</th>\n",
       "      <th>weekofyear</th>\n",
       "      <th>prop888</th>\n",
       "      <th>view</th>\n",
       "      <th>hour_view</th>\n",
       "      <th>addtocart</th>\n",
       "      <th>transaction</th>\n",
       "      <th>hour_transaction</th>\n",
       "    </tr>\n",
       "  </thead>\n",
       "  <tbody>\n",
       "    <tr>\n",
       "      <th>0</th>\n",
       "      <td>123</td>\n",
       "      <td>385</td>\n",
       "      <td>47324</td>\n",
       "      <td>2.0</td>\n",
       "      <td>0.0</td>\n",
       "      <td>6</td>\n",
       "      <td>0</td>\n",
       "      <td>5</td>\n",
       "      <td>0.0</td>\n",
       "      <td>0.0</td>\n",
       "      <td>-1</td>\n",
       "      <td>0</td>\n",
       "      <td>19</td>\n",
       "      <td>9</td>\n",
       "      <td>1.0</td>\n",
       "      <td>5.0</td>\n",
       "      <td>NaN</td>\n",
       "      <td>NaN</td>\n",
       "      <td>NaN</td>\n",
       "    </tr>\n",
       "    <tr>\n",
       "      <th>1</th>\n",
       "      <td>123</td>\n",
       "      <td>1819</td>\n",
       "      <td>127969</td>\n",
       "      <td>2.0</td>\n",
       "      <td>0.0</td>\n",
       "      <td>6</td>\n",
       "      <td>0</td>\n",
       "      <td>5</td>\n",
       "      <td>0.0</td>\n",
       "      <td>0.0</td>\n",
       "      <td>-1</td>\n",
       "      <td>0</td>\n",
       "      <td>19</td>\n",
       "      <td>9</td>\n",
       "      <td>1.0</td>\n",
       "      <td>22.0</td>\n",
       "      <td>NaN</td>\n",
       "      <td>NaN</td>\n",
       "      <td>NaN</td>\n",
       "    </tr>\n",
       "    <tr>\n",
       "      <th>2</th>\n",
       "      <td>123</td>\n",
       "      <td>2231</td>\n",
       "      <td>340329</td>\n",
       "      <td>2.0</td>\n",
       "      <td>0.0</td>\n",
       "      <td>6</td>\n",
       "      <td>0</td>\n",
       "      <td>5</td>\n",
       "      <td>0.0</td>\n",
       "      <td>0.0</td>\n",
       "      <td>-1</td>\n",
       "      <td>0</td>\n",
       "      <td>19</td>\n",
       "      <td>9</td>\n",
       "      <td>1.0</td>\n",
       "      <td>22.0</td>\n",
       "      <td>NaN</td>\n",
       "      <td>NaN</td>\n",
       "      <td>NaN</td>\n",
       "    </tr>\n",
       "    <tr>\n",
       "      <th>3</th>\n",
       "      <td>123</td>\n",
       "      <td>2337</td>\n",
       "      <td>218126</td>\n",
       "      <td>2.0</td>\n",
       "      <td>0.0</td>\n",
       "      <td>6</td>\n",
       "      <td>0</td>\n",
       "      <td>5</td>\n",
       "      <td>0.0</td>\n",
       "      <td>0.0</td>\n",
       "      <td>-1</td>\n",
       "      <td>0</td>\n",
       "      <td>19</td>\n",
       "      <td>9</td>\n",
       "      <td>1.0</td>\n",
       "      <td>22.0</td>\n",
       "      <td>NaN</td>\n",
       "      <td>NaN</td>\n",
       "      <td>NaN</td>\n",
       "    </tr>\n",
       "    <tr>\n",
       "      <th>4</th>\n",
       "      <td>123</td>\n",
       "      <td>3194</td>\n",
       "      <td>277139</td>\n",
       "      <td>2.0</td>\n",
       "      <td>0.0</td>\n",
       "      <td>6</td>\n",
       "      <td>0</td>\n",
       "      <td>5</td>\n",
       "      <td>0.0</td>\n",
       "      <td>0.0</td>\n",
       "      <td>-1</td>\n",
       "      <td>0</td>\n",
       "      <td>19</td>\n",
       "      <td>9</td>\n",
       "      <td>1.0</td>\n",
       "      <td>18.0</td>\n",
       "      <td>NaN</td>\n",
       "      <td>NaN</td>\n",
       "      <td>NaN</td>\n",
       "    </tr>\n",
       "  </tbody>\n",
       "</table>\n",
       "</div>"
      ],
      "text/plain": [
       "   doy  visitorid  itemid  available  categoryid  dow  eventid  month  price  \\\n",
       "0  123        385   47324        2.0         0.0    6        0      5    0.0   \n",
       "1  123       1819  127969        2.0         0.0    6        0      5    0.0   \n",
       "2  123       2231  340329        2.0         0.0    6        0      5    0.0   \n",
       "3  123       2337  218126        2.0         0.0    6        0      5    0.0   \n",
       "4  123       3194  277139        2.0         0.0    6        0      5    0.0   \n",
       "\n",
       "   summa  transactionid  transactionq  weekofyear  prop888  view  hour_view  \\\n",
       "0    0.0             -1             0          19        9   1.0        5.0   \n",
       "1    0.0             -1             0          19        9   1.0       22.0   \n",
       "2    0.0             -1             0          19        9   1.0       22.0   \n",
       "3    0.0             -1             0          19        9   1.0       22.0   \n",
       "4    0.0             -1             0          19        9   1.0       18.0   \n",
       "\n",
       "   addtocart  transaction  hour_transaction  \n",
       "0        NaN          NaN               NaN  \n",
       "1        NaN          NaN               NaN  \n",
       "2        NaN          NaN               NaN  \n",
       "3        NaN          NaN               NaN  \n",
       "4        NaN          NaN               NaN  "
      ]
     },
     "execution_count": 271,
     "metadata": {},
     "output_type": "execute_result"
    }
   ],
   "source": [
    "df.head(5)"
   ]
  },
  {
   "cell_type": "code",
   "execution_count": 272,
   "id": "1fcfb6b8",
   "metadata": {},
   "outputs": [],
   "source": [
    "# Заполняем пустые значения:\n",
    "# Если товар был продан, то он был предварительно уложен в корзину\n",
    "# Если товар положен в корзину, то он был предварительно просмотрен\n",
    "# Остальное - нули\n",
    "df['addtocart'].fillna(df['transaction'], inplace=True)\n",
    "df['view'].fillna(df['addtocart'], inplace=True)\n",
    "df['hour_view'].fillna(df['hour_transaction'], inplace=True)\n",
    "df['addtocart'].fillna(0, inplace=True)\n",
    "df['transaction'].fillna(0, inplace=True)"
   ]
  },
  {
   "cell_type": "code",
   "execution_count": 273,
   "id": "eaa1c411",
   "metadata": {},
   "outputs": [
    {
     "data": {
      "text/html": [
       "<div>\n",
       "<style scoped>\n",
       "    .dataframe tbody tr th:only-of-type {\n",
       "        vertical-align: middle;\n",
       "    }\n",
       "\n",
       "    .dataframe tbody tr th {\n",
       "        vertical-align: top;\n",
       "    }\n",
       "\n",
       "    .dataframe thead th {\n",
       "        text-align: right;\n",
       "    }\n",
       "</style>\n",
       "<table border=\"1\" class=\"dataframe\">\n",
       "  <thead>\n",
       "    <tr style=\"text-align: right;\">\n",
       "      <th></th>\n",
       "      <th>doy</th>\n",
       "      <th>visitorid</th>\n",
       "      <th>itemid</th>\n",
       "      <th>available</th>\n",
       "      <th>categoryid</th>\n",
       "      <th>dow</th>\n",
       "      <th>eventid</th>\n",
       "      <th>month</th>\n",
       "      <th>price</th>\n",
       "      <th>summa</th>\n",
       "      <th>transactionid</th>\n",
       "      <th>transactionq</th>\n",
       "      <th>weekofyear</th>\n",
       "      <th>prop888</th>\n",
       "      <th>view</th>\n",
       "      <th>hour_view</th>\n",
       "      <th>addtocart</th>\n",
       "      <th>transaction</th>\n",
       "      <th>hour_transaction</th>\n",
       "    </tr>\n",
       "  </thead>\n",
       "  <tbody>\n",
       "    <tr>\n",
       "      <th>0</th>\n",
       "      <td>123</td>\n",
       "      <td>385</td>\n",
       "      <td>47324</td>\n",
       "      <td>2.0</td>\n",
       "      <td>0.0</td>\n",
       "      <td>6</td>\n",
       "      <td>0</td>\n",
       "      <td>5</td>\n",
       "      <td>0.0</td>\n",
       "      <td>0.0</td>\n",
       "      <td>-1</td>\n",
       "      <td>0</td>\n",
       "      <td>19</td>\n",
       "      <td>9</td>\n",
       "      <td>1.0</td>\n",
       "      <td>5.0</td>\n",
       "      <td>0.0</td>\n",
       "      <td>0.0</td>\n",
       "      <td>NaN</td>\n",
       "    </tr>\n",
       "    <tr>\n",
       "      <th>1</th>\n",
       "      <td>123</td>\n",
       "      <td>1819</td>\n",
       "      <td>127969</td>\n",
       "      <td>2.0</td>\n",
       "      <td>0.0</td>\n",
       "      <td>6</td>\n",
       "      <td>0</td>\n",
       "      <td>5</td>\n",
       "      <td>0.0</td>\n",
       "      <td>0.0</td>\n",
       "      <td>-1</td>\n",
       "      <td>0</td>\n",
       "      <td>19</td>\n",
       "      <td>9</td>\n",
       "      <td>1.0</td>\n",
       "      <td>22.0</td>\n",
       "      <td>0.0</td>\n",
       "      <td>0.0</td>\n",
       "      <td>NaN</td>\n",
       "    </tr>\n",
       "    <tr>\n",
       "      <th>2</th>\n",
       "      <td>123</td>\n",
       "      <td>2231</td>\n",
       "      <td>340329</td>\n",
       "      <td>2.0</td>\n",
       "      <td>0.0</td>\n",
       "      <td>6</td>\n",
       "      <td>0</td>\n",
       "      <td>5</td>\n",
       "      <td>0.0</td>\n",
       "      <td>0.0</td>\n",
       "      <td>-1</td>\n",
       "      <td>0</td>\n",
       "      <td>19</td>\n",
       "      <td>9</td>\n",
       "      <td>1.0</td>\n",
       "      <td>22.0</td>\n",
       "      <td>0.0</td>\n",
       "      <td>0.0</td>\n",
       "      <td>NaN</td>\n",
       "    </tr>\n",
       "    <tr>\n",
       "      <th>3</th>\n",
       "      <td>123</td>\n",
       "      <td>2337</td>\n",
       "      <td>218126</td>\n",
       "      <td>2.0</td>\n",
       "      <td>0.0</td>\n",
       "      <td>6</td>\n",
       "      <td>0</td>\n",
       "      <td>5</td>\n",
       "      <td>0.0</td>\n",
       "      <td>0.0</td>\n",
       "      <td>-1</td>\n",
       "      <td>0</td>\n",
       "      <td>19</td>\n",
       "      <td>9</td>\n",
       "      <td>1.0</td>\n",
       "      <td>22.0</td>\n",
       "      <td>0.0</td>\n",
       "      <td>0.0</td>\n",
       "      <td>NaN</td>\n",
       "    </tr>\n",
       "    <tr>\n",
       "      <th>4</th>\n",
       "      <td>123</td>\n",
       "      <td>3194</td>\n",
       "      <td>277139</td>\n",
       "      <td>2.0</td>\n",
       "      <td>0.0</td>\n",
       "      <td>6</td>\n",
       "      <td>0</td>\n",
       "      <td>5</td>\n",
       "      <td>0.0</td>\n",
       "      <td>0.0</td>\n",
       "      <td>-1</td>\n",
       "      <td>0</td>\n",
       "      <td>19</td>\n",
       "      <td>9</td>\n",
       "      <td>1.0</td>\n",
       "      <td>18.0</td>\n",
       "      <td>0.0</td>\n",
       "      <td>0.0</td>\n",
       "      <td>NaN</td>\n",
       "    </tr>\n",
       "    <tr>\n",
       "      <th>...</th>\n",
       "      <td>...</td>\n",
       "      <td>...</td>\n",
       "      <td>...</td>\n",
       "      <td>...</td>\n",
       "      <td>...</td>\n",
       "      <td>...</td>\n",
       "      <td>...</td>\n",
       "      <td>...</td>\n",
       "      <td>...</td>\n",
       "      <td>...</td>\n",
       "      <td>...</td>\n",
       "      <td>...</td>\n",
       "      <td>...</td>\n",
       "      <td>...</td>\n",
       "      <td>...</td>\n",
       "      <td>...</td>\n",
       "      <td>...</td>\n",
       "      <td>...</td>\n",
       "      <td>...</td>\n",
       "    </tr>\n",
       "    <tr>\n",
       "      <th>732960</th>\n",
       "      <td>261</td>\n",
       "      <td>427756</td>\n",
       "      <td>342659</td>\n",
       "      <td>1.0</td>\n",
       "      <td>1177.0</td>\n",
       "      <td>4</td>\n",
       "      <td>2</td>\n",
       "      <td>9</td>\n",
       "      <td>10320.0</td>\n",
       "      <td>10320.0</td>\n",
       "      <td>13143</td>\n",
       "      <td>1</td>\n",
       "      <td>38</td>\n",
       "      <td>3</td>\n",
       "      <td>1.0</td>\n",
       "      <td>1.0</td>\n",
       "      <td>1.0</td>\n",
       "      <td>1.0</td>\n",
       "      <td>1.0</td>\n",
       "    </tr>\n",
       "    <tr>\n",
       "      <th>732961</th>\n",
       "      <td>261</td>\n",
       "      <td>569539</td>\n",
       "      <td>389860</td>\n",
       "      <td>1.0</td>\n",
       "      <td>0.0</td>\n",
       "      <td>4</td>\n",
       "      <td>2</td>\n",
       "      <td>9</td>\n",
       "      <td>387960.0</td>\n",
       "      <td>387960.0</td>\n",
       "      <td>11088</td>\n",
       "      <td>1</td>\n",
       "      <td>38</td>\n",
       "      <td>9</td>\n",
       "      <td>1.0</td>\n",
       "      <td>0.0</td>\n",
       "      <td>1.0</td>\n",
       "      <td>1.0</td>\n",
       "      <td>0.0</td>\n",
       "    </tr>\n",
       "    <tr>\n",
       "      <th>732962</th>\n",
       "      <td>261</td>\n",
       "      <td>751256</td>\n",
       "      <td>241715</td>\n",
       "      <td>1.0</td>\n",
       "      <td>0.0</td>\n",
       "      <td>4</td>\n",
       "      <td>2</td>\n",
       "      <td>9</td>\n",
       "      <td>1439880.0</td>\n",
       "      <td>1439880.0</td>\n",
       "      <td>7217</td>\n",
       "      <td>1</td>\n",
       "      <td>38</td>\n",
       "      <td>1</td>\n",
       "      <td>1.0</td>\n",
       "      <td>0.0</td>\n",
       "      <td>1.0</td>\n",
       "      <td>1.0</td>\n",
       "      <td>0.0</td>\n",
       "    </tr>\n",
       "    <tr>\n",
       "      <th>732963</th>\n",
       "      <td>261</td>\n",
       "      <td>1156860</td>\n",
       "      <td>367900</td>\n",
       "      <td>1.0</td>\n",
       "      <td>0.0</td>\n",
       "      <td>4</td>\n",
       "      <td>2</td>\n",
       "      <td>9</td>\n",
       "      <td>5880.0</td>\n",
       "      <td>5880.0</td>\n",
       "      <td>12697</td>\n",
       "      <td>1</td>\n",
       "      <td>38</td>\n",
       "      <td>1</td>\n",
       "      <td>1.0</td>\n",
       "      <td>0.0</td>\n",
       "      <td>1.0</td>\n",
       "      <td>1.0</td>\n",
       "      <td>0.0</td>\n",
       "    </tr>\n",
       "    <tr>\n",
       "      <th>732964</th>\n",
       "      <td>261</td>\n",
       "      <td>1298462</td>\n",
       "      <td>358348</td>\n",
       "      <td>1.0</td>\n",
       "      <td>0.0</td>\n",
       "      <td>4</td>\n",
       "      <td>2</td>\n",
       "      <td>9</td>\n",
       "      <td>47880.0</td>\n",
       "      <td>47880.0</td>\n",
       "      <td>5741</td>\n",
       "      <td>1</td>\n",
       "      <td>38</td>\n",
       "      <td>9</td>\n",
       "      <td>1.0</td>\n",
       "      <td>1.0</td>\n",
       "      <td>1.0</td>\n",
       "      <td>1.0</td>\n",
       "      <td>1.0</td>\n",
       "    </tr>\n",
       "  </tbody>\n",
       "</table>\n",
       "<p>732965 rows × 19 columns</p>\n",
       "</div>"
      ],
      "text/plain": [
       "        doy  visitorid  itemid  available  categoryid  dow  eventid  month  \\\n",
       "0       123        385   47324        2.0         0.0    6        0      5   \n",
       "1       123       1819  127969        2.0         0.0    6        0      5   \n",
       "2       123       2231  340329        2.0         0.0    6        0      5   \n",
       "3       123       2337  218126        2.0         0.0    6        0      5   \n",
       "4       123       3194  277139        2.0         0.0    6        0      5   \n",
       "...     ...        ...     ...        ...         ...  ...      ...    ...   \n",
       "732960  261     427756  342659        1.0      1177.0    4        2      9   \n",
       "732961  261     569539  389860        1.0         0.0    4        2      9   \n",
       "732962  261     751256  241715        1.0         0.0    4        2      9   \n",
       "732963  261    1156860  367900        1.0         0.0    4        2      9   \n",
       "732964  261    1298462  358348        1.0         0.0    4        2      9   \n",
       "\n",
       "            price      summa  transactionid  transactionq  weekofyear  \\\n",
       "0             0.0        0.0             -1             0          19   \n",
       "1             0.0        0.0             -1             0          19   \n",
       "2             0.0        0.0             -1             0          19   \n",
       "3             0.0        0.0             -1             0          19   \n",
       "4             0.0        0.0             -1             0          19   \n",
       "...           ...        ...            ...           ...         ...   \n",
       "732960    10320.0    10320.0          13143             1          38   \n",
       "732961   387960.0   387960.0          11088             1          38   \n",
       "732962  1439880.0  1439880.0           7217             1          38   \n",
       "732963     5880.0     5880.0          12697             1          38   \n",
       "732964    47880.0    47880.0           5741             1          38   \n",
       "\n",
       "        prop888  view  hour_view  addtocart  transaction  hour_transaction  \n",
       "0             9   1.0        5.0        0.0          0.0               NaN  \n",
       "1             9   1.0       22.0        0.0          0.0               NaN  \n",
       "2             9   1.0       22.0        0.0          0.0               NaN  \n",
       "3             9   1.0       22.0        0.0          0.0               NaN  \n",
       "4             9   1.0       18.0        0.0          0.0               NaN  \n",
       "...         ...   ...        ...        ...          ...               ...  \n",
       "732960        3   1.0        1.0        1.0          1.0               1.0  \n",
       "732961        9   1.0        0.0        1.0          1.0               0.0  \n",
       "732962        1   1.0        0.0        1.0          1.0               0.0  \n",
       "732963        1   1.0        0.0        1.0          1.0               0.0  \n",
       "732964        9   1.0        1.0        1.0          1.0               1.0  \n",
       "\n",
       "[732965 rows x 19 columns]"
      ]
     },
     "execution_count": 273,
     "metadata": {},
     "output_type": "execute_result"
    }
   ],
   "source": [
    "df"
   ]
  },
  {
   "cell_type": "code",
   "execution_count": 274,
   "id": "0c7281f2",
   "metadata": {},
   "outputs": [
    {
     "name": "stdout",
     "output_type": "stream",
     "text": [
      "1.0     617672\n",
      "2.0      80250\n",
      "3.0      20865\n",
      "4.0       7466\n",
      "5.0       3109\n",
      "6.0       1580\n",
      "7.0        807\n",
      "8.0        446\n",
      "9.0        249\n",
      "10.0       156\n",
      "Name: view, dtype: int64\n"
     ]
    },
    {
     "data": {
      "text/plain": [
       "<AxesSubplot:>"
      ]
     },
     "execution_count": 274,
     "metadata": {},
     "output_type": "execute_result"
    },
    {
     "data": {
      "image/png": "[encoded data removed]",
      "text/plain": [
       "<Figure size 432x288 with 1 Axes>"
      ]
     },
     "metadata": {
      "needs_background": "light"
     },
     "output_type": "display_data"
    }
   ],
   "source": [
    "print(df.view.value_counts()[:10])\n",
    "df.view.value_counts()[:10].plot(kind='barh')"
   ]
  },
  {
   "cell_type": "code",
   "execution_count": 275,
   "id": "6846b624",
   "metadata": {},
   "outputs": [
    {
     "name": "stdout",
     "output_type": "stream",
     "text": [
      "0.0     666117\n",
      "1.0      63617\n",
      "2.0       2699\n",
      "3.0        305\n",
      "4.0        133\n",
      "6.0         26\n",
      "5.0         23\n",
      "8.0         10\n",
      "9.0          8\n",
      "7.0          7\n",
      "10.0         6\n",
      "11.0         3\n",
      "14.0         3\n",
      "13.0         2\n",
      "12.0         2\n",
      "31.0         1\n",
      "26.0         1\n",
      "29.0         1\n",
      "16.0         1\n",
      "Name: addtocart, dtype: int64\n"
     ]
    },
    {
     "data": {
      "text/plain": [
       "<AxesSubplot:>"
      ]
     },
     "execution_count": 275,
     "metadata": {},
     "output_type": "execute_result"
    },
    {
     "data": {
      "image/png": "[encoded data removed]",
      "text/plain": [
       "<Figure size 432x288 with 1 Axes>"
      ]
     },
     "metadata": {
      "needs_background": "light"
     },
     "output_type": "display_data"
    }
   ],
   "source": [
    "print(df.addtocart.value_counts())\n",
    "df.addtocart.value_counts()[:].plot(kind='barh')"
   ]
  },
  {
   "cell_type": "code",
   "execution_count": 276,
   "id": "70ba64a9",
   "metadata": {},
   "outputs": [
    {
     "name": "stdout",
     "output_type": "stream",
     "text": [
      "0.0    710639\n",
      "1.0     22206\n",
      "2.0       110\n",
      "3.0         9\n",
      "4.0         1\n",
      "Name: transaction, dtype: int64\n"
     ]
    },
    {
     "data": {
      "text/plain": [
       "<AxesSubplot:>"
      ]
     },
     "execution_count": 276,
     "metadata": {},
     "output_type": "execute_result"
    },
    {
     "data": {
      "image/png": "[encoded data removed]",
      "text/plain": [
       "<Figure size 432x288 with 1 Axes>"
      ]
     },
     "metadata": {
      "needs_background": "light"
     },
     "output_type": "display_data"
    }
   ],
   "source": [
    "print(df.transaction.value_counts())\n",
    "df.transaction.value_counts().plot(kind='barh')"
   ]
  },
  {
   "cell_type": "markdown",
   "id": "23b4748e",
   "metadata": {},
   "source": [
    "**Для валидации будем использовать разбиение по временным интервалам: например, по неделям (weekofyear). Это возможно в силу того, что у нас данные только 2015 года.**"
   ]
  },
  {
   "cell_type": "code",
   "execution_count": null,
   "id": "2cac72bc",
   "metadata": {},
   "outputs": [],
   "source": []
  },
  {
   "cell_type": "code",
   "execution_count": 229,
   "id": "b3d06b80",
   "metadata": {},
   "outputs": [],
   "source": [
    "# Записываем датафрейм в файл с рейтингами\n",
    "df[['doy','visitorid','itemid','rating']].to_csv(os.path.join(path,'ratings.csv'))"
   ]
  },
  {
   "cell_type": "code",
   "execution_count": null,
   "id": "67c27305",
   "metadata": {},
   "outputs": [],
   "source": []
  },
  {
   "cell_type": "code",
   "execution_count": null,
   "id": "f6207199",
   "metadata": {},
   "outputs": [],
   "source": []
  },
  {
   "cell_type": "code",
   "execution_count": 111,
   "id": "a6fea9bc",
   "metadata": {},
   "outputs": [
    {
     "name": "stdout",
     "output_type": "stream",
     "text": [
      "view\n",
      "addtocart\n",
      "transaction\n"
     ]
    }
   ],
   "source": [
    "for col in dict_actions.values():\n",
    "    #print(col)\n",
    "    df[col] = df[col].astype('int16')"
   ]
  },
  {
   "cell_type": "code",
   "execution_count": 57,
   "id": "81249c3c",
   "metadata": {},
   "outputs": [
    {
     "data": {
      "text/html": [
       "<div>\n",
       "<style scoped>\n",
       "    .dataframe tbody tr th:only-of-type {\n",
       "        vertical-align: middle;\n",
       "    }\n",
       "\n",
       "    .dataframe tbody tr th {\n",
       "        vertical-align: top;\n",
       "    }\n",
       "\n",
       "    .dataframe thead th {\n",
       "        text-align: right;\n",
       "    }\n",
       "</style>\n",
       "<table border=\"1\" class=\"dataframe\">\n",
       "  <thead>\n",
       "    <tr style=\"text-align: right;\">\n",
       "      <th></th>\n",
       "      <th>doy</th>\n",
       "      <th>visitorid</th>\n",
       "      <th>itemid</th>\n",
       "      <th>view</th>\n",
       "      <th>addtocart</th>\n",
       "      <th>transaction</th>\n",
       "      <th>rating</th>\n",
       "    </tr>\n",
       "  </thead>\n",
       "  <tbody>\n",
       "    <tr>\n",
       "      <th>count</th>\n",
       "      <td>674732.000000</td>\n",
       "      <td>6.747320e+05</td>\n",
       "      <td>674732.000000</td>\n",
       "      <td>674732.000000</td>\n",
       "      <td>674732.000000</td>\n",
       "      <td>674732.000000</td>\n",
       "      <td>674732.000000</td>\n",
       "    </tr>\n",
       "    <tr>\n",
       "      <th>mean</th>\n",
       "      <td>189.475701</td>\n",
       "      <td>7.022659e+05</td>\n",
       "      <td>238080.363902</td>\n",
       "      <td>1.264381</td>\n",
       "      <td>0.076922</td>\n",
       "      <td>0.033283</td>\n",
       "      <td>0.409751</td>\n",
       "    </tr>\n",
       "    <tr>\n",
       "      <th>std</th>\n",
       "      <td>38.835430</td>\n",
       "      <td>4.049503e+05</td>\n",
       "      <td>133877.062334</td>\n",
       "      <td>0.795694</td>\n",
       "      <td>0.307865</td>\n",
       "      <td>0.186901</td>\n",
       "      <td>2.070259</td>\n",
       "    </tr>\n",
       "    <tr>\n",
       "      <th>min</th>\n",
       "      <td>123.000000</td>\n",
       "      <td>0.000000e+00</td>\n",
       "      <td>15.000000</td>\n",
       "      <td>1.000000</td>\n",
       "      <td>0.000000</td>\n",
       "      <td>0.000000</td>\n",
       "      <td>0.000000</td>\n",
       "    </tr>\n",
       "    <tr>\n",
       "      <th>25%</th>\n",
       "      <td>156.000000</td>\n",
       "      <td>3.505660e+05</td>\n",
       "      <td>122219.000000</td>\n",
       "      <td>1.000000</td>\n",
       "      <td>0.000000</td>\n",
       "      <td>0.000000</td>\n",
       "      <td>0.000000</td>\n",
       "    </tr>\n",
       "    <tr>\n",
       "      <th>50%</th>\n",
       "      <td>189.000000</td>\n",
       "      <td>7.037770e+05</td>\n",
       "      <td>242245.000000</td>\n",
       "      <td>1.000000</td>\n",
       "      <td>0.000000</td>\n",
       "      <td>0.000000</td>\n",
       "      <td>0.000000</td>\n",
       "    </tr>\n",
       "    <tr>\n",
       "      <th>75%</th>\n",
       "      <td>222.000000</td>\n",
       "      <td>1.052973e+06</td>\n",
       "      <td>352634.000000</td>\n",
       "      <td>1.000000</td>\n",
       "      <td>0.000000</td>\n",
       "      <td>0.000000</td>\n",
       "      <td>0.000000</td>\n",
       "    </tr>\n",
       "    <tr>\n",
       "      <th>max</th>\n",
       "      <td>261.000000</td>\n",
       "      <td>1.407578e+06</td>\n",
       "      <td>466861.000000</td>\n",
       "      <td>67.000000</td>\n",
       "      <td>31.000000</td>\n",
       "      <td>5.000000</td>\n",
       "      <td>57.000000</td>\n",
       "    </tr>\n",
       "  </tbody>\n",
       "</table>\n",
       "</div>"
      ],
      "text/plain": [
       "                 doy     visitorid         itemid           view  \\\n",
       "count  674732.000000  6.747320e+05  674732.000000  674732.000000   \n",
       "mean      189.475701  7.022659e+05  238080.363902       1.264381   \n",
       "std        38.835430  4.049503e+05  133877.062334       0.795694   \n",
       "min       123.000000  0.000000e+00      15.000000       1.000000   \n",
       "25%       156.000000  3.505660e+05  122219.000000       1.000000   \n",
       "50%       189.000000  7.037770e+05  242245.000000       1.000000   \n",
       "75%       222.000000  1.052973e+06  352634.000000       1.000000   \n",
       "max       261.000000  1.407578e+06  466861.000000      67.000000   \n",
       "\n",
       "           addtocart    transaction         rating  \n",
       "count  674732.000000  674732.000000  674732.000000  \n",
       "mean        0.076922       0.033283       0.409751  \n",
       "std         0.307865       0.186901       2.070259  \n",
       "min         0.000000       0.000000       0.000000  \n",
       "25%         0.000000       0.000000       0.000000  \n",
       "50%         0.000000       0.000000       0.000000  \n",
       "75%         0.000000       0.000000       0.000000  \n",
       "max        31.000000       5.000000      57.000000  "
      ]
     },
     "execution_count": 57,
     "metadata": {},
     "output_type": "execute_result"
    }
   ],
   "source": [
    "df.describe()"
   ]
  },
  {
   "cell_type": "code",
   "execution_count": 58,
   "id": "9f616191",
   "metadata": {},
   "outputs": [
    {
     "data": {
      "image/png": "[encoded data removed]",
      "text/plain": [
       "<Figure size 432x288 with 2 Axes>"
      ]
     },
     "metadata": {
      "needs_background": "light"
     },
     "output_type": "display_data"
    }
   ],
   "source": [
    "df[['addtocart', 'transaction']].hist(bins=50);"
   ]
  },
  {
   "cell_type": "code",
   "execution_count": 136,
   "id": "74720510",
   "metadata": {},
   "outputs": [],
   "source": [
    "from scipy.stats import shapiro\n",
    "def test_shapiro(sample, alpha, text):\n",
    "    '''\n",
    "    Тест Шапиро-Уилка\n",
    "    sample - выборка\n",
    "    alpha - \n",
    "    '''\n",
    "    stat, p = shapiro(sample)\n",
    "    print('Статистика=%.3f, p=%.3f' % (stat, p))\n",
    "    # interpret\n",
    "    \n",
    "    if p > alpha:\n",
    "        print(f'Выборка {text} выглядит гауссовой (не удается отклонить H0)')\n",
    "    else:\n",
    "        print(f'Выборка {text} не выглядит Гауссовой (отклонить H0)')"
   ]
  },
  {
   "cell_type": "code",
   "execution_count": 143,
   "id": "6b6a6543",
   "metadata": {},
   "outputs": [
    {
     "name": "stdout",
     "output_type": "stream",
     "text": [
      "Статистика=0.138, p=0.000\n",
      "Выборка addtocart не выглядит Гауссовой (отклонить H0)\n"
     ]
    }
   ],
   "source": [
    "test_shapiro(df['addtocart'], 0.05, 'addtocart')"
   ]
  },
  {
   "cell_type": "code",
   "execution_count": 144,
   "id": "92d2ed6c",
   "metadata": {},
   "outputs": [
    {
     "name": "stdout",
     "output_type": "stream",
     "text": [
      "Статистика=0.069, p=0.000\n",
      "Выборка transaction не выглядит Гауссовой (отклонить H0)\n"
     ]
    }
   ],
   "source": [
    "test_shapiro(df['transaction'], 0.05, 'transaction')"
   ]
  },
  {
   "cell_type": "code",
   "execution_count": 148,
   "id": "1e451dfd",
   "metadata": {},
   "outputs": [],
   "source": [
    "import seaborn as sns\n",
    "import matplotlib.pyplot as plt\n",
    "\n",
    "def _kde(feature):\n",
    "    '''\n",
    "    Сравнение признаков по группам\n",
    "    '''\n",
    "    for feat in feature:\n",
    "        sns.kdeplot(x=feat, data=df, common_norm=False, label=feat);\n",
    "    \n",
    "    plt.legend(title='features', loc='upper right')    \n",
    "    plt.title(\"Kernel Density Function\");"
   ]
  },
  {
   "cell_type": "code",
   "execution_count": 150,
   "id": "9e6802d6",
   "metadata": {},
   "outputs": [
    {
     "data": {
      "image/png": "[encoded data removed]",
      "text/plain": [
       "<Figure size 432x288 with 1 Axes>"
      ]
     },
     "metadata": {
      "needs_background": "light"
     },
     "output_type": "display_data"
    }
   ],
   "source": [
    "_kde(['view'])"
   ]
  },
  {
   "cell_type": "code",
   "execution_count": 152,
   "id": "5f642aa6",
   "metadata": {},
   "outputs": [
    {
     "data": {
      "image/png": "[encoded data removed]",
      "text/plain": [
       "<Figure size 432x288 with 1 Axes>"
      ]
     },
     "metadata": {
      "needs_background": "light"
     },
     "output_type": "display_data"
    }
   ],
   "source": [
    "_kde(['addtocart'])"
   ]
  },
  {
   "cell_type": "code",
   "execution_count": 151,
   "id": "0a07ea2a",
   "metadata": {},
   "outputs": [
    {
     "data": {
      "image/png": "[encoded data removed]",
      "text/plain": [
       "<Figure size 432x288 with 1 Axes>"
      ]
     },
     "metadata": {
      "needs_background": "light"
     },
     "output_type": "display_data"
    }
   ],
   "source": [
    "_kde(['transaction'])"
   ]
  },
  {
   "cell_type": "code",
   "execution_count": 188,
   "id": "ebdb6c82",
   "metadata": {},
   "outputs": [],
   "source": [
    "# Перекодируем категориальный признак event:\n",
    "ord_enc = OrdinalEncoder()\n",
    "events[\"eventid\"] = ord_enc.fit_transform(events[[\"event\"]])"
   ]
  },
  {
   "cell_type": "code",
   "execution_count": 189,
   "id": "0c2c49cf",
   "metadata": {},
   "outputs": [
    {
     "data": {
      "text/plain": [
       "2.0    2664312\n",
       "0.0      69332\n",
       "1.0      22457\n",
       "Name: eventid, dtype: int64"
      ]
     },
     "execution_count": 189,
     "metadata": {},
     "output_type": "execute_result"
    }
   ],
   "source": [
    "events[\"eventid\"].value_counts()"
   ]
  },
  {
   "cell_type": "code",
   "execution_count": 190,
   "id": "147c02b4",
   "metadata": {},
   "outputs": [],
   "source": [
    "events[\"eventid\"] = events[\"eventid\"].astype('int8')\n",
    "events = events.drop(columns='event')"
   ]
  },
  {
   "cell_type": "code",
   "execution_count": 191,
   "id": "4741b3e6",
   "metadata": {},
   "outputs": [
    {
     "name": "stdout",
     "output_type": "stream",
     "text": [
      "<class 'pandas.core.frame.DataFrame'>\n",
      "RangeIndex: 2756101 entries, 0 to 2756100\n",
      "Data columns (total 10 columns):\n",
      " #   Column         Dtype \n",
      "---  ------         ----- \n",
      " 0   visitorid      int32 \n",
      " 1   itemid         int32 \n",
      " 2   transactionid  int32 \n",
      " 3   date           object\n",
      " 4   hour           int8  \n",
      " 5   month          int8  \n",
      " 6   year           int16 \n",
      " 7   weekofyear     int8  \n",
      " 8   dow            int8  \n",
      " 9   eventid        int8  \n",
      "dtypes: int16(1), int32(3), int8(5), object(1)\n",
      "memory usage: 71.0+ MB\n"
     ]
    }
   ],
   "source": [
    "events.info()"
   ]
  },
  {
   "cell_type": "code",
   "execution_count": 263,
   "id": "626cd850",
   "metadata": {},
   "outputs": [
    {
     "data": {
      "text/plain": [
       "187946    3412\n",
       "461686    2978\n",
       "Name: itemid, dtype: int64"
      ]
     },
     "execution_count": 263,
     "metadata": {},
     "output_type": "execute_result"
    }
   ],
   "source": [
    "events['itemid'].value_counts()[:2]"
   ]
  },
  {
   "cell_type": "code",
   "execution_count": 261,
   "id": "5a157ac2",
   "metadata": {},
   "outputs": [
    {
     "data": {
      "text/plain": [
       "<AxesSubplot:>"
      ]
     },
     "execution_count": 261,
     "metadata": {},
     "output_type": "execute_result"
    },
    {
     "data": {
      "image/png": "[encoded data removed]",
      "text/plain": [
       "<Figure size 432x288 with 1 Axes>"
      ]
     },
     "metadata": {
      "needs_background": "light"
     },
     "output_type": "display_data"
    }
   ],
   "source": [
    "events.iloc[events['itemid'].value_counts()[:2].index.tolist()]['itemid'].value_counts().hist(bins=100)"
   ]
  },
  {
   "cell_type": "markdown",
   "id": "9d235bd5",
   "metadata": {},
   "source": [
    "## Исследование данных"
   ]
  },
  {
   "cell_type": "markdown",
   "id": "10432025",
   "metadata": {},
   "source": [
    "<a id='1'></a> \n",
    "### Описание структуры\n",
    "<a href='#0'> *Вернуться к оглавлению*"
   ]
  },
  {
   "cell_type": "code",
   "execution_count": null,
   "id": "214dc0fb",
   "metadata": {},
   "outputs": [],
   "source": []
  },
  {
   "cell_type": "markdown",
   "id": "2675dfa7",
   "metadata": {},
   "source": [
    "<a id='6'></a> \n",
    "### Статистический анализ данных\n",
    "<a href='#0'> *Вернуться к оглавлению*"
   ]
  },
  {
   "cell_type": "code",
   "execution_count": 221,
   "id": "3847e023",
   "metadata": {},
   "outputs": [
    {
     "data": {
      "text/html": [
       "<div>\n",
       "<style scoped>\n",
       "    .dataframe tbody tr th:only-of-type {\n",
       "        vertical-align: middle;\n",
       "    }\n",
       "\n",
       "    .dataframe tbody tr th {\n",
       "        vertical-align: top;\n",
       "    }\n",
       "\n",
       "    .dataframe thead th {\n",
       "        text-align: right;\n",
       "    }\n",
       "</style>\n",
       "<table border=\"1\" class=\"dataframe\">\n",
       "  <thead>\n",
       "    <tr style=\"text-align: right;\">\n",
       "      <th></th>\n",
       "      <th>Тип</th>\n",
       "      <th>Общ.кол</th>\n",
       "      <th>% пропусков</th>\n",
       "      <th>Кол-во уник.значений</th>\n",
       "    </tr>\n",
       "  </thead>\n",
       "  <tbody>\n",
       "    <tr>\n",
       "      <th>available</th>\n",
       "      <td>float64</td>\n",
       "      <td>914057</td>\n",
       "      <td>0.0</td>\n",
       "      <td>3</td>\n",
       "    </tr>\n",
       "    <tr>\n",
       "      <th>categoryid</th>\n",
       "      <td>float64</td>\n",
       "      <td>914057</td>\n",
       "      <td>0.0</td>\n",
       "      <td>685</td>\n",
       "    </tr>\n",
       "    <tr>\n",
       "      <th>date</th>\n",
       "      <td>object</td>\n",
       "      <td>914057</td>\n",
       "      <td>0.0</td>\n",
       "      <td>139</td>\n",
       "    </tr>\n",
       "    <tr>\n",
       "      <th>dow</th>\n",
       "      <td>int8</td>\n",
       "      <td>914057</td>\n",
       "      <td>0.0</td>\n",
       "      <td>7</td>\n",
       "    </tr>\n",
       "    <tr>\n",
       "      <th>doy</th>\n",
       "      <td>int32</td>\n",
       "      <td>914057</td>\n",
       "      <td>0.0</td>\n",
       "      <td>139</td>\n",
       "    </tr>\n",
       "    <tr>\n",
       "      <th>event</th>\n",
       "      <td>object</td>\n",
       "      <td>914057</td>\n",
       "      <td>0.0</td>\n",
       "      <td>3</td>\n",
       "    </tr>\n",
       "    <tr>\n",
       "      <th>eventid</th>\n",
       "      <td>int8</td>\n",
       "      <td>914057</td>\n",
       "      <td>0.0</td>\n",
       "      <td>3</td>\n",
       "    </tr>\n",
       "    <tr>\n",
       "      <th>hour</th>\n",
       "      <td>int8</td>\n",
       "      <td>914057</td>\n",
       "      <td>0.0</td>\n",
       "      <td>24</td>\n",
       "    </tr>\n",
       "    <tr>\n",
       "      <th>itemid</th>\n",
       "      <td>int32</td>\n",
       "      <td>914057</td>\n",
       "      <td>0.0</td>\n",
       "      <td>12025</td>\n",
       "    </tr>\n",
       "    <tr>\n",
       "      <th>month</th>\n",
       "      <td>int8</td>\n",
       "      <td>914057</td>\n",
       "      <td>0.0</td>\n",
       "      <td>5</td>\n",
       "    </tr>\n",
       "    <tr>\n",
       "      <th>price</th>\n",
       "      <td>float64</td>\n",
       "      <td>914057</td>\n",
       "      <td>0.0</td>\n",
       "      <td>7081</td>\n",
       "    </tr>\n",
       "    <tr>\n",
       "      <th>prop888</th>\n",
       "      <td>int16</td>\n",
       "      <td>914057</td>\n",
       "      <td>0.0</td>\n",
       "      <td>9</td>\n",
       "    </tr>\n",
       "    <tr>\n",
       "      <th>summa</th>\n",
       "      <td>float64</td>\n",
       "      <td>914057</td>\n",
       "      <td>0.0</td>\n",
       "      <td>3756</td>\n",
       "    </tr>\n",
       "    <tr>\n",
       "      <th>summa_norm</th>\n",
       "      <td>float64</td>\n",
       "      <td>914057</td>\n",
       "      <td>0.0</td>\n",
       "      <td>31</td>\n",
       "    </tr>\n",
       "    <tr>\n",
       "      <th>transactionid</th>\n",
       "      <td>int32</td>\n",
       "      <td>914057</td>\n",
       "      <td>0.0</td>\n",
       "      <td>17673</td>\n",
       "    </tr>\n",
       "    <tr>\n",
       "      <th>transactionq</th>\n",
       "      <td>int16</td>\n",
       "      <td>914057</td>\n",
       "      <td>0.0</td>\n",
       "      <td>24</td>\n",
       "    </tr>\n",
       "    <tr>\n",
       "      <th>visitorid</th>\n",
       "      <td>int32</td>\n",
       "      <td>914057</td>\n",
       "      <td>0.0</td>\n",
       "      <td>409322</td>\n",
       "    </tr>\n",
       "    <tr>\n",
       "      <th>weekofyear</th>\n",
       "      <td>int8</td>\n",
       "      <td>914057</td>\n",
       "      <td>0.0</td>\n",
       "      <td>20</td>\n",
       "    </tr>\n",
       "  </tbody>\n",
       "</table>\n",
       "</div>"
      ],
      "text/plain": [
       "                   Тип  Общ.кол  % пропусков  Кол-во уник.значений\n",
       "available      float64   914057          0.0                     3\n",
       "categoryid     float64   914057          0.0                   685\n",
       "date            object   914057          0.0                   139\n",
       "dow               int8   914057          0.0                     7\n",
       "doy              int32   914057          0.0                   139\n",
       "event           object   914057          0.0                     3\n",
       "eventid           int8   914057          0.0                     3\n",
       "hour              int8   914057          0.0                    24\n",
       "itemid           int32   914057          0.0                 12025\n",
       "month             int8   914057          0.0                     5\n",
       "price          float64   914057          0.0                  7081\n",
       "prop888          int16   914057          0.0                     9\n",
       "summa          float64   914057          0.0                  3756\n",
       "summa_norm     float64   914057          0.0                    31\n",
       "transactionid    int32   914057          0.0                 17673\n",
       "transactionq     int16   914057          0.0                    24\n",
       "visitorid        int32   914057          0.0                409322\n",
       "weekofyear        int8   914057          0.0                    20"
      ]
     },
     "metadata": {},
     "output_type": "display_data"
    }
   ],
   "source": [
    "display_data(df)"
   ]
  },
  {
   "cell_type": "code",
   "execution_count": 243,
   "id": "666e4f52",
   "metadata": {},
   "outputs": [
    {
     "data": {
      "text/plain": [
       "array([   -1,  4000, 11117, ...,  4385, 13872, 17579])"
      ]
     },
     "execution_count": 243,
     "metadata": {},
     "output_type": "execute_result"
    }
   ],
   "source": [
    "df.transactionid.unique()"
   ]
  },
  {
   "cell_type": "code",
   "execution_count": 233,
   "id": "5b376845",
   "metadata": {},
   "outputs": [
    {
     "name": "stderr",
     "output_type": "stream",
     "text": [
      "C:\\Users\\Nata\\Anaconda3\\envs\\TimeSeries\\lib\\site-packages\\seaborn\\_decorators.py:43: FutureWarning: Pass the following variable as a keyword arg: x. From version 0.12, the only valid positional argument will be `data`, and passing other arguments without an explicit keyword will result in an error or misinterpretation.\n",
      "  FutureWarning\n"
     ]
    },
    {
     "data": {
      "image/png": "[encoded data removed]",
      "text/plain": [
       "<Figure size 1000x700 with 1 Axes>"
      ]
     },
     "metadata": {},
     "output_type": "display_data"
    }
   ],
   "source": [
    "plt.figure(figsize=(10,7), dpi =100)\n",
    "plot = sns.countplot(df['weekofyear'], order=df['weekofyear'].value_counts().index)\n",
    "plot.set_xticklabels(plot.get_xticklabels(), rotation = 45)\n",
    "plt.tight_layout()"
   ]
  },
  {
   "cell_type": "code",
   "execution_count": 249,
   "id": "cb4b87bc",
   "metadata": {},
   "outputs": [
    {
     "name": "stderr",
     "output_type": "stream",
     "text": [
      "C:\\Users\\Nata\\Anaconda3\\envs\\TimeSeries\\lib\\site-packages\\seaborn\\_decorators.py:43: FutureWarning: Pass the following variable as a keyword arg: x. From version 0.12, the only valid positional argument will be `data`, and passing other arguments without an explicit keyword will result in an error or misinterpretation.\n",
      "  FutureWarning\n"
     ]
    },
    {
     "data": {
      "image/png": "[encoded data removed]",
      "text/plain": [
       "<Figure size 1000x700 with 1 Axes>"
      ]
     },
     "metadata": {},
     "output_type": "display_data"
    }
   ],
   "source": [
    "plt.figure(figsize=(10,7), dpi =100)\n",
    "plot = sns.countplot(df[df['transactionid']>0]['dow'], order=df[df['transactionid']>0]['dow'].value_counts().index)\n",
    "plot.set_xticklabels(plot.get_xticklabels(), rotation = 45)\n",
    "plt.tight_layout()"
   ]
  },
  {
   "cell_type": "code",
   "execution_count": 248,
   "id": "175a789d",
   "metadata": {},
   "outputs": [
    {
     "name": "stderr",
     "output_type": "stream",
     "text": [
      "C:\\Users\\Nata\\Anaconda3\\envs\\TimeSeries\\lib\\site-packages\\seaborn\\_decorators.py:43: FutureWarning: Pass the following variable as a keyword arg: x. From version 0.12, the only valid positional argument will be `data`, and passing other arguments without an explicit keyword will result in an error or misinterpretation.\n",
      "  FutureWarning\n"
     ]
    },
    {
     "data": {
      "image/png": "[encoded data removed]",
      "text/plain": [
       "<Figure size 1000x700 with 1 Axes>"
      ]
     },
     "metadata": {},
     "output_type": "display_data"
    }
   ],
   "source": [
    "plt.figure(figsize=(10,7), dpi =100)\n",
    "plot = sns.countplot(df[df['transactionid']>1]['doy'], order=df[df['transactionid']>1]['doy'].value_counts().index)\n",
    "plot.set_xticklabels(plot.get_xticklabels(), rotation = 45)\n",
    "plt.tight_layout()"
   ]
  },
  {
   "cell_type": "code",
   "execution_count": 247,
   "id": "685955fb",
   "metadata": {},
   "outputs": [
    {
     "data": {
      "image/png": "[encoded data removed]",
      "text/plain": [
       "<Figure size 1008x288 with 1 Axes>"
      ]
     },
     "metadata": {},
     "output_type": "display_data"
    }
   ],
   "source": [
    "get_boxplot(df[df['transactionid']>1], 'dow', 'summa')"
   ]
  },
  {
   "cell_type": "code",
   "execution_count": 250,
   "id": "815105d9",
   "metadata": {},
   "outputs": [
    {
     "data": {
      "image/png": "[encoded data removed]",
      "text/plain": [
       "<Figure size 1080x1080 with 2 Axes>"
      ]
     },
     "metadata": {},
     "output_type": "display_data"
    }
   ],
   "source": [
    "# рисуем тепловую карту необработанных значений\n",
    "num_columns = [x for x in df.columns if not df[x].dtypes == 'object']\n",
    "show_correlation(df, num_columns)"
   ]
  },
  {
   "cell_type": "code",
   "execution_count": 251,
   "id": "e29acdd4",
   "metadata": {},
   "outputs": [
    {
     "data": {
      "image/png": "[encoded data removed]",
      "text/plain": [
       "<Figure size 1080x1080 with 2 Axes>"
      ]
     },
     "metadata": {},
     "output_type": "display_data"
    }
   ],
   "source": [
    "drop_collinear_features = ['month','doy','summa'] # 'number_of_reviews','indicator','price_range','quantity_rest','date_from_max']\n",
    "                           \n",
    "num_columns = list(set(num_columns)-set(drop_collinear_features))\n",
    "show_correlation(df, num_columns)"
   ]
  },
  {
   "cell_type": "code",
   "execution_count": 254,
   "id": "50854cee",
   "metadata": {},
   "outputs": [
    {
     "data": {
      "text/plain": [
       "transactionq     1.000000\n",
       "summa            0.638268\n",
       "summa_norm       0.630530\n",
       "transactionid    0.497742\n",
       "eventid          0.466668\n",
       "price            0.015225\n",
       "hour             0.014809\n",
       "available        0.008702\n",
       "dow              0.008078\n",
       "categoryid       0.003403\n",
       "doy              0.003353\n",
       "month            0.003249\n",
       "weekofyear       0.003198\n",
       "itemid           0.002950\n",
       "prop888          0.001738\n",
       "visitorid        0.000783\n",
       "Name: transactionq, dtype: float64"
      ]
     },
     "execution_count": 254,
     "metadata": {},
     "output_type": "execute_result"
    }
   ],
   "source": [
    "most_correlated = df.corr().abs()['transactionq'].sort_values(ascending=False)\n",
    "most_correlated"
   ]
  },
  {
   "cell_type": "code",
   "execution_count": null,
   "id": "969d171d",
   "metadata": {},
   "outputs": [],
   "source": []
  },
  {
   "cell_type": "code",
   "execution_count": null,
   "id": "4f64cb8f",
   "metadata": {},
   "outputs": [],
   "source": []
  },
  {
   "cell_type": "code",
   "execution_count": null,
   "id": "294bfa87",
   "metadata": {},
   "outputs": [],
   "source": []
  },
  {
   "cell_type": "code",
   "execution_count": null,
   "id": "cc91db3c",
   "metadata": {},
   "outputs": [],
   "source": []
  },
  {
   "cell_type": "code",
   "execution_count": null,
   "id": "1d000bd5",
   "metadata": {},
   "outputs": [],
   "source": []
  },
  {
   "cell_type": "code",
   "execution_count": null,
   "id": "171cf5fc",
   "metadata": {},
   "outputs": [],
   "source": []
  },
  {
   "cell_type": "code",
   "execution_count": null,
   "id": "2af777a6",
   "metadata": {},
   "outputs": [],
   "source": []
  },
  {
   "cell_type": "code",
   "execution_count": null,
   "id": "fdab29bf",
   "metadata": {},
   "outputs": [],
   "source": []
  },
  {
   "cell_type": "markdown",
   "id": "de57b7a1",
   "metadata": {},
   "source": [
    "# LightFM"
   ]
  },
  {
   "cell_type": "code",
   "execution_count": 59,
   "id": "34fd9375",
   "metadata": {},
   "outputs": [
    {
     "name": "stderr",
     "output_type": "stream",
     "text": [
      "C:\\Users\\Nata\\Anaconda3\\envs\\TimeSeries\\lib\\site-packages\\lightfm\\_lightfm_fast.py:10: UserWarning: LightFM was compiled without OpenMP support. Only a single thread will be used.\n",
      "  \"LightFM was compiled without OpenMP support. \"\n"
     ]
    }
   ],
   "source": [
    "from lightfm import LightFM\n",
    "import scipy"
   ]
  },
  {
   "cell_type": "code",
   "execution_count": 60,
   "id": "d56449ac",
   "metadata": {},
   "outputs": [
    {
     "data": {
      "text/html": [
       "<div>\n",
       "<style scoped>\n",
       "    .dataframe tbody tr th:only-of-type {\n",
       "        vertical-align: middle;\n",
       "    }\n",
       "\n",
       "    .dataframe tbody tr th {\n",
       "        vertical-align: top;\n",
       "    }\n",
       "\n",
       "    .dataframe thead th {\n",
       "        text-align: right;\n",
       "    }\n",
       "</style>\n",
       "<table border=\"1\" class=\"dataframe\">\n",
       "  <thead>\n",
       "    <tr style=\"text-align: right;\">\n",
       "      <th></th>\n",
       "      <th>doy</th>\n",
       "      <th>visitorid</th>\n",
       "      <th>itemid</th>\n",
       "      <th>view</th>\n",
       "      <th>addtocart</th>\n",
       "      <th>transaction</th>\n",
       "      <th>rating</th>\n",
       "    </tr>\n",
       "  </thead>\n",
       "  <tbody>\n",
       "    <tr>\n",
       "      <th>0</th>\n",
       "      <td>123</td>\n",
       "      <td>385</td>\n",
       "      <td>47324</td>\n",
       "      <td>1.0</td>\n",
       "      <td>0.0</td>\n",
       "      <td>0.0</td>\n",
       "      <td>0.0</td>\n",
       "    </tr>\n",
       "    <tr>\n",
       "      <th>1</th>\n",
       "      <td>123</td>\n",
       "      <td>1819</td>\n",
       "      <td>127969</td>\n",
       "      <td>1.0</td>\n",
       "      <td>0.0</td>\n",
       "      <td>0.0</td>\n",
       "      <td>0.0</td>\n",
       "    </tr>\n",
       "    <tr>\n",
       "      <th>2</th>\n",
       "      <td>123</td>\n",
       "      <td>2231</td>\n",
       "      <td>340329</td>\n",
       "      <td>1.0</td>\n",
       "      <td>0.0</td>\n",
       "      <td>0.0</td>\n",
       "      <td>0.0</td>\n",
       "    </tr>\n",
       "    <tr>\n",
       "      <th>3</th>\n",
       "      <td>123</td>\n",
       "      <td>2337</td>\n",
       "      <td>218126</td>\n",
       "      <td>1.0</td>\n",
       "      <td>0.0</td>\n",
       "      <td>0.0</td>\n",
       "      <td>0.0</td>\n",
       "    </tr>\n",
       "    <tr>\n",
       "      <th>4</th>\n",
       "      <td>123</td>\n",
       "      <td>3194</td>\n",
       "      <td>277139</td>\n",
       "      <td>1.0</td>\n",
       "      <td>0.0</td>\n",
       "      <td>0.0</td>\n",
       "      <td>0.0</td>\n",
       "    </tr>\n",
       "    <tr>\n",
       "      <th>5</th>\n",
       "      <td>123</td>\n",
       "      <td>3902</td>\n",
       "      <td>434171</td>\n",
       "      <td>1.0</td>\n",
       "      <td>0.0</td>\n",
       "      <td>0.0</td>\n",
       "      <td>0.0</td>\n",
       "    </tr>\n",
       "    <tr>\n",
       "      <th>6</th>\n",
       "      <td>123</td>\n",
       "      <td>3997</td>\n",
       "      <td>158114</td>\n",
       "      <td>1.0</td>\n",
       "      <td>0.0</td>\n",
       "      <td>0.0</td>\n",
       "      <td>0.0</td>\n",
       "    </tr>\n",
       "    <tr>\n",
       "      <th>7</th>\n",
       "      <td>123</td>\n",
       "      <td>4233</td>\n",
       "      <td>144540</td>\n",
       "      <td>1.0</td>\n",
       "      <td>0.0</td>\n",
       "      <td>0.0</td>\n",
       "      <td>0.0</td>\n",
       "    </tr>\n",
       "    <tr>\n",
       "      <th>8</th>\n",
       "      <td>123</td>\n",
       "      <td>4991</td>\n",
       "      <td>96883</td>\n",
       "      <td>1.0</td>\n",
       "      <td>0.0</td>\n",
       "      <td>0.0</td>\n",
       "      <td>0.0</td>\n",
       "    </tr>\n",
       "    <tr>\n",
       "      <th>9</th>\n",
       "      <td>123</td>\n",
       "      <td>4991</td>\n",
       "      <td>372845</td>\n",
       "      <td>1.0</td>\n",
       "      <td>0.0</td>\n",
       "      <td>0.0</td>\n",
       "      <td>0.0</td>\n",
       "    </tr>\n",
       "  </tbody>\n",
       "</table>\n",
       "</div>"
      ],
      "text/plain": [
       "   doy  visitorid  itemid  view  addtocart  transaction  rating\n",
       "0  123        385   47324   1.0        0.0          0.0     0.0\n",
       "1  123       1819  127969   1.0        0.0          0.0     0.0\n",
       "2  123       2231  340329   1.0        0.0          0.0     0.0\n",
       "3  123       2337  218126   1.0        0.0          0.0     0.0\n",
       "4  123       3194  277139   1.0        0.0          0.0     0.0\n",
       "5  123       3902  434171   1.0        0.0          0.0     0.0\n",
       "6  123       3997  158114   1.0        0.0          0.0     0.0\n",
       "7  123       4233  144540   1.0        0.0          0.0     0.0\n",
       "8  123       4991   96883   1.0        0.0          0.0     0.0\n",
       "9  123       4991  372845   1.0        0.0          0.0     0.0"
      ]
     },
     "execution_count": 60,
     "metadata": {},
     "output_type": "execute_result"
    }
   ],
   "source": [
    "df.head(10)"
   ]
  },
  {
   "cell_type": "code",
   "execution_count": 79,
   "id": "0db1b50e",
   "metadata": {},
   "outputs": [
    {
     "name": "stdout",
     "output_type": "stream",
     "text": [
      "<class 'pandas.core.frame.DataFrame'>\n",
      "Int64Index: 674732 entries, 0 to 674731\n",
      "Data columns (total 5 columns):\n",
      " #   Column     Non-Null Count   Dtype\n",
      "---  ------     --------------   -----\n",
      " 0   doy        674732 non-null  int16\n",
      " 1   rating     674732 non-null  int16\n",
      " 2   itemid     674732 non-null  int32\n",
      " 3   visitorid  674732 non-null  int32\n",
      " 4   score      674732 non-null  int16\n",
      "dtypes: int16(3), int32(2)\n",
      "memory usage: 14.2 MB\n"
     ]
    }
   ],
   "source": [
    "df.info()"
   ]
  },
  {
   "cell_type": "code",
   "execution_count": 62,
   "id": "778a3a98",
   "metadata": {},
   "outputs": [
    {
     "name": "stdout",
     "output_type": "stream",
     "text": [
      "<class 'pandas.core.frame.DataFrame'>\n",
      "Int64Index: 674732 entries, 0 to 674731\n",
      "Data columns (total 5 columns):\n",
      " #   Column     Non-Null Count   Dtype\n",
      "---  ------     --------------   -----\n",
      " 0   doy        674732 non-null  int16\n",
      " 1   rating     674732 non-null  int16\n",
      " 2   itemid     674732 non-null  int32\n",
      " 3   visitorid  674732 non-null  int32\n",
      " 4   score      674732 non-null  int16\n",
      "dtypes: int16(3), int32(2)\n",
      "memory usage: 14.2 MB\n"
     ]
    }
   ],
   "source": [
    "df = df[['doy', 'rating', 'itemid', 'visitorid']].copy()\n",
    "df['doy'] = df['doy'].astype('int16')\n",
    "df['rating'] = df['rating'].astype('int16')\n",
    "df['itemid'] = df['itemid'].astype('int32')\n",
    "df['visitorid'] = df['visitorid'].astype('int32')\n",
    "\n",
    "arr_range = df['doy'].unique().tolist()\n",
    "#for i in range(arr_range[0], arr_range[-1],9):\n",
    "#  print(i, i+9-1)\n",
    "df.sort_values('doy', inplace=True)\n",
    "\n",
    "df['score'] = (df['rating'] > 20).apply('int16')\n",
    "df.info()"
   ]
  },
  {
   "cell_type": "code",
   "execution_count": 78,
   "id": "83a07256",
   "metadata": {},
   "outputs": [
    {
     "data": {
      "text/plain": [
       "array([123, 124, 125, 126, 127, 128, 129, 130, 131, 132, 133, 134, 135,\n",
       "       136, 137, 138, 139, 140, 141, 142, 143, 144, 145, 146, 147, 148,\n",
       "       149, 150, 151, 152, 153, 154, 155, 156, 157, 158, 159, 160, 161,\n",
       "       162, 163, 164, 165, 166, 167, 168, 169, 170, 171, 172, 173, 174,\n",
       "       175, 176, 177, 178, 179, 180, 181, 182, 183, 184, 185, 186, 187,\n",
       "       188, 189, 190, 191, 192, 193, 194, 195, 196, 197, 198, 199, 200,\n",
       "       201, 202, 203, 204, 205, 206, 207, 208, 209, 210, 211, 212, 213,\n",
       "       214, 215, 216, 217, 218, 219, 220, 221, 222, 223, 224, 225, 226,\n",
       "       227, 228, 229, 230, 231, 232, 233, 234, 235, 236, 237, 238, 239,\n",
       "       240, 241, 242, 243, 244, 245, 246, 247, 248, 249, 250, 251, 252,\n",
       "       253, 254, 255, 256, 257, 258, 259, 260, 261], dtype=int16)"
      ]
     },
     "execution_count": 78,
     "metadata": {},
     "output_type": "execute_result"
    }
   ],
   "source": [
    "df.doy.unique()"
   ]
  },
  {
   "cell_type": "code",
   "execution_count": 67,
   "id": "e6564928",
   "metadata": {},
   "outputs": [
    {
     "name": "stdout",
     "output_type": "stream",
     "text": [
      "123 131\n",
      "132 140\n",
      "141 149\n",
      "150 158\n",
      "159 167\n",
      "168 176\n",
      "177 185\n",
      "186 194\n",
      "195 203\n",
      "204 212\n",
      "213 221\n",
      "222 230\n",
      "231 239\n",
      "240 248\n",
      "249 257\n",
      "258 266\n"
     ]
    }
   ],
   "source": [
    "arr_range = df['doy'].unique().tolist()\n",
    "for i in range(arr_range[0], arr_range[-1],9):\n",
    "  print(i, i+9-1)"
   ]
  },
  {
   "cell_type": "code",
   "execution_count": 86,
   "id": "555487e5",
   "metadata": {},
   "outputs": [
    {
     "name": "stdout",
     "output_type": "stream",
     "text": [
      "0\n",
      "(22652, 7040)\n",
      "(2721, 2263)\n",
      "(25070, 7255)\n",
      "(25070, 7255)\n"
     ]
    },
    {
     "name": "stderr",
     "output_type": "stream",
     "text": [
      "100%|██████████| 15/15 [00:00<00:00, 82.87it/s]\n"
     ]
    },
    {
     "name": "stdout",
     "output_type": "stream",
     "text": [
      "Recomendations ids: [5761 1847  772  550 4973 5688 3251 5309 3054 2307]\n",
      "Recomendations for user 14: [369447 119736  51354  37029 320130 365015 210087 340921 198209 150882]\n"
     ]
    },
    {
     "name": "stderr",
     "output_type": "stream",
     "text": [
      "100%|██████████| 2721/2721 [00:00<00:00, 6006.63it/s]\n"
     ]
    },
    {
     "name": "stdout",
     "output_type": "stream",
     "text": [
      "Mean Average Precision at 10: 0.0007350239\n",
      "9\n",
      "(29063, 7695)\n",
      "(3693, 2842)\n",
      "(32200, 7948)\n",
      "(32200, 7948)\n"
     ]
    },
    {
     "name": "stderr",
     "output_type": "stream",
     "text": [
      "100%|██████████| 15/15 [00:00<00:00, 34.40it/s]\n"
     ]
    },
    {
     "name": "stdout",
     "output_type": "stream",
     "text": [
      "Recomendations ids: [ 592 6638 5436 5383 3641 4705 5368 6315  798 2019]\n",
      "Recomendations for user 14: [ 37029 387373 318333 315543 215596 274435 314789 369158  49544 119736]\n"
     ]
    },
    {
     "name": "stderr",
     "output_type": "stream",
     "text": [
      "100%|██████████| 3693/3693 [00:00<00:00, 5603.95it/s]\n"
     ]
    },
    {
     "name": "stdout",
     "output_type": "stream",
     "text": [
      "Mean Average Precision at 10: 0.0005415651\n",
      "18\n",
      "(26560, 7268)\n",
      "(3564, 2733)\n",
      "(29657, 7510)\n",
      "(29657, 7510)\n"
     ]
    },
    {
     "name": "stderr",
     "output_type": "stream",
     "text": [
      "100%|██████████| 15/15 [00:00<00:00, 76.53it/s]\n"
     ]
    },
    {
     "name": "stdout",
     "output_type": "stream",
     "text": [
      "Recomendations ids: [4995 4105 5797 5783  888 1901 5060 7340 6170 5354]\n",
      "Recomendations for user 14: [309778 257040 359844 358895  57245 119736 314789 456056 382751 334273]\n"
     ]
    },
    {
     "name": "stderr",
     "output_type": "stream",
     "text": [
      "100%|██████████| 3564/3564 [00:00<00:00, 6624.53it/s]\n"
     ]
    },
    {
     "name": "stdout",
     "output_type": "stream",
     "text": [
      "Mean Average Precision at 10: 0.0003507295\n",
      "27\n",
      "(26353, 7283)\n",
      "(2747, 2362)\n",
      "(28788, 7468)\n",
      "(28788, 7468)\n"
     ]
    },
    {
     "name": "stderr",
     "output_type": "stream",
     "text": [
      "100%|██████████| 15/15 [00:00<00:00, 93.76it/s]\n"
     ]
    },
    {
     "name": "stdout",
     "output_type": "stream",
     "text": [
      "Recomendations ids: [4982 1904 4115 3728 5922 5108 5699 2375 7294 6760]\n",
      "Recomendations for user 14: [309778 119736 257040 234255 369158 318333 355994 150882 456056 420960]\n"
     ]
    },
    {
     "name": "stderr",
     "output_type": "stream",
     "text": [
      "100%|██████████| 2747/2747 [00:00<00:00, 7025.60it/s]\n"
     ]
    },
    {
     "name": "stdout",
     "output_type": "stream",
     "text": [
      "Mean Average Precision at 10: 0.0003033612\n",
      "36\n",
      "(24923, 7558)\n",
      "(4294, 3341)\n",
      "(28703, 7935)\n",
      "(28703, 7935)\n"
     ]
    },
    {
     "name": "stderr",
     "output_type": "stream",
     "text": [
      "100%|██████████| 15/15 [00:00<00:00, 78.13it/s]\n"
     ]
    },
    {
     "name": "stdout",
     "output_type": "stream",
     "text": [
      "Recomendations ids: [9 8 7 6 5 4 3 2 1 0]\n",
      "Recomendations for user 14: [572 563 496 403 320 233 147  42  25  15]\n"
     ]
    },
    {
     "name": "stderr",
     "output_type": "stream",
     "text": [
      "100%|██████████| 4294/4294 [00:00<00:00, 5858.13it/s]\n"
     ]
    },
    {
     "name": "stdout",
     "output_type": "stream",
     "text": [
      "Mean Average Precision at 10: 0.0002199451\n",
      "45\n",
      "(27187, 7889)\n",
      "(3615, 2918)\n",
      "(30327, 8140)\n",
      "(30327, 8140)\n"
     ]
    },
    {
     "name": "stderr",
     "output_type": "stream",
     "text": [
      "100%|██████████| 15/15 [00:00<00:00, 72.47it/s]\n"
     ]
    },
    {
     "name": "stdout",
     "output_type": "stream",
     "text": [
      "Recomendations ids: [5418 4802 1938 3556 1531 1844  673 1135 7714 2536]\n",
      "Recomendations for user 14: [309778 274798 111530 206241  89775 106547  40140  67533 441966 148855]\n"
     ]
    },
    {
     "name": "stderr",
     "output_type": "stream",
     "text": [
      "100%|██████████| 3615/3615 [00:00<00:00, 6085.86it/s]\n"
     ]
    },
    {
     "name": "stdout",
     "output_type": "stream",
     "text": [
      "Mean Average Precision at 10: 0.0004303058\n",
      "54\n",
      "(25683, 7673)\n",
      "(2708, 2372)\n",
      "(28109, 7918)\n",
      "(28109, 7918)\n"
     ]
    },
    {
     "name": "stderr",
     "output_type": "stream",
     "text": [
      "100%|██████████| 15/15 [00:00<00:00, 98.69it/s]\n"
     ]
    },
    {
     "name": "stdout",
     "output_type": "stream",
     "text": [
      "Recomendations ids: [ 779 3897 2002 7446 6311 5333 7728 1160 1840 2687]\n",
      "Recomendations for user 14: [ 48030 231482 119736 439963 372169 314201 456056  70314 109109 161623]\n"
     ]
    },
    {
     "name": "stderr",
     "output_type": "stream",
     "text": [
      "100%|██████████| 2708/2708 [00:00<00:00, 7279.59it/s]\n"
     ]
    },
    {
     "name": "stdout",
     "output_type": "stream",
     "text": [
      "Mean Average Precision at 10: 0.0003692762\n",
      "63\n",
      "(28042, 7885)\n",
      "(4498, 3298)\n",
      "(32075, 8208)\n",
      "(32075, 8208)\n"
     ]
    },
    {
     "name": "stderr",
     "output_type": "stream",
     "text": [
      "100%|██████████| 15/15 [00:00<00:00, 44.59it/s]\n"
     ]
    },
    {
     "name": "stdout",
     "output_type": "stream",
     "text": [
      "Recomendations ids: [8125  819 7342 7992 2080 7414 5931  829 6944 1225]\n",
      "Recomendations for user 14: [461686  48030 416017 454422 119736 420960 338395  48378 393028  71733]\n"
     ]
    },
    {
     "name": "stderr",
     "output_type": "stream",
     "text": [
      "100%|██████████| 4498/4498 [00:00<00:00, 6713.43it/s]\n"
     ]
    },
    {
     "name": "stdout",
     "output_type": "stream",
     "text": [
      "Mean Average Precision at 10: 0.0000741070\n",
      "72\n",
      "(28205, 7913)\n",
      "(4132, 3116)\n",
      "(31818, 8189)\n",
      "(31818, 8189)\n"
     ]
    },
    {
     "name": "stderr",
     "output_type": "stream",
     "text": [
      "100%|██████████| 15/15 [00:00<00:00, 72.46it/s]\n"
     ]
    },
    {
     "name": "stdout",
     "output_type": "stream",
     "text": [
      "Recomendations ids: [7804 6738 2056 3680  289 3801 8095 1515 5902  191]\n",
      "Recomendations for user 14: [445351 384302 119736 213834  17478 219512 461686  89323 338395  11279]\n"
     ]
    },
    {
     "name": "stderr",
     "output_type": "stream",
     "text": [
      "100%|██████████| 4132/4132 [00:00<00:00, 5953.90it/s]\n"
     ]
    },
    {
     "name": "stdout",
     "output_type": "stream",
     "text": [
      "Mean Average Precision at 10: 0.0006453695\n",
      "81\n",
      "(29817, 7934)\n",
      "(3513, 2769)\n",
      "(32891, 8201)\n",
      "(32891, 8201)\n"
     ]
    },
    {
     "name": "stderr",
     "output_type": "stream",
     "text": [
      "100%|██████████| 15/15 [00:00<00:00, 47.01it/s]\n"
     ]
    },
    {
     "name": "stdout",
     "output_type": "stream",
     "text": [
      "Recomendations ids: [7823  629    9 4361 3714 7390 2076 2593  802 7312]\n",
      "Recomendations for user 14: [445351  37029    546 248455 213834 420960 119736 149582  48030 416017]\n"
     ]
    },
    {
     "name": "stderr",
     "output_type": "stream",
     "text": [
      "100%|██████████| 3513/3513 [00:00<00:00, 6375.69it/s]\n"
     ]
    },
    {
     "name": "stdout",
     "output_type": "stream",
     "text": [
      "Mean Average Precision at 10: 0.0001897713\n",
      "90\n",
      "(25005, 7421)\n",
      "(2202, 1961)\n",
      "(26964, 7618)\n",
      "(26964, 7618)\n"
     ]
    },
    {
     "name": "stderr",
     "output_type": "stream",
     "text": [
      "100%|██████████| 15/15 [00:00<00:00, 96.15it/s]\n"
     ]
    },
    {
     "name": "stdout",
     "output_type": "stream",
     "text": [
      "Recomendations ids: [3554 7535  156 1942   10 3006 2084 4037 6892 5240]\n",
      "Recomendations for user 14: [219512 461686   9877 119736    546 186702 128745 248455 420960 320130]\n"
     ]
    },
    {
     "name": "stderr",
     "output_type": "stream",
     "text": [
      "100%|██████████| 2202/2202 [00:00<00:00, 6946.41it/s]\n"
     ]
    },
    {
     "name": "stdout",
     "output_type": "stream",
     "text": [
      "Mean Average Precision at 10: 0.0006559693\n",
      "99\n",
      "(23408, 7245)\n",
      "(3876, 2814)\n",
      "(26828, 7565)\n",
      "(26828, 7565)\n"
     ]
    },
    {
     "name": "stderr",
     "output_type": "stream",
     "text": [
      "100%|██████████| 15/15 [00:00<00:00, 101.37it/s]\n"
     ]
    },
    {
     "name": "stdout",
     "output_type": "stream",
     "text": [
      "Recomendations ids: [3547 6231 7473 3054 1928 5970 4164 6360 1846 4220]\n",
      "Recomendations for user 14: [219512 384302 461686 190000 119736 368488 257040 391226 114070 259962]\n"
     ]
    },
    {
     "name": "stderr",
     "output_type": "stream",
     "text": [
      "100%|██████████| 3876/3876 [00:00<00:00, 7111.94it/s]\n"
     ]
    },
    {
     "name": "stdout",
     "output_type": "stream",
     "text": [
      "Mean Average Precision at 10: 0.0003439972\n",
      "108\n",
      "(24121, 7305)\n",
      "(3645, 2679)\n",
      "(27357, 7610)\n",
      "(27357, 7610)\n"
     ]
    },
    {
     "name": "stderr",
     "output_type": "stream",
     "text": [
      "100%|██████████| 15/15 [00:00<00:00, 87.21it/s]\n"
     ]
    },
    {
     "name": "stdout",
     "output_type": "stream",
     "text": [
      "Recomendations ids: [4012    9 7522 2006 4935 4113  712 6753  769 4623]\n",
      "Recomendations for user 14: [248455    546 461686 125831 303178 254290  46126 414428  49418 284312]\n"
     ]
    },
    {
     "name": "stderr",
     "output_type": "stream",
     "text": [
      "100%|██████████| 3645/3645 [00:00<00:00, 6591.33it/s]\n"
     ]
    },
    {
     "name": "stdout",
     "output_type": "stream",
     "text": [
      "Mean Average Precision at 10: 0.0002591068\n",
      "117\n",
      "(23581, 7012)\n",
      "(2546, 2062)\n",
      "(25882, 7234)\n",
      "(25882, 7234)\n"
     ]
    },
    {
     "name": "stderr",
     "output_type": "stream",
     "text": [
      "100%|██████████| 15/15 [00:00<00:00, 107.16it/s]\n"
     ]
    },
    {
     "name": "stdout",
     "output_type": "stream",
     "text": [
      "Recomendations ids: [4963 4635 4725 7150 2428 5253 6777 6823 5530 1149]\n",
      "Recomendations for user 14: [320130 298056 303715 461686 158666 338660 438484 441668 355994  76060]\n"
     ]
    },
    {
     "name": "stderr",
     "output_type": "stream",
     "text": [
      "100%|██████████| 2546/2546 [00:00<00:00, 7316.12it/s]\n"
     ]
    },
    {
     "name": "stdout",
     "output_type": "stream",
     "text": [
      "Mean Average Precision at 10: 0.0004909662\n",
      "126\n",
      "(25571, 7052)\n",
      "(3690, 2600)\n",
      "(28884, 7324)\n",
      "(28884, 7324)\n"
     ]
    },
    {
     "name": "stderr",
     "output_type": "stream",
     "text": [
      "100%|██████████| 15/15 [00:00<00:00, 101.36it/s]\n"
     ]
    },
    {
     "name": "stdout",
     "output_type": "stream",
     "text": [
      "Recomendations ids: [3829 7239 2969 3098 6363 7230  677 1858 5312 3432]\n",
      "Recomendations for user 14: [245085 461686 190000 198784 405380 461190  46130 119736 338395 219512]\n"
     ]
    },
    {
     "name": "stderr",
     "output_type": "stream",
     "text": [
      "100%|██████████| 3690/3690 [00:00<00:00, 6936.08it/s]\n"
     ]
    },
    {
     "name": "stdout",
     "output_type": "stream",
     "text": [
      "Mean Average Precision at 10: 0.0005420054\n",
      "135\n",
      "(6901, 4003)\n",
      "(270, 299)\n",
      "(7121, 4059)\n",
      "(7121, 4059)\n"
     ]
    },
    {
     "name": "stderr",
     "output_type": "stream",
     "text": [
      "100%|██████████| 15/15 [00:00<00:00, 272.73it/s]\n"
     ]
    },
    {
     "name": "stdout",
     "output_type": "stream",
     "text": [
      "Recomendations ids: [2751   81 2073 2846 3621  329  780 3197 2753 1849]\n",
      "Recomendations for user 14: [314579   9877 241555 325310 416357  38965  91235 363125 314801 215051]\n"
     ]
    },
    {
     "name": "stderr",
     "output_type": "stream",
     "text": [
      "100%|██████████| 270/270 [00:00<00:00, 6279.46it/s]"
     ]
    },
    {
     "name": "stdout",
     "output_type": "stream",
     "text": [
      "Mean Average Precision at 10: 0.0000000000\n"
     ]
    },
    {
     "name": "stderr",
     "output_type": "stream",
     "text": [
      "\n"
     ]
    }
   ],
   "source": [
    "arr_range = df['doy'].unique().tolist()\n",
    "for i in range(0,len(arr_range),9):\n",
    "    print(i)\n",
    "    start = arr_range[i]\n",
    "    if (i+8) < len(arr_range)-1:\n",
    "        end = arr_range[i+8]\n",
    "    else:\n",
    "        end = arr_range[-1]\n",
    "\n",
    "    ratings = df[(df.doy>=start)&(df.doy<=end)]\n",
    "    train = ratings[(ratings.doy>=start)&(ratings.doy<end)]\n",
    "    test = ratings[ratings.doy==end]\n",
    "\n",
    "    train_pivot = pd.pivot_table(\n",
    "        train,\n",
    "        index=\"visitorid\", \n",
    "        columns=\"itemid\", \n",
    "        values=\"score\"\n",
    "        )\n",
    "    test_pivot = pd.pivot_table(\n",
    "        test,\n",
    "        index=\"visitorid\", \n",
    "        columns=\"itemid\", \n",
    "        values=\"score\"\n",
    "        )\n",
    "\n",
    "    print(train_pivot.shape)\n",
    "    print(test_pivot.shape)\n",
    "    ## (751, 1616)\n",
    "    ## (301, 1448)\n",
    "\n",
    "    shell = pd.pivot_table(\n",
    "        ratings, \n",
    "        index=\"visitorid\", \n",
    "        columns=\"itemid\", \n",
    "        values=\"score\", \n",
    "        aggfunc=lambda x: 0\n",
    "        )\n",
    "\n",
    "    train_pivot = shell + train_pivot\n",
    "    test_pivot = shell + test_pivot\n",
    "\n",
    "    train_pivot = (train_pivot + 1).fillna(0)\n",
    "    test_pivot = (test_pivot + 1).fillna(0)\n",
    "    print(train_pivot.shape)\n",
    "    print(test_pivot.shape)\n",
    "    ## (943, 1682)\n",
    "    ## (943, 1682)\n",
    "\n",
    "\n",
    "    train_pivot_sparse = scipy.sparse.csr_matrix(train_pivot.values)\n",
    "    test_pivot_sparse = scipy.sparse.csr_matrix(test_pivot.values)\n",
    "\n",
    "    model = AlternatingLeastSquares(factors=3, random_state=42)\n",
    "    model.fit(train_pivot_sparse)\n",
    "\n",
    "    unique_items = np.array(train_pivot.columns)\n",
    "    user_id = 14\n",
    "    recomendations_ids, scores = model.recommend(user_id, train_pivot_sparse[user_id])\n",
    "    recomendations = unique_items[recomendations_ids]\n",
    "    print('Recomendations ids: {}'.format(recomendations_ids))\n",
    "    print('Recomendations for user {}: {}'.format(user_id, recomendations))\n",
    "\n",
    "    ## Recomendations ids: [293 116  99 275 244 287 283 150 125 596]\n",
    "    ## Recomendations for user 14: [294 117 100 276 245 288 284 151 126 597]\n",
    "\n",
    "    map_at10 = mean_average_precision_at_k(model, train_pivot_sparse, test_pivot_sparse, K=3)\n",
    "    print('Mean Average Precision at 10: {:.10f}'.format(map_at10))\n",
    "\n",
    "    ## Mean Average Precision at 10: 0.087\n"
   ]
  },
  {
   "cell_type": "code",
   "execution_count": 102,
   "id": "eeb633b2",
   "metadata": {},
   "outputs": [
    {
     "data": {
      "text/plain": [
       "<AxesSubplot:>"
      ]
     },
     "execution_count": 102,
     "metadata": {},
     "output_type": "execute_result"
    },
    {
     "data": {
      "image/png": "[encoded data removed]",
      "text/plain": [
       "<Figure size 432x288 with 1 Axes>"
      ]
     },
     "metadata": {
      "needs_background": "light"
     },
     "output_type": "display_data"
    }
   ],
   "source": [
    "# Смотрим по рейтингу, что покупалось более 1 раза: покупка оценивается 10 баллов,\n",
    "# значит yfc bynthtcetn htqnbyu >20\n",
    "df[df.rating>20].rating.hist(bins=50)"
   ]
  },
  {
   "cell_type": "code",
   "execution_count": 124,
   "id": "f6f088aa",
   "metadata": {},
   "outputs": [
    {
     "name": "stdout",
     "output_type": "stream",
     "text": [
      "<class 'pandas.core.frame.DataFrame'>\n",
      "Int64Index: 674732 entries, 0 to 674731\n",
      "Data columns (total 4 columns):\n",
      " #   Column     Non-Null Count   Dtype\n",
      "---  ------     --------------   -----\n",
      " 0   doy        674732 non-null  int16\n",
      " 1   rating     674732 non-null  int16\n",
      " 2   itemid     674732 non-null  int32\n",
      " 3   visitorid  674732 non-null  int32\n",
      "dtypes: int16(2), int32(2)\n",
      "memory usage: 12.9 MB\n"
     ]
    }
   ],
   "source": [
    "df.info()"
   ]
  },
  {
   "cell_type": "code",
   "execution_count": 127,
   "id": "3f50fdcf",
   "metadata": {},
   "outputs": [
    {
     "data": {
      "text/html": [
       "<div>\n",
       "<style scoped>\n",
       "    .dataframe tbody tr th:only-of-type {\n",
       "        vertical-align: middle;\n",
       "    }\n",
       "\n",
       "    .dataframe tbody tr th {\n",
       "        vertical-align: top;\n",
       "    }\n",
       "\n",
       "    .dataframe thead th {\n",
       "        text-align: right;\n",
       "    }\n",
       "</style>\n",
       "<table border=\"1\" class=\"dataframe\">\n",
       "  <thead>\n",
       "    <tr style=\"text-align: right;\">\n",
       "      <th></th>\n",
       "      <th>doy</th>\n",
       "      <th>rating</th>\n",
       "      <th>itemid</th>\n",
       "      <th>visitorid</th>\n",
       "    </tr>\n",
       "  </thead>\n",
       "  <tbody>\n",
       "    <tr>\n",
       "      <th>0</th>\n",
       "      <td>123</td>\n",
       "      <td>0</td>\n",
       "      <td>47324</td>\n",
       "      <td>385</td>\n",
       "    </tr>\n",
       "    <tr>\n",
       "      <th>2142</th>\n",
       "      <td>123</td>\n",
       "      <td>0</td>\n",
       "      <td>40140</td>\n",
       "      <td>896779</td>\n",
       "    </tr>\n",
       "    <tr>\n",
       "      <th>2143</th>\n",
       "      <td>123</td>\n",
       "      <td>0</td>\n",
       "      <td>266439</td>\n",
       "      <td>896855</td>\n",
       "    </tr>\n",
       "    <tr>\n",
       "      <th>2144</th>\n",
       "      <td>123</td>\n",
       "      <td>0</td>\n",
       "      <td>82340</td>\n",
       "      <td>897623</td>\n",
       "    </tr>\n",
       "    <tr>\n",
       "      <th>2145</th>\n",
       "      <td>123</td>\n",
       "      <td>0</td>\n",
       "      <td>457231</td>\n",
       "      <td>898453</td>\n",
       "    </tr>\n",
       "    <tr>\n",
       "      <th>...</th>\n",
       "      <td>...</td>\n",
       "      <td>...</td>\n",
       "      <td>...</td>\n",
       "      <td>...</td>\n",
       "    </tr>\n",
       "    <tr>\n",
       "      <th>660240</th>\n",
       "      <td>259</td>\n",
       "      <td>0</td>\n",
       "      <td>24150</td>\n",
       "      <td>76415</td>\n",
       "    </tr>\n",
       "    <tr>\n",
       "      <th>660239</th>\n",
       "      <td>259</td>\n",
       "      <td>0</td>\n",
       "      <td>445780</td>\n",
       "      <td>75145</td>\n",
       "    </tr>\n",
       "    <tr>\n",
       "      <th>660238</th>\n",
       "      <td>259</td>\n",
       "      <td>11</td>\n",
       "      <td>57830</td>\n",
       "      <td>73292</td>\n",
       "    </tr>\n",
       "    <tr>\n",
       "      <th>660237</th>\n",
       "      <td>259</td>\n",
       "      <td>0</td>\n",
       "      <td>303715</td>\n",
       "      <td>73192</td>\n",
       "    </tr>\n",
       "    <tr>\n",
       "      <th>660242</th>\n",
       "      <td>259</td>\n",
       "      <td>0</td>\n",
       "      <td>84653</td>\n",
       "      <td>76415</td>\n",
       "    </tr>\n",
       "  </tbody>\n",
       "</table>\n",
       "<p>672102 rows × 4 columns</p>\n",
       "</div>"
      ],
      "text/plain": [
       "        doy  rating  itemid  visitorid\n",
       "0       123       0   47324        385\n",
       "2142    123       0   40140     896779\n",
       "2143    123       0  266439     896855\n",
       "2144    123       0   82340     897623\n",
       "2145    123       0  457231     898453\n",
       "...     ...     ...     ...        ...\n",
       "660240  259       0   24150      76415\n",
       "660239  259       0  445780      75145\n",
       "660238  259      11   57830      73292\n",
       "660237  259       0  303715      73192\n",
       "660242  259       0   84653      76415\n",
       "\n",
       "[672102 rows x 4 columns]"
      ]
     },
     "execution_count": 127,
     "metadata": {},
     "output_type": "execute_result"
    }
   ],
   "source": [
    "train"
   ]
  },
  {
   "cell_type": "code",
   "execution_count": 123,
   "id": "aeb226fb",
   "metadata": {},
   "outputs": [],
   "source": [
    "df.drop(['score'], axis=1, inplace=True)"
   ]
  },
  {
   "cell_type": "code",
   "execution_count": 125,
   "id": "94a5ceef",
   "metadata": {},
   "outputs": [],
   "source": [
    "train = df[df.doy<260].copy()\n",
    "test = df[df.doy==260]\n",
    "# Лисицкая"
   ]
  },
  {
   "cell_type": "code",
   "execution_count": 128,
   "id": "4a205898",
   "metadata": {},
   "outputs": [],
   "source": [
    "df0 = train[['itemid', 'visitorid', 'rating']].copy()\n",
    "#df0.drop(['doy','score'], axis=1,inplace=True)"
   ]
  },
  {
   "cell_type": "code",
   "execution_count": 129,
   "id": "bc8d0e8c",
   "metadata": {},
   "outputs": [
    {
     "data": {
      "text/html": [
       "<div>\n",
       "<style scoped>\n",
       "    .dataframe tbody tr th:only-of-type {\n",
       "        vertical-align: middle;\n",
       "    }\n",
       "\n",
       "    .dataframe tbody tr th {\n",
       "        vertical-align: top;\n",
       "    }\n",
       "\n",
       "    .dataframe thead th {\n",
       "        text-align: right;\n",
       "    }\n",
       "</style>\n",
       "<table border=\"1\" class=\"dataframe\">\n",
       "  <thead>\n",
       "    <tr style=\"text-align: right;\">\n",
       "      <th></th>\n",
       "      <th>itemid</th>\n",
       "      <th>visitorid</th>\n",
       "      <th>rating</th>\n",
       "    </tr>\n",
       "  </thead>\n",
       "  <tbody>\n",
       "    <tr>\n",
       "      <th>0</th>\n",
       "      <td>47324</td>\n",
       "      <td>385</td>\n",
       "      <td>0</td>\n",
       "    </tr>\n",
       "    <tr>\n",
       "      <th>2142</th>\n",
       "      <td>40140</td>\n",
       "      <td>896779</td>\n",
       "      <td>0</td>\n",
       "    </tr>\n",
       "    <tr>\n",
       "      <th>2143</th>\n",
       "      <td>266439</td>\n",
       "      <td>896855</td>\n",
       "      <td>0</td>\n",
       "    </tr>\n",
       "    <tr>\n",
       "      <th>2144</th>\n",
       "      <td>82340</td>\n",
       "      <td>897623</td>\n",
       "      <td>0</td>\n",
       "    </tr>\n",
       "    <tr>\n",
       "      <th>2145</th>\n",
       "      <td>457231</td>\n",
       "      <td>898453</td>\n",
       "      <td>0</td>\n",
       "    </tr>\n",
       "    <tr>\n",
       "      <th>...</th>\n",
       "      <td>...</td>\n",
       "      <td>...</td>\n",
       "      <td>...</td>\n",
       "    </tr>\n",
       "    <tr>\n",
       "      <th>660240</th>\n",
       "      <td>24150</td>\n",
       "      <td>76415</td>\n",
       "      <td>0</td>\n",
       "    </tr>\n",
       "    <tr>\n",
       "      <th>660239</th>\n",
       "      <td>445780</td>\n",
       "      <td>75145</td>\n",
       "      <td>0</td>\n",
       "    </tr>\n",
       "    <tr>\n",
       "      <th>660238</th>\n",
       "      <td>57830</td>\n",
       "      <td>73292</td>\n",
       "      <td>11</td>\n",
       "    </tr>\n",
       "    <tr>\n",
       "      <th>660237</th>\n",
       "      <td>303715</td>\n",
       "      <td>73192</td>\n",
       "      <td>0</td>\n",
       "    </tr>\n",
       "    <tr>\n",
       "      <th>660242</th>\n",
       "      <td>84653</td>\n",
       "      <td>76415</td>\n",
       "      <td>0</td>\n",
       "    </tr>\n",
       "  </tbody>\n",
       "</table>\n",
       "<p>672102 rows × 3 columns</p>\n",
       "</div>"
      ],
      "text/plain": [
       "        itemid  visitorid  rating\n",
       "0        47324        385       0\n",
       "2142     40140     896779       0\n",
       "2143    266439     896855       0\n",
       "2144     82340     897623       0\n",
       "2145    457231     898453       0\n",
       "...        ...        ...     ...\n",
       "660240   24150      76415       0\n",
       "660239  445780      75145       0\n",
       "660238   57830      73292      11\n",
       "660237  303715      73192       0\n",
       "660242   84653      76415       0\n",
       "\n",
       "[672102 rows x 3 columns]"
      ]
     },
     "execution_count": 129,
     "metadata": {},
     "output_type": "execute_result"
    }
   ],
   "source": [
    "df0"
   ]
  },
  {
   "cell_type": "code",
   "execution_count": 130,
   "id": "b9d6b39a",
   "metadata": {},
   "outputs": [
    {
     "ename": "IndexError",
     "evalue": "index 607570610 is out of bounds for axis 0 with size 607566200",
     "output_type": "error",
     "traceback": [
      "\u001b[1;31m---------------------------------------------------------------------------\u001b[0m",
      "\u001b[1;31mIndexError\u001b[0m                                Traceback (most recent call last)",
      "\u001b[1;32m~\\AppData\\Local\\Temp\\ipykernel_5792\\2739787330.py\u001b[0m in \u001b[0;36m<module>\u001b[1;34m\u001b[0m\n\u001b[0;32m      3\u001b[0m     \u001b[0mindex\u001b[0m\u001b[1;33m=\u001b[0m\u001b[1;34m\"visitorid\"\u001b[0m\u001b[1;33m,\u001b[0m\u001b[1;33m\u001b[0m\u001b[1;33m\u001b[0m\u001b[0m\n\u001b[0;32m      4\u001b[0m     \u001b[0mcolumns\u001b[0m\u001b[1;33m=\u001b[0m\u001b[1;34m\"itemid\"\u001b[0m\u001b[1;33m,\u001b[0m\u001b[1;33m\u001b[0m\u001b[1;33m\u001b[0m\u001b[0m\n\u001b[1;32m----> 5\u001b[1;33m     \u001b[0mvalues\u001b[0m\u001b[1;33m=\u001b[0m\u001b[1;34m\"rating\"\u001b[0m\u001b[1;33m\u001b[0m\u001b[1;33m\u001b[0m\u001b[0m\n\u001b[0m\u001b[0;32m      6\u001b[0m     )\n\u001b[0;32m      7\u001b[0m test_pivot = pd.pivot_table(\n",
      "\u001b[1;32m~\\Anaconda3\\envs\\TimeSeries\\lib\\site-packages\\pandas\\core\\reshape\\pivot.py\u001b[0m in \u001b[0;36mpivot_table\u001b[1;34m(data, values, index, columns, aggfunc, fill_value, margins, dropna, margins_name, observed, sort)\u001b[0m\n\u001b[0;32m    104\u001b[0m         \u001b[0mmargins_name\u001b[0m\u001b[1;33m,\u001b[0m\u001b[1;33m\u001b[0m\u001b[1;33m\u001b[0m\u001b[0m\n\u001b[0;32m    105\u001b[0m         \u001b[0mobserved\u001b[0m\u001b[1;33m,\u001b[0m\u001b[1;33m\u001b[0m\u001b[1;33m\u001b[0m\u001b[0m\n\u001b[1;32m--> 106\u001b[1;33m         \u001b[0msort\u001b[0m\u001b[1;33m,\u001b[0m\u001b[1;33m\u001b[0m\u001b[1;33m\u001b[0m\u001b[0m\n\u001b[0m\u001b[0;32m    107\u001b[0m     )\n\u001b[0;32m    108\u001b[0m     \u001b[1;32mreturn\u001b[0m \u001b[0mtable\u001b[0m\u001b[1;33m.\u001b[0m\u001b[0m__finalize__\u001b[0m\u001b[1;33m(\u001b[0m\u001b[0mdata\u001b[0m\u001b[1;33m,\u001b[0m \u001b[0mmethod\u001b[0m\u001b[1;33m=\u001b[0m\u001b[1;34m\"pivot_table\"\u001b[0m\u001b[1;33m)\u001b[0m\u001b[1;33m\u001b[0m\u001b[1;33m\u001b[0m\u001b[0m\n",
      "\u001b[1;32m~\\Anaconda3\\envs\\TimeSeries\\lib\\site-packages\\pandas\\core\\reshape\\pivot.py\u001b[0m in \u001b[0;36m__internal_pivot_table\u001b[1;34m(data, values, index, columns, aggfunc, fill_value, margins, dropna, margins_name, observed, sort)\u001b[0m\n\u001b[0;32m    203\u001b[0m             \u001b[1;32melse\u001b[0m\u001b[1;33m:\u001b[0m\u001b[1;33m\u001b[0m\u001b[1;33m\u001b[0m\u001b[0m\n\u001b[0;32m    204\u001b[0m                 \u001b[0mto_unstack\u001b[0m\u001b[1;33m.\u001b[0m\u001b[0mappend\u001b[0m\u001b[1;33m(\u001b[0m\u001b[0mname\u001b[0m\u001b[1;33m)\u001b[0m\u001b[1;33m\u001b[0m\u001b[1;33m\u001b[0m\u001b[0m\n\u001b[1;32m--> 205\u001b[1;33m         \u001b[0mtable\u001b[0m \u001b[1;33m=\u001b[0m \u001b[0magged\u001b[0m\u001b[1;33m.\u001b[0m\u001b[0munstack\u001b[0m\u001b[1;33m(\u001b[0m\u001b[0mto_unstack\u001b[0m\u001b[1;33m)\u001b[0m\u001b[1;33m\u001b[0m\u001b[1;33m\u001b[0m\u001b[0m\n\u001b[0m\u001b[0;32m    206\u001b[0m \u001b[1;33m\u001b[0m\u001b[0m\n\u001b[0;32m    207\u001b[0m     \u001b[1;32mif\u001b[0m \u001b[1;32mnot\u001b[0m \u001b[0mdropna\u001b[0m\u001b[1;33m:\u001b[0m\u001b[1;33m\u001b[0m\u001b[1;33m\u001b[0m\u001b[0m\n",
      "\u001b[1;32m~\\Anaconda3\\envs\\TimeSeries\\lib\\site-packages\\pandas\\core\\frame.py\u001b[0m in \u001b[0;36munstack\u001b[1;34m(self, level, fill_value)\u001b[0m\n\u001b[0;32m   8322\u001b[0m         \u001b[1;32mfrom\u001b[0m \u001b[0mpandas\u001b[0m\u001b[1;33m.\u001b[0m\u001b[0mcore\u001b[0m\u001b[1;33m.\u001b[0m\u001b[0mreshape\u001b[0m\u001b[1;33m.\u001b[0m\u001b[0mreshape\u001b[0m \u001b[1;32mimport\u001b[0m \u001b[0munstack\u001b[0m\u001b[1;33m\u001b[0m\u001b[1;33m\u001b[0m\u001b[0m\n\u001b[0;32m   8323\u001b[0m \u001b[1;33m\u001b[0m\u001b[0m\n\u001b[1;32m-> 8324\u001b[1;33m         \u001b[0mresult\u001b[0m \u001b[1;33m=\u001b[0m \u001b[0munstack\u001b[0m\u001b[1;33m(\u001b[0m\u001b[0mself\u001b[0m\u001b[1;33m,\u001b[0m \u001b[0mlevel\u001b[0m\u001b[1;33m,\u001b[0m \u001b[0mfill_value\u001b[0m\u001b[1;33m)\u001b[0m\u001b[1;33m\u001b[0m\u001b[1;33m\u001b[0m\u001b[0m\n\u001b[0m\u001b[0;32m   8325\u001b[0m \u001b[1;33m\u001b[0m\u001b[0m\n\u001b[0;32m   8326\u001b[0m         \u001b[1;32mreturn\u001b[0m \u001b[0mresult\u001b[0m\u001b[1;33m.\u001b[0m\u001b[0m__finalize__\u001b[0m\u001b[1;33m(\u001b[0m\u001b[0mself\u001b[0m\u001b[1;33m,\u001b[0m \u001b[0mmethod\u001b[0m\u001b[1;33m=\u001b[0m\u001b[1;34m\"unstack\"\u001b[0m\u001b[1;33m)\u001b[0m\u001b[1;33m\u001b[0m\u001b[1;33m\u001b[0m\u001b[0m\n",
      "\u001b[1;32m~\\Anaconda3\\envs\\TimeSeries\\lib\\site-packages\\pandas\\core\\reshape\\reshape.py\u001b[0m in \u001b[0;36munstack\u001b[1;34m(obj, level, fill_value)\u001b[0m\n\u001b[0;32m    445\u001b[0m     \u001b[1;32mif\u001b[0m \u001b[0misinstance\u001b[0m\u001b[1;33m(\u001b[0m\u001b[0mobj\u001b[0m\u001b[1;33m,\u001b[0m \u001b[0mDataFrame\u001b[0m\u001b[1;33m)\u001b[0m\u001b[1;33m:\u001b[0m\u001b[1;33m\u001b[0m\u001b[1;33m\u001b[0m\u001b[0m\n\u001b[0;32m    446\u001b[0m         \u001b[1;32mif\u001b[0m \u001b[0misinstance\u001b[0m\u001b[1;33m(\u001b[0m\u001b[0mobj\u001b[0m\u001b[1;33m.\u001b[0m\u001b[0mindex\u001b[0m\u001b[1;33m,\u001b[0m \u001b[0mMultiIndex\u001b[0m\u001b[1;33m)\u001b[0m\u001b[1;33m:\u001b[0m\u001b[1;33m\u001b[0m\u001b[1;33m\u001b[0m\u001b[0m\n\u001b[1;32m--> 447\u001b[1;33m             \u001b[1;32mreturn\u001b[0m \u001b[0m_unstack_frame\u001b[0m\u001b[1;33m(\u001b[0m\u001b[0mobj\u001b[0m\u001b[1;33m,\u001b[0m \u001b[0mlevel\u001b[0m\u001b[1;33m,\u001b[0m \u001b[0mfill_value\u001b[0m\u001b[1;33m=\u001b[0m\u001b[0mfill_value\u001b[0m\u001b[1;33m)\u001b[0m\u001b[1;33m\u001b[0m\u001b[1;33m\u001b[0m\u001b[0m\n\u001b[0m\u001b[0;32m    448\u001b[0m         \u001b[1;32melse\u001b[0m\u001b[1;33m:\u001b[0m\u001b[1;33m\u001b[0m\u001b[1;33m\u001b[0m\u001b[0m\n\u001b[0;32m    449\u001b[0m             \u001b[1;32mreturn\u001b[0m \u001b[0mobj\u001b[0m\u001b[1;33m.\u001b[0m\u001b[0mT\u001b[0m\u001b[1;33m.\u001b[0m\u001b[0mstack\u001b[0m\u001b[1;33m(\u001b[0m\u001b[0mdropna\u001b[0m\u001b[1;33m=\u001b[0m\u001b[1;32mFalse\u001b[0m\u001b[1;33m)\u001b[0m\u001b[1;33m\u001b[0m\u001b[1;33m\u001b[0m\u001b[0m\n",
      "\u001b[1;32m~\\Anaconda3\\envs\\TimeSeries\\lib\\site-packages\\pandas\\core\\reshape\\reshape.py\u001b[0m in \u001b[0;36m_unstack_frame\u001b[1;34m(obj, level, fill_value)\u001b[0m\n\u001b[0;32m    472\u001b[0m         \u001b[1;32mreturn\u001b[0m \u001b[0mobj\u001b[0m\u001b[1;33m.\u001b[0m\u001b[0m_constructor\u001b[0m\u001b[1;33m(\u001b[0m\u001b[0mmgr\u001b[0m\u001b[1;33m)\u001b[0m\u001b[1;33m\u001b[0m\u001b[1;33m\u001b[0m\u001b[0m\n\u001b[0;32m    473\u001b[0m     \u001b[1;32melse\u001b[0m\u001b[1;33m:\u001b[0m\u001b[1;33m\u001b[0m\u001b[1;33m\u001b[0m\u001b[0m\n\u001b[1;32m--> 474\u001b[1;33m         \u001b[0munstacker\u001b[0m \u001b[1;33m=\u001b[0m \u001b[0m_Unstacker\u001b[0m\u001b[1;33m(\u001b[0m\u001b[0mobj\u001b[0m\u001b[1;33m.\u001b[0m\u001b[0mindex\u001b[0m\u001b[1;33m,\u001b[0m \u001b[0mlevel\u001b[0m\u001b[1;33m=\u001b[0m\u001b[0mlevel\u001b[0m\u001b[1;33m,\u001b[0m \u001b[0mconstructor\u001b[0m\u001b[1;33m=\u001b[0m\u001b[0mobj\u001b[0m\u001b[1;33m.\u001b[0m\u001b[0m_constructor\u001b[0m\u001b[1;33m)\u001b[0m\u001b[1;33m\u001b[0m\u001b[1;33m\u001b[0m\u001b[0m\n\u001b[0m\u001b[0;32m    475\u001b[0m         return unstacker.get_result(\n\u001b[0;32m    476\u001b[0m             \u001b[0mobj\u001b[0m\u001b[1;33m.\u001b[0m\u001b[0m_values\u001b[0m\u001b[1;33m,\u001b[0m \u001b[0mvalue_columns\u001b[0m\u001b[1;33m=\u001b[0m\u001b[0mobj\u001b[0m\u001b[1;33m.\u001b[0m\u001b[0mcolumns\u001b[0m\u001b[1;33m,\u001b[0m \u001b[0mfill_value\u001b[0m\u001b[1;33m=\u001b[0m\u001b[0mfill_value\u001b[0m\u001b[1;33m\u001b[0m\u001b[1;33m\u001b[0m\u001b[0m\n",
      "\u001b[1;32m~\\Anaconda3\\envs\\TimeSeries\\lib\\site-packages\\pandas\\core\\reshape\\reshape.py\u001b[0m in \u001b[0;36m__init__\u001b[1;34m(self, index, level, constructor)\u001b[0m\n\u001b[0;32m    131\u001b[0m             \u001b[1;32mraise\u001b[0m \u001b[0mValueError\u001b[0m\u001b[1;33m(\u001b[0m\u001b[1;34m\"Unstacked DataFrame is too big, causing int32 overflow\"\u001b[0m\u001b[1;33m)\u001b[0m\u001b[1;33m\u001b[0m\u001b[1;33m\u001b[0m\u001b[0m\n\u001b[0;32m    132\u001b[0m \u001b[1;33m\u001b[0m\u001b[0m\n\u001b[1;32m--> 133\u001b[1;33m         \u001b[0mself\u001b[0m\u001b[1;33m.\u001b[0m\u001b[0m_make_selectors\u001b[0m\u001b[1;33m(\u001b[0m\u001b[1;33m)\u001b[0m\u001b[1;33m\u001b[0m\u001b[1;33m\u001b[0m\u001b[0m\n\u001b[0m\u001b[0;32m    134\u001b[0m \u001b[1;33m\u001b[0m\u001b[0m\n\u001b[0;32m    135\u001b[0m     \u001b[1;33m@\u001b[0m\u001b[0mcache_readonly\u001b[0m\u001b[1;33m\u001b[0m\u001b[1;33m\u001b[0m\u001b[0m\n",
      "\u001b[1;32m~\\Anaconda3\\envs\\TimeSeries\\lib\\site-packages\\pandas\\core\\reshape\\reshape.py\u001b[0m in \u001b[0;36m_make_selectors\u001b[1;34m(self)\u001b[0m\n\u001b[0;32m    180\u001b[0m         \u001b[0mselector\u001b[0m \u001b[1;33m=\u001b[0m \u001b[0mself\u001b[0m\u001b[1;33m.\u001b[0m\u001b[0msorted_labels\u001b[0m\u001b[1;33m[\u001b[0m\u001b[1;33m-\u001b[0m\u001b[1;36m1\u001b[0m\u001b[1;33m]\u001b[0m \u001b[1;33m+\u001b[0m \u001b[0mstride\u001b[0m \u001b[1;33m*\u001b[0m \u001b[0mcomp_index\u001b[0m \u001b[1;33m+\u001b[0m \u001b[0mself\u001b[0m\u001b[1;33m.\u001b[0m\u001b[0mlift\u001b[0m\u001b[1;33m\u001b[0m\u001b[1;33m\u001b[0m\u001b[0m\n\u001b[0;32m    181\u001b[0m         \u001b[0mmask\u001b[0m \u001b[1;33m=\u001b[0m \u001b[0mnp\u001b[0m\u001b[1;33m.\u001b[0m\u001b[0mzeros\u001b[0m\u001b[1;33m(\u001b[0m\u001b[0mnp\u001b[0m\u001b[1;33m.\u001b[0m\u001b[0mprod\u001b[0m\u001b[1;33m(\u001b[0m\u001b[0mself\u001b[0m\u001b[1;33m.\u001b[0m\u001b[0mfull_shape\u001b[0m\u001b[1;33m)\u001b[0m\u001b[1;33m,\u001b[0m \u001b[0mdtype\u001b[0m\u001b[1;33m=\u001b[0m\u001b[0mbool\u001b[0m\u001b[1;33m)\u001b[0m\u001b[1;33m\u001b[0m\u001b[1;33m\u001b[0m\u001b[0m\n\u001b[1;32m--> 182\u001b[1;33m         \u001b[0mmask\u001b[0m\u001b[1;33m.\u001b[0m\u001b[0mput\u001b[0m\u001b[1;33m(\u001b[0m\u001b[0mselector\u001b[0m\u001b[1;33m,\u001b[0m \u001b[1;32mTrue\u001b[0m\u001b[1;33m)\u001b[0m\u001b[1;33m\u001b[0m\u001b[1;33m\u001b[0m\u001b[0m\n\u001b[0m\u001b[0;32m    183\u001b[0m \u001b[1;33m\u001b[0m\u001b[0m\n\u001b[0;32m    184\u001b[0m         \u001b[1;32mif\u001b[0m \u001b[0mmask\u001b[0m\u001b[1;33m.\u001b[0m\u001b[0msum\u001b[0m\u001b[1;33m(\u001b[0m\u001b[1;33m)\u001b[0m \u001b[1;33m<\u001b[0m \u001b[0mlen\u001b[0m\u001b[1;33m(\u001b[0m\u001b[0mself\u001b[0m\u001b[1;33m.\u001b[0m\u001b[0mindex\u001b[0m\u001b[1;33m)\u001b[0m\u001b[1;33m:\u001b[0m\u001b[1;33m\u001b[0m\u001b[1;33m\u001b[0m\u001b[0m\n",
      "\u001b[1;31mIndexError\u001b[0m: index 607570610 is out of bounds for axis 0 with size 607566200"
     ]
    }
   ],
   "source": [
    "train_pivot = pd.pivot_table(\n",
    "    train[['itemid', 'visitorid', 'rating']],\n",
    "    index=\"visitorid\", \n",
    "    columns=\"itemid\", \n",
    "    values=\"rating\"\n",
    "    )\n",
    "test_pivot = pd.pivot_table(\n",
    "    test[['itemid', 'visitorid', 'rating']],\n",
    "    index=\"visitorid\", \n",
    "    columns=\"itemid\", \n",
    "    values=\"rating\"\n",
    "    )\n",
    "\n",
    "print(train_pivot.shape)\n",
    "print(test_pivot.shape)"
   ]
  },
  {
   "cell_type": "code",
   "execution_count": 118,
   "id": "5403f7ef",
   "metadata": {},
   "outputs": [
    {
     "data": {
      "text/html": [
       "<div>\n",
       "<style scoped>\n",
       "    .dataframe tbody tr th:only-of-type {\n",
       "        vertical-align: middle;\n",
       "    }\n",
       "\n",
       "    .dataframe tbody tr th {\n",
       "        vertical-align: top;\n",
       "    }\n",
       "\n",
       "    .dataframe thead th {\n",
       "        text-align: right;\n",
       "    }\n",
       "</style>\n",
       "<table border=\"1\" class=\"dataframe\">\n",
       "  <thead>\n",
       "    <tr style=\"text-align: right;\">\n",
       "      <th></th>\n",
       "      <th>visitorid</th>\n",
       "      <th>itemid</th>\n",
       "      <th>rating</th>\n",
       "    </tr>\n",
       "  </thead>\n",
       "  <tbody>\n",
       "    <tr>\n",
       "      <th>0</th>\n",
       "      <td>0</td>\n",
       "      <td>67045</td>\n",
       "      <td>0</td>\n",
       "    </tr>\n",
       "    <tr>\n",
       "      <th>1</th>\n",
       "      <td>0</td>\n",
       "      <td>357564</td>\n",
       "      <td>0</td>\n",
       "    </tr>\n",
       "    <tr>\n",
       "      <th>2</th>\n",
       "      <td>2</td>\n",
       "      <td>216305</td>\n",
       "      <td>0</td>\n",
       "    </tr>\n",
       "    <tr>\n",
       "      <th>3</th>\n",
       "      <td>2</td>\n",
       "      <td>259884</td>\n",
       "      <td>0</td>\n",
       "    </tr>\n",
       "    <tr>\n",
       "      <th>4</th>\n",
       "      <td>2</td>\n",
       "      <td>325215</td>\n",
       "      <td>0</td>\n",
       "    </tr>\n",
       "    <tr>\n",
       "      <th>...</th>\n",
       "      <td>...</td>\n",
       "      <td>...</td>\n",
       "      <td>...</td>\n",
       "    </tr>\n",
       "    <tr>\n",
       "      <th>619354</th>\n",
       "      <td>1407562</td>\n",
       "      <td>337671</td>\n",
       "      <td>0</td>\n",
       "    </tr>\n",
       "    <tr>\n",
       "      <th>619355</th>\n",
       "      <td>1407572</td>\n",
       "      <td>122041</td>\n",
       "      <td>0</td>\n",
       "    </tr>\n",
       "    <tr>\n",
       "      <th>619356</th>\n",
       "      <td>1407573</td>\n",
       "      <td>82278</td>\n",
       "      <td>0</td>\n",
       "    </tr>\n",
       "    <tr>\n",
       "      <th>619357</th>\n",
       "      <td>1407573</td>\n",
       "      <td>363109</td>\n",
       "      <td>0</td>\n",
       "    </tr>\n",
       "    <tr>\n",
       "      <th>619358</th>\n",
       "      <td>1407578</td>\n",
       "      <td>188736</td>\n",
       "      <td>0</td>\n",
       "    </tr>\n",
       "  </tbody>\n",
       "</table>\n",
       "<p>619359 rows × 3 columns</p>\n",
       "</div>"
      ],
      "text/plain": [
       "        visitorid  itemid  rating\n",
       "0               0   67045       0\n",
       "1               0  357564       0\n",
       "2               2  216305       0\n",
       "3               2  259884       0\n",
       "4               2  325215       0\n",
       "...           ...     ...     ...\n",
       "619354    1407562  337671       0\n",
       "619355    1407572  122041       0\n",
       "619356    1407573   82278       0\n",
       "619357    1407573  363109       0\n",
       "619358    1407578  188736       0\n",
       "\n",
       "[619359 rows x 3 columns]"
      ]
     },
     "execution_count": 118,
     "metadata": {},
     "output_type": "execute_result"
    }
   ],
   "source": [
    "df1 = df0.groupby(['visitorid','itemid'])[['rating']].sum()\n",
    "df1.reset_index(inplace=True)\n",
    "df1"
   ]
  },
  {
   "cell_type": "code",
   "execution_count": 120,
   "id": "2a73ec93",
   "metadata": {},
   "outputs": [
    {
     "ename": "IndexError",
     "evalue": "index 627181805 is out of bounds for axis 0 with size 627129754",
     "output_type": "error",
     "traceback": [
      "\u001b[1;31m---------------------------------------------------------------------------\u001b[0m",
      "\u001b[1;31mIndexError\u001b[0m                                Traceback (most recent call last)",
      "\u001b[1;32m~\\AppData\\Local\\Temp\\ipykernel_5792\\2042393322.py\u001b[0m in \u001b[0;36m<module>\u001b[1;34m\u001b[0m\n\u001b[0;32m      1\u001b[0m \u001b[1;31m# для этого воспользуемся функцией pivot и создадим сводную таблицу (pivot table)\u001b[0m\u001b[1;33m\u001b[0m\u001b[1;33m\u001b[0m\u001b[1;33m\u001b[0m\u001b[0m\n\u001b[0;32m      2\u001b[0m \u001b[1;31m# по горизонтали будут продукты по вертикали - пользователи, значения - оценки\u001b[0m\u001b[1;33m\u001b[0m\u001b[1;33m\u001b[0m\u001b[1;33m\u001b[0m\u001b[0m\n\u001b[1;32m----> 3\u001b[1;33m \u001b[0muser_item_matrix\u001b[0m \u001b[1;33m=\u001b[0m \u001b[0mdf1\u001b[0m\u001b[1;33m.\u001b[0m\u001b[0mpivot\u001b[0m\u001b[1;33m(\u001b[0m\u001b[0mindex\u001b[0m \u001b[1;33m=\u001b[0m \u001b[1;34m'itemid'\u001b[0m\u001b[1;33m,\u001b[0m \u001b[0mcolumns\u001b[0m \u001b[1;33m=\u001b[0m \u001b[1;34m'visitorid'\u001b[0m\u001b[1;33m,\u001b[0m \u001b[0mvalues\u001b[0m\u001b[1;33m=\u001b[0m \u001b[1;34m'rating'\u001b[0m\u001b[1;33m)\u001b[0m\u001b[1;33m\u001b[0m\u001b[1;33m\u001b[0m\u001b[0m\n\u001b[0m\u001b[0;32m      4\u001b[0m \u001b[0muser_item_matrix\u001b[0m\u001b[1;33m.\u001b[0m\u001b[0mhead\u001b[0m\u001b[1;33m(\u001b[0m\u001b[1;33m)\u001b[0m\u001b[1;33m\u001b[0m\u001b[1;33m\u001b[0m\u001b[0m\n",
      "\u001b[1;32m~\\Anaconda3\\envs\\TimeSeries\\lib\\site-packages\\pandas\\core\\frame.py\u001b[0m in \u001b[0;36mpivot\u001b[1;34m(self, index, columns, values)\u001b[0m\n\u001b[0;32m   7791\u001b[0m         \u001b[1;32mfrom\u001b[0m \u001b[0mpandas\u001b[0m\u001b[1;33m.\u001b[0m\u001b[0mcore\u001b[0m\u001b[1;33m.\u001b[0m\u001b[0mreshape\u001b[0m\u001b[1;33m.\u001b[0m\u001b[0mpivot\u001b[0m \u001b[1;32mimport\u001b[0m \u001b[0mpivot\u001b[0m\u001b[1;33m\u001b[0m\u001b[1;33m\u001b[0m\u001b[0m\n\u001b[0;32m   7792\u001b[0m \u001b[1;33m\u001b[0m\u001b[0m\n\u001b[1;32m-> 7793\u001b[1;33m         \u001b[1;32mreturn\u001b[0m \u001b[0mpivot\u001b[0m\u001b[1;33m(\u001b[0m\u001b[0mself\u001b[0m\u001b[1;33m,\u001b[0m \u001b[0mindex\u001b[0m\u001b[1;33m=\u001b[0m\u001b[0mindex\u001b[0m\u001b[1;33m,\u001b[0m \u001b[0mcolumns\u001b[0m\u001b[1;33m=\u001b[0m\u001b[0mcolumns\u001b[0m\u001b[1;33m,\u001b[0m \u001b[0mvalues\u001b[0m\u001b[1;33m=\u001b[0m\u001b[0mvalues\u001b[0m\u001b[1;33m)\u001b[0m\u001b[1;33m\u001b[0m\u001b[1;33m\u001b[0m\u001b[0m\n\u001b[0m\u001b[0;32m   7794\u001b[0m \u001b[1;33m\u001b[0m\u001b[0m\n\u001b[0;32m   7795\u001b[0m     _shared_docs[\n",
      "\u001b[1;32m~\\Anaconda3\\envs\\TimeSeries\\lib\\site-packages\\pandas\\core\\reshape\\pivot.py\u001b[0m in \u001b[0;36mpivot\u001b[1;34m(data, index, columns, values)\u001b[0m\n\u001b[0;32m    515\u001b[0m         \u001b[1;32melse\u001b[0m\u001b[1;33m:\u001b[0m\u001b[1;33m\u001b[0m\u001b[1;33m\u001b[0m\u001b[0m\n\u001b[0;32m    516\u001b[0m             \u001b[0mindexed\u001b[0m \u001b[1;33m=\u001b[0m \u001b[0mdata\u001b[0m\u001b[1;33m.\u001b[0m\u001b[0m_constructor_sliced\u001b[0m\u001b[1;33m(\u001b[0m\u001b[0mdata\u001b[0m\u001b[1;33m[\u001b[0m\u001b[0mvalues\u001b[0m\u001b[1;33m]\u001b[0m\u001b[1;33m.\u001b[0m\u001b[0m_values\u001b[0m\u001b[1;33m,\u001b[0m \u001b[0mindex\u001b[0m\u001b[1;33m=\u001b[0m\u001b[0mmultiindex\u001b[0m\u001b[1;33m)\u001b[0m\u001b[1;33m\u001b[0m\u001b[1;33m\u001b[0m\u001b[0m\n\u001b[1;32m--> 517\u001b[1;33m     \u001b[1;32mreturn\u001b[0m \u001b[0mindexed\u001b[0m\u001b[1;33m.\u001b[0m\u001b[0munstack\u001b[0m\u001b[1;33m(\u001b[0m\u001b[0mcolumns_listlike\u001b[0m\u001b[1;33m)\u001b[0m\u001b[1;33m\u001b[0m\u001b[1;33m\u001b[0m\u001b[0m\n\u001b[0m\u001b[0;32m    518\u001b[0m \u001b[1;33m\u001b[0m\u001b[0m\n\u001b[0;32m    519\u001b[0m \u001b[1;33m\u001b[0m\u001b[0m\n",
      "\u001b[1;32m~\\Anaconda3\\envs\\TimeSeries\\lib\\site-packages\\pandas\\core\\series.py\u001b[0m in \u001b[0;36munstack\u001b[1;34m(self, level, fill_value)\u001b[0m\n\u001b[0;32m   4079\u001b[0m         \u001b[1;32mfrom\u001b[0m \u001b[0mpandas\u001b[0m\u001b[1;33m.\u001b[0m\u001b[0mcore\u001b[0m\u001b[1;33m.\u001b[0m\u001b[0mreshape\u001b[0m\u001b[1;33m.\u001b[0m\u001b[0mreshape\u001b[0m \u001b[1;32mimport\u001b[0m \u001b[0munstack\u001b[0m\u001b[1;33m\u001b[0m\u001b[1;33m\u001b[0m\u001b[0m\n\u001b[0;32m   4080\u001b[0m \u001b[1;33m\u001b[0m\u001b[0m\n\u001b[1;32m-> 4081\u001b[1;33m         \u001b[1;32mreturn\u001b[0m \u001b[0munstack\u001b[0m\u001b[1;33m(\u001b[0m\u001b[0mself\u001b[0m\u001b[1;33m,\u001b[0m \u001b[0mlevel\u001b[0m\u001b[1;33m,\u001b[0m \u001b[0mfill_value\u001b[0m\u001b[1;33m)\u001b[0m\u001b[1;33m\u001b[0m\u001b[1;33m\u001b[0m\u001b[0m\n\u001b[0m\u001b[0;32m   4082\u001b[0m \u001b[1;33m\u001b[0m\u001b[0m\n\u001b[0;32m   4083\u001b[0m     \u001b[1;31m# ----------------------------------------------------------------------\u001b[0m\u001b[1;33m\u001b[0m\u001b[1;33m\u001b[0m\u001b[1;33m\u001b[0m\u001b[0m\n",
      "\u001b[1;32m~\\Anaconda3\\envs\\TimeSeries\\lib\\site-packages\\pandas\\core\\reshape\\reshape.py\u001b[0m in \u001b[0;36munstack\u001b[1;34m(obj, level, fill_value)\u001b[0m\n\u001b[0;32m    459\u001b[0m             \u001b[1;32mreturn\u001b[0m \u001b[0m_unstack_extension_series\u001b[0m\u001b[1;33m(\u001b[0m\u001b[0mobj\u001b[0m\u001b[1;33m,\u001b[0m \u001b[0mlevel\u001b[0m\u001b[1;33m,\u001b[0m \u001b[0mfill_value\u001b[0m\u001b[1;33m)\u001b[0m\u001b[1;33m\u001b[0m\u001b[1;33m\u001b[0m\u001b[0m\n\u001b[0;32m    460\u001b[0m         unstacker = _Unstacker(\n\u001b[1;32m--> 461\u001b[1;33m             \u001b[0mobj\u001b[0m\u001b[1;33m.\u001b[0m\u001b[0mindex\u001b[0m\u001b[1;33m,\u001b[0m \u001b[0mlevel\u001b[0m\u001b[1;33m=\u001b[0m\u001b[0mlevel\u001b[0m\u001b[1;33m,\u001b[0m \u001b[0mconstructor\u001b[0m\u001b[1;33m=\u001b[0m\u001b[0mobj\u001b[0m\u001b[1;33m.\u001b[0m\u001b[0m_constructor_expanddim\u001b[0m\u001b[1;33m\u001b[0m\u001b[1;33m\u001b[0m\u001b[0m\n\u001b[0m\u001b[0;32m    462\u001b[0m         )\n\u001b[0;32m    463\u001b[0m         return unstacker.get_result(\n",
      "\u001b[1;32m~\\Anaconda3\\envs\\TimeSeries\\lib\\site-packages\\pandas\\core\\reshape\\reshape.py\u001b[0m in \u001b[0;36m__init__\u001b[1;34m(self, index, level, constructor)\u001b[0m\n\u001b[0;32m    131\u001b[0m             \u001b[1;32mraise\u001b[0m \u001b[0mValueError\u001b[0m\u001b[1;33m(\u001b[0m\u001b[1;34m\"Unstacked DataFrame is too big, causing int32 overflow\"\u001b[0m\u001b[1;33m)\u001b[0m\u001b[1;33m\u001b[0m\u001b[1;33m\u001b[0m\u001b[0m\n\u001b[0;32m    132\u001b[0m \u001b[1;33m\u001b[0m\u001b[0m\n\u001b[1;32m--> 133\u001b[1;33m         \u001b[0mself\u001b[0m\u001b[1;33m.\u001b[0m\u001b[0m_make_selectors\u001b[0m\u001b[1;33m(\u001b[0m\u001b[1;33m)\u001b[0m\u001b[1;33m\u001b[0m\u001b[1;33m\u001b[0m\u001b[0m\n\u001b[0m\u001b[0;32m    134\u001b[0m \u001b[1;33m\u001b[0m\u001b[0m\n\u001b[0;32m    135\u001b[0m     \u001b[1;33m@\u001b[0m\u001b[0mcache_readonly\u001b[0m\u001b[1;33m\u001b[0m\u001b[1;33m\u001b[0m\u001b[0m\n",
      "\u001b[1;32m~\\Anaconda3\\envs\\TimeSeries\\lib\\site-packages\\pandas\\core\\reshape\\reshape.py\u001b[0m in \u001b[0;36m_make_selectors\u001b[1;34m(self)\u001b[0m\n\u001b[0;32m    180\u001b[0m         \u001b[0mselector\u001b[0m \u001b[1;33m=\u001b[0m \u001b[0mself\u001b[0m\u001b[1;33m.\u001b[0m\u001b[0msorted_labels\u001b[0m\u001b[1;33m[\u001b[0m\u001b[1;33m-\u001b[0m\u001b[1;36m1\u001b[0m\u001b[1;33m]\u001b[0m \u001b[1;33m+\u001b[0m \u001b[0mstride\u001b[0m \u001b[1;33m*\u001b[0m \u001b[0mcomp_index\u001b[0m \u001b[1;33m+\u001b[0m \u001b[0mself\u001b[0m\u001b[1;33m.\u001b[0m\u001b[0mlift\u001b[0m\u001b[1;33m\u001b[0m\u001b[1;33m\u001b[0m\u001b[0m\n\u001b[0;32m    181\u001b[0m         \u001b[0mmask\u001b[0m \u001b[1;33m=\u001b[0m \u001b[0mnp\u001b[0m\u001b[1;33m.\u001b[0m\u001b[0mzeros\u001b[0m\u001b[1;33m(\u001b[0m\u001b[0mnp\u001b[0m\u001b[1;33m.\u001b[0m\u001b[0mprod\u001b[0m\u001b[1;33m(\u001b[0m\u001b[0mself\u001b[0m\u001b[1;33m.\u001b[0m\u001b[0mfull_shape\u001b[0m\u001b[1;33m)\u001b[0m\u001b[1;33m,\u001b[0m \u001b[0mdtype\u001b[0m\u001b[1;33m=\u001b[0m\u001b[0mbool\u001b[0m\u001b[1;33m)\u001b[0m\u001b[1;33m\u001b[0m\u001b[1;33m\u001b[0m\u001b[0m\n\u001b[1;32m--> 182\u001b[1;33m         \u001b[0mmask\u001b[0m\u001b[1;33m.\u001b[0m\u001b[0mput\u001b[0m\u001b[1;33m(\u001b[0m\u001b[0mselector\u001b[0m\u001b[1;33m,\u001b[0m \u001b[1;32mTrue\u001b[0m\u001b[1;33m)\u001b[0m\u001b[1;33m\u001b[0m\u001b[1;33m\u001b[0m\u001b[0m\n\u001b[0m\u001b[0;32m    183\u001b[0m \u001b[1;33m\u001b[0m\u001b[0m\n\u001b[0;32m    184\u001b[0m         \u001b[1;32mif\u001b[0m \u001b[0mmask\u001b[0m\u001b[1;33m.\u001b[0m\u001b[0msum\u001b[0m\u001b[1;33m(\u001b[0m\u001b[1;33m)\u001b[0m \u001b[1;33m<\u001b[0m \u001b[0mlen\u001b[0m\u001b[1;33m(\u001b[0m\u001b[0mself\u001b[0m\u001b[1;33m.\u001b[0m\u001b[0mindex\u001b[0m\u001b[1;33m)\u001b[0m\u001b[1;33m:\u001b[0m\u001b[1;33m\u001b[0m\u001b[1;33m\u001b[0m\u001b[0m\n",
      "\u001b[1;31mIndexError\u001b[0m: index 627181805 is out of bounds for axis 0 with size 627129754"
     ]
    }
   ],
   "source": [
    "# для этого воспользуемся функцией pivot и создадим сводную таблицу (pivot table)\n",
    "# по горизонтали будут продукты по вертикали - пользователи, значения - оценки\n",
    "user_item_matrix = df1.pivot(index = 'itemid', columns = 'visitorid', values= 'rating')\n",
    "user_item_matrix.head()"
   ]
  },
  {
   "cell_type": "code",
   "execution_count": 107,
   "id": "fa3fbef3",
   "metadata": {},
   "outputs": [],
   "source": [
    "# вначале сгруппируем (объединим) пользователей, возьмем только столбец rating \n",
    "# и посчитаем, сколько было оценок у каждого пользователя\n",
    "users_votes = df0.groupby('visitorid')['rating'].agg('count')\n",
    "\n",
    "# сделаем то же самое, только для продукта\n",
    "item_votes = df0.groupby('itemid')['rating'].agg('count')"
   ]
  },
  {
   "cell_type": "code",
   "execution_count": 110,
   "id": "19bfca8a",
   "metadata": {},
   "outputs": [],
   "source": [
    "# теперь создадим фильтр (mask)\n",
    "user_mask = users_votes[users_votes > 20].index\n",
    "item_mask = item_votes[item_votes > 20].index"
   ]
  }
 ],
 "metadata": {
  "kernelspec": {
   "display_name": "Python 3 (ipykernel)",
   "language": "python",
   "name": "python3"
  },
  "language_info": {
   "codemirror_mode": {
    "name": "ipython",
    "version": 3
   },
   "file_extension": ".py",
   "mimetype": "text/x-python",
   "name": "python",
   "nbconvert_exporter": "python",
   "pygments_lexer": "ipython3",
   "version": "3.7.13"
  }
 },
 "nbformat": 4,
 "nbformat_minor": 5
}
